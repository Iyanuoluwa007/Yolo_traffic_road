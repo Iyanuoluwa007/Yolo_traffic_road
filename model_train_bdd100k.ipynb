{
 "cells": [
  {
   "cell_type": "code",
   "execution_count": null,
   "id": "f352d11e-526f-41b7-afdd-fb2cded1db4f",
   "metadata": {
    "scrolled": true
   },
   "outputs": [
    {
     "name": "stdout",
     "output_type": "stream",
     "text": [
      "New https://pypi.org/project/ultralytics/8.3.77 available  Update with 'pip install -U ultralytics'\n",
      "Ultralytics 8.3.74  Python-3.10.16 torch-2.5.1 CUDA:0 (NVIDIA GeForce RTX 4060 Laptop GPU, 8188MiB)\n",
      "\u001b[34m\u001b[1mengine\\trainer: \u001b[0mtask=detect, mode=train, model=C:/Users/okeiy/OneDrive - University of Salford/Documents/Sch Notes/Dissertation/Codes/Dataset/Yolo/bdd100k/model/best_traffic_sign.pt, data=C:/Users/okeiy/OneDrive - University of Salford/Documents/Sch Notes/Dissertation/Codes/Dataset/Yolo/bdd100k/data.yaml, epochs=100, time=None, patience=100, batch=16, imgsz=640, save=True, save_period=-1, cache=False, device=None, workers=8, project=None, name=train, exist_ok=False, pretrained=True, optimizer=auto, verbose=True, seed=0, deterministic=True, single_cls=False, rect=False, cos_lr=False, close_mosaic=10, resume=False, amp=True, fraction=1.0, profile=False, freeze=None, multi_scale=False, overlap_mask=True, mask_ratio=4, dropout=0.0, val=True, split=val, save_json=False, save_hybrid=False, conf=None, iou=0.7, max_det=300, half=False, dnn=False, plots=True, source=None, vid_stride=1, stream_buffer=False, visualize=False, augment=False, agnostic_nms=False, classes=None, retina_masks=False, embed=None, show=False, save_frames=False, save_txt=False, save_conf=False, save_crop=False, show_labels=True, show_conf=True, show_boxes=True, line_width=None, format=torchscript, keras=False, optimize=False, int8=False, dynamic=False, simplify=True, opset=None, workspace=None, nms=False, lr0=0.01, lrf=0.01, momentum=0.937, weight_decay=0.0005, warmup_epochs=3.0, warmup_momentum=0.8, warmup_bias_lr=0.1, box=7.5, cls=0.5, dfl=1.5, pose=12.0, kobj=1.0, nbs=64, hsv_h=0.015, hsv_s=0.7, hsv_v=0.4, degrees=0.0, translate=0.1, scale=0.5, shear=0.0, perspective=0.0, flipud=0.0, fliplr=0.5, bgr=0.0, mosaic=1.0, mixup=0.0, copy_paste=0.0, copy_paste_mode=flip, auto_augment=randaugment, erasing=0.4, crop_fraction=1.0, cfg=None, tracker=botsort.yaml, save_dir=runs\\detect\\train\n",
      "Overriding model.yaml nc=4 with nc=10\n",
      "\n",
      "                   from  n    params  module                                       arguments                     \n",
      "  0                  -1  1       464  ultralytics.nn.modules.conv.Conv             [3, 16, 3, 2]                 \n",
      "  1                  -1  1      4672  ultralytics.nn.modules.conv.Conv             [16, 32, 3, 2]                \n",
      "  2                  -1  1      6640  ultralytics.nn.modules.block.C3k2            [32, 64, 1, False, 0.25]      \n",
      "  3                  -1  1     36992  ultralytics.nn.modules.conv.Conv             [64, 64, 3, 2]                \n",
      "  4                  -1  1     26080  ultralytics.nn.modules.block.C3k2            [64, 128, 1, False, 0.25]     \n",
      "  5                  -1  1    147712  ultralytics.nn.modules.conv.Conv             [128, 128, 3, 2]              \n",
      "  6                  -1  1     87040  ultralytics.nn.modules.block.C3k2            [128, 128, 1, True]           \n",
      "  7                  -1  1    295424  ultralytics.nn.modules.conv.Conv             [128, 256, 3, 2]              \n",
      "  8                  -1  1    346112  ultralytics.nn.modules.block.C3k2            [256, 256, 1, True]           \n",
      "  9                  -1  1    164608  ultralytics.nn.modules.block.SPPF            [256, 256, 5]                 \n",
      " 10                  -1  1    249728  ultralytics.nn.modules.block.C2PSA           [256, 256, 1]                 \n",
      " 11                  -1  1         0  torch.nn.modules.upsampling.Upsample         [None, 2, 'nearest']          \n",
      " 12             [-1, 6]  1         0  ultralytics.nn.modules.conv.Concat           [1]                           \n",
      " 13                  -1  1    111296  ultralytics.nn.modules.block.C3k2            [384, 128, 1, False]          \n",
      " 14                  -1  1         0  torch.nn.modules.upsampling.Upsample         [None, 2, 'nearest']          \n",
      " 15             [-1, 4]  1         0  ultralytics.nn.modules.conv.Concat           [1]                           \n",
      " 16                  -1  1     32096  ultralytics.nn.modules.block.C3k2            [256, 64, 1, False]           \n",
      " 17                  -1  1     36992  ultralytics.nn.modules.conv.Conv             [64, 64, 3, 2]                \n",
      " 18            [-1, 13]  1         0  ultralytics.nn.modules.conv.Concat           [1]                           \n",
      " 19                  -1  1     86720  ultralytics.nn.modules.block.C3k2            [192, 128, 1, False]          \n",
      " 20                  -1  1    147712  ultralytics.nn.modules.conv.Conv             [128, 128, 3, 2]              \n",
      " 21            [-1, 10]  1         0  ultralytics.nn.modules.conv.Concat           [1]                           \n",
      " 22                  -1  1    378880  ultralytics.nn.modules.block.C3k2            [384, 256, 1, True]           \n",
      " 23        [16, 19, 22]  1    432622  ultralytics.nn.modules.head.Detect           [10, [64, 128, 256]]          \n",
      "YOLO11n summary: 319 layers, 2,591,790 parameters, 2,591,774 gradients, 6.5 GFLOPs\n",
      "\n",
      "Transferred 493/499 items from pretrained weights\n",
      "Freezing layer 'model.23.dfl.conv.weight'\n",
      "\u001b[34m\u001b[1mAMP: \u001b[0mrunning Automatic Mixed Precision (AMP) checks...\n",
      "Downloading https://github.com/ultralytics/assets/releases/download/v8.3.0/yolo11n.pt to 'yolo11n.pt'...\n"
     ]
    },
    {
     "name": "stderr",
     "output_type": "stream",
     "text": [
      "100%|█████████████████████████████████████████████████████████████████████████████| 5.35M/5.35M [00:00<00:00, 24.7MB/s]\n"
     ]
    },
    {
     "name": "stdout",
     "output_type": "stream",
     "text": [
      "\u001b[34m\u001b[1mAMP: \u001b[0mchecks passed \n"
     ]
    },
    {
     "name": "stderr",
     "output_type": "stream",
     "text": [
      "\u001b[34m\u001b[1mtrain: \u001b[0mScanning C:\\Users\\okeiy\\OneDrive - University of Salford\\Documents\\Sch Notes\\Dissertation\\Codes\\Dataset\\Yolo\\bdd\u001b[0m"
     ]
    },
    {
     "name": "stdout",
     "output_type": "stream",
     "text": [
      "\u001b[34m\u001b[1mtrain: \u001b[0mWARNING  C:\\Users\\okeiy\\OneDrive - University of Salford\\Documents\\Sch Notes\\Dissertation\\Codes\\Dataset\\Yolo\\bdd100k\\train\\images\\75055858-7d04a650.jpg: 1 duplicate labels removed\n",
      "\u001b[34m\u001b[1mtrain: \u001b[0mWARNING  C:\\Users\\okeiy\\OneDrive - University of Salford\\Documents\\Sch Notes\\Dissertation\\Codes\\Dataset\\Yolo\\bdd100k\\train\\images\\8b94691f-0b47c5c3.jpg: 1 duplicate labels removed\n"
     ]
    },
    {
     "name": "stderr",
     "output_type": "stream",
     "text": [
      "\n"
     ]
    },
    {
     "name": "stdout",
     "output_type": "stream",
     "text": [
      "\u001b[34m\u001b[1mtrain: \u001b[0mNew cache created: C:\\Users\\okeiy\\OneDrive - University of Salford\\Documents\\Sch Notes\\Dissertation\\Codes\\Dataset\\Yolo\\bdd100k\\train\\labels.cache\n"
     ]
    },
    {
     "name": "stderr",
     "output_type": "stream",
     "text": [
      "\u001b[34m\u001b[1mval: \u001b[0mScanning C:\\Users\\okeiy\\OneDrive - University of Salford\\Documents\\Sch Notes\\Dissertation\\Codes\\Dataset\\Yolo\\bdd10\u001b[0m\n"
     ]
    },
    {
     "name": "stdout",
     "output_type": "stream",
     "text": [
      "\u001b[34m\u001b[1mval: \u001b[0mNew cache created: C:\\Users\\okeiy\\OneDrive - University of Salford\\Documents\\Sch Notes\\Dissertation\\Codes\\Dataset\\Yolo\\bdd100k\\val\\labels.cache\n",
      "Plotting labels to runs\\detect\\train\\labels.jpg... \n",
      "\u001b[34m\u001b[1moptimizer:\u001b[0m 'optimizer=auto' found, ignoring 'lr0=0.01' and 'momentum=0.937' and determining best 'optimizer', 'lr0' and 'momentum' automatically... \n",
      "\u001b[34m\u001b[1moptimizer:\u001b[0m SGD(lr=0.01, momentum=0.9) with parameter groups 81 weight(decay=0.0), 88 weight(decay=0.0005), 87 bias(decay=0.0)\n",
      "Image sizes 640 train, 640 val\n",
      "Using 8 dataloader workers\n",
      "Logging results to \u001b[1mruns\\detect\\train\u001b[0m\n",
      "Starting training for 100 epochs...\n",
      "\n",
      "      Epoch    GPU_mem   box_loss   cls_loss   dfl_loss  Instances       Size\n"
     ]
    },
    {
     "name": "stderr",
     "output_type": "stream",
     "text": [
      "      1/100      4.57G      1.759      1.649      1.254        519        640: 100%|██████████| 4375/4375 [22:33<00:00,\n",
      "                 Class     Images  Instances      Box(P          R      mAP50  mAP50-95): 100%|██████████| 313/313 [01:\n"
     ]
    },
    {
     "name": "stdout",
     "output_type": "stream",
     "text": [
      "                   all      10000     185526      0.547      0.195       0.18     0.0917\n",
      "\n",
      "      Epoch    GPU_mem   box_loss   cls_loss   dfl_loss  Instances       Size\n"
     ]
    },
    {
     "name": "stderr",
     "output_type": "stream",
     "text": [
      "      2/100      5.63G      1.541      1.119      1.111        327        640: 100%|██████████| 4375/4375 [20:47<00:00,\n",
      "                 Class     Images  Instances      Box(P          R      mAP50  mAP50-95): 100%|██████████| 313/313 [01:\n"
     ]
    },
    {
     "name": "stdout",
     "output_type": "stream",
     "text": [
      "                   all      10000     185526      0.331      0.271      0.237      0.121\n",
      "\n",
      "      Epoch    GPU_mem   box_loss   cls_loss   dfl_loss  Instances       Size\n"
     ]
    },
    {
     "name": "stderr",
     "output_type": "stream",
     "text": [
      "      3/100       4.6G      1.514      1.065      1.072        499        640: 100%|██████████| 4375/4375 [20:12<00:00,\n",
      "                 Class     Images  Instances      Box(P          R      mAP50  mAP50-95): 100%|██████████| 313/313 [02:\n"
     ]
    },
    {
     "name": "stdout",
     "output_type": "stream",
     "text": [
      "                   all      10000     185526      0.391      0.292      0.272      0.143\n",
      "\n",
      "      Epoch    GPU_mem   box_loss   cls_loss   dfl_loss  Instances       Size\n"
     ]
    },
    {
     "name": "stderr",
     "output_type": "stream",
     "text": [
      "      4/100      4.69G      1.489      1.023      1.049        616        640: 100%|██████████| 4375/4375 [22:08<00:00,\n",
      "                 Class     Images  Instances      Box(P          R      mAP50  mAP50-95): 100%|██████████| 313/313 [01:\n"
     ]
    },
    {
     "name": "stdout",
     "output_type": "stream",
     "text": [
      "                   all      10000     185526       0.42      0.306      0.307      0.163\n",
      "\n",
      "      Epoch    GPU_mem   box_loss   cls_loss   dfl_loss  Instances       Size\n"
     ]
    },
    {
     "name": "stderr",
     "output_type": "stream",
     "text": [
      "      5/100      4.13G      1.455     0.9744      1.033        622        640: 100%|██████████| 4375/4375 [21:48<00:00,\n",
      "                 Class     Images  Instances      Box(P          R      mAP50  mAP50-95): 100%|██████████| 313/313 [02:\n"
     ]
    },
    {
     "name": "stdout",
     "output_type": "stream",
     "text": [
      "                   all      10000     185526      0.433      0.323      0.326      0.175\n",
      "\n",
      "      Epoch    GPU_mem   box_loss   cls_loss   dfl_loss  Instances       Size\n"
     ]
    },
    {
     "name": "stderr",
     "output_type": "stream",
     "text": [
      "      6/100      5.02G      1.436     0.9514      1.025        510        640: 100%|██████████| 4375/4375 [22:00<00:00,\n",
      "                 Class     Images  Instances      Box(P          R      mAP50  mAP50-95): 100%|██████████| 313/313 [01:\n"
     ]
    },
    {
     "name": "stdout",
     "output_type": "stream",
     "text": [
      "                   all      10000     185526      0.441      0.341      0.341      0.184\n",
      "\n",
      "      Epoch    GPU_mem   box_loss   cls_loss   dfl_loss  Instances       Size\n"
     ]
    },
    {
     "name": "stderr",
     "output_type": "stream",
     "text": [
      "      7/100       4.6G      1.421     0.9329      1.017        630        640: 100%|██████████| 4375/4375 [20:22<00:00,\n",
      "                 Class     Images  Instances      Box(P          R      mAP50  mAP50-95): 100%|██████████| 313/313 [01:\n"
     ]
    },
    {
     "name": "stdout",
     "output_type": "stream",
     "text": [
      "                   all      10000     185526       0.45      0.347      0.352      0.191\n",
      "\n",
      "      Epoch    GPU_mem   box_loss   cls_loss   dfl_loss  Instances       Size\n"
     ]
    },
    {
     "name": "stderr",
     "output_type": "stream",
     "text": [
      "      8/100      3.92G      1.413     0.9205      1.014        622        640: 100%|██████████| 4375/4375 [20:17<00:00,\n",
      "                 Class     Images  Instances      Box(P          R      mAP50  mAP50-95): 100%|██████████| 313/313 [01:\n"
     ]
    },
    {
     "name": "stdout",
     "output_type": "stream",
     "text": [
      "                   all      10000     185526      0.584      0.346      0.361      0.195\n",
      "\n",
      "      Epoch    GPU_mem   box_loss   cls_loss   dfl_loss  Instances       Size\n"
     ]
    },
    {
     "name": "stderr",
     "output_type": "stream",
     "text": [
      "      9/100      4.97G      1.404     0.9101      1.011        437        640: 100%|██████████| 4375/4375 [20:05<00:00,\n",
      "                 Class     Images  Instances      Box(P          R      mAP50  mAP50-95): 100%|██████████| 313/313 [01:\n"
     ]
    },
    {
     "name": "stdout",
     "output_type": "stream",
     "text": [
      "                   all      10000     185526       0.59      0.349      0.368      0.199\n",
      "\n",
      "      Epoch    GPU_mem   box_loss   cls_loss   dfl_loss  Instances       Size\n"
     ]
    },
    {
     "name": "stderr",
     "output_type": "stream",
     "text": [
      "     10/100      5.42G      1.398     0.9033      1.007        510        640: 100%|██████████| 4375/4375 [20:25<00:00,\n",
      "                 Class     Images  Instances      Box(P          R      mAP50  mAP50-95): 100%|██████████| 313/313 [01:\n"
     ]
    },
    {
     "name": "stdout",
     "output_type": "stream",
     "text": [
      "                   all      10000     185526      0.584      0.356       0.37      0.201\n",
      "\n",
      "      Epoch    GPU_mem   box_loss   cls_loss   dfl_loss  Instances       Size\n"
     ]
    },
    {
     "name": "stderr",
     "output_type": "stream",
     "text": [
      "     11/100      3.75G      1.393     0.8947      1.005        527        640: 100%|██████████| 4375/4375 [20:17<00:00,\n",
      "                 Class     Images  Instances      Box(P          R      mAP50  mAP50-95): 100%|██████████| 313/313 [01:\n"
     ]
    },
    {
     "name": "stdout",
     "output_type": "stream",
     "text": [
      "                   all      10000     185526      0.594      0.353      0.373      0.204\n",
      "\n",
      "      Epoch    GPU_mem   box_loss   cls_loss   dfl_loss  Instances       Size\n"
     ]
    },
    {
     "name": "stderr",
     "output_type": "stream",
     "text": [
      "     12/100      3.55G      1.386      0.888      1.003        555        640: 100%|██████████| 4375/4375 [19:02<00:00,\n",
      "                 Class     Images  Instances      Box(P          R      mAP50  mAP50-95): 100%|██████████| 313/313 [01:\n"
     ]
    },
    {
     "name": "stdout",
     "output_type": "stream",
     "text": [
      "                   all      10000     185526      0.596      0.356      0.377      0.206\n",
      "\n",
      "      Epoch    GPU_mem   box_loss   cls_loss   dfl_loss  Instances       Size\n"
     ]
    },
    {
     "name": "stderr",
     "output_type": "stream",
     "text": [
      "     13/100      4.09G      1.385      0.886      1.002        377        640: 100%|██████████| 4375/4375 [18:19<00:00,\n",
      "                 Class     Images  Instances      Box(P          R      mAP50  mAP50-95): 100%|██████████| 313/313 [01:\n"
     ]
    },
    {
     "name": "stdout",
     "output_type": "stream",
     "text": [
      "                   all      10000     185526      0.595      0.361       0.38      0.207\n",
      "\n",
      "      Epoch    GPU_mem   box_loss   cls_loss   dfl_loss  Instances       Size\n"
     ]
    },
    {
     "name": "stderr",
     "output_type": "stream",
     "text": [
      "     14/100      4.91G      1.381      0.882     0.9997        451        640: 100%|██████████| 4375/4375 [17:54<00:00,\n",
      "                 Class     Images  Instances      Box(P          R      mAP50  mAP50-95): 100%|██████████| 313/313 [01:\n"
     ]
    },
    {
     "name": "stdout",
     "output_type": "stream",
     "text": [
      "                   all      10000     185526      0.599      0.362      0.382      0.209\n",
      "\n",
      "      Epoch    GPU_mem   box_loss   cls_loss   dfl_loss  Instances       Size\n"
     ]
    },
    {
     "name": "stderr",
     "output_type": "stream",
     "text": [
      "     15/100      5.09G      1.375     0.8771     0.9985        560        640: 100%|██████████| 4375/4375 [17:45<00:00,\n",
      "                 Class     Images  Instances      Box(P          R      mAP50  mAP50-95): 100%|██████████| 313/313 [01:\n"
     ]
    },
    {
     "name": "stdout",
     "output_type": "stream",
     "text": [
      "                   all      10000     185526      0.603      0.365      0.384       0.21\n",
      "\n",
      "      Epoch    GPU_mem   box_loss   cls_loss   dfl_loss  Instances       Size\n"
     ]
    },
    {
     "name": "stderr",
     "output_type": "stream",
     "text": [
      "     16/100      4.83G      1.374     0.8734     0.9977        359        640: 100%|██████████| 4375/4375 [17:47<00:00,\n",
      "                 Class     Images  Instances      Box(P          R      mAP50  mAP50-95): 100%|██████████| 313/313 [01:\n"
     ]
    },
    {
     "name": "stdout",
     "output_type": "stream",
     "text": [
      "                   all      10000     185526       0.61      0.362      0.386      0.211\n",
      "\n",
      "      Epoch    GPU_mem   box_loss   cls_loss   dfl_loss  Instances       Size\n"
     ]
    },
    {
     "name": "stderr",
     "output_type": "stream",
     "text": [
      "     17/100      4.99G      1.372     0.8729     0.9959        567        640: 100%|██████████| 4375/4375 [17:49<00:00,\n",
      "                 Class     Images  Instances      Box(P          R      mAP50  mAP50-95): 100%|██████████| 313/313 [01:\n"
     ]
    },
    {
     "name": "stdout",
     "output_type": "stream",
     "text": [
      "                   all      10000     185526      0.609      0.366      0.387      0.212\n",
      "\n",
      "      Epoch    GPU_mem   box_loss   cls_loss   dfl_loss  Instances       Size\n"
     ]
    },
    {
     "name": "stderr",
     "output_type": "stream",
     "text": [
      "     18/100      4.85G       1.37     0.8702     0.9957        590        640: 100%|██████████| 4375/4375 [17:49<00:00,\n",
      "                 Class     Images  Instances      Box(P          R      mAP50  mAP50-95): 100%|██████████| 313/313 [01:\n"
     ]
    },
    {
     "name": "stdout",
     "output_type": "stream",
     "text": [
      "                   all      10000     185526      0.612      0.366      0.388      0.213\n",
      "\n",
      "      Epoch    GPU_mem   box_loss   cls_loss   dfl_loss  Instances       Size\n"
     ]
    },
    {
     "name": "stderr",
     "output_type": "stream",
     "text": [
      "     19/100       4.7G      1.366     0.8651     0.9943        601        640: 100%|██████████| 4375/4375 [17:48<00:00,\n",
      "                 Class     Images  Instances      Box(P          R      mAP50  mAP50-95): 100%|██████████| 313/313 [01:\n"
     ]
    },
    {
     "name": "stdout",
     "output_type": "stream",
     "text": [
      "                   all      10000     185526      0.612      0.368       0.39      0.214\n",
      "\n",
      "      Epoch    GPU_mem   box_loss   cls_loss   dfl_loss  Instances       Size\n"
     ]
    },
    {
     "name": "stderr",
     "output_type": "stream",
     "text": [
      "     20/100      4.17G      1.364     0.8624     0.9931        506        640: 100%|██████████| 4375/4375 [17:49<00:00,\n",
      "                 Class     Images  Instances      Box(P          R      mAP50  mAP50-95): 100%|██████████| 313/313 [01:\n"
     ]
    },
    {
     "name": "stdout",
     "output_type": "stream",
     "text": [
      "                   all      10000     185526       0.61       0.37      0.392      0.215\n",
      "\n",
      "      Epoch    GPU_mem   box_loss   cls_loss   dfl_loss  Instances       Size\n"
     ]
    },
    {
     "name": "stderr",
     "output_type": "stream",
     "text": [
      "     21/100      4.74G      1.363     0.8616     0.9931        607        640: 100%|██████████| 4375/4375 [17:49<00:00,\n",
      "                 Class     Images  Instances      Box(P          R      mAP50  mAP50-95): 100%|██████████| 313/313 [01:\n"
     ]
    },
    {
     "name": "stdout",
     "output_type": "stream",
     "text": [
      "                   all      10000     185526      0.613       0.37      0.394      0.216\n",
      "\n",
      "      Epoch    GPU_mem   box_loss   cls_loss   dfl_loss  Instances       Size\n"
     ]
    },
    {
     "name": "stderr",
     "output_type": "stream",
     "text": [
      "     22/100      4.37G       1.36      0.858     0.9908        457        640: 100%|██████████| 4375/4375 [17:44<00:00,\n",
      "                 Class     Images  Instances      Box(P          R      mAP50  mAP50-95): 100%|██████████| 313/313 [01:\n"
     ]
    },
    {
     "name": "stdout",
     "output_type": "stream",
     "text": [
      "                   all      10000     185526      0.617      0.369      0.395      0.217\n",
      "\n",
      "      Epoch    GPU_mem   box_loss   cls_loss   dfl_loss  Instances       Size\n"
     ]
    },
    {
     "name": "stderr",
     "output_type": "stream",
     "text": [
      "     23/100      4.92G       1.36      0.857     0.9909        552        640: 100%|██████████| 4375/4375 [17:47<00:00,\n",
      "                 Class     Images  Instances      Box(P          R      mAP50  mAP50-95): 100%|██████████| 313/313 [01:\n"
     ]
    },
    {
     "name": "stdout",
     "output_type": "stream",
     "text": [
      "                   all      10000     185526      0.619      0.371      0.397      0.218\n",
      "\n",
      "      Epoch    GPU_mem   box_loss   cls_loss   dfl_loss  Instances       Size\n"
     ]
    },
    {
     "name": "stderr",
     "output_type": "stream",
     "text": [
      "     24/100      4.34G      1.358     0.8555     0.9903        444        640: 100%|██████████| 4375/4375 [17:45<00:00,\n",
      "                 Class     Images  Instances      Box(P          R      mAP50  mAP50-95): 100%|██████████| 313/313 [01:\n"
     ]
    },
    {
     "name": "stdout",
     "output_type": "stream",
     "text": [
      "                   all      10000     185526      0.619      0.371      0.398      0.219\n",
      "\n",
      "      Epoch    GPU_mem   box_loss   cls_loss   dfl_loss  Instances       Size\n"
     ]
    },
    {
     "name": "stderr",
     "output_type": "stream",
     "text": [
      "     25/100      4.13G      1.355     0.8527     0.9882        438        640: 100%|██████████| 4375/4375 [17:38<00:00,\n",
      "                 Class     Images  Instances      Box(P          R      mAP50  mAP50-95): 100%|██████████| 313/313 [01:\n"
     ]
    },
    {
     "name": "stdout",
     "output_type": "stream",
     "text": [
      "                   all      10000     185526      0.622      0.373      0.399      0.219\n",
      "\n",
      "      Epoch    GPU_mem   box_loss   cls_loss   dfl_loss  Instances       Size\n"
     ]
    },
    {
     "name": "stderr",
     "output_type": "stream",
     "text": [
      "     26/100         5G      1.355     0.8517     0.9894        459        640: 100%|██████████| 4375/4375 [17:37<00:00,\n",
      "                 Class     Images  Instances      Box(P          R      mAP50  mAP50-95): 100%|██████████| 313/313 [01:\n"
     ]
    },
    {
     "name": "stdout",
     "output_type": "stream",
     "text": [
      "                   all      10000     185526      0.624      0.375        0.4       0.22\n",
      "\n",
      "      Epoch    GPU_mem   box_loss   cls_loss   dfl_loss  Instances       Size\n"
     ]
    },
    {
     "name": "stderr",
     "output_type": "stream",
     "text": [
      "     27/100      3.59G      1.352     0.8501     0.9877        523        640: 100%|██████████| 4375/4375 [17:39<00:00,\n",
      "                 Class     Images  Instances      Box(P          R      mAP50  mAP50-95): 100%|██████████| 313/313 [01:\n"
     ]
    },
    {
     "name": "stdout",
     "output_type": "stream",
     "text": [
      "                   all      10000     185526      0.625      0.376      0.401      0.221\n",
      "\n",
      "      Epoch    GPU_mem   box_loss   cls_loss   dfl_loss  Instances       Size\n"
     ]
    },
    {
     "name": "stderr",
     "output_type": "stream",
     "text": [
      "     28/100       5.3G      1.352     0.8487     0.9877        532        640: 100%|██████████| 4375/4375 [17:43<00:00,\n",
      "                 Class     Images  Instances      Box(P          R      mAP50  mAP50-95): 100%|██████████| 313/313 [01:\n"
     ]
    },
    {
     "name": "stdout",
     "output_type": "stream",
     "text": [
      "                   all      10000     185526      0.624      0.379      0.403      0.222\n",
      "\n",
      "      Epoch    GPU_mem   box_loss   cls_loss   dfl_loss  Instances       Size\n"
     ]
    },
    {
     "name": "stderr",
     "output_type": "stream",
     "text": [
      "     29/100      5.79G      1.351     0.8481     0.9871        590        640: 100%|██████████| 4375/4375 [18:27<00:00,\n",
      "                 Class     Images  Instances      Box(P          R      mAP50  mAP50-95): 100%|██████████| 313/313 [01:\n"
     ]
    },
    {
     "name": "stdout",
     "output_type": "stream",
     "text": [
      "                   all      10000     185526      0.627      0.378      0.404      0.223\n",
      "\n",
      "      Epoch    GPU_mem   box_loss   cls_loss   dfl_loss  Instances       Size\n"
     ]
    },
    {
     "name": "stderr",
     "output_type": "stream",
     "text": [
      "     30/100      4.48G      1.349     0.8449     0.9865        533        640: 100%|██████████| 4375/4375 [18:50<00:00,\n",
      "                 Class     Images  Instances      Box(P          R      mAP50  mAP50-95): 100%|██████████| 313/313 [01:\n"
     ]
    },
    {
     "name": "stdout",
     "output_type": "stream",
     "text": [
      "                   all      10000     185526       0.63       0.38      0.406      0.224\n",
      "\n",
      "      Epoch    GPU_mem   box_loss   cls_loss   dfl_loss  Instances       Size\n"
     ]
    },
    {
     "name": "stderr",
     "output_type": "stream",
     "text": [
      "     31/100      4.36G      1.349     0.8442      0.986        560        640: 100%|██████████| 4375/4375 [18:31<00:00,\n",
      "                 Class     Images  Instances      Box(P          R      mAP50  mAP50-95): 100%|██████████| 313/313 [01:\n"
     ]
    },
    {
     "name": "stdout",
     "output_type": "stream",
     "text": [
      "                   all      10000     185526      0.633      0.379      0.407      0.224\n",
      "\n",
      "      Epoch    GPU_mem   box_loss   cls_loss   dfl_loss  Instances       Size\n"
     ]
    },
    {
     "name": "stderr",
     "output_type": "stream",
     "text": [
      "     32/100      4.18G      1.345     0.8411      0.985        575        640: 100%|██████████| 4375/4375 [18:42<00:00,\n",
      "                 Class     Images  Instances      Box(P          R      mAP50  mAP50-95): 100%|██████████| 313/313 [02:\n"
     ]
    },
    {
     "name": "stdout",
     "output_type": "stream",
     "text": [
      "                   all      10000     185526      0.636      0.378      0.407      0.225\n",
      "\n",
      "      Epoch    GPU_mem   box_loss   cls_loss   dfl_loss  Instances       Size\n"
     ]
    },
    {
     "name": "stderr",
     "output_type": "stream",
     "text": [
      "     33/100      4.91G      1.344     0.8394     0.9836        518        640: 100%|██████████| 4375/4375 [22:06<00:00,\n",
      "                 Class     Images  Instances      Box(P          R      mAP50  mAP50-95): 100%|██████████| 313/313 [01:\n"
     ]
    },
    {
     "name": "stdout",
     "output_type": "stream",
     "text": [
      "                   all      10000     185526       0.64      0.377      0.408      0.226\n",
      "\n",
      "      Epoch    GPU_mem   box_loss   cls_loss   dfl_loss  Instances       Size\n"
     ]
    },
    {
     "name": "stderr",
     "output_type": "stream",
     "text": [
      "     34/100      4.39G      1.343     0.8405     0.9838        533        640: 100%|██████████| 4375/4375 [19:19<00:00,\n",
      "                 Class     Images  Instances      Box(P          R      mAP50  mAP50-95): 100%|██████████| 313/313 [01:\n"
     ]
    },
    {
     "name": "stdout",
     "output_type": "stream",
     "text": [
      "                   all      10000     185526       0.64      0.379      0.409      0.226\n",
      "\n",
      "      Epoch    GPU_mem   box_loss   cls_loss   dfl_loss  Instances       Size\n"
     ]
    },
    {
     "name": "stderr",
     "output_type": "stream",
     "text": [
      "     35/100      4.66G      1.344     0.8384     0.9845        446        640: 100%|██████████| 4375/4375 [20:01<00:00,\n",
      "                 Class     Images  Instances      Box(P          R      mAP50  mAP50-95): 100%|██████████| 313/313 [01:\n"
     ]
    },
    {
     "name": "stdout",
     "output_type": "stream",
     "text": [
      "                   all      10000     185526      0.639       0.38       0.41      0.227\n",
      "\n",
      "      Epoch    GPU_mem   box_loss   cls_loss   dfl_loss  Instances       Size\n"
     ]
    },
    {
     "name": "stderr",
     "output_type": "stream",
     "text": [
      "     36/100      4.41G       1.34     0.8354     0.9827        609        640: 100%|██████████| 4375/4375 [19:21<00:00,\n",
      "                 Class     Images  Instances      Box(P          R      mAP50  mAP50-95): 100%|██████████| 313/313 [01:\n"
     ]
    },
    {
     "name": "stdout",
     "output_type": "stream",
     "text": [
      "                   all      10000     185526       0.64      0.382      0.412      0.228\n",
      "\n",
      "      Epoch    GPU_mem   box_loss   cls_loss   dfl_loss  Instances       Size\n"
     ]
    },
    {
     "name": "stderr",
     "output_type": "stream",
     "text": [
      "     37/100      3.85G      1.337     0.8285     0.9829        600        640:   5%|▍         | 199/4375 [00:50<16:00, "
     ]
    }
   ],
   "source": [
    "# Model Training\n",
    "\n",
    "from ultralytics import YOLO\n",
    "\n",
    "model = YOLO(\"C:/Users/okeiy/OneDrive - University of Salford/Documents/Sch Notes/Dissertation/Codes/Dataset/Yolo/bdd100k/model/best_traffic_sign.pt\")\n",
    "\n",
    "results = model.train(data=\"C:/Users/okeiy/OneDrive - University of Salford/Documents/Sch Notes/Dissertation/Codes/Dataset/Yolo/bdd100k/data.yaml\", \n",
    "                      epochs=100, \n",
    "                      batch=16, \n",
    "                      imgsz=640)"
   ]
  },
  {
   "cell_type": "code",
   "execution_count": 2,
   "id": "5f6e26fd-9827-424c-887a-7fe54c844143",
   "metadata": {
    "scrolled": true
   },
   "outputs": [
    {
     "name": "stdout",
     "output_type": "stream",
     "text": [
      "New https://pypi.org/project/ultralytics/8.3.77 available  Update with 'pip install -U ultralytics'\n",
      "Ultralytics 8.3.74  Python-3.10.16 torch-2.5.1 CUDA:0 (NVIDIA GeForce RTX 4060 Laptop GPU, 8188MiB)\n",
      "\u001b[34m\u001b[1mengine\\trainer: \u001b[0mtask=detect, mode=train, model=C:\\Users\\okeiy\\OneDrive - University of Salford\\Documents\\Sch Notes\\Dissertation\\Codes\\Dataset\\Yolo\\bdd100k\\runs\\detect\\train\\weights\\last.pt, data=C:/Users/okeiy/OneDrive - University of Salford/Documents/Sch Notes/Dissertation/Codes/Dataset/Yolo/bdd100k/data.yaml, epochs=100, time=None, patience=100, batch=16, imgsz=640, save=True, save_period=-1, cache=False, device=None, workers=8, project=None, name=train, exist_ok=False, pretrained=True, optimizer=auto, verbose=True, seed=0, deterministic=True, single_cls=False, rect=False, cos_lr=False, close_mosaic=10, resume=C:\\Users\\okeiy\\OneDrive - University of Salford\\Documents\\Sch Notes\\Dissertation\\Codes\\Dataset\\Yolo\\bdd100k\\runs\\detect\\train\\weights\\last.pt, amp=True, fraction=1.0, profile=False, freeze=None, multi_scale=False, overlap_mask=True, mask_ratio=4, dropout=0.0, val=True, split=val, save_json=False, save_hybrid=False, conf=None, iou=0.7, max_det=300, half=False, dnn=False, plots=True, source=None, vid_stride=1, stream_buffer=False, visualize=False, augment=False, agnostic_nms=False, classes=None, retina_masks=False, embed=None, show=False, save_frames=False, save_txt=False, save_conf=False, save_crop=False, show_labels=True, show_conf=True, show_boxes=True, line_width=None, format=torchscript, keras=False, optimize=False, int8=False, dynamic=False, simplify=True, opset=None, workspace=None, nms=False, lr0=0.01, lrf=0.01, momentum=0.937, weight_decay=0.0005, warmup_epochs=3.0, warmup_momentum=0.8, warmup_bias_lr=0.0, box=7.5, cls=0.5, dfl=1.5, pose=12.0, kobj=1.0, nbs=64, hsv_h=0.015, hsv_s=0.7, hsv_v=0.4, degrees=0.0, translate=0.1, scale=0.5, shear=0.0, perspective=0.0, flipud=0.0, fliplr=0.5, bgr=0.0, mosaic=1.0, mixup=0.0, copy_paste=0.0, copy_paste_mode=flip, auto_augment=randaugment, erasing=0.4, crop_fraction=1.0, cfg=None, tracker=botsort.yaml, save_dir=runs\\detect\\train\n",
      "\n",
      "                   from  n    params  module                                       arguments                     \n",
      "  0                  -1  1       464  ultralytics.nn.modules.conv.Conv             [3, 16, 3, 2]                 \n",
      "  1                  -1  1      4672  ultralytics.nn.modules.conv.Conv             [16, 32, 3, 2]                \n",
      "  2                  -1  1      6640  ultralytics.nn.modules.block.C3k2            [32, 64, 1, False, 0.25]      \n",
      "  3                  -1  1     36992  ultralytics.nn.modules.conv.Conv             [64, 64, 3, 2]                \n",
      "  4                  -1  1     26080  ultralytics.nn.modules.block.C3k2            [64, 128, 1, False, 0.25]     \n",
      "  5                  -1  1    147712  ultralytics.nn.modules.conv.Conv             [128, 128, 3, 2]              \n",
      "  6                  -1  1     87040  ultralytics.nn.modules.block.C3k2            [128, 128, 1, True]           \n",
      "  7                  -1  1    295424  ultralytics.nn.modules.conv.Conv             [128, 256, 3, 2]              \n",
      "  8                  -1  1    346112  ultralytics.nn.modules.block.C3k2            [256, 256, 1, True]           \n",
      "  9                  -1  1    164608  ultralytics.nn.modules.block.SPPF            [256, 256, 5]                 \n",
      " 10                  -1  1    249728  ultralytics.nn.modules.block.C2PSA           [256, 256, 1]                 \n",
      " 11                  -1  1         0  torch.nn.modules.upsampling.Upsample         [None, 2, 'nearest']          \n",
      " 12             [-1, 6]  1         0  ultralytics.nn.modules.conv.Concat           [1]                           \n",
      " 13                  -1  1    111296  ultralytics.nn.modules.block.C3k2            [384, 128, 1, False]          \n",
      " 14                  -1  1         0  torch.nn.modules.upsampling.Upsample         [None, 2, 'nearest']          \n",
      " 15             [-1, 4]  1         0  ultralytics.nn.modules.conv.Concat           [1]                           \n",
      " 16                  -1  1     32096  ultralytics.nn.modules.block.C3k2            [256, 64, 1, False]           \n",
      " 17                  -1  1     36992  ultralytics.nn.modules.conv.Conv             [64, 64, 3, 2]                \n",
      " 18            [-1, 13]  1         0  ultralytics.nn.modules.conv.Concat           [1]                           \n",
      " 19                  -1  1     86720  ultralytics.nn.modules.block.C3k2            [192, 128, 1, False]          \n",
      " 20                  -1  1    147712  ultralytics.nn.modules.conv.Conv             [128, 128, 3, 2]              \n",
      " 21            [-1, 10]  1         0  ultralytics.nn.modules.conv.Concat           [1]                           \n",
      " 22                  -1  1    378880  ultralytics.nn.modules.block.C3k2            [384, 256, 1, True]           \n",
      " 23        [16, 19, 22]  1    432622  ultralytics.nn.modules.head.Detect           [10, [64, 128, 256]]          \n",
      "YOLO11n summary: 319 layers, 2,591,790 parameters, 2,591,774 gradients, 6.5 GFLOPs\n",
      "\n",
      "Transferred 499/499 items from pretrained weights\n",
      "Freezing layer 'model.23.dfl.conv.weight'\n",
      "\u001b[34m\u001b[1mAMP: \u001b[0mrunning Automatic Mixed Precision (AMP) checks...\n",
      "\u001b[34m\u001b[1mAMP: \u001b[0mchecks passed \n"
     ]
    },
    {
     "name": "stderr",
     "output_type": "stream",
     "text": [
      "\u001b[34m\u001b[1mtrain: \u001b[0mScanning C:\\Users\\okeiy\\OneDrive - University of Salford\\Documents\\Sch Notes\\Dissertation\\Codes\\Dataset\\Yolo\\bdd\u001b[0m"
     ]
    },
    {
     "name": "stdout",
     "output_type": "stream",
     "text": [
      "\u001b[34m\u001b[1mtrain: \u001b[0mWARNING  C:\\Users\\okeiy\\OneDrive - University of Salford\\Documents\\Sch Notes\\Dissertation\\Codes\\Dataset\\Yolo\\bdd100k\\train\\images\\75055858-7d04a650.jpg: 1 duplicate labels removed\n",
      "\u001b[34m\u001b[1mtrain: \u001b[0mWARNING  C:\\Users\\okeiy\\OneDrive - University of Salford\\Documents\\Sch Notes\\Dissertation\\Codes\\Dataset\\Yolo\\bdd100k\\train\\images\\8b94691f-0b47c5c3.jpg: 1 duplicate labels removed\n"
     ]
    },
    {
     "name": "stderr",
     "output_type": "stream",
     "text": [
      "\n",
      "\u001b[34m\u001b[1mval: \u001b[0mScanning C:\\Users\\okeiy\\OneDrive - University of Salford\\Documents\\Sch Notes\\Dissertation\\Codes\\Dataset\\Yolo\\bdd10\u001b[0m\n"
     ]
    },
    {
     "name": "stdout",
     "output_type": "stream",
     "text": [
      "Plotting labels to runs\\detect\\train\\labels.jpg... \n",
      "\u001b[34m\u001b[1moptimizer:\u001b[0m 'optimizer=auto' found, ignoring 'lr0=0.01' and 'momentum=0.937' and determining best 'optimizer', 'lr0' and 'momentum' automatically... \n",
      "\u001b[34m\u001b[1moptimizer:\u001b[0m SGD(lr=0.01, momentum=0.9) with parameter groups 81 weight(decay=0.0), 88 weight(decay=0.0005), 87 bias(decay=0.0)\n",
      "Resuming training C:\\Users\\okeiy\\OneDrive - University of Salford\\Documents\\Sch Notes\\Dissertation\\Codes\\Dataset\\Yolo\\bdd100k\\runs\\detect\\train\\weights\\last.pt from epoch 38 to 100 total epochs\n",
      "Image sizes 640 train, 640 val\n",
      "Using 8 dataloader workers\n",
      "Logging results to \u001b[1mruns\\detect\\train\u001b[0m\n",
      "Starting training for 100 epochs...\n",
      "\n",
      "      Epoch    GPU_mem   box_loss   cls_loss   dfl_loss  Instances       Size\n"
     ]
    },
    {
     "name": "stderr",
     "output_type": "stream",
     "text": [
      "     38/100      4.56G      1.339     0.8333     0.9827        519        640: 100%|██████████| 4375/4375 [21:28<00:00,\n",
      "                 Class     Images  Instances      Box(P          R      mAP50  mAP50-95): 100%|██████████| 313/313 [02:\n"
     ]
    },
    {
     "name": "stdout",
     "output_type": "stream",
     "text": [
      "                   all      10000     185526       0.64      0.384      0.413      0.229\n",
      "\n",
      "      Epoch    GPU_mem   box_loss   cls_loss   dfl_loss  Instances       Size\n"
     ]
    },
    {
     "name": "stderr",
     "output_type": "stream",
     "text": [
      "     39/100      5.59G      1.341     0.8376     0.9838        327        640: 100%|██████████| 4375/4375 [21:20<00:00,\n",
      "                 Class     Images  Instances      Box(P          R      mAP50  mAP50-95): 100%|██████████| 313/313 [01:\n"
     ]
    },
    {
     "name": "stdout",
     "output_type": "stream",
     "text": [
      "                   all      10000     185526      0.643      0.384      0.414      0.229\n",
      "\n",
      "      Epoch    GPU_mem   box_loss   cls_loss   dfl_loss  Instances       Size\n"
     ]
    },
    {
     "name": "stderr",
     "output_type": "stream",
     "text": [
      "     40/100      4.57G      1.343      0.838     0.9845        499        640: 100%|██████████| 4375/4375 [20:47<00:00,\n",
      "                 Class     Images  Instances      Box(P          R      mAP50  mAP50-95): 100%|██████████| 313/313 [02:\n"
     ]
    },
    {
     "name": "stdout",
     "output_type": "stream",
     "text": [
      "                   all      10000     185526      0.644      0.385      0.415       0.23\n",
      "\n",
      "      Epoch    GPU_mem   box_loss   cls_loss   dfl_loss  Instances       Size\n"
     ]
    },
    {
     "name": "stderr",
     "output_type": "stream",
     "text": [
      "     41/100      4.65G       1.34     0.8353     0.9829        616        640: 100%|██████████| 4375/4375 [21:02<00:00,\n",
      "                 Class     Images  Instances      Box(P          R      mAP50  mAP50-95): 100%|██████████| 313/313 [02:\n"
     ]
    },
    {
     "name": "stdout",
     "output_type": "stream",
     "text": [
      "                   all      10000     185526      0.645      0.385      0.416       0.23\n",
      "\n",
      "      Epoch    GPU_mem   box_loss   cls_loss   dfl_loss  Instances       Size\n"
     ]
    },
    {
     "name": "stderr",
     "output_type": "stream",
     "text": [
      "     42/100       4.1G      1.337     0.8309     0.9822        622        640: 100%|██████████| 4375/4375 [21:46<00:00,\n",
      "                 Class     Images  Instances      Box(P          R      mAP50  mAP50-95): 100%|██████████| 313/313 [01:\n"
     ]
    },
    {
     "name": "stdout",
     "output_type": "stream",
     "text": [
      "                   all      10000     185526      0.645      0.384      0.417       0.23\n",
      "\n",
      "      Epoch    GPU_mem   box_loss   cls_loss   dfl_loss  Instances       Size\n"
     ]
    },
    {
     "name": "stderr",
     "output_type": "stream",
     "text": [
      "     43/100      4.99G      1.338      0.832      0.982        510        640: 100%|██████████| 4375/4375 [21:31<00:00,\n",
      "                 Class     Images  Instances      Box(P          R      mAP50  mAP50-95): 100%|██████████| 313/313 [02:\n"
     ]
    },
    {
     "name": "stdout",
     "output_type": "stream",
     "text": [
      "                   all      10000     185526      0.647      0.384      0.417      0.231\n",
      "\n",
      "      Epoch    GPU_mem   box_loss   cls_loss   dfl_loss  Instances       Size\n"
     ]
    },
    {
     "name": "stderr",
     "output_type": "stream",
     "text": [
      "     44/100      4.57G      1.336     0.8317     0.9812        630        640: 100%|██████████| 4375/4375 [20:14<00:00,\n",
      "                 Class     Images  Instances      Box(P          R      mAP50  mAP50-95): 100%|██████████| 313/313 [02:\n"
     ]
    },
    {
     "name": "stdout",
     "output_type": "stream",
     "text": [
      "                   all      10000     185526      0.648      0.386      0.418      0.231\n",
      "\n",
      "      Epoch    GPU_mem   box_loss   cls_loss   dfl_loss  Instances       Size\n"
     ]
    },
    {
     "name": "stderr",
     "output_type": "stream",
     "text": [
      "     45/100      3.89G      1.336      0.829     0.9811        622        640: 100%|██████████| 4375/4375 [20:24<00:00,\n",
      "                 Class     Images  Instances      Box(P          R      mAP50  mAP50-95): 100%|██████████| 313/313 [01:\n"
     ]
    },
    {
     "name": "stdout",
     "output_type": "stream",
     "text": [
      "                   all      10000     185526      0.651      0.386      0.418      0.231\n",
      "\n",
      "      Epoch    GPU_mem   box_loss   cls_loss   dfl_loss  Instances       Size\n"
     ]
    },
    {
     "name": "stderr",
     "output_type": "stream",
     "text": [
      "     46/100      4.95G      1.333     0.8277     0.9809        437        640: 100%|██████████| 4375/4375 [19:29<00:00,\n",
      "                 Class     Images  Instances      Box(P          R      mAP50  mAP50-95): 100%|██████████| 313/313 [02:\n"
     ]
    },
    {
     "name": "stdout",
     "output_type": "stream",
     "text": [
      "                   all      10000     185526      0.653      0.386      0.419      0.232\n",
      "\n",
      "      Epoch    GPU_mem   box_loss   cls_loss   dfl_loss  Instances       Size\n"
     ]
    },
    {
     "name": "stderr",
     "output_type": "stream",
     "text": [
      "     47/100      5.39G      1.332     0.8269     0.9799        510        640: 100%|██████████| 4375/4375 [21:36<00:00,\n",
      "                 Class     Images  Instances      Box(P          R      mAP50  mAP50-95): 100%|██████████| 313/313 [01:\n"
     ]
    },
    {
     "name": "stdout",
     "output_type": "stream",
     "text": [
      "                   all      10000     185526      0.657      0.385       0.42      0.232\n",
      "\n",
      "      Epoch    GPU_mem   box_loss   cls_loss   dfl_loss  Instances       Size\n"
     ]
    },
    {
     "name": "stderr",
     "output_type": "stream",
     "text": [
      "     48/100      3.74G      1.333     0.8249     0.9799        527        640: 100%|██████████| 4375/4375 [20:54<00:00,\n",
      "                 Class     Images  Instances      Box(P          R      mAP50  mAP50-95): 100%|██████████| 313/313 [01:\n"
     ]
    },
    {
     "name": "stdout",
     "output_type": "stream",
     "text": [
      "                   all      10000     185526      0.659      0.385      0.421      0.232\n",
      "\n",
      "      Epoch    GPU_mem   box_loss   cls_loss   dfl_loss  Instances       Size\n"
     ]
    },
    {
     "name": "stderr",
     "output_type": "stream",
     "text": [
      "     49/100      3.54G      1.327     0.8215     0.9784        555        640: 100%|██████████| 4375/4375 [21:39<00:00,\n",
      "                 Class     Images  Instances      Box(P          R      mAP50  mAP50-95): 100%|██████████| 313/313 [01:\n"
     ]
    },
    {
     "name": "stdout",
     "output_type": "stream",
     "text": [
      "                   all      10000     185526      0.654      0.388      0.422      0.233\n",
      "\n",
      "      Epoch    GPU_mem   box_loss   cls_loss   dfl_loss  Instances       Size\n"
     ]
    },
    {
     "name": "stderr",
     "output_type": "stream",
     "text": [
      "     50/100      4.07G       1.33     0.8239     0.9793        377        640: 100%|██████████| 4375/4375 [19:28<00:00,\n",
      "                 Class     Images  Instances      Box(P          R      mAP50  mAP50-95): 100%|██████████| 313/313 [01:\n"
     ]
    },
    {
     "name": "stdout",
     "output_type": "stream",
     "text": [
      "                   all      10000     185526      0.654      0.388      0.422      0.233\n",
      "\n",
      "      Epoch    GPU_mem   box_loss   cls_loss   dfl_loss  Instances       Size\n"
     ]
    },
    {
     "name": "stderr",
     "output_type": "stream",
     "text": [
      "     51/100      4.88G      1.329     0.8224     0.9782        451        640: 100%|██████████| 4375/4375 [22:11<00:00,\n",
      "                 Class     Images  Instances      Box(P          R      mAP50  mAP50-95): 100%|██████████| 313/313 [00:\n"
     ]
    },
    {
     "name": "stdout",
     "output_type": "stream",
     "text": [
      "                   all      10000     185526      0.654      0.388      0.423      0.233\n",
      "\n",
      "      Epoch    GPU_mem   box_loss   cls_loss   dfl_loss  Instances       Size\n"
     ]
    },
    {
     "name": "stderr",
     "output_type": "stream",
     "text": [
      "     52/100       3.2G      1.319     0.8178     0.9718        535        640:   1%|▏         | 63/4375 [00:09<11:13,  6.40\n"
     ]
    },
    {
     "ename": "KeyboardInterrupt",
     "evalue": "",
     "output_type": "error",
     "traceback": [
      "\u001b[1;31m---------------------------------------------------------------------------\u001b[0m",
      "\u001b[1;31mKeyboardInterrupt\u001b[0m                         Traceback (most recent call last)",
      "Cell \u001b[1;32mIn[2], line 8\u001b[0m\n\u001b[0;32m      5\u001b[0m model \u001b[38;5;241m=\u001b[39m YOLO(\u001b[38;5;124m\"\u001b[39m\u001b[38;5;124mC:/Users/okeiy/OneDrive - University of Salford/Documents/Sch Notes/Dissertation/Codes/Dataset/Yolo/bdd100k/runs/detect/train/weights/last.pt\u001b[39m\u001b[38;5;124m\"\u001b[39m)\n\u001b[0;32m      7\u001b[0m \u001b[38;5;66;03m# Fine-tune the model and enable resume functionality\u001b[39;00m\n\u001b[1;32m----> 8\u001b[0m results \u001b[38;5;241m=\u001b[39m \u001b[43mmodel\u001b[49m\u001b[38;5;241;43m.\u001b[39;49m\u001b[43mtrain\u001b[49m\u001b[43m(\u001b[49m\n\u001b[0;32m      9\u001b[0m \u001b[43m    \u001b[49m\u001b[43mdata\u001b[49m\u001b[38;5;241;43m=\u001b[39;49m\u001b[38;5;124;43m\"\u001b[39;49m\u001b[38;5;124;43mC:/Users/okeiy/OneDrive - University of Salford/Documents/Sch Notes/Dissertation/Codes/Dataset/Yolo/bdd100k/data.yaml\u001b[39;49m\u001b[38;5;124;43m\"\u001b[39;49m\u001b[43m,\u001b[49m\n\u001b[0;32m     10\u001b[0m \u001b[43m    \u001b[49m\u001b[43mepochs\u001b[49m\u001b[38;5;241;43m=\u001b[39;49m\u001b[38;5;241;43m100\u001b[39;49m\u001b[43m,\u001b[49m\n\u001b[0;32m     11\u001b[0m \u001b[43m    \u001b[49m\u001b[43mbatch\u001b[49m\u001b[38;5;241;43m=\u001b[39;49m\u001b[38;5;241;43m16\u001b[39;49m\u001b[43m,\u001b[49m\n\u001b[0;32m     12\u001b[0m \u001b[43m    \u001b[49m\u001b[43mimgsz\u001b[49m\u001b[38;5;241;43m=\u001b[39;49m\u001b[38;5;241;43m640\u001b[39;49m\u001b[43m,\u001b[49m\n\u001b[0;32m     13\u001b[0m \u001b[43m    \u001b[49m\u001b[43mresume\u001b[49m\u001b[38;5;241;43m=\u001b[39;49m\u001b[38;5;28;43;01mTrue\u001b[39;49;00m\n\u001b[0;32m     14\u001b[0m \u001b[43m)\u001b[49m\n",
      "File \u001b[1;32m~\\.conda\\envs\\carla-sim\\lib\\site-packages\\ultralytics\\engine\\model.py:809\u001b[0m, in \u001b[0;36mModel.train\u001b[1;34m(self, trainer, **kwargs)\u001b[0m\n\u001b[0;32m    806\u001b[0m     \u001b[38;5;28mself\u001b[39m\u001b[38;5;241m.\u001b[39mmodel \u001b[38;5;241m=\u001b[39m \u001b[38;5;28mself\u001b[39m\u001b[38;5;241m.\u001b[39mtrainer\u001b[38;5;241m.\u001b[39mmodel\n\u001b[0;32m    808\u001b[0m \u001b[38;5;28mself\u001b[39m\u001b[38;5;241m.\u001b[39mtrainer\u001b[38;5;241m.\u001b[39mhub_session \u001b[38;5;241m=\u001b[39m \u001b[38;5;28mself\u001b[39m\u001b[38;5;241m.\u001b[39msession  \u001b[38;5;66;03m# attach optional HUB session\u001b[39;00m\n\u001b[1;32m--> 809\u001b[0m \u001b[38;5;28;43mself\u001b[39;49m\u001b[38;5;241;43m.\u001b[39;49m\u001b[43mtrainer\u001b[49m\u001b[38;5;241;43m.\u001b[39;49m\u001b[43mtrain\u001b[49m\u001b[43m(\u001b[49m\u001b[43m)\u001b[49m\n\u001b[0;32m    810\u001b[0m \u001b[38;5;66;03m# Update model and cfg after training\u001b[39;00m\n\u001b[0;32m    811\u001b[0m \u001b[38;5;28;01mif\u001b[39;00m RANK \u001b[38;5;129;01min\u001b[39;00m {\u001b[38;5;241m-\u001b[39m\u001b[38;5;241m1\u001b[39m, \u001b[38;5;241m0\u001b[39m}:\n",
      "File \u001b[1;32m~\\.conda\\envs\\carla-sim\\lib\\site-packages\\ultralytics\\engine\\trainer.py:208\u001b[0m, in \u001b[0;36mBaseTrainer.train\u001b[1;34m(self)\u001b[0m\n\u001b[0;32m    205\u001b[0m         ddp_cleanup(\u001b[38;5;28mself\u001b[39m, \u001b[38;5;28mstr\u001b[39m(file))\n\u001b[0;32m    207\u001b[0m \u001b[38;5;28;01melse\u001b[39;00m:\n\u001b[1;32m--> 208\u001b[0m     \u001b[38;5;28;43mself\u001b[39;49m\u001b[38;5;241;43m.\u001b[39;49m\u001b[43m_do_train\u001b[49m\u001b[43m(\u001b[49m\u001b[43mworld_size\u001b[49m\u001b[43m)\u001b[49m\n",
      "File \u001b[1;32m~\\.conda\\envs\\carla-sim\\lib\\site-packages\\ultralytics\\engine\\trainer.py:381\u001b[0m, in \u001b[0;36mBaseTrainer._do_train\u001b[1;34m(self, world_size)\u001b[0m\n\u001b[0;32m    379\u001b[0m \u001b[38;5;28;01mwith\u001b[39;00m autocast(\u001b[38;5;28mself\u001b[39m\u001b[38;5;241m.\u001b[39mamp):\n\u001b[0;32m    380\u001b[0m     batch \u001b[38;5;241m=\u001b[39m \u001b[38;5;28mself\u001b[39m\u001b[38;5;241m.\u001b[39mpreprocess_batch(batch)\n\u001b[1;32m--> 381\u001b[0m     \u001b[38;5;28mself\u001b[39m\u001b[38;5;241m.\u001b[39mloss, \u001b[38;5;28mself\u001b[39m\u001b[38;5;241m.\u001b[39mloss_items \u001b[38;5;241m=\u001b[39m \u001b[38;5;28;43mself\u001b[39;49m\u001b[38;5;241;43m.\u001b[39;49m\u001b[43mmodel\u001b[49m\u001b[43m(\u001b[49m\u001b[43mbatch\u001b[49m\u001b[43m)\u001b[49m\n\u001b[0;32m    382\u001b[0m     \u001b[38;5;28;01mif\u001b[39;00m RANK \u001b[38;5;241m!=\u001b[39m \u001b[38;5;241m-\u001b[39m\u001b[38;5;241m1\u001b[39m:\n\u001b[0;32m    383\u001b[0m         \u001b[38;5;28mself\u001b[39m\u001b[38;5;241m.\u001b[39mloss \u001b[38;5;241m*\u001b[39m\u001b[38;5;241m=\u001b[39m world_size\n",
      "File \u001b[1;32m~\\.conda\\envs\\carla-sim\\lib\\site-packages\\torch\\nn\\modules\\module.py:1736\u001b[0m, in \u001b[0;36mModule._wrapped_call_impl\u001b[1;34m(self, *args, **kwargs)\u001b[0m\n\u001b[0;32m   1734\u001b[0m     \u001b[38;5;28;01mreturn\u001b[39;00m \u001b[38;5;28mself\u001b[39m\u001b[38;5;241m.\u001b[39m_compiled_call_impl(\u001b[38;5;241m*\u001b[39margs, \u001b[38;5;241m*\u001b[39m\u001b[38;5;241m*\u001b[39mkwargs)  \u001b[38;5;66;03m# type: ignore[misc]\u001b[39;00m\n\u001b[0;32m   1735\u001b[0m \u001b[38;5;28;01melse\u001b[39;00m:\n\u001b[1;32m-> 1736\u001b[0m     \u001b[38;5;28;01mreturn\u001b[39;00m \u001b[38;5;28mself\u001b[39m\u001b[38;5;241m.\u001b[39m_call_impl(\u001b[38;5;241m*\u001b[39margs, \u001b[38;5;241m*\u001b[39m\u001b[38;5;241m*\u001b[39mkwargs)\n",
      "File \u001b[1;32m~\\.conda\\envs\\carla-sim\\lib\\site-packages\\torch\\nn\\modules\\module.py:1747\u001b[0m, in \u001b[0;36mModule._call_impl\u001b[1;34m(self, *args, **kwargs)\u001b[0m\n\u001b[0;32m   1742\u001b[0m \u001b[38;5;66;03m# If we don't have any hooks, we want to skip the rest of the logic in\u001b[39;00m\n\u001b[0;32m   1743\u001b[0m \u001b[38;5;66;03m# this function, and just call forward.\u001b[39;00m\n\u001b[0;32m   1744\u001b[0m \u001b[38;5;28;01mif\u001b[39;00m \u001b[38;5;129;01mnot\u001b[39;00m (\u001b[38;5;28mself\u001b[39m\u001b[38;5;241m.\u001b[39m_backward_hooks \u001b[38;5;129;01mor\u001b[39;00m \u001b[38;5;28mself\u001b[39m\u001b[38;5;241m.\u001b[39m_backward_pre_hooks \u001b[38;5;129;01mor\u001b[39;00m \u001b[38;5;28mself\u001b[39m\u001b[38;5;241m.\u001b[39m_forward_hooks \u001b[38;5;129;01mor\u001b[39;00m \u001b[38;5;28mself\u001b[39m\u001b[38;5;241m.\u001b[39m_forward_pre_hooks\n\u001b[0;32m   1745\u001b[0m         \u001b[38;5;129;01mor\u001b[39;00m _global_backward_pre_hooks \u001b[38;5;129;01mor\u001b[39;00m _global_backward_hooks\n\u001b[0;32m   1746\u001b[0m         \u001b[38;5;129;01mor\u001b[39;00m _global_forward_hooks \u001b[38;5;129;01mor\u001b[39;00m _global_forward_pre_hooks):\n\u001b[1;32m-> 1747\u001b[0m     \u001b[38;5;28;01mreturn\u001b[39;00m forward_call(\u001b[38;5;241m*\u001b[39margs, \u001b[38;5;241m*\u001b[39m\u001b[38;5;241m*\u001b[39mkwargs)\n\u001b[0;32m   1749\u001b[0m result \u001b[38;5;241m=\u001b[39m \u001b[38;5;28;01mNone\u001b[39;00m\n\u001b[0;32m   1750\u001b[0m called_always_called_hooks \u001b[38;5;241m=\u001b[39m \u001b[38;5;28mset\u001b[39m()\n",
      "File \u001b[1;32m~\\.conda\\envs\\carla-sim\\lib\\site-packages\\ultralytics\\nn\\tasks.py:108\u001b[0m, in \u001b[0;36mBaseModel.forward\u001b[1;34m(self, x, *args, **kwargs)\u001b[0m\n\u001b[0;32m     94\u001b[0m \u001b[38;5;250m\u001b[39m\u001b[38;5;124;03m\"\"\"\u001b[39;00m\n\u001b[0;32m     95\u001b[0m \u001b[38;5;124;03mPerform forward pass of the model for either training or inference.\u001b[39;00m\n\u001b[0;32m     96\u001b[0m \n\u001b[1;32m   (...)\u001b[0m\n\u001b[0;32m    105\u001b[0m \u001b[38;5;124;03m    (torch.Tensor): Loss if x is a dict (training), or network predictions (inference).\u001b[39;00m\n\u001b[0;32m    106\u001b[0m \u001b[38;5;124;03m\"\"\"\u001b[39;00m\n\u001b[0;32m    107\u001b[0m \u001b[38;5;28;01mif\u001b[39;00m \u001b[38;5;28misinstance\u001b[39m(x, \u001b[38;5;28mdict\u001b[39m):  \u001b[38;5;66;03m# for cases of training and validating while training.\u001b[39;00m\n\u001b[1;32m--> 108\u001b[0m     \u001b[38;5;28;01mreturn\u001b[39;00m \u001b[38;5;28mself\u001b[39m\u001b[38;5;241m.\u001b[39mloss(x, \u001b[38;5;241m*\u001b[39margs, \u001b[38;5;241m*\u001b[39m\u001b[38;5;241m*\u001b[39mkwargs)\n\u001b[0;32m    109\u001b[0m \u001b[38;5;28;01mreturn\u001b[39;00m \u001b[38;5;28mself\u001b[39m\u001b[38;5;241m.\u001b[39mpredict(x, \u001b[38;5;241m*\u001b[39margs, \u001b[38;5;241m*\u001b[39m\u001b[38;5;241m*\u001b[39mkwargs)\n",
      "File \u001b[1;32m~\\.conda\\envs\\carla-sim\\lib\\site-packages\\ultralytics\\nn\\tasks.py:287\u001b[0m, in \u001b[0;36mBaseModel.loss\u001b[1;34m(self, batch, preds)\u001b[0m\n\u001b[0;32m    284\u001b[0m     \u001b[38;5;28mself\u001b[39m\u001b[38;5;241m.\u001b[39mcriterion \u001b[38;5;241m=\u001b[39m \u001b[38;5;28mself\u001b[39m\u001b[38;5;241m.\u001b[39minit_criterion()\n\u001b[0;32m    286\u001b[0m preds \u001b[38;5;241m=\u001b[39m \u001b[38;5;28mself\u001b[39m\u001b[38;5;241m.\u001b[39mforward(batch[\u001b[38;5;124m\"\u001b[39m\u001b[38;5;124mimg\u001b[39m\u001b[38;5;124m\"\u001b[39m]) \u001b[38;5;28;01mif\u001b[39;00m preds \u001b[38;5;129;01mis\u001b[39;00m \u001b[38;5;28;01mNone\u001b[39;00m \u001b[38;5;28;01melse\u001b[39;00m preds\n\u001b[1;32m--> 287\u001b[0m \u001b[38;5;28;01mreturn\u001b[39;00m \u001b[38;5;28;43mself\u001b[39;49m\u001b[38;5;241;43m.\u001b[39;49m\u001b[43mcriterion\u001b[49m\u001b[43m(\u001b[49m\u001b[43mpreds\u001b[49m\u001b[43m,\u001b[49m\u001b[43m \u001b[49m\u001b[43mbatch\u001b[49m\u001b[43m)\u001b[49m\n",
      "File \u001b[1;32m~\\.conda\\envs\\carla-sim\\lib\\site-packages\\ultralytics\\utils\\loss.py:233\u001b[0m, in \u001b[0;36mv8DetectionLoss.__call__\u001b[1;34m(self, preds, batch)\u001b[0m\n\u001b[0;32m    229\u001b[0m pred_bboxes \u001b[38;5;241m=\u001b[39m \u001b[38;5;28mself\u001b[39m\u001b[38;5;241m.\u001b[39mbbox_decode(anchor_points, pred_distri)  \u001b[38;5;66;03m# xyxy, (b, h*w, 4)\u001b[39;00m\n\u001b[0;32m    230\u001b[0m \u001b[38;5;66;03m# dfl_conf = pred_distri.view(batch_size, -1, 4, self.reg_max).detach().softmax(-1)\u001b[39;00m\n\u001b[0;32m    231\u001b[0m \u001b[38;5;66;03m# dfl_conf = (dfl_conf.amax(-1).mean(-1) + dfl_conf.amax(-1).amin(-1)) / 2\u001b[39;00m\n\u001b[1;32m--> 233\u001b[0m _, target_bboxes, target_scores, fg_mask, _ \u001b[38;5;241m=\u001b[39m \u001b[38;5;28;43mself\u001b[39;49m\u001b[38;5;241;43m.\u001b[39;49m\u001b[43massigner\u001b[49m\u001b[43m(\u001b[49m\n\u001b[0;32m    234\u001b[0m \u001b[43m    \u001b[49m\u001b[38;5;66;43;03m# pred_scores.detach().sigmoid() * 0.8 + dfl_conf.unsqueeze(-1) * 0.2,\u001b[39;49;00m\n\u001b[0;32m    235\u001b[0m \u001b[43m    \u001b[49m\u001b[43mpred_scores\u001b[49m\u001b[38;5;241;43m.\u001b[39;49m\u001b[43mdetach\u001b[49m\u001b[43m(\u001b[49m\u001b[43m)\u001b[49m\u001b[38;5;241;43m.\u001b[39;49m\u001b[43msigmoid\u001b[49m\u001b[43m(\u001b[49m\u001b[43m)\u001b[49m\u001b[43m,\u001b[49m\n\u001b[0;32m    236\u001b[0m \u001b[43m    \u001b[49m\u001b[43m(\u001b[49m\u001b[43mpred_bboxes\u001b[49m\u001b[38;5;241;43m.\u001b[39;49m\u001b[43mdetach\u001b[49m\u001b[43m(\u001b[49m\u001b[43m)\u001b[49m\u001b[43m \u001b[49m\u001b[38;5;241;43m*\u001b[39;49m\u001b[43m \u001b[49m\u001b[43mstride_tensor\u001b[49m\u001b[43m)\u001b[49m\u001b[38;5;241;43m.\u001b[39;49m\u001b[43mtype\u001b[49m\u001b[43m(\u001b[49m\u001b[43mgt_bboxes\u001b[49m\u001b[38;5;241;43m.\u001b[39;49m\u001b[43mdtype\u001b[49m\u001b[43m)\u001b[49m\u001b[43m,\u001b[49m\n\u001b[0;32m    237\u001b[0m \u001b[43m    \u001b[49m\u001b[43manchor_points\u001b[49m\u001b[43m \u001b[49m\u001b[38;5;241;43m*\u001b[39;49m\u001b[43m \u001b[49m\u001b[43mstride_tensor\u001b[49m\u001b[43m,\u001b[49m\n\u001b[0;32m    238\u001b[0m \u001b[43m    \u001b[49m\u001b[43mgt_labels\u001b[49m\u001b[43m,\u001b[49m\n\u001b[0;32m    239\u001b[0m \u001b[43m    \u001b[49m\u001b[43mgt_bboxes\u001b[49m\u001b[43m,\u001b[49m\n\u001b[0;32m    240\u001b[0m \u001b[43m    \u001b[49m\u001b[43mmask_gt\u001b[49m\u001b[43m,\u001b[49m\n\u001b[0;32m    241\u001b[0m \u001b[43m\u001b[49m\u001b[43m)\u001b[49m\n\u001b[0;32m    243\u001b[0m target_scores_sum \u001b[38;5;241m=\u001b[39m \u001b[38;5;28mmax\u001b[39m(target_scores\u001b[38;5;241m.\u001b[39msum(), \u001b[38;5;241m1\u001b[39m)\n\u001b[0;32m    245\u001b[0m \u001b[38;5;66;03m# Cls loss\u001b[39;00m\n\u001b[0;32m    246\u001b[0m \u001b[38;5;66;03m# loss[1] = self.varifocal_loss(pred_scores, target_scores, target_labels) / target_scores_sum  # VFL way\u001b[39;00m\n",
      "File \u001b[1;32m~\\.conda\\envs\\carla-sim\\lib\\site-packages\\torch\\nn\\modules\\module.py:1736\u001b[0m, in \u001b[0;36mModule._wrapped_call_impl\u001b[1;34m(self, *args, **kwargs)\u001b[0m\n\u001b[0;32m   1734\u001b[0m     \u001b[38;5;28;01mreturn\u001b[39;00m \u001b[38;5;28mself\u001b[39m\u001b[38;5;241m.\u001b[39m_compiled_call_impl(\u001b[38;5;241m*\u001b[39margs, \u001b[38;5;241m*\u001b[39m\u001b[38;5;241m*\u001b[39mkwargs)  \u001b[38;5;66;03m# type: ignore[misc]\u001b[39;00m\n\u001b[0;32m   1735\u001b[0m \u001b[38;5;28;01melse\u001b[39;00m:\n\u001b[1;32m-> 1736\u001b[0m     \u001b[38;5;28;01mreturn\u001b[39;00m \u001b[38;5;28mself\u001b[39m\u001b[38;5;241m.\u001b[39m_call_impl(\u001b[38;5;241m*\u001b[39margs, \u001b[38;5;241m*\u001b[39m\u001b[38;5;241m*\u001b[39mkwargs)\n",
      "File \u001b[1;32m~\\.conda\\envs\\carla-sim\\lib\\site-packages\\torch\\nn\\modules\\module.py:1747\u001b[0m, in \u001b[0;36mModule._call_impl\u001b[1;34m(self, *args, **kwargs)\u001b[0m\n\u001b[0;32m   1742\u001b[0m \u001b[38;5;66;03m# If we don't have any hooks, we want to skip the rest of the logic in\u001b[39;00m\n\u001b[0;32m   1743\u001b[0m \u001b[38;5;66;03m# this function, and just call forward.\u001b[39;00m\n\u001b[0;32m   1744\u001b[0m \u001b[38;5;28;01mif\u001b[39;00m \u001b[38;5;129;01mnot\u001b[39;00m (\u001b[38;5;28mself\u001b[39m\u001b[38;5;241m.\u001b[39m_backward_hooks \u001b[38;5;129;01mor\u001b[39;00m \u001b[38;5;28mself\u001b[39m\u001b[38;5;241m.\u001b[39m_backward_pre_hooks \u001b[38;5;129;01mor\u001b[39;00m \u001b[38;5;28mself\u001b[39m\u001b[38;5;241m.\u001b[39m_forward_hooks \u001b[38;5;129;01mor\u001b[39;00m \u001b[38;5;28mself\u001b[39m\u001b[38;5;241m.\u001b[39m_forward_pre_hooks\n\u001b[0;32m   1745\u001b[0m         \u001b[38;5;129;01mor\u001b[39;00m _global_backward_pre_hooks \u001b[38;5;129;01mor\u001b[39;00m _global_backward_hooks\n\u001b[0;32m   1746\u001b[0m         \u001b[38;5;129;01mor\u001b[39;00m _global_forward_hooks \u001b[38;5;129;01mor\u001b[39;00m _global_forward_pre_hooks):\n\u001b[1;32m-> 1747\u001b[0m     \u001b[38;5;28;01mreturn\u001b[39;00m forward_call(\u001b[38;5;241m*\u001b[39margs, \u001b[38;5;241m*\u001b[39m\u001b[38;5;241m*\u001b[39mkwargs)\n\u001b[0;32m   1749\u001b[0m result \u001b[38;5;241m=\u001b[39m \u001b[38;5;28;01mNone\u001b[39;00m\n\u001b[0;32m   1750\u001b[0m called_always_called_hooks \u001b[38;5;241m=\u001b[39m \u001b[38;5;28mset\u001b[39m()\n",
      "File \u001b[1;32m~\\.conda\\envs\\carla-sim\\lib\\site-packages\\torch\\utils\\_contextlib.py:116\u001b[0m, in \u001b[0;36mcontext_decorator.<locals>.decorate_context\u001b[1;34m(*args, **kwargs)\u001b[0m\n\u001b[0;32m    113\u001b[0m \u001b[38;5;129m@functools\u001b[39m\u001b[38;5;241m.\u001b[39mwraps(func)\n\u001b[0;32m    114\u001b[0m \u001b[38;5;28;01mdef\u001b[39;00m\u001b[38;5;250m \u001b[39m\u001b[38;5;21mdecorate_context\u001b[39m(\u001b[38;5;241m*\u001b[39margs, \u001b[38;5;241m*\u001b[39m\u001b[38;5;241m*\u001b[39mkwargs):\n\u001b[0;32m    115\u001b[0m     \u001b[38;5;28;01mwith\u001b[39;00m ctx_factory():\n\u001b[1;32m--> 116\u001b[0m         \u001b[38;5;28;01mreturn\u001b[39;00m func(\u001b[38;5;241m*\u001b[39margs, \u001b[38;5;241m*\u001b[39m\u001b[38;5;241m*\u001b[39mkwargs)\n",
      "File \u001b[1;32m~\\.conda\\envs\\carla-sim\\lib\\site-packages\\ultralytics\\utils\\tal.py:74\u001b[0m, in \u001b[0;36mTaskAlignedAssigner.forward\u001b[1;34m(self, pd_scores, pd_bboxes, anc_points, gt_labels, gt_bboxes, mask_gt)\u001b[0m\n\u001b[0;32m     65\u001b[0m     \u001b[38;5;28;01mreturn\u001b[39;00m (\n\u001b[0;32m     66\u001b[0m         torch\u001b[38;5;241m.\u001b[39mfull_like(pd_scores[\u001b[38;5;241m.\u001b[39m\u001b[38;5;241m.\u001b[39m\u001b[38;5;241m.\u001b[39m, \u001b[38;5;241m0\u001b[39m], \u001b[38;5;28mself\u001b[39m\u001b[38;5;241m.\u001b[39mbg_idx),\n\u001b[0;32m     67\u001b[0m         torch\u001b[38;5;241m.\u001b[39mzeros_like(pd_bboxes),\n\u001b[1;32m   (...)\u001b[0m\n\u001b[0;32m     70\u001b[0m         torch\u001b[38;5;241m.\u001b[39mzeros_like(pd_scores[\u001b[38;5;241m.\u001b[39m\u001b[38;5;241m.\u001b[39m\u001b[38;5;241m.\u001b[39m, \u001b[38;5;241m0\u001b[39m]),\n\u001b[0;32m     71\u001b[0m     )\n\u001b[0;32m     73\u001b[0m \u001b[38;5;28;01mtry\u001b[39;00m:\n\u001b[1;32m---> 74\u001b[0m     \u001b[38;5;28;01mreturn\u001b[39;00m \u001b[38;5;28;43mself\u001b[39;49m\u001b[38;5;241;43m.\u001b[39;49m\u001b[43m_forward\u001b[49m\u001b[43m(\u001b[49m\u001b[43mpd_scores\u001b[49m\u001b[43m,\u001b[49m\u001b[43m \u001b[49m\u001b[43mpd_bboxes\u001b[49m\u001b[43m,\u001b[49m\u001b[43m \u001b[49m\u001b[43manc_points\u001b[49m\u001b[43m,\u001b[49m\u001b[43m \u001b[49m\u001b[43mgt_labels\u001b[49m\u001b[43m,\u001b[49m\u001b[43m \u001b[49m\u001b[43mgt_bboxes\u001b[49m\u001b[43m,\u001b[49m\u001b[43m \u001b[49m\u001b[43mmask_gt\u001b[49m\u001b[43m)\u001b[49m\n\u001b[0;32m     75\u001b[0m \u001b[38;5;28;01mexcept\u001b[39;00m torch\u001b[38;5;241m.\u001b[39mOutOfMemoryError:\n\u001b[0;32m     76\u001b[0m     \u001b[38;5;66;03m# Move tensors to CPU, compute, then move back to original device\u001b[39;00m\n\u001b[0;32m     77\u001b[0m     LOGGER\u001b[38;5;241m.\u001b[39mwarning(\u001b[38;5;124m\"\u001b[39m\u001b[38;5;124mWARNING: CUDA OutOfMemoryError in TaskAlignedAssigner, using CPU\u001b[39m\u001b[38;5;124m\"\u001b[39m)\n",
      "File \u001b[1;32m~\\.conda\\envs\\carla-sim\\lib\\site-packages\\ultralytics\\utils\\tal.py:102\u001b[0m, in \u001b[0;36mTaskAlignedAssigner._forward\u001b[1;34m(self, pd_scores, pd_bboxes, anc_points, gt_labels, gt_bboxes, mask_gt)\u001b[0m\n\u001b[0;32m     82\u001b[0m \u001b[38;5;28;01mdef\u001b[39;00m\u001b[38;5;250m \u001b[39m\u001b[38;5;21m_forward\u001b[39m(\u001b[38;5;28mself\u001b[39m, pd_scores, pd_bboxes, anc_points, gt_labels, gt_bboxes, mask_gt):\n\u001b[0;32m     83\u001b[0m \u001b[38;5;250m    \u001b[39m\u001b[38;5;124;03m\"\"\"\u001b[39;00m\n\u001b[0;32m     84\u001b[0m \u001b[38;5;124;03m    Compute the task-aligned assignment. Reference code is available at\u001b[39;00m\n\u001b[0;32m     85\u001b[0m \u001b[38;5;124;03m    https://github.com/Nioolek/PPYOLOE_pytorch/blob/master/ppyoloe/assigner/tal_assigner.py.\u001b[39;00m\n\u001b[1;32m   (...)\u001b[0m\n\u001b[0;32m    100\u001b[0m \u001b[38;5;124;03m        target_gt_idx (Tensor): shape(bs, num_total_anchors)\u001b[39;00m\n\u001b[0;32m    101\u001b[0m \u001b[38;5;124;03m    \"\"\"\u001b[39;00m\n\u001b[1;32m--> 102\u001b[0m     mask_pos, align_metric, overlaps \u001b[38;5;241m=\u001b[39m \u001b[38;5;28;43mself\u001b[39;49m\u001b[38;5;241;43m.\u001b[39;49m\u001b[43mget_pos_mask\u001b[49m\u001b[43m(\u001b[49m\n\u001b[0;32m    103\u001b[0m \u001b[43m        \u001b[49m\u001b[43mpd_scores\u001b[49m\u001b[43m,\u001b[49m\u001b[43m \u001b[49m\u001b[43mpd_bboxes\u001b[49m\u001b[43m,\u001b[49m\u001b[43m \u001b[49m\u001b[43mgt_labels\u001b[49m\u001b[43m,\u001b[49m\u001b[43m \u001b[49m\u001b[43mgt_bboxes\u001b[49m\u001b[43m,\u001b[49m\u001b[43m \u001b[49m\u001b[43manc_points\u001b[49m\u001b[43m,\u001b[49m\u001b[43m \u001b[49m\u001b[43mmask_gt\u001b[49m\n\u001b[0;32m    104\u001b[0m \u001b[43m    \u001b[49m\u001b[43m)\u001b[49m\n\u001b[0;32m    106\u001b[0m     target_gt_idx, fg_mask, mask_pos \u001b[38;5;241m=\u001b[39m \u001b[38;5;28mself\u001b[39m\u001b[38;5;241m.\u001b[39mselect_highest_overlaps(mask_pos, overlaps, \u001b[38;5;28mself\u001b[39m\u001b[38;5;241m.\u001b[39mn_max_boxes)\n\u001b[0;32m    108\u001b[0m     \u001b[38;5;66;03m# Assigned target\u001b[39;00m\n",
      "File \u001b[1;32m~\\.conda\\envs\\carla-sim\\lib\\site-packages\\ultralytics\\utils\\tal.py:124\u001b[0m, in \u001b[0;36mTaskAlignedAssigner.get_pos_mask\u001b[1;34m(self, pd_scores, pd_bboxes, gt_labels, gt_bboxes, anc_points, mask_gt)\u001b[0m\n\u001b[0;32m    122\u001b[0m mask_in_gts \u001b[38;5;241m=\u001b[39m \u001b[38;5;28mself\u001b[39m\u001b[38;5;241m.\u001b[39mselect_candidates_in_gts(anc_points, gt_bboxes)\n\u001b[0;32m    123\u001b[0m \u001b[38;5;66;03m# Get anchor_align metric, (b, max_num_obj, h*w)\u001b[39;00m\n\u001b[1;32m--> 124\u001b[0m align_metric, overlaps \u001b[38;5;241m=\u001b[39m \u001b[38;5;28;43mself\u001b[39;49m\u001b[38;5;241;43m.\u001b[39;49m\u001b[43mget_box_metrics\u001b[49m\u001b[43m(\u001b[49m\u001b[43mpd_scores\u001b[49m\u001b[43m,\u001b[49m\u001b[43m \u001b[49m\u001b[43mpd_bboxes\u001b[49m\u001b[43m,\u001b[49m\u001b[43m \u001b[49m\u001b[43mgt_labels\u001b[49m\u001b[43m,\u001b[49m\u001b[43m \u001b[49m\u001b[43mgt_bboxes\u001b[49m\u001b[43m,\u001b[49m\u001b[43m \u001b[49m\u001b[43mmask_in_gts\u001b[49m\u001b[43m \u001b[49m\u001b[38;5;241;43m*\u001b[39;49m\u001b[43m \u001b[49m\u001b[43mmask_gt\u001b[49m\u001b[43m)\u001b[49m\n\u001b[0;32m    125\u001b[0m \u001b[38;5;66;03m# Get topk_metric mask, (b, max_num_obj, h*w)\u001b[39;00m\n\u001b[0;32m    126\u001b[0m mask_topk \u001b[38;5;241m=\u001b[39m \u001b[38;5;28mself\u001b[39m\u001b[38;5;241m.\u001b[39mselect_topk_candidates(align_metric, topk_mask\u001b[38;5;241m=\u001b[39mmask_gt\u001b[38;5;241m.\u001b[39mexpand(\u001b[38;5;241m-\u001b[39m\u001b[38;5;241m1\u001b[39m, \u001b[38;5;241m-\u001b[39m\u001b[38;5;241m1\u001b[39m, \u001b[38;5;28mself\u001b[39m\u001b[38;5;241m.\u001b[39mtopk)\u001b[38;5;241m.\u001b[39mbool())\n",
      "File \u001b[1;32m~\\.conda\\envs\\carla-sim\\lib\\site-packages\\ultralytics\\utils\\tal.py:146\u001b[0m, in \u001b[0;36mTaskAlignedAssigner.get_box_metrics\u001b[1;34m(self, pd_scores, pd_bboxes, gt_labels, gt_bboxes, mask_gt)\u001b[0m\n\u001b[0;32m    143\u001b[0m bbox_scores[mask_gt] \u001b[38;5;241m=\u001b[39m pd_scores[ind[\u001b[38;5;241m0\u001b[39m], :, ind[\u001b[38;5;241m1\u001b[39m]][mask_gt]  \u001b[38;5;66;03m# b, max_num_obj, h*w\u001b[39;00m\n\u001b[0;32m    145\u001b[0m \u001b[38;5;66;03m# (b, max_num_obj, 1, 4), (b, 1, h*w, 4)\u001b[39;00m\n\u001b[1;32m--> 146\u001b[0m pd_boxes \u001b[38;5;241m=\u001b[39m \u001b[43mpd_bboxes\u001b[49m\u001b[38;5;241;43m.\u001b[39;49m\u001b[43munsqueeze\u001b[49m\u001b[43m(\u001b[49m\u001b[38;5;241;43m1\u001b[39;49m\u001b[43m)\u001b[49m\u001b[38;5;241m.\u001b[39mexpand(\u001b[38;5;241m-\u001b[39m\u001b[38;5;241m1\u001b[39m, \u001b[38;5;28mself\u001b[39m\u001b[38;5;241m.\u001b[39mn_max_boxes, \u001b[38;5;241m-\u001b[39m\u001b[38;5;241m1\u001b[39m, \u001b[38;5;241m-\u001b[39m\u001b[38;5;241m1\u001b[39m)[mask_gt]\n\u001b[0;32m    147\u001b[0m gt_boxes \u001b[38;5;241m=\u001b[39m gt_bboxes\u001b[38;5;241m.\u001b[39munsqueeze(\u001b[38;5;241m2\u001b[39m)\u001b[38;5;241m.\u001b[39mexpand(\u001b[38;5;241m-\u001b[39m\u001b[38;5;241m1\u001b[39m, \u001b[38;5;241m-\u001b[39m\u001b[38;5;241m1\u001b[39m, na, \u001b[38;5;241m-\u001b[39m\u001b[38;5;241m1\u001b[39m)[mask_gt]\n\u001b[0;32m    148\u001b[0m overlaps[mask_gt] \u001b[38;5;241m=\u001b[39m \u001b[38;5;28mself\u001b[39m\u001b[38;5;241m.\u001b[39miou_calculation(gt_boxes, pd_boxes)\n",
      "\u001b[1;31mKeyboardInterrupt\u001b[0m: "
     ]
    }
   ],
   "source": [
    " # Resume Training:\n",
    "from ultralytics import YOLO\n",
    "\n",
    "# Load the pre-trained model for fine-tuning\n",
    "model = YOLO(\"C:/Users/okeiy/OneDrive - University of Salford/Documents/Sch Notes/Dissertation/Codes/Dataset/Yolo/bdd100k/runs/detect/train/weights/last.pt\")\n",
    "             \n",
    "# Fine-tune the model and enable resume functionality\n",
    "results = model.train(\n",
    "    data=\"C:/Users/okeiy/OneDrive - University of Salford/Documents/Sch Notes/Dissertation/Codes/Dataset/Yolo/bdd100k/data.yaml\",\n",
    "    epochs=100,\n",
    "    batch=16,\n",
    "    imgsz=640,\n",
    "    resume=True\n",
    ")"
   ]
  },
  {
   "cell_type": "code",
   "execution_count": 1,
   "id": "015f9835-66b0-411b-8650-d046b14052a2",
   "metadata": {
    "scrolled": true
   },
   "outputs": [
    {
     "name": "stdout",
     "output_type": "stream",
     "text": [
      "New https://pypi.org/project/ultralytics/8.3.78 available  Update with 'pip install -U ultralytics'\n",
      "Ultralytics 8.3.74  Python-3.10.16 torch-2.5.1 CUDA:0 (NVIDIA GeForce RTX 4060 Laptop GPU, 8188MiB)\n",
      "\u001b[34m\u001b[1mengine\\trainer: \u001b[0mtask=detect, mode=train, model=C:\\Users\\okeiy\\OneDrive - University of Salford\\Documents\\Sch Notes\\Dissertation\\Codes\\Dataset\\Yolo\\bdd100k\\runs\\detect\\train\\weights\\last.pt, data=C:/Users/okeiy/OneDrive - University of Salford/Documents/Sch Notes/Dissertation/Codes/Dataset/Yolo/bdd100k/data.yaml, epochs=100, time=None, patience=100, batch=16, imgsz=640, save=True, save_period=-1, cache=False, device=None, workers=8, project=None, name=train, exist_ok=False, pretrained=True, optimizer=auto, verbose=True, seed=0, deterministic=True, single_cls=False, rect=False, cos_lr=False, close_mosaic=10, resume=C:\\Users\\okeiy\\OneDrive - University of Salford\\Documents\\Sch Notes\\Dissertation\\Codes\\Dataset\\Yolo\\bdd100k\\runs\\detect\\train\\weights\\last.pt, amp=True, fraction=1.0, profile=False, freeze=None, multi_scale=False, overlap_mask=True, mask_ratio=4, dropout=0.0, val=True, split=val, save_json=False, save_hybrid=False, conf=None, iou=0.7, max_det=300, half=False, dnn=False, plots=True, source=None, vid_stride=1, stream_buffer=False, visualize=False, augment=False, agnostic_nms=False, classes=None, retina_masks=False, embed=None, show=False, save_frames=False, save_txt=False, save_conf=False, save_crop=False, show_labels=True, show_conf=True, show_boxes=True, line_width=None, format=torchscript, keras=False, optimize=False, int8=False, dynamic=False, simplify=True, opset=None, workspace=None, nms=False, lr0=0.01, lrf=0.01, momentum=0.937, weight_decay=0.0005, warmup_epochs=3.0, warmup_momentum=0.8, warmup_bias_lr=0.0, box=7.5, cls=0.5, dfl=1.5, pose=12.0, kobj=1.0, nbs=64, hsv_h=0.015, hsv_s=0.7, hsv_v=0.4, degrees=0.0, translate=0.1, scale=0.5, shear=0.0, perspective=0.0, flipud=0.0, fliplr=0.5, bgr=0.0, mosaic=1.0, mixup=0.0, copy_paste=0.0, copy_paste_mode=flip, auto_augment=randaugment, erasing=0.4, crop_fraction=1.0, cfg=None, tracker=botsort.yaml, save_dir=runs\\detect\\train\n",
      "\n",
      "                   from  n    params  module                                       arguments                     \n",
      "  0                  -1  1       464  ultralytics.nn.modules.conv.Conv             [3, 16, 3, 2]                 \n",
      "  1                  -1  1      4672  ultralytics.nn.modules.conv.Conv             [16, 32, 3, 2]                \n",
      "  2                  -1  1      6640  ultralytics.nn.modules.block.C3k2            [32, 64, 1, False, 0.25]      \n",
      "  3                  -1  1     36992  ultralytics.nn.modules.conv.Conv             [64, 64, 3, 2]                \n",
      "  4                  -1  1     26080  ultralytics.nn.modules.block.C3k2            [64, 128, 1, False, 0.25]     \n",
      "  5                  -1  1    147712  ultralytics.nn.modules.conv.Conv             [128, 128, 3, 2]              \n",
      "  6                  -1  1     87040  ultralytics.nn.modules.block.C3k2            [128, 128, 1, True]           \n",
      "  7                  -1  1    295424  ultralytics.nn.modules.conv.Conv             [128, 256, 3, 2]              \n",
      "  8                  -1  1    346112  ultralytics.nn.modules.block.C3k2            [256, 256, 1, True]           \n",
      "  9                  -1  1    164608  ultralytics.nn.modules.block.SPPF            [256, 256, 5]                 \n",
      " 10                  -1  1    249728  ultralytics.nn.modules.block.C2PSA           [256, 256, 1]                 \n",
      " 11                  -1  1         0  torch.nn.modules.upsampling.Upsample         [None, 2, 'nearest']          \n",
      " 12             [-1, 6]  1         0  ultralytics.nn.modules.conv.Concat           [1]                           \n",
      " 13                  -1  1    111296  ultralytics.nn.modules.block.C3k2            [384, 128, 1, False]          \n",
      " 14                  -1  1         0  torch.nn.modules.upsampling.Upsample         [None, 2, 'nearest']          \n",
      " 15             [-1, 4]  1         0  ultralytics.nn.modules.conv.Concat           [1]                           \n",
      " 16                  -1  1     32096  ultralytics.nn.modules.block.C3k2            [256, 64, 1, False]           \n",
      " 17                  -1  1     36992  ultralytics.nn.modules.conv.Conv             [64, 64, 3, 2]                \n",
      " 18            [-1, 13]  1         0  ultralytics.nn.modules.conv.Concat           [1]                           \n",
      " 19                  -1  1     86720  ultralytics.nn.modules.block.C3k2            [192, 128, 1, False]          \n",
      " 20                  -1  1    147712  ultralytics.nn.modules.conv.Conv             [128, 128, 3, 2]              \n",
      " 21            [-1, 10]  1         0  ultralytics.nn.modules.conv.Concat           [1]                           \n",
      " 22                  -1  1    378880  ultralytics.nn.modules.block.C3k2            [384, 256, 1, True]           \n",
      " 23        [16, 19, 22]  1    432622  ultralytics.nn.modules.head.Detect           [10, [64, 128, 256]]          \n",
      "YOLO11n summary: 319 layers, 2,591,790 parameters, 2,591,774 gradients, 6.5 GFLOPs\n",
      "\n",
      "Transferred 499/499 items from pretrained weights\n",
      "Freezing layer 'model.23.dfl.conv.weight'\n",
      "\u001b[34m\u001b[1mAMP: \u001b[0mrunning Automatic Mixed Precision (AMP) checks...\n",
      "\u001b[34m\u001b[1mAMP: \u001b[0mchecks passed \n"
     ]
    },
    {
     "name": "stderr",
     "output_type": "stream",
     "text": [
      "\u001b[34m\u001b[1mtrain: \u001b[0mScanning C:\\Users\\okeiy\\OneDrive - University of Salford\\Documents\\Sch Notes\\Dissertation\\Codes\\Dataset\\Yolo\\bdd\u001b[0m"
     ]
    },
    {
     "name": "stdout",
     "output_type": "stream",
     "text": [
      "\u001b[34m\u001b[1mtrain: \u001b[0mWARNING  C:\\Users\\okeiy\\OneDrive - University of Salford\\Documents\\Sch Notes\\Dissertation\\Codes\\Dataset\\Yolo\\bdd100k\\train\\images\\75055858-7d04a650.jpg: 1 duplicate labels removed\n",
      "\u001b[34m\u001b[1mtrain: \u001b[0mWARNING  C:\\Users\\okeiy\\OneDrive - University of Salford\\Documents\\Sch Notes\\Dissertation\\Codes\\Dataset\\Yolo\\bdd100k\\train\\images\\8b94691f-0b47c5c3.jpg: 1 duplicate labels removed\n"
     ]
    },
    {
     "name": "stderr",
     "output_type": "stream",
     "text": [
      "\n",
      "\u001b[34m\u001b[1mval: \u001b[0mScanning C:\\Users\\okeiy\\OneDrive - University of Salford\\Documents\\Sch Notes\\Dissertation\\Codes\\Dataset\\Yolo\\bdd10\u001b[0m\n"
     ]
    },
    {
     "name": "stdout",
     "output_type": "stream",
     "text": [
      "Plotting labels to runs\\detect\\train\\labels.jpg... \n",
      "\u001b[34m\u001b[1moptimizer:\u001b[0m 'optimizer=auto' found, ignoring 'lr0=0.01' and 'momentum=0.937' and determining best 'optimizer', 'lr0' and 'momentum' automatically... \n",
      "\u001b[34m\u001b[1moptimizer:\u001b[0m SGD(lr=0.01, momentum=0.9) with parameter groups 81 weight(decay=0.0), 88 weight(decay=0.0005), 87 bias(decay=0.0)\n",
      "Resuming training C:\\Users\\okeiy\\OneDrive - University of Salford\\Documents\\Sch Notes\\Dissertation\\Codes\\Dataset\\Yolo\\bdd100k\\runs\\detect\\train\\weights\\last.pt from epoch 52 to 100 total epochs\n",
      "Image sizes 640 train, 640 val\n",
      "Using 8 dataloader workers\n",
      "Logging results to \u001b[1mruns\\detect\\train\u001b[0m\n",
      "Starting training for 100 epochs...\n",
      "\n",
      "      Epoch    GPU_mem   box_loss   cls_loss   dfl_loss  Instances       Size\n"
     ]
    },
    {
     "name": "stderr",
     "output_type": "stream",
     "text": [
      "     52/100      4.56G       1.32     0.8125     0.9752        519        640: 100%|██████████| 4375/4375 [19:58<00:00,\n",
      "                 Class     Images  Instances      Box(P          R      mAP50  mAP50-95): 100%|██████████| 313/313 [01:\n"
     ]
    },
    {
     "name": "stdout",
     "output_type": "stream",
     "text": [
      "                   all      10000     185526      0.656      0.388      0.423      0.234\n",
      "\n",
      "      Epoch    GPU_mem   box_loss   cls_loss   dfl_loss  Instances       Size\n"
     ]
    },
    {
     "name": "stderr",
     "output_type": "stream",
     "text": [
      "     53/100      5.59G      1.324     0.8177      0.977        327        640: 100%|██████████| 4375/4375 [19:07<00:00,\n",
      "                 Class     Images  Instances      Box(P          R      mAP50  mAP50-95): 100%|██████████| 313/313 [01:\n"
     ]
    },
    {
     "name": "stdout",
     "output_type": "stream",
     "text": [
      "                   all      10000     185526      0.656       0.39      0.424      0.234\n",
      "\n",
      "      Epoch    GPU_mem   box_loss   cls_loss   dfl_loss  Instances       Size\n"
     ]
    },
    {
     "name": "stderr",
     "output_type": "stream",
     "text": [
      "     54/100      4.57G      1.325     0.8182     0.9777        499        640: 100%|██████████| 4375/4375 [18:59<00:00,\n",
      "                 Class     Images  Instances      Box(P          R      mAP50  mAP50-95): 100%|██████████| 313/313 [02:\n"
     ]
    },
    {
     "name": "stdout",
     "output_type": "stream",
     "text": [
      "                   all      10000     185526      0.658      0.389      0.425      0.234\n",
      "\n",
      "      Epoch    GPU_mem   box_loss   cls_loss   dfl_loss  Instances       Size\n"
     ]
    },
    {
     "name": "stderr",
     "output_type": "stream",
     "text": [
      "     55/100      4.65G      1.323     0.8163     0.9763        616        640: 100%|██████████| 4375/4375 [18:55<00:00,\n",
      "                 Class     Images  Instances      Box(P          R      mAP50  mAP50-95): 100%|██████████| 313/313 [01:\n"
     ]
    },
    {
     "name": "stdout",
     "output_type": "stream",
     "text": [
      "                   all      10000     185526      0.654      0.389      0.425      0.235\n",
      "\n",
      "      Epoch    GPU_mem   box_loss   cls_loss   dfl_loss  Instances       Size\n"
     ]
    },
    {
     "name": "stderr",
     "output_type": "stream",
     "text": [
      "     56/100       4.1G      1.321     0.8133     0.9759        622        640: 100%|██████████| 4375/4375 [19:17<00:00,\n",
      "                 Class     Images  Instances      Box(P          R      mAP50  mAP50-95): 100%|██████████| 313/313 [01:\n"
     ]
    },
    {
     "name": "stdout",
     "output_type": "stream",
     "text": [
      "                   all      10000     185526      0.655       0.39      0.425      0.235\n",
      "\n",
      "      Epoch    GPU_mem   box_loss   cls_loss   dfl_loss  Instances       Size\n"
     ]
    },
    {
     "name": "stderr",
     "output_type": "stream",
     "text": [
      "     57/100      4.99G      1.322     0.8147      0.976        510        640: 100%|██████████| 4375/4375 [18:27<00:00,\n",
      "                 Class     Images  Instances      Box(P          R      mAP50  mAP50-95): 100%|██████████| 313/313 [01:\n"
     ]
    },
    {
     "name": "stdout",
     "output_type": "stream",
     "text": [
      "                   all      10000     185526      0.656       0.39      0.426      0.235\n",
      "\n",
      "      Epoch    GPU_mem   box_loss   cls_loss   dfl_loss  Instances       Size\n"
     ]
    },
    {
     "name": "stderr",
     "output_type": "stream",
     "text": [
      "     58/100      4.57G      1.321     0.8143     0.9753        630        640: 100%|██████████| 4375/4375 [18:22<00:00,\n",
      "                 Class     Images  Instances      Box(P          R      mAP50  mAP50-95): 100%|██████████| 313/313 [01:\n"
     ]
    },
    {
     "name": "stdout",
     "output_type": "stream",
     "text": [
      "                   all      10000     185526      0.657      0.391      0.426      0.235\n",
      "\n",
      "      Epoch    GPU_mem   box_loss   cls_loss   dfl_loss  Instances       Size\n"
     ]
    },
    {
     "name": "stderr",
     "output_type": "stream",
     "text": [
      "     59/100      3.89G      1.321     0.8118     0.9753        622        640: 100%|██████████| 4375/4375 [18:35<00:00,\n",
      "                 Class     Images  Instances      Box(P          R      mAP50  mAP50-95): 100%|██████████| 313/313 [01:\n"
     ]
    },
    {
     "name": "stdout",
     "output_type": "stream",
     "text": [
      "                   all      10000     185526      0.658       0.39      0.427      0.236\n",
      "\n",
      "      Epoch    GPU_mem   box_loss   cls_loss   dfl_loss  Instances       Size\n"
     ]
    },
    {
     "name": "stderr",
     "output_type": "stream",
     "text": [
      "     60/100      4.94G      1.318     0.8112     0.9747        437        640: 100%|██████████| 4375/4375 [18:45<00:00,\n",
      "                 Class     Images  Instances      Box(P          R      mAP50  mAP50-95): 100%|██████████| 313/313 [01:\n"
     ]
    },
    {
     "name": "stdout",
     "output_type": "stream",
     "text": [
      "                   all      10000     185526      0.663      0.388      0.427      0.236\n",
      "\n",
      "      Epoch    GPU_mem   box_loss   cls_loss   dfl_loss  Instances       Size\n"
     ]
    },
    {
     "name": "stderr",
     "output_type": "stream",
     "text": [
      "     61/100      5.39G      1.317     0.8104     0.9733        510        640: 100%|██████████| 4375/4375 [19:22<00:00,\n",
      "                 Class     Images  Instances      Box(P          R      mAP50  mAP50-95): 100%|██████████| 313/313 [02:\n"
     ]
    },
    {
     "name": "stdout",
     "output_type": "stream",
     "text": [
      "                   all      10000     185526      0.662      0.389      0.428      0.236\n",
      "\n",
      "      Epoch    GPU_mem   box_loss   cls_loss   dfl_loss  Instances       Size\n"
     ]
    },
    {
     "name": "stderr",
     "output_type": "stream",
     "text": [
      "     62/100      3.74G      1.318     0.8089     0.9736        527        640: 100%|██████████| 4375/4375 [19:32<00:00,\n",
      "                 Class     Images  Instances      Box(P          R      mAP50  mAP50-95): 100%|██████████| 313/313 [02:\n"
     ]
    },
    {
     "name": "stdout",
     "output_type": "stream",
     "text": [
      "                   all      10000     185526       0.66      0.389      0.429      0.237\n",
      "\n",
      "      Epoch    GPU_mem   box_loss   cls_loss   dfl_loss  Instances       Size\n"
     ]
    },
    {
     "name": "stderr",
     "output_type": "stream",
     "text": [
      "     63/100      3.54G      1.313     0.8057     0.9729        555        640: 100%|██████████| 4375/4375 [20:29<00:00,\n",
      "                 Class     Images  Instances      Box(P          R      mAP50  mAP50-95): 100%|██████████| 313/313 [01:\n"
     ]
    },
    {
     "name": "stdout",
     "output_type": "stream",
     "text": [
      "                   all      10000     185526      0.659       0.39      0.429      0.237\n",
      "\n",
      "      Epoch    GPU_mem   box_loss   cls_loss   dfl_loss  Instances       Size\n"
     ]
    },
    {
     "name": "stderr",
     "output_type": "stream",
     "text": [
      "     64/100      4.06G      1.315     0.8072     0.9737        377        640: 100%|██████████| 4375/4375 [21:28<00:00,\n",
      "                 Class     Images  Instances      Box(P          R      mAP50  mAP50-95): 100%|██████████| 313/313 [01:\n"
     ]
    },
    {
     "name": "stdout",
     "output_type": "stream",
     "text": [
      "                   all      10000     185526      0.658      0.392      0.429      0.237\n",
      "\n",
      "      Epoch    GPU_mem   box_loss   cls_loss   dfl_loss  Instances       Size\n"
     ]
    },
    {
     "name": "stderr",
     "output_type": "stream",
     "text": [
      "     65/100      4.88G      1.314     0.8064     0.9726        451        640: 100%|██████████| 4375/4375 [20:32<00:00,\n",
      "                 Class     Images  Instances      Box(P          R      mAP50  mAP50-95): 100%|██████████| 313/313 [01:\n"
     ]
    },
    {
     "name": "stdout",
     "output_type": "stream",
     "text": [
      "                   all      10000     185526      0.658      0.393       0.43      0.238\n",
      "\n",
      "      Epoch    GPU_mem   box_loss   cls_loss   dfl_loss  Instances       Size\n"
     ]
    },
    {
     "name": "stderr",
     "output_type": "stream",
     "text": [
      "     66/100      5.07G      1.311     0.8035     0.9724        560        640: 100%|██████████| 4375/4375 [23:27<00:00,\n",
      "                 Class     Images  Instances      Box(P          R      mAP50  mAP50-95): 100%|██████████| 313/313 [04:\n"
     ]
    },
    {
     "name": "stdout",
     "output_type": "stream",
     "text": [
      "                   all      10000     185526      0.659      0.393       0.43      0.238\n",
      "\n",
      "      Epoch    GPU_mem   box_loss   cls_loss   dfl_loss  Instances       Size\n"
     ]
    },
    {
     "name": "stderr",
     "output_type": "stream",
     "text": [
      "     67/100      4.81G      1.311     0.8019     0.9719        359        640: 100%|██████████| 4375/4375 [23:57<00:00,\n",
      "                 Class     Images  Instances      Box(P          R      mAP50  mAP50-95): 100%|██████████| 313/313 [01:\n"
     ]
    },
    {
     "name": "stdout",
     "output_type": "stream",
     "text": [
      "                   all      10000     185526      0.656      0.394      0.431      0.238\n",
      "\n",
      "      Epoch    GPU_mem   box_loss   cls_loss   dfl_loss  Instances       Size\n"
     ]
    },
    {
     "name": "stderr",
     "output_type": "stream",
     "text": [
      "     68/100      5.05G       1.31     0.8033     0.9712        567        640: 100%|██████████| 4375/4375 [18:29<00:00,\n",
      "                 Class     Images  Instances      Box(P          R      mAP50  mAP50-95): 100%|██████████| 313/313 [01:\n"
     ]
    },
    {
     "name": "stdout",
     "output_type": "stream",
     "text": [
      "                   all      10000     185526      0.656      0.394      0.431      0.239\n",
      "\n",
      "      Epoch    GPU_mem   box_loss   cls_loss   dfl_loss  Instances       Size\n"
     ]
    },
    {
     "name": "stderr",
     "output_type": "stream",
     "text": [
      "     69/100      4.83G      1.309     0.8021     0.9712        590        640: 100%|██████████| 4375/4375 [19:48<00:00,\n",
      "                 Class     Images  Instances      Box(P          R      mAP50  mAP50-95): 100%|██████████| 313/313 [01:\n"
     ]
    },
    {
     "name": "stdout",
     "output_type": "stream",
     "text": [
      "                   all      10000     185526      0.658      0.392      0.432      0.239\n",
      "\n",
      "      Epoch    GPU_mem   box_loss   cls_loss   dfl_loss  Instances       Size\n"
     ]
    },
    {
     "name": "stderr",
     "output_type": "stream",
     "text": [
      "     70/100      4.67G      1.305     0.7985     0.9704        601        640: 100%|██████████| 4375/4375 [18:22<00:00,\n",
      "                 Class     Images  Instances      Box(P          R      mAP50  mAP50-95): 100%|██████████| 313/313 [01:\n"
     ]
    },
    {
     "name": "stdout",
     "output_type": "stream",
     "text": [
      "                   all      10000     185526      0.657      0.395      0.433       0.24\n",
      "\n",
      "      Epoch    GPU_mem   box_loss   cls_loss   dfl_loss  Instances       Size\n"
     ]
    },
    {
     "name": "stderr",
     "output_type": "stream",
     "text": [
      "     71/100      4.14G      1.305      0.797       0.97        506        640: 100%|██████████| 4375/4375 [17:56<00:00,\n",
      "                 Class     Images  Instances      Box(P          R      mAP50  mAP50-95): 100%|██████████| 313/313 [01:\n"
     ]
    },
    {
     "name": "stdout",
     "output_type": "stream",
     "text": [
      "                   all      10000     185526      0.656      0.397      0.434       0.24\n",
      "\n",
      "      Epoch    GPU_mem   box_loss   cls_loss   dfl_loss  Instances       Size\n"
     ]
    },
    {
     "name": "stderr",
     "output_type": "stream",
     "text": [
      "     72/100      4.72G      1.305     0.7963     0.9697        607        640: 100%|██████████| 4375/4375 [17:56<00:00,\n",
      "                 Class     Images  Instances      Box(P          R      mAP50  mAP50-95): 100%|██████████| 313/313 [01:\n"
     ]
    },
    {
     "name": "stdout",
     "output_type": "stream",
     "text": [
      "                   all      10000     185526      0.659      0.397      0.434      0.241\n",
      "\n",
      "      Epoch    GPU_mem   box_loss   cls_loss   dfl_loss  Instances       Size\n"
     ]
    },
    {
     "name": "stderr",
     "output_type": "stream",
     "text": [
      "     73/100      4.34G      1.303     0.7936     0.9684        457        640: 100%|██████████| 4375/4375 [18:03<00:00,\n",
      "                 Class     Images  Instances      Box(P          R      mAP50  mAP50-95): 100%|██████████| 313/313 [01:\n"
     ]
    },
    {
     "name": "stdout",
     "output_type": "stream",
     "text": [
      "                   all      10000     185526      0.659      0.397      0.435      0.241\n",
      "\n",
      "      Epoch    GPU_mem   box_loss   cls_loss   dfl_loss  Instances       Size\n"
     ]
    },
    {
     "name": "stderr",
     "output_type": "stream",
     "text": [
      "     74/100      4.89G      1.302     0.7924     0.9682        552        640: 100%|██████████| 4375/4375 [18:03<00:00,\n",
      "                 Class     Images  Instances      Box(P          R      mAP50  mAP50-95): 100%|██████████| 313/313 [01:\n"
     ]
    },
    {
     "name": "stdout",
     "output_type": "stream",
     "text": [
      "                   all      10000     185526      0.661      0.397      0.435      0.241\n",
      "\n",
      "      Epoch    GPU_mem   box_loss   cls_loss   dfl_loss  Instances       Size\n"
     ]
    },
    {
     "name": "stderr",
     "output_type": "stream",
     "text": [
      "     75/100      4.32G      1.301     0.7916     0.9677        444        640: 100%|██████████| 4375/4375 [17:51<00:00,\n",
      "                 Class     Images  Instances      Box(P          R      mAP50  mAP50-95): 100%|██████████| 313/313 [01:\n"
     ]
    },
    {
     "name": "stdout",
     "output_type": "stream",
     "text": [
      "                   all      10000     185526      0.666      0.397      0.436      0.241\n",
      "\n",
      "      Epoch    GPU_mem   box_loss   cls_loss   dfl_loss  Instances       Size\n"
     ]
    },
    {
     "name": "stderr",
     "output_type": "stream",
     "text": [
      "     76/100       4.1G      1.299     0.7891     0.9665        438        640: 100%|██████████| 4375/4375 [18:09<00:00,\n",
      "                 Class     Images  Instances      Box(P          R      mAP50  mAP50-95): 100%|██████████| 313/313 [01:\n"
     ]
    },
    {
     "name": "stdout",
     "output_type": "stream",
     "text": [
      "                   all      10000     185526      0.662      0.399      0.436      0.242\n",
      "\n",
      "      Epoch    GPU_mem   box_loss   cls_loss   dfl_loss  Instances       Size\n"
     ]
    },
    {
     "name": "stderr",
     "output_type": "stream",
     "text": [
      "     77/100      4.97G      1.297     0.7875     0.9665        459        640: 100%|██████████| 4375/4375 [18:36<00:00,\n",
      "                 Class     Images  Instances      Box(P          R      mAP50  mAP50-95): 100%|██████████| 313/313 [01:\n"
     ]
    },
    {
     "name": "stdout",
     "output_type": "stream",
     "text": [
      "                   all      10000     185526      0.665      0.397      0.437      0.242\n",
      "\n",
      "      Epoch    GPU_mem   box_loss   cls_loss   dfl_loss  Instances       Size\n"
     ]
    },
    {
     "name": "stderr",
     "output_type": "stream",
     "text": [
      "     78/100      3.57G      1.294     0.7861     0.9656        523        640: 100%|██████████| 4375/4375 [18:22<00:00,\n",
      "                 Class     Images  Instances      Box(P          R      mAP50  mAP50-95): 100%|██████████| 313/313 [01:\n"
     ]
    },
    {
     "name": "stdout",
     "output_type": "stream",
     "text": [
      "                   all      10000     185526      0.663      0.398      0.437      0.242\n",
      "\n",
      "      Epoch    GPU_mem   box_loss   cls_loss   dfl_loss  Instances       Size\n"
     ]
    },
    {
     "name": "stderr",
     "output_type": "stream",
     "text": [
      "     79/100      5.28G      1.295     0.7849      0.965        532        640: 100%|██████████| 4375/4375 [18:43<00:00,\n",
      "                 Class     Images  Instances      Box(P          R      mAP50  mAP50-95): 100%|██████████| 313/313 [01:\n"
     ]
    },
    {
     "name": "stdout",
     "output_type": "stream",
     "text": [
      "                   all      10000     185526      0.662      0.398      0.437      0.243\n",
      "\n",
      "      Epoch    GPU_mem   box_loss   cls_loss   dfl_loss  Instances       Size\n"
     ]
    },
    {
     "name": "stderr",
     "output_type": "stream",
     "text": [
      "     80/100      5.77G      1.294     0.7839      0.965        590        640: 100%|██████████| 4375/4375 [18:28<00:00,\n",
      "                 Class     Images  Instances      Box(P          R      mAP50  mAP50-95): 100%|██████████| 313/313 [01:\n"
     ]
    },
    {
     "name": "stdout",
     "output_type": "stream",
     "text": [
      "                   all      10000     185526      0.666      0.397      0.437      0.243\n",
      "\n",
      "      Epoch    GPU_mem   box_loss   cls_loss   dfl_loss  Instances       Size\n"
     ]
    },
    {
     "name": "stderr",
     "output_type": "stream",
     "text": [
      "     81/100      4.53G       1.29     0.7804     0.9638        533        640: 100%|██████████| 4375/4375 [18:37<00:00,\n",
      "                 Class     Images  Instances      Box(P          R      mAP50  mAP50-95): 100%|██████████| 313/313 [01:\n"
     ]
    },
    {
     "name": "stdout",
     "output_type": "stream",
     "text": [
      "                   all      10000     185526      0.666      0.396      0.438      0.243\n",
      "\n",
      "      Epoch    GPU_mem   box_loss   cls_loss   dfl_loss  Instances       Size\n"
     ]
    },
    {
     "name": "stderr",
     "output_type": "stream",
     "text": [
      "     82/100      4.33G      1.291     0.7797     0.9639        560        640: 100%|██████████| 4375/4375 [18:47<00:00,\n",
      "                 Class     Images  Instances      Box(P          R      mAP50  mAP50-95): 100%|██████████| 313/313 [01:\n"
     ]
    },
    {
     "name": "stdout",
     "output_type": "stream",
     "text": [
      "                   all      10000     185526      0.667      0.397      0.438      0.244\n",
      "\n",
      "      Epoch    GPU_mem   box_loss   cls_loss   dfl_loss  Instances       Size\n"
     ]
    },
    {
     "name": "stderr",
     "output_type": "stream",
     "text": [
      "     83/100      4.15G      1.287     0.7766     0.9623        575        640: 100%|██████████| 4375/4375 [17:58<00:00,\n",
      "                 Class     Images  Instances      Box(P          R      mAP50  mAP50-95): 100%|██████████| 313/313 [01:\n"
     ]
    },
    {
     "name": "stdout",
     "output_type": "stream",
     "text": [
      "                   all      10000     185526      0.669      0.397      0.439      0.244\n",
      "\n",
      "      Epoch    GPU_mem   box_loss   cls_loss   dfl_loss  Instances       Size\n"
     ]
    },
    {
     "name": "stderr",
     "output_type": "stream",
     "text": [
      "     84/100      4.88G      1.285     0.7742     0.9611        518        640: 100%|██████████| 4375/4375 [17:55<00:00,\n",
      "                 Class     Images  Instances      Box(P          R      mAP50  mAP50-95): 100%|██████████| 313/313 [01:\n"
     ]
    },
    {
     "name": "stdout",
     "output_type": "stream",
     "text": [
      "                   all      10000     185526      0.669      0.397      0.439      0.244\n",
      "\n",
      "      Epoch    GPU_mem   box_loss   cls_loss   dfl_loss  Instances       Size\n"
     ]
    },
    {
     "name": "stderr",
     "output_type": "stream",
     "text": [
      "     85/100      4.36G      1.283     0.7742     0.9615        533        640: 100%|██████████| 4375/4375 [17:57<00:00,\n",
      "                 Class     Images  Instances      Box(P          R      mAP50  mAP50-95): 100%|██████████| 313/313 [01:\n"
     ]
    },
    {
     "name": "stdout",
     "output_type": "stream",
     "text": [
      "                   all      10000     185526      0.666      0.398      0.439      0.244\n",
      "\n",
      "      Epoch    GPU_mem   box_loss   cls_loss   dfl_loss  Instances       Size\n"
     ]
    },
    {
     "name": "stderr",
     "output_type": "stream",
     "text": [
      "     86/100      4.65G      1.284     0.7723     0.9618        446        640: 100%|██████████| 4375/4375 [18:02<00:00,\n",
      "                 Class     Images  Instances      Box(P          R      mAP50  mAP50-95): 100%|██████████| 313/313 [01:\n"
     ]
    },
    {
     "name": "stdout",
     "output_type": "stream",
     "text": [
      "                   all      10000     185526      0.668      0.399       0.44      0.245\n",
      "\n",
      "      Epoch    GPU_mem   box_loss   cls_loss   dfl_loss  Instances       Size\n"
     ]
    },
    {
     "name": "stderr",
     "output_type": "stream",
     "text": [
      "     87/100       4.4G      1.279     0.7692     0.9601        609        640: 100%|██████████| 4375/4375 [17:53<00:00,\n",
      "                 Class     Images  Instances      Box(P          R      mAP50  mAP50-95): 100%|██████████| 313/313 [01:\n"
     ]
    },
    {
     "name": "stdout",
     "output_type": "stream",
     "text": [
      "                   all      10000     185526      0.668      0.399       0.44      0.245\n",
      "\n",
      "      Epoch    GPU_mem   box_loss   cls_loss   dfl_loss  Instances       Size\n"
     ]
    },
    {
     "name": "stderr",
     "output_type": "stream",
     "text": [
      "     88/100      4.46G      1.277      0.768     0.9592        369        640: 100%|██████████| 4375/4375 [17:57<00:00,\n",
      "                 Class     Images  Instances      Box(P          R      mAP50  mAP50-95): 100%|██████████| 313/313 [01:\n"
     ]
    },
    {
     "name": "stdout",
     "output_type": "stream",
     "text": [
      "                   all      10000     185526      0.668      0.399      0.441      0.246\n",
      "\n",
      "      Epoch    GPU_mem   box_loss   cls_loss   dfl_loss  Instances       Size\n"
     ]
    },
    {
     "name": "stderr",
     "output_type": "stream",
     "text": [
      "     89/100      4.11G      1.276     0.7649     0.9582        577        640: 100%|██████████| 4375/4375 [17:49<00:00,\n",
      "                 Class     Images  Instances      Box(P          R      mAP50  mAP50-95): 100%|██████████| 313/313 [01:\n"
     ]
    },
    {
     "name": "stdout",
     "output_type": "stream",
     "text": [
      "                   all      10000     185526       0.67      0.399      0.441      0.246\n",
      "\n",
      "      Epoch    GPU_mem   box_loss   cls_loss   dfl_loss  Instances       Size\n"
     ]
    },
    {
     "name": "stderr",
     "output_type": "stream",
     "text": [
      "     90/100      4.65G      1.275     0.7653     0.9591        527        640: 100%|██████████| 4375/4375 [17:58<00:00,\n",
      "                 Class     Images  Instances      Box(P          R      mAP50  mAP50-95): 100%|██████████| 313/313 [01:\n"
     ]
    },
    {
     "name": "stdout",
     "output_type": "stream",
     "text": [
      "                   all      10000     185526      0.669        0.4      0.441      0.246\n",
      "Closing dataloader mosaic\n",
      "\n",
      "      Epoch    GPU_mem   box_loss   cls_loss   dfl_loss  Instances       Size\n"
     ]
    },
    {
     "name": "stderr",
     "output_type": "stream",
     "text": [
      "     91/100      3.09G      1.311     0.7613     0.9609        293        640: 100%|██████████| 4375/4375 [17:05<00:00,\n",
      "                 Class     Images  Instances      Box(P          R      mAP50  mAP50-95): 100%|██████████| 313/313 [01:\n"
     ]
    },
    {
     "name": "stdout",
     "output_type": "stream",
     "text": [
      "                   all      10000     185526      0.673      0.399      0.442      0.246\n",
      "\n",
      "      Epoch    GPU_mem   box_loss   cls_loss   dfl_loss  Instances       Size\n"
     ]
    },
    {
     "name": "stderr",
     "output_type": "stream",
     "text": [
      "     92/100      3.85G      1.305     0.7566      0.959        231        640: 100%|██████████| 4375/4375 [17:08<00:00,\n",
      "                 Class     Images  Instances      Box(P          R      mAP50  mAP50-95): 100%|██████████| 313/313 [01:\n"
     ]
    },
    {
     "name": "stdout",
     "output_type": "stream",
     "text": [
      "                   all      10000     185526      0.673        0.4      0.442      0.247\n",
      "\n",
      "      Epoch    GPU_mem   box_loss   cls_loss   dfl_loss  Instances       Size\n"
     ]
    },
    {
     "name": "stderr",
     "output_type": "stream",
     "text": [
      "     93/100      3.35G      1.304      0.754     0.9586        291        640: 100%|██████████| 4375/4375 [18:16<00:00,\n",
      "                 Class     Images  Instances      Box(P          R      mAP50  mAP50-95): 100%|██████████| 313/313 [01:\n"
     ]
    },
    {
     "name": "stdout",
     "output_type": "stream",
     "text": [
      "                   all      10000     185526      0.674      0.399      0.442      0.247\n",
      "\n",
      "      Epoch    GPU_mem   box_loss   cls_loss   dfl_loss  Instances       Size\n"
     ]
    },
    {
     "name": "stderr",
     "output_type": "stream",
     "text": [
      "     94/100      3.34G      1.301     0.7509     0.9575        272        640: 100%|██████████| 4375/4375 [18:52<00:00,\n",
      "                 Class     Images  Instances      Box(P          R      mAP50  mAP50-95): 100%|██████████| 313/313 [01:\n"
     ]
    },
    {
     "name": "stdout",
     "output_type": "stream",
     "text": [
      "                   all      10000     185526      0.677      0.398      0.442      0.247\n",
      "\n",
      "      Epoch    GPU_mem   box_loss   cls_loss   dfl_loss  Instances       Size\n"
     ]
    },
    {
     "name": "stderr",
     "output_type": "stream",
     "text": [
      "     95/100      3.55G      1.298     0.7477     0.9568        190        640: 100%|██████████| 4375/4375 [18:25<00:00,\n",
      "                 Class     Images  Instances      Box(P          R      mAP50  mAP50-95): 100%|██████████| 313/313 [01:\n"
     ]
    },
    {
     "name": "stdout",
     "output_type": "stream",
     "text": [
      "                   all      10000     185526      0.677        0.4      0.443      0.247\n",
      "\n",
      "      Epoch    GPU_mem   box_loss   cls_loss   dfl_loss  Instances       Size\n"
     ]
    },
    {
     "name": "stderr",
     "output_type": "stream",
     "text": [
      "     96/100      3.35G      1.297     0.7457     0.9565        278        640: 100%|██████████| 4375/4375 [18:30<00:00,\n",
      "                 Class     Images  Instances      Box(P          R      mAP50  mAP50-95): 100%|██████████| 313/313 [02:\n"
     ]
    },
    {
     "name": "stdout",
     "output_type": "stream",
     "text": [
      "                   all      10000     185526      0.671      0.401      0.443      0.248\n",
      "\n",
      "      Epoch    GPU_mem   box_loss   cls_loss   dfl_loss  Instances       Size\n"
     ]
    },
    {
     "name": "stderr",
     "output_type": "stream",
     "text": [
      "     97/100      3.77G      1.293     0.7412     0.9548        291        640: 100%|██████████| 4375/4375 [20:07<00:00,\n",
      "                 Class     Images  Instances      Box(P          R      mAP50  mAP50-95): 100%|██████████| 313/313 [02:\n"
     ]
    },
    {
     "name": "stdout",
     "output_type": "stream",
     "text": [
      "                   all      10000     185526      0.672      0.401      0.444      0.248\n",
      "\n",
      "      Epoch    GPU_mem   box_loss   cls_loss   dfl_loss  Instances       Size\n"
     ]
    },
    {
     "name": "stderr",
     "output_type": "stream",
     "text": [
      "     98/100      3.53G      1.291     0.7391     0.9539        268        640: 100%|██████████| 4375/4375 [18:23<00:00,\n",
      "                 Class     Images  Instances      Box(P          R      mAP50  mAP50-95): 100%|██████████| 313/313 [01:\n"
     ]
    },
    {
     "name": "stdout",
     "output_type": "stream",
     "text": [
      "                   all      10000     185526      0.674        0.4      0.444      0.248\n",
      "\n",
      "      Epoch    GPU_mem   box_loss   cls_loss   dfl_loss  Instances       Size\n"
     ]
    },
    {
     "name": "stderr",
     "output_type": "stream",
     "text": [
      "     99/100      3.68G      1.289     0.7359     0.9539        316        640: 100%|██████████| 4375/4375 [17:36<00:00,\n",
      "                 Class     Images  Instances      Box(P          R      mAP50  mAP50-95): 100%|██████████| 313/313 [01:\n"
     ]
    },
    {
     "name": "stdout",
     "output_type": "stream",
     "text": [
      "                   all      10000     185526      0.673        0.4      0.444      0.248\n",
      "\n",
      "      Epoch    GPU_mem   box_loss   cls_loss   dfl_loss  Instances       Size\n"
     ]
    },
    {
     "name": "stderr",
     "output_type": "stream",
     "text": [
      "    100/100      3.55G      1.287     0.7335      0.953        267        640: 100%|██████████| 4375/4375 [17:48<00:00,\n",
      "                 Class     Images  Instances      Box(P          R      mAP50  mAP50-95): 100%|██████████| 313/313 [01:\n"
     ]
    },
    {
     "name": "stdout",
     "output_type": "stream",
     "text": [
      "                   all      10000     185526      0.674      0.399      0.444      0.248\n",
      "\n",
      "49 epochs completed in 17.045 hours.\n",
      "Optimizer stripped from runs\\detect\\train\\weights\\last.pt, 5.5MB\n",
      "Optimizer stripped from runs\\detect\\train\\weights\\best.pt, 5.5MB\n",
      "\n",
      "Validating runs\\detect\\train\\weights\\best.pt...\n",
      "Ultralytics 8.3.74  Python-3.10.16 torch-2.5.1 CUDA:0 (NVIDIA GeForce RTX 4060 Laptop GPU, 8188MiB)\n",
      "YOLO11n summary (fused): 238 layers, 2,584,102 parameters, 0 gradients, 6.3 GFLOPs\n"
     ]
    },
    {
     "name": "stderr",
     "output_type": "stream",
     "text": [
      "                 Class     Images  Instances      Box(P          R      mAP50  mAP50-95): 100%|██████████| 313/313 [02:\n"
     ]
    },
    {
     "name": "stdout",
     "output_type": "stream",
     "text": [
      "                   all      10000     185526      0.675        0.4      0.444      0.248\n",
      "                  bike        578       1007      0.528      0.317      0.336      0.161\n",
      "                   bus       1242       1597      0.619      0.485      0.545      0.419\n",
      "                   car       9879     102506      0.727      0.692      0.741      0.458\n",
      "                 motor        334        452      0.639      0.262      0.326      0.155\n",
      "                person       3220      13262      0.663      0.445      0.516      0.243\n",
      "                 rider        515        649      0.593      0.333      0.349      0.168\n",
      "         traffic light       5653      26885      0.645      0.461      0.501      0.182\n",
      "          traffic sign       8221      34908      0.701      0.481      0.553      0.283\n",
      "                 train         14         15          1          0          0          0\n",
      "                 truck       2689       4245      0.637      0.525      0.572      0.411\n",
      "Speed: 0.2ms preprocess, 1.8ms inference, 0.0ms loss, 2.2ms postprocess per image\n",
      "Results saved to \u001b[1mruns\\detect\\train\u001b[0m\n"
     ]
    }
   ],
   "source": [
    "# Resume Training:\n",
    "from ultralytics import YOLO\n",
    "\n",
    "# Load the pre-trained model for fine-tuning\n",
    "model = YOLO(\"C:/Users/okeiy/OneDrive - University of Salford/Documents/Sch Notes/Dissertation/Codes/Dataset/Yolo/bdd100k/runs/detect/train/weights/last.pt\")\n",
    "             \n",
    "# Fine-tune the model and enable resume functionality\n",
    "results = model.train(\n",
    "    data=\"C:/Users/okeiy/OneDrive - University of Salford/Documents/Sch Notes/Dissertation/Codes/Dataset/Yolo/bdd100k/data.yaml\",\n",
    "    epochs=100,\n",
    "    batch=16,\n",
    "    imgsz=640,\n",
    "    resume=True\n",
    ")"
   ]
  },
  {
   "cell_type": "code",
   "execution_count": 2,
   "id": "a1e9ceae-3832-4257-9583-2c35682584fe",
   "metadata": {
    "scrolled": true
   },
   "outputs": [
    {
     "name": "stdout",
     "output_type": "stream",
     "text": [
      "Ultralytics 8.3.74  Python-3.10.16 torch-2.5.1 CUDA:0 (NVIDIA GeForce RTX 4060 Laptop GPU, 8188MiB)\n",
      "YOLO11n summary (fused): 238 layers, 2,584,102 parameters, 0 gradients, 6.3 GFLOPs\n"
     ]
    },
    {
     "name": "stderr",
     "output_type": "stream",
     "text": [
      "\u001b[34m\u001b[1mval: \u001b[0mScanning C:\\Users\\okeiy\\OneDrive - University of Salford\\Documents\\Sch Notes\\Dissertation\\Codes\\Dataset\\Yolo\\bdd10\u001b[0m\n",
      "                 Class     Images  Instances      Box(P          R      mAP50  mAP50-95): 100%|██████████| 625/625 [03:\n"
     ]
    },
    {
     "name": "stdout",
     "output_type": "stream",
     "text": [
      "                   all      10000     185526      0.676      0.399      0.444      0.248\n",
      "                  bike        578       1007      0.529      0.316      0.336      0.162\n",
      "                   bus       1242       1597      0.619      0.484      0.545      0.419\n",
      "                   car       9879     102506      0.728      0.692      0.741      0.458\n",
      "                 motor        334        452      0.633      0.259      0.326      0.155\n",
      "                person       3220      13262      0.666      0.444      0.517      0.244\n",
      "                 rider        515        649      0.594      0.334      0.352      0.167\n",
      "         traffic light       5653      26885      0.647      0.461      0.502      0.182\n",
      "          traffic sign       8221      34908      0.703      0.481      0.554      0.283\n",
      "                 train         14         15          1          0          0          0\n",
      "                 truck       2689       4245      0.638      0.524      0.572      0.411\n",
      "Speed: 0.2ms preprocess, 3.3ms inference, 0.0ms loss, 2.1ms postprocess per image\n",
      "Results saved to \u001b[1mruns\\detect\\val\u001b[0m\n",
      "ultralytics.utils.metrics.DetMetrics object with attributes:\n",
      "\n",
      "ap_class_index: array([0, 1, 2, 3, 4, 5, 6, 7, 8, 9])\n",
      "box: ultralytics.utils.metrics.Metric object\n",
      "confusion_matrix: <ultralytics.utils.metrics.ConfusionMatrix object at 0x0000027E29C4AFB0>\n",
      "curves: ['Precision-Recall(B)', 'F1-Confidence(B)', 'Precision-Confidence(B)', 'Recall-Confidence(B)']\n",
      "curves_results: [[array([          0,    0.001001,    0.002002,    0.003003,    0.004004,    0.005005,    0.006006,    0.007007,    0.008008,    0.009009,     0.01001,    0.011011,    0.012012,    0.013013,    0.014014,    0.015015,    0.016016,    0.017017,    0.018018,    0.019019,     0.02002,    0.021021,    0.022022,    0.023023,\n",
      "          0.024024,    0.025025,    0.026026,    0.027027,    0.028028,    0.029029,     0.03003,    0.031031,    0.032032,    0.033033,    0.034034,    0.035035,    0.036036,    0.037037,    0.038038,    0.039039,     0.04004,    0.041041,    0.042042,    0.043043,    0.044044,    0.045045,    0.046046,    0.047047,\n",
      "          0.048048,    0.049049,     0.05005,    0.051051,    0.052052,    0.053053,    0.054054,    0.055055,    0.056056,    0.057057,    0.058058,    0.059059,     0.06006,    0.061061,    0.062062,    0.063063,    0.064064,    0.065065,    0.066066,    0.067067,    0.068068,    0.069069,     0.07007,    0.071071,\n",
      "          0.072072,    0.073073,    0.074074,    0.075075,    0.076076,    0.077077,    0.078078,    0.079079,     0.08008,    0.081081,    0.082082,    0.083083,    0.084084,    0.085085,    0.086086,    0.087087,    0.088088,    0.089089,     0.09009,    0.091091,    0.092092,    0.093093,    0.094094,    0.095095,\n",
      "          0.096096,    0.097097,    0.098098,    0.099099,      0.1001,      0.1011,      0.1021,      0.1031,      0.1041,     0.10511,     0.10611,     0.10711,     0.10811,     0.10911,     0.11011,     0.11111,     0.11211,     0.11311,     0.11411,     0.11512,     0.11612,     0.11712,     0.11812,     0.11912,\n",
      "           0.12012,     0.12112,     0.12212,     0.12312,     0.12412,     0.12513,     0.12613,     0.12713,     0.12813,     0.12913,     0.13013,     0.13113,     0.13213,     0.13313,     0.13413,     0.13514,     0.13614,     0.13714,     0.13814,     0.13914,     0.14014,     0.14114,     0.14214,     0.14314,\n",
      "           0.14414,     0.14515,     0.14615,     0.14715,     0.14815,     0.14915,     0.15015,     0.15115,     0.15215,     0.15315,     0.15415,     0.15516,     0.15616,     0.15716,     0.15816,     0.15916,     0.16016,     0.16116,     0.16216,     0.16316,     0.16416,     0.16517,     0.16617,     0.16717,\n",
      "           0.16817,     0.16917,     0.17017,     0.17117,     0.17217,     0.17317,     0.17417,     0.17518,     0.17618,     0.17718,     0.17818,     0.17918,     0.18018,     0.18118,     0.18218,     0.18318,     0.18418,     0.18519,     0.18619,     0.18719,     0.18819,     0.18919,     0.19019,     0.19119,\n",
      "           0.19219,     0.19319,     0.19419,      0.1952,      0.1962,      0.1972,      0.1982,      0.1992,      0.2002,      0.2012,      0.2022,      0.2032,      0.2042,     0.20521,     0.20621,     0.20721,     0.20821,     0.20921,     0.21021,     0.21121,     0.21221,     0.21321,     0.21421,     0.21522,\n",
      "           0.21622,     0.21722,     0.21822,     0.21922,     0.22022,     0.22122,     0.22222,     0.22322,     0.22422,     0.22523,     0.22623,     0.22723,     0.22823,     0.22923,     0.23023,     0.23123,     0.23223,     0.23323,     0.23423,     0.23524,     0.23624,     0.23724,     0.23824,     0.23924,\n",
      "           0.24024,     0.24124,     0.24224,     0.24324,     0.24424,     0.24525,     0.24625,     0.24725,     0.24825,     0.24925,     0.25025,     0.25125,     0.25225,     0.25325,     0.25425,     0.25526,     0.25626,     0.25726,     0.25826,     0.25926,     0.26026,     0.26126,     0.26226,     0.26326,\n",
      "           0.26426,     0.26527,     0.26627,     0.26727,     0.26827,     0.26927,     0.27027,     0.27127,     0.27227,     0.27327,     0.27427,     0.27528,     0.27628,     0.27728,     0.27828,     0.27928,     0.28028,     0.28128,     0.28228,     0.28328,     0.28428,     0.28529,     0.28629,     0.28729,\n",
      "           0.28829,     0.28929,     0.29029,     0.29129,     0.29229,     0.29329,     0.29429,      0.2953,      0.2963,      0.2973,      0.2983,      0.2993,      0.3003,      0.3013,      0.3023,      0.3033,      0.3043,     0.30531,     0.30631,     0.30731,     0.30831,     0.30931,     0.31031,     0.31131,\n",
      "           0.31231,     0.31331,     0.31431,     0.31532,     0.31632,     0.31732,     0.31832,     0.31932,     0.32032,     0.32132,     0.32232,     0.32332,     0.32432,     0.32533,     0.32633,     0.32733,     0.32833,     0.32933,     0.33033,     0.33133,     0.33233,     0.33333,     0.33433,     0.33534,\n",
      "           0.33634,     0.33734,     0.33834,     0.33934,     0.34034,     0.34134,     0.34234,     0.34334,     0.34434,     0.34535,     0.34635,     0.34735,     0.34835,     0.34935,     0.35035,     0.35135,     0.35235,     0.35335,     0.35435,     0.35536,     0.35636,     0.35736,     0.35836,     0.35936,\n",
      "           0.36036,     0.36136,     0.36236,     0.36336,     0.36436,     0.36537,     0.36637,     0.36737,     0.36837,     0.36937,     0.37037,     0.37137,     0.37237,     0.37337,     0.37437,     0.37538,     0.37638,     0.37738,     0.37838,     0.37938,     0.38038,     0.38138,     0.38238,     0.38338,\n",
      "           0.38438,     0.38539,     0.38639,     0.38739,     0.38839,     0.38939,     0.39039,     0.39139,     0.39239,     0.39339,     0.39439,      0.3954,      0.3964,      0.3974,      0.3984,      0.3994,      0.4004,      0.4014,      0.4024,      0.4034,      0.4044,     0.40541,     0.40641,     0.40741,\n",
      "           0.40841,     0.40941,     0.41041,     0.41141,     0.41241,     0.41341,     0.41441,     0.41542,     0.41642,     0.41742,     0.41842,     0.41942,     0.42042,     0.42142,     0.42242,     0.42342,     0.42442,     0.42543,     0.42643,     0.42743,     0.42843,     0.42943,     0.43043,     0.43143,\n",
      "           0.43243,     0.43343,     0.43443,     0.43544,     0.43644,     0.43744,     0.43844,     0.43944,     0.44044,     0.44144,     0.44244,     0.44344,     0.44444,     0.44545,     0.44645,     0.44745,     0.44845,     0.44945,     0.45045,     0.45145,     0.45245,     0.45345,     0.45445,     0.45546,\n",
      "           0.45646,     0.45746,     0.45846,     0.45946,     0.46046,     0.46146,     0.46246,     0.46346,     0.46446,     0.46547,     0.46647,     0.46747,     0.46847,     0.46947,     0.47047,     0.47147,     0.47247,     0.47347,     0.47447,     0.47548,     0.47648,     0.47748,     0.47848,     0.47948,\n",
      "           0.48048,     0.48148,     0.48248,     0.48348,     0.48448,     0.48549,     0.48649,     0.48749,     0.48849,     0.48949,     0.49049,     0.49149,     0.49249,     0.49349,     0.49449,      0.4955,      0.4965,      0.4975,      0.4985,      0.4995,      0.5005,      0.5015,      0.5025,      0.5035,\n",
      "            0.5045,     0.50551,     0.50651,     0.50751,     0.50851,     0.50951,     0.51051,     0.51151,     0.51251,     0.51351,     0.51451,     0.51552,     0.51652,     0.51752,     0.51852,     0.51952,     0.52052,     0.52152,     0.52252,     0.52352,     0.52452,     0.52553,     0.52653,     0.52753,\n",
      "           0.52853,     0.52953,     0.53053,     0.53153,     0.53253,     0.53353,     0.53453,     0.53554,     0.53654,     0.53754,     0.53854,     0.53954,     0.54054,     0.54154,     0.54254,     0.54354,     0.54454,     0.54555,     0.54655,     0.54755,     0.54855,     0.54955,     0.55055,     0.55155,\n",
      "           0.55255,     0.55355,     0.55455,     0.55556,     0.55656,     0.55756,     0.55856,     0.55956,     0.56056,     0.56156,     0.56256,     0.56356,     0.56456,     0.56557,     0.56657,     0.56757,     0.56857,     0.56957,     0.57057,     0.57157,     0.57257,     0.57357,     0.57457,     0.57558,\n",
      "           0.57658,     0.57758,     0.57858,     0.57958,     0.58058,     0.58158,     0.58258,     0.58358,     0.58458,     0.58559,     0.58659,     0.58759,     0.58859,     0.58959,     0.59059,     0.59159,     0.59259,     0.59359,     0.59459,      0.5956,      0.5966,      0.5976,      0.5986,      0.5996,\n",
      "            0.6006,      0.6016,      0.6026,      0.6036,      0.6046,     0.60561,     0.60661,     0.60761,     0.60861,     0.60961,     0.61061,     0.61161,     0.61261,     0.61361,     0.61461,     0.61562,     0.61662,     0.61762,     0.61862,     0.61962,     0.62062,     0.62162,     0.62262,     0.62362,\n",
      "           0.62462,     0.62563,     0.62663,     0.62763,     0.62863,     0.62963,     0.63063,     0.63163,     0.63263,     0.63363,     0.63463,     0.63564,     0.63664,     0.63764,     0.63864,     0.63964,     0.64064,     0.64164,     0.64264,     0.64364,     0.64464,     0.64565,     0.64665,     0.64765,\n",
      "           0.64865,     0.64965,     0.65065,     0.65165,     0.65265,     0.65365,     0.65465,     0.65566,     0.65666,     0.65766,     0.65866,     0.65966,     0.66066,     0.66166,     0.66266,     0.66366,     0.66466,     0.66567,     0.66667,     0.66767,     0.66867,     0.66967,     0.67067,     0.67167,\n",
      "           0.67267,     0.67367,     0.67467,     0.67568,     0.67668,     0.67768,     0.67868,     0.67968,     0.68068,     0.68168,     0.68268,     0.68368,     0.68468,     0.68569,     0.68669,     0.68769,     0.68869,     0.68969,     0.69069,     0.69169,     0.69269,     0.69369,     0.69469,      0.6957,\n",
      "            0.6967,      0.6977,      0.6987,      0.6997,      0.7007,      0.7017,      0.7027,      0.7037,      0.7047,     0.70571,     0.70671,     0.70771,     0.70871,     0.70971,     0.71071,     0.71171,     0.71271,     0.71371,     0.71471,     0.71572,     0.71672,     0.71772,     0.71872,     0.71972,\n",
      "           0.72072,     0.72172,     0.72272,     0.72372,     0.72472,     0.72573,     0.72673,     0.72773,     0.72873,     0.72973,     0.73073,     0.73173,     0.73273,     0.73373,     0.73473,     0.73574,     0.73674,     0.73774,     0.73874,     0.73974,     0.74074,     0.74174,     0.74274,     0.74374,\n",
      "           0.74474,     0.74575,     0.74675,     0.74775,     0.74875,     0.74975,     0.75075,     0.75175,     0.75275,     0.75375,     0.75475,     0.75576,     0.75676,     0.75776,     0.75876,     0.75976,     0.76076,     0.76176,     0.76276,     0.76376,     0.76476,     0.76577,     0.76677,     0.76777,\n",
      "           0.76877,     0.76977,     0.77077,     0.77177,     0.77277,     0.77377,     0.77477,     0.77578,     0.77678,     0.77778,     0.77878,     0.77978,     0.78078,     0.78178,     0.78278,     0.78378,     0.78478,     0.78579,     0.78679,     0.78779,     0.78879,     0.78979,     0.79079,     0.79179,\n",
      "           0.79279,     0.79379,     0.79479,      0.7958,      0.7968,      0.7978,      0.7988,      0.7998,      0.8008,      0.8018,      0.8028,      0.8038,      0.8048,     0.80581,     0.80681,     0.80781,     0.80881,     0.80981,     0.81081,     0.81181,     0.81281,     0.81381,     0.81481,     0.81582,\n",
      "           0.81682,     0.81782,     0.81882,     0.81982,     0.82082,     0.82182,     0.82282,     0.82382,     0.82482,     0.82583,     0.82683,     0.82783,     0.82883,     0.82983,     0.83083,     0.83183,     0.83283,     0.83383,     0.83483,     0.83584,     0.83684,     0.83784,     0.83884,     0.83984,\n",
      "           0.84084,     0.84184,     0.84284,     0.84384,     0.84484,     0.84585,     0.84685,     0.84785,     0.84885,     0.84985,     0.85085,     0.85185,     0.85285,     0.85385,     0.85485,     0.85586,     0.85686,     0.85786,     0.85886,     0.85986,     0.86086,     0.86186,     0.86286,     0.86386,\n",
      "           0.86486,     0.86587,     0.86687,     0.86787,     0.86887,     0.86987,     0.87087,     0.87187,     0.87287,     0.87387,     0.87487,     0.87588,     0.87688,     0.87788,     0.87888,     0.87988,     0.88088,     0.88188,     0.88288,     0.88388,     0.88488,     0.88589,     0.88689,     0.88789,\n",
      "           0.88889,     0.88989,     0.89089,     0.89189,     0.89289,     0.89389,     0.89489,      0.8959,      0.8969,      0.8979,      0.8989,      0.8999,      0.9009,      0.9019,      0.9029,      0.9039,      0.9049,     0.90591,     0.90691,     0.90791,     0.90891,     0.90991,     0.91091,     0.91191,\n",
      "           0.91291,     0.91391,     0.91491,     0.91592,     0.91692,     0.91792,     0.91892,     0.91992,     0.92092,     0.92192,     0.92292,     0.92392,     0.92492,     0.92593,     0.92693,     0.92793,     0.92893,     0.92993,     0.93093,     0.93193,     0.93293,     0.93393,     0.93493,     0.93594,\n",
      "           0.93694,     0.93794,     0.93894,     0.93994,     0.94094,     0.94194,     0.94294,     0.94394,     0.94494,     0.94595,     0.94695,     0.94795,     0.94895,     0.94995,     0.95095,     0.95195,     0.95295,     0.95395,     0.95495,     0.95596,     0.95696,     0.95796,     0.95896,     0.95996,\n",
      "           0.96096,     0.96196,     0.96296,     0.96396,     0.96496,     0.96597,     0.96697,     0.96797,     0.96897,     0.96997,     0.97097,     0.97197,     0.97297,     0.97397,     0.97497,     0.97598,     0.97698,     0.97798,     0.97898,     0.97998,     0.98098,     0.98198,     0.98298,     0.98398,\n",
      "           0.98498,     0.98599,     0.98699,     0.98799,     0.98899,     0.98999,     0.99099,     0.99199,     0.99299,     0.99399,     0.99499,       0.996,       0.997,       0.998,       0.999,           1]), array([[          1,           1,           1, ...,  0.00011478,  5.7391e-05,           0],\n",
      "       [          1,           1,           1, ...,  0.00033079,  0.00016539,           0],\n",
      "       [          1,           1,     0.99777, ...,   0.0013227,  0.00066137,           0],\n",
      "       ...,\n",
      "       [          1,           1,           1, ...,  0.00044858,  0.00022429,           0],\n",
      "       [          0,           0,           0, ...,           0,           0,           0],\n",
      "       [          1,           1,           1, ...,   0.0005285,  0.00026425,           0]], shape=(10, 1000)), 'Recall', 'Precision'], [array([          0,    0.001001,    0.002002,    0.003003,    0.004004,    0.005005,    0.006006,    0.007007,    0.008008,    0.009009,     0.01001,    0.011011,    0.012012,    0.013013,    0.014014,    0.015015,    0.016016,    0.017017,    0.018018,    0.019019,     0.02002,    0.021021,    0.022022,    0.023023,\n",
      "          0.024024,    0.025025,    0.026026,    0.027027,    0.028028,    0.029029,     0.03003,    0.031031,    0.032032,    0.033033,    0.034034,    0.035035,    0.036036,    0.037037,    0.038038,    0.039039,     0.04004,    0.041041,    0.042042,    0.043043,    0.044044,    0.045045,    0.046046,    0.047047,\n",
      "          0.048048,    0.049049,     0.05005,    0.051051,    0.052052,    0.053053,    0.054054,    0.055055,    0.056056,    0.057057,    0.058058,    0.059059,     0.06006,    0.061061,    0.062062,    0.063063,    0.064064,    0.065065,    0.066066,    0.067067,    0.068068,    0.069069,     0.07007,    0.071071,\n",
      "          0.072072,    0.073073,    0.074074,    0.075075,    0.076076,    0.077077,    0.078078,    0.079079,     0.08008,    0.081081,    0.082082,    0.083083,    0.084084,    0.085085,    0.086086,    0.087087,    0.088088,    0.089089,     0.09009,    0.091091,    0.092092,    0.093093,    0.094094,    0.095095,\n",
      "          0.096096,    0.097097,    0.098098,    0.099099,      0.1001,      0.1011,      0.1021,      0.1031,      0.1041,     0.10511,     0.10611,     0.10711,     0.10811,     0.10911,     0.11011,     0.11111,     0.11211,     0.11311,     0.11411,     0.11512,     0.11612,     0.11712,     0.11812,     0.11912,\n",
      "           0.12012,     0.12112,     0.12212,     0.12312,     0.12412,     0.12513,     0.12613,     0.12713,     0.12813,     0.12913,     0.13013,     0.13113,     0.13213,     0.13313,     0.13413,     0.13514,     0.13614,     0.13714,     0.13814,     0.13914,     0.14014,     0.14114,     0.14214,     0.14314,\n",
      "           0.14414,     0.14515,     0.14615,     0.14715,     0.14815,     0.14915,     0.15015,     0.15115,     0.15215,     0.15315,     0.15415,     0.15516,     0.15616,     0.15716,     0.15816,     0.15916,     0.16016,     0.16116,     0.16216,     0.16316,     0.16416,     0.16517,     0.16617,     0.16717,\n",
      "           0.16817,     0.16917,     0.17017,     0.17117,     0.17217,     0.17317,     0.17417,     0.17518,     0.17618,     0.17718,     0.17818,     0.17918,     0.18018,     0.18118,     0.18218,     0.18318,     0.18418,     0.18519,     0.18619,     0.18719,     0.18819,     0.18919,     0.19019,     0.19119,\n",
      "           0.19219,     0.19319,     0.19419,      0.1952,      0.1962,      0.1972,      0.1982,      0.1992,      0.2002,      0.2012,      0.2022,      0.2032,      0.2042,     0.20521,     0.20621,     0.20721,     0.20821,     0.20921,     0.21021,     0.21121,     0.21221,     0.21321,     0.21421,     0.21522,\n",
      "           0.21622,     0.21722,     0.21822,     0.21922,     0.22022,     0.22122,     0.22222,     0.22322,     0.22422,     0.22523,     0.22623,     0.22723,     0.22823,     0.22923,     0.23023,     0.23123,     0.23223,     0.23323,     0.23423,     0.23524,     0.23624,     0.23724,     0.23824,     0.23924,\n",
      "           0.24024,     0.24124,     0.24224,     0.24324,     0.24424,     0.24525,     0.24625,     0.24725,     0.24825,     0.24925,     0.25025,     0.25125,     0.25225,     0.25325,     0.25425,     0.25526,     0.25626,     0.25726,     0.25826,     0.25926,     0.26026,     0.26126,     0.26226,     0.26326,\n",
      "           0.26426,     0.26527,     0.26627,     0.26727,     0.26827,     0.26927,     0.27027,     0.27127,     0.27227,     0.27327,     0.27427,     0.27528,     0.27628,     0.27728,     0.27828,     0.27928,     0.28028,     0.28128,     0.28228,     0.28328,     0.28428,     0.28529,     0.28629,     0.28729,\n",
      "           0.28829,     0.28929,     0.29029,     0.29129,     0.29229,     0.29329,     0.29429,      0.2953,      0.2963,      0.2973,      0.2983,      0.2993,      0.3003,      0.3013,      0.3023,      0.3033,      0.3043,     0.30531,     0.30631,     0.30731,     0.30831,     0.30931,     0.31031,     0.31131,\n",
      "           0.31231,     0.31331,     0.31431,     0.31532,     0.31632,     0.31732,     0.31832,     0.31932,     0.32032,     0.32132,     0.32232,     0.32332,     0.32432,     0.32533,     0.32633,     0.32733,     0.32833,     0.32933,     0.33033,     0.33133,     0.33233,     0.33333,     0.33433,     0.33534,\n",
      "           0.33634,     0.33734,     0.33834,     0.33934,     0.34034,     0.34134,     0.34234,     0.34334,     0.34434,     0.34535,     0.34635,     0.34735,     0.34835,     0.34935,     0.35035,     0.35135,     0.35235,     0.35335,     0.35435,     0.35536,     0.35636,     0.35736,     0.35836,     0.35936,\n",
      "           0.36036,     0.36136,     0.36236,     0.36336,     0.36436,     0.36537,     0.36637,     0.36737,     0.36837,     0.36937,     0.37037,     0.37137,     0.37237,     0.37337,     0.37437,     0.37538,     0.37638,     0.37738,     0.37838,     0.37938,     0.38038,     0.38138,     0.38238,     0.38338,\n",
      "           0.38438,     0.38539,     0.38639,     0.38739,     0.38839,     0.38939,     0.39039,     0.39139,     0.39239,     0.39339,     0.39439,      0.3954,      0.3964,      0.3974,      0.3984,      0.3994,      0.4004,      0.4014,      0.4024,      0.4034,      0.4044,     0.40541,     0.40641,     0.40741,\n",
      "           0.40841,     0.40941,     0.41041,     0.41141,     0.41241,     0.41341,     0.41441,     0.41542,     0.41642,     0.41742,     0.41842,     0.41942,     0.42042,     0.42142,     0.42242,     0.42342,     0.42442,     0.42543,     0.42643,     0.42743,     0.42843,     0.42943,     0.43043,     0.43143,\n",
      "           0.43243,     0.43343,     0.43443,     0.43544,     0.43644,     0.43744,     0.43844,     0.43944,     0.44044,     0.44144,     0.44244,     0.44344,     0.44444,     0.44545,     0.44645,     0.44745,     0.44845,     0.44945,     0.45045,     0.45145,     0.45245,     0.45345,     0.45445,     0.45546,\n",
      "           0.45646,     0.45746,     0.45846,     0.45946,     0.46046,     0.46146,     0.46246,     0.46346,     0.46446,     0.46547,     0.46647,     0.46747,     0.46847,     0.46947,     0.47047,     0.47147,     0.47247,     0.47347,     0.47447,     0.47548,     0.47648,     0.47748,     0.47848,     0.47948,\n",
      "           0.48048,     0.48148,     0.48248,     0.48348,     0.48448,     0.48549,     0.48649,     0.48749,     0.48849,     0.48949,     0.49049,     0.49149,     0.49249,     0.49349,     0.49449,      0.4955,      0.4965,      0.4975,      0.4985,      0.4995,      0.5005,      0.5015,      0.5025,      0.5035,\n",
      "            0.5045,     0.50551,     0.50651,     0.50751,     0.50851,     0.50951,     0.51051,     0.51151,     0.51251,     0.51351,     0.51451,     0.51552,     0.51652,     0.51752,     0.51852,     0.51952,     0.52052,     0.52152,     0.52252,     0.52352,     0.52452,     0.52553,     0.52653,     0.52753,\n",
      "           0.52853,     0.52953,     0.53053,     0.53153,     0.53253,     0.53353,     0.53453,     0.53554,     0.53654,     0.53754,     0.53854,     0.53954,     0.54054,     0.54154,     0.54254,     0.54354,     0.54454,     0.54555,     0.54655,     0.54755,     0.54855,     0.54955,     0.55055,     0.55155,\n",
      "           0.55255,     0.55355,     0.55455,     0.55556,     0.55656,     0.55756,     0.55856,     0.55956,     0.56056,     0.56156,     0.56256,     0.56356,     0.56456,     0.56557,     0.56657,     0.56757,     0.56857,     0.56957,     0.57057,     0.57157,     0.57257,     0.57357,     0.57457,     0.57558,\n",
      "           0.57658,     0.57758,     0.57858,     0.57958,     0.58058,     0.58158,     0.58258,     0.58358,     0.58458,     0.58559,     0.58659,     0.58759,     0.58859,     0.58959,     0.59059,     0.59159,     0.59259,     0.59359,     0.59459,      0.5956,      0.5966,      0.5976,      0.5986,      0.5996,\n",
      "            0.6006,      0.6016,      0.6026,      0.6036,      0.6046,     0.60561,     0.60661,     0.60761,     0.60861,     0.60961,     0.61061,     0.61161,     0.61261,     0.61361,     0.61461,     0.61562,     0.61662,     0.61762,     0.61862,     0.61962,     0.62062,     0.62162,     0.62262,     0.62362,\n",
      "           0.62462,     0.62563,     0.62663,     0.62763,     0.62863,     0.62963,     0.63063,     0.63163,     0.63263,     0.63363,     0.63463,     0.63564,     0.63664,     0.63764,     0.63864,     0.63964,     0.64064,     0.64164,     0.64264,     0.64364,     0.64464,     0.64565,     0.64665,     0.64765,\n",
      "           0.64865,     0.64965,     0.65065,     0.65165,     0.65265,     0.65365,     0.65465,     0.65566,     0.65666,     0.65766,     0.65866,     0.65966,     0.66066,     0.66166,     0.66266,     0.66366,     0.66466,     0.66567,     0.66667,     0.66767,     0.66867,     0.66967,     0.67067,     0.67167,\n",
      "           0.67267,     0.67367,     0.67467,     0.67568,     0.67668,     0.67768,     0.67868,     0.67968,     0.68068,     0.68168,     0.68268,     0.68368,     0.68468,     0.68569,     0.68669,     0.68769,     0.68869,     0.68969,     0.69069,     0.69169,     0.69269,     0.69369,     0.69469,      0.6957,\n",
      "            0.6967,      0.6977,      0.6987,      0.6997,      0.7007,      0.7017,      0.7027,      0.7037,      0.7047,     0.70571,     0.70671,     0.70771,     0.70871,     0.70971,     0.71071,     0.71171,     0.71271,     0.71371,     0.71471,     0.71572,     0.71672,     0.71772,     0.71872,     0.71972,\n",
      "           0.72072,     0.72172,     0.72272,     0.72372,     0.72472,     0.72573,     0.72673,     0.72773,     0.72873,     0.72973,     0.73073,     0.73173,     0.73273,     0.73373,     0.73473,     0.73574,     0.73674,     0.73774,     0.73874,     0.73974,     0.74074,     0.74174,     0.74274,     0.74374,\n",
      "           0.74474,     0.74575,     0.74675,     0.74775,     0.74875,     0.74975,     0.75075,     0.75175,     0.75275,     0.75375,     0.75475,     0.75576,     0.75676,     0.75776,     0.75876,     0.75976,     0.76076,     0.76176,     0.76276,     0.76376,     0.76476,     0.76577,     0.76677,     0.76777,\n",
      "           0.76877,     0.76977,     0.77077,     0.77177,     0.77277,     0.77377,     0.77477,     0.77578,     0.77678,     0.77778,     0.77878,     0.77978,     0.78078,     0.78178,     0.78278,     0.78378,     0.78478,     0.78579,     0.78679,     0.78779,     0.78879,     0.78979,     0.79079,     0.79179,\n",
      "           0.79279,     0.79379,     0.79479,      0.7958,      0.7968,      0.7978,      0.7988,      0.7998,      0.8008,      0.8018,      0.8028,      0.8038,      0.8048,     0.80581,     0.80681,     0.80781,     0.80881,     0.80981,     0.81081,     0.81181,     0.81281,     0.81381,     0.81481,     0.81582,\n",
      "           0.81682,     0.81782,     0.81882,     0.81982,     0.82082,     0.82182,     0.82282,     0.82382,     0.82482,     0.82583,     0.82683,     0.82783,     0.82883,     0.82983,     0.83083,     0.83183,     0.83283,     0.83383,     0.83483,     0.83584,     0.83684,     0.83784,     0.83884,     0.83984,\n",
      "           0.84084,     0.84184,     0.84284,     0.84384,     0.84484,     0.84585,     0.84685,     0.84785,     0.84885,     0.84985,     0.85085,     0.85185,     0.85285,     0.85385,     0.85485,     0.85586,     0.85686,     0.85786,     0.85886,     0.85986,     0.86086,     0.86186,     0.86286,     0.86386,\n",
      "           0.86486,     0.86587,     0.86687,     0.86787,     0.86887,     0.86987,     0.87087,     0.87187,     0.87287,     0.87387,     0.87487,     0.87588,     0.87688,     0.87788,     0.87888,     0.87988,     0.88088,     0.88188,     0.88288,     0.88388,     0.88488,     0.88589,     0.88689,     0.88789,\n",
      "           0.88889,     0.88989,     0.89089,     0.89189,     0.89289,     0.89389,     0.89489,      0.8959,      0.8969,      0.8979,      0.8989,      0.8999,      0.9009,      0.9019,      0.9029,      0.9039,      0.9049,     0.90591,     0.90691,     0.90791,     0.90891,     0.90991,     0.91091,     0.91191,\n",
      "           0.91291,     0.91391,     0.91491,     0.91592,     0.91692,     0.91792,     0.91892,     0.91992,     0.92092,     0.92192,     0.92292,     0.92392,     0.92492,     0.92593,     0.92693,     0.92793,     0.92893,     0.92993,     0.93093,     0.93193,     0.93293,     0.93393,     0.93493,     0.93594,\n",
      "           0.93694,     0.93794,     0.93894,     0.93994,     0.94094,     0.94194,     0.94294,     0.94394,     0.94494,     0.94595,     0.94695,     0.94795,     0.94895,     0.94995,     0.95095,     0.95195,     0.95295,     0.95395,     0.95495,     0.95596,     0.95696,     0.95796,     0.95896,     0.95996,\n",
      "           0.96096,     0.96196,     0.96296,     0.96396,     0.96496,     0.96597,     0.96697,     0.96797,     0.96897,     0.96997,     0.97097,     0.97197,     0.97297,     0.97397,     0.97497,     0.97598,     0.97698,     0.97798,     0.97898,     0.97998,     0.98098,     0.98198,     0.98298,     0.98398,\n",
      "           0.98498,     0.98599,     0.98699,     0.98799,     0.98899,     0.98999,     0.99099,     0.99199,     0.99299,     0.99399,     0.99499,       0.996,       0.997,       0.998,       0.999,           1]), array([[   0.036237,    0.036248,    0.047074, ...,           0,           0,           0],\n",
      "       [    0.04689,    0.046912,    0.068842, ...,           0,           0,           0],\n",
      "       [    0.18505,     0.18509,     0.22215, ...,           0,           0,           0],\n",
      "       ...,\n",
      "       [   0.093032,    0.093064,     0.12112, ...,           0,           0,           0],\n",
      "       [          0,           0,           0, ...,           0,           0,           0],\n",
      "       [   0.056015,    0.056037,    0.080048, ...,           0,           0,           0]], shape=(10, 1000)), 'Confidence', 'F1'], [array([          0,    0.001001,    0.002002,    0.003003,    0.004004,    0.005005,    0.006006,    0.007007,    0.008008,    0.009009,     0.01001,    0.011011,    0.012012,    0.013013,    0.014014,    0.015015,    0.016016,    0.017017,    0.018018,    0.019019,     0.02002,    0.021021,    0.022022,    0.023023,\n",
      "          0.024024,    0.025025,    0.026026,    0.027027,    0.028028,    0.029029,     0.03003,    0.031031,    0.032032,    0.033033,    0.034034,    0.035035,    0.036036,    0.037037,    0.038038,    0.039039,     0.04004,    0.041041,    0.042042,    0.043043,    0.044044,    0.045045,    0.046046,    0.047047,\n",
      "          0.048048,    0.049049,     0.05005,    0.051051,    0.052052,    0.053053,    0.054054,    0.055055,    0.056056,    0.057057,    0.058058,    0.059059,     0.06006,    0.061061,    0.062062,    0.063063,    0.064064,    0.065065,    0.066066,    0.067067,    0.068068,    0.069069,     0.07007,    0.071071,\n",
      "          0.072072,    0.073073,    0.074074,    0.075075,    0.076076,    0.077077,    0.078078,    0.079079,     0.08008,    0.081081,    0.082082,    0.083083,    0.084084,    0.085085,    0.086086,    0.087087,    0.088088,    0.089089,     0.09009,    0.091091,    0.092092,    0.093093,    0.094094,    0.095095,\n",
      "          0.096096,    0.097097,    0.098098,    0.099099,      0.1001,      0.1011,      0.1021,      0.1031,      0.1041,     0.10511,     0.10611,     0.10711,     0.10811,     0.10911,     0.11011,     0.11111,     0.11211,     0.11311,     0.11411,     0.11512,     0.11612,     0.11712,     0.11812,     0.11912,\n",
      "           0.12012,     0.12112,     0.12212,     0.12312,     0.12412,     0.12513,     0.12613,     0.12713,     0.12813,     0.12913,     0.13013,     0.13113,     0.13213,     0.13313,     0.13413,     0.13514,     0.13614,     0.13714,     0.13814,     0.13914,     0.14014,     0.14114,     0.14214,     0.14314,\n",
      "           0.14414,     0.14515,     0.14615,     0.14715,     0.14815,     0.14915,     0.15015,     0.15115,     0.15215,     0.15315,     0.15415,     0.15516,     0.15616,     0.15716,     0.15816,     0.15916,     0.16016,     0.16116,     0.16216,     0.16316,     0.16416,     0.16517,     0.16617,     0.16717,\n",
      "           0.16817,     0.16917,     0.17017,     0.17117,     0.17217,     0.17317,     0.17417,     0.17518,     0.17618,     0.17718,     0.17818,     0.17918,     0.18018,     0.18118,     0.18218,     0.18318,     0.18418,     0.18519,     0.18619,     0.18719,     0.18819,     0.18919,     0.19019,     0.19119,\n",
      "           0.19219,     0.19319,     0.19419,      0.1952,      0.1962,      0.1972,      0.1982,      0.1992,      0.2002,      0.2012,      0.2022,      0.2032,      0.2042,     0.20521,     0.20621,     0.20721,     0.20821,     0.20921,     0.21021,     0.21121,     0.21221,     0.21321,     0.21421,     0.21522,\n",
      "           0.21622,     0.21722,     0.21822,     0.21922,     0.22022,     0.22122,     0.22222,     0.22322,     0.22422,     0.22523,     0.22623,     0.22723,     0.22823,     0.22923,     0.23023,     0.23123,     0.23223,     0.23323,     0.23423,     0.23524,     0.23624,     0.23724,     0.23824,     0.23924,\n",
      "           0.24024,     0.24124,     0.24224,     0.24324,     0.24424,     0.24525,     0.24625,     0.24725,     0.24825,     0.24925,     0.25025,     0.25125,     0.25225,     0.25325,     0.25425,     0.25526,     0.25626,     0.25726,     0.25826,     0.25926,     0.26026,     0.26126,     0.26226,     0.26326,\n",
      "           0.26426,     0.26527,     0.26627,     0.26727,     0.26827,     0.26927,     0.27027,     0.27127,     0.27227,     0.27327,     0.27427,     0.27528,     0.27628,     0.27728,     0.27828,     0.27928,     0.28028,     0.28128,     0.28228,     0.28328,     0.28428,     0.28529,     0.28629,     0.28729,\n",
      "           0.28829,     0.28929,     0.29029,     0.29129,     0.29229,     0.29329,     0.29429,      0.2953,      0.2963,      0.2973,      0.2983,      0.2993,      0.3003,      0.3013,      0.3023,      0.3033,      0.3043,     0.30531,     0.30631,     0.30731,     0.30831,     0.30931,     0.31031,     0.31131,\n",
      "           0.31231,     0.31331,     0.31431,     0.31532,     0.31632,     0.31732,     0.31832,     0.31932,     0.32032,     0.32132,     0.32232,     0.32332,     0.32432,     0.32533,     0.32633,     0.32733,     0.32833,     0.32933,     0.33033,     0.33133,     0.33233,     0.33333,     0.33433,     0.33534,\n",
      "           0.33634,     0.33734,     0.33834,     0.33934,     0.34034,     0.34134,     0.34234,     0.34334,     0.34434,     0.34535,     0.34635,     0.34735,     0.34835,     0.34935,     0.35035,     0.35135,     0.35235,     0.35335,     0.35435,     0.35536,     0.35636,     0.35736,     0.35836,     0.35936,\n",
      "           0.36036,     0.36136,     0.36236,     0.36336,     0.36436,     0.36537,     0.36637,     0.36737,     0.36837,     0.36937,     0.37037,     0.37137,     0.37237,     0.37337,     0.37437,     0.37538,     0.37638,     0.37738,     0.37838,     0.37938,     0.38038,     0.38138,     0.38238,     0.38338,\n",
      "           0.38438,     0.38539,     0.38639,     0.38739,     0.38839,     0.38939,     0.39039,     0.39139,     0.39239,     0.39339,     0.39439,      0.3954,      0.3964,      0.3974,      0.3984,      0.3994,      0.4004,      0.4014,      0.4024,      0.4034,      0.4044,     0.40541,     0.40641,     0.40741,\n",
      "           0.40841,     0.40941,     0.41041,     0.41141,     0.41241,     0.41341,     0.41441,     0.41542,     0.41642,     0.41742,     0.41842,     0.41942,     0.42042,     0.42142,     0.42242,     0.42342,     0.42442,     0.42543,     0.42643,     0.42743,     0.42843,     0.42943,     0.43043,     0.43143,\n",
      "           0.43243,     0.43343,     0.43443,     0.43544,     0.43644,     0.43744,     0.43844,     0.43944,     0.44044,     0.44144,     0.44244,     0.44344,     0.44444,     0.44545,     0.44645,     0.44745,     0.44845,     0.44945,     0.45045,     0.45145,     0.45245,     0.45345,     0.45445,     0.45546,\n",
      "           0.45646,     0.45746,     0.45846,     0.45946,     0.46046,     0.46146,     0.46246,     0.46346,     0.46446,     0.46547,     0.46647,     0.46747,     0.46847,     0.46947,     0.47047,     0.47147,     0.47247,     0.47347,     0.47447,     0.47548,     0.47648,     0.47748,     0.47848,     0.47948,\n",
      "           0.48048,     0.48148,     0.48248,     0.48348,     0.48448,     0.48549,     0.48649,     0.48749,     0.48849,     0.48949,     0.49049,     0.49149,     0.49249,     0.49349,     0.49449,      0.4955,      0.4965,      0.4975,      0.4985,      0.4995,      0.5005,      0.5015,      0.5025,      0.5035,\n",
      "            0.5045,     0.50551,     0.50651,     0.50751,     0.50851,     0.50951,     0.51051,     0.51151,     0.51251,     0.51351,     0.51451,     0.51552,     0.51652,     0.51752,     0.51852,     0.51952,     0.52052,     0.52152,     0.52252,     0.52352,     0.52452,     0.52553,     0.52653,     0.52753,\n",
      "           0.52853,     0.52953,     0.53053,     0.53153,     0.53253,     0.53353,     0.53453,     0.53554,     0.53654,     0.53754,     0.53854,     0.53954,     0.54054,     0.54154,     0.54254,     0.54354,     0.54454,     0.54555,     0.54655,     0.54755,     0.54855,     0.54955,     0.55055,     0.55155,\n",
      "           0.55255,     0.55355,     0.55455,     0.55556,     0.55656,     0.55756,     0.55856,     0.55956,     0.56056,     0.56156,     0.56256,     0.56356,     0.56456,     0.56557,     0.56657,     0.56757,     0.56857,     0.56957,     0.57057,     0.57157,     0.57257,     0.57357,     0.57457,     0.57558,\n",
      "           0.57658,     0.57758,     0.57858,     0.57958,     0.58058,     0.58158,     0.58258,     0.58358,     0.58458,     0.58559,     0.58659,     0.58759,     0.58859,     0.58959,     0.59059,     0.59159,     0.59259,     0.59359,     0.59459,      0.5956,      0.5966,      0.5976,      0.5986,      0.5996,\n",
      "            0.6006,      0.6016,      0.6026,      0.6036,      0.6046,     0.60561,     0.60661,     0.60761,     0.60861,     0.60961,     0.61061,     0.61161,     0.61261,     0.61361,     0.61461,     0.61562,     0.61662,     0.61762,     0.61862,     0.61962,     0.62062,     0.62162,     0.62262,     0.62362,\n",
      "           0.62462,     0.62563,     0.62663,     0.62763,     0.62863,     0.62963,     0.63063,     0.63163,     0.63263,     0.63363,     0.63463,     0.63564,     0.63664,     0.63764,     0.63864,     0.63964,     0.64064,     0.64164,     0.64264,     0.64364,     0.64464,     0.64565,     0.64665,     0.64765,\n",
      "           0.64865,     0.64965,     0.65065,     0.65165,     0.65265,     0.65365,     0.65465,     0.65566,     0.65666,     0.65766,     0.65866,     0.65966,     0.66066,     0.66166,     0.66266,     0.66366,     0.66466,     0.66567,     0.66667,     0.66767,     0.66867,     0.66967,     0.67067,     0.67167,\n",
      "           0.67267,     0.67367,     0.67467,     0.67568,     0.67668,     0.67768,     0.67868,     0.67968,     0.68068,     0.68168,     0.68268,     0.68368,     0.68468,     0.68569,     0.68669,     0.68769,     0.68869,     0.68969,     0.69069,     0.69169,     0.69269,     0.69369,     0.69469,      0.6957,\n",
      "            0.6967,      0.6977,      0.6987,      0.6997,      0.7007,      0.7017,      0.7027,      0.7037,      0.7047,     0.70571,     0.70671,     0.70771,     0.70871,     0.70971,     0.71071,     0.71171,     0.71271,     0.71371,     0.71471,     0.71572,     0.71672,     0.71772,     0.71872,     0.71972,\n",
      "           0.72072,     0.72172,     0.72272,     0.72372,     0.72472,     0.72573,     0.72673,     0.72773,     0.72873,     0.72973,     0.73073,     0.73173,     0.73273,     0.73373,     0.73473,     0.73574,     0.73674,     0.73774,     0.73874,     0.73974,     0.74074,     0.74174,     0.74274,     0.74374,\n",
      "           0.74474,     0.74575,     0.74675,     0.74775,     0.74875,     0.74975,     0.75075,     0.75175,     0.75275,     0.75375,     0.75475,     0.75576,     0.75676,     0.75776,     0.75876,     0.75976,     0.76076,     0.76176,     0.76276,     0.76376,     0.76476,     0.76577,     0.76677,     0.76777,\n",
      "           0.76877,     0.76977,     0.77077,     0.77177,     0.77277,     0.77377,     0.77477,     0.77578,     0.77678,     0.77778,     0.77878,     0.77978,     0.78078,     0.78178,     0.78278,     0.78378,     0.78478,     0.78579,     0.78679,     0.78779,     0.78879,     0.78979,     0.79079,     0.79179,\n",
      "           0.79279,     0.79379,     0.79479,      0.7958,      0.7968,      0.7978,      0.7988,      0.7998,      0.8008,      0.8018,      0.8028,      0.8038,      0.8048,     0.80581,     0.80681,     0.80781,     0.80881,     0.80981,     0.81081,     0.81181,     0.81281,     0.81381,     0.81481,     0.81582,\n",
      "           0.81682,     0.81782,     0.81882,     0.81982,     0.82082,     0.82182,     0.82282,     0.82382,     0.82482,     0.82583,     0.82683,     0.82783,     0.82883,     0.82983,     0.83083,     0.83183,     0.83283,     0.83383,     0.83483,     0.83584,     0.83684,     0.83784,     0.83884,     0.83984,\n",
      "           0.84084,     0.84184,     0.84284,     0.84384,     0.84484,     0.84585,     0.84685,     0.84785,     0.84885,     0.84985,     0.85085,     0.85185,     0.85285,     0.85385,     0.85485,     0.85586,     0.85686,     0.85786,     0.85886,     0.85986,     0.86086,     0.86186,     0.86286,     0.86386,\n",
      "           0.86486,     0.86587,     0.86687,     0.86787,     0.86887,     0.86987,     0.87087,     0.87187,     0.87287,     0.87387,     0.87487,     0.87588,     0.87688,     0.87788,     0.87888,     0.87988,     0.88088,     0.88188,     0.88288,     0.88388,     0.88488,     0.88589,     0.88689,     0.88789,\n",
      "           0.88889,     0.88989,     0.89089,     0.89189,     0.89289,     0.89389,     0.89489,      0.8959,      0.8969,      0.8979,      0.8989,      0.8999,      0.9009,      0.9019,      0.9029,      0.9039,      0.9049,     0.90591,     0.90691,     0.90791,     0.90891,     0.90991,     0.91091,     0.91191,\n",
      "           0.91291,     0.91391,     0.91491,     0.91592,     0.91692,     0.91792,     0.91892,     0.91992,     0.92092,     0.92192,     0.92292,     0.92392,     0.92492,     0.92593,     0.92693,     0.92793,     0.92893,     0.92993,     0.93093,     0.93193,     0.93293,     0.93393,     0.93493,     0.93594,\n",
      "           0.93694,     0.93794,     0.93894,     0.93994,     0.94094,     0.94194,     0.94294,     0.94394,     0.94494,     0.94595,     0.94695,     0.94795,     0.94895,     0.94995,     0.95095,     0.95195,     0.95295,     0.95395,     0.95495,     0.95596,     0.95696,     0.95796,     0.95896,     0.95996,\n",
      "           0.96096,     0.96196,     0.96296,     0.96396,     0.96496,     0.96597,     0.96697,     0.96797,     0.96897,     0.96997,     0.97097,     0.97197,     0.97297,     0.97397,     0.97497,     0.97598,     0.97698,     0.97798,     0.97898,     0.97998,     0.98098,     0.98198,     0.98298,     0.98398,\n",
      "           0.98498,     0.98599,     0.98699,     0.98799,     0.98899,     0.98999,     0.99099,     0.99199,     0.99299,     0.99399,     0.99499,       0.996,       0.997,       0.998,       0.999,           1]), array([[   0.018618,    0.018624,    0.024402, ...,           1,           1,           1],\n",
      "       [   0.024107,    0.024118,    0.035893, ...,           1,           1,           1],\n",
      "       [    0.10393,     0.10396,       0.128, ...,           1,           1,           1],\n",
      "       ...,\n",
      "       [   0.049469,    0.049487,    0.065714, ...,           1,           1,           1],\n",
      "       [          0,           0,           0, ...,           1,           1,           1],\n",
      "       [   0.028917,    0.028929,    0.041941, ...,           1,           1,           1]], shape=(10, 1000)), 'Confidence', 'Precision'], [array([          0,    0.001001,    0.002002,    0.003003,    0.004004,    0.005005,    0.006006,    0.007007,    0.008008,    0.009009,     0.01001,    0.011011,    0.012012,    0.013013,    0.014014,    0.015015,    0.016016,    0.017017,    0.018018,    0.019019,     0.02002,    0.021021,    0.022022,    0.023023,\n",
      "          0.024024,    0.025025,    0.026026,    0.027027,    0.028028,    0.029029,     0.03003,    0.031031,    0.032032,    0.033033,    0.034034,    0.035035,    0.036036,    0.037037,    0.038038,    0.039039,     0.04004,    0.041041,    0.042042,    0.043043,    0.044044,    0.045045,    0.046046,    0.047047,\n",
      "          0.048048,    0.049049,     0.05005,    0.051051,    0.052052,    0.053053,    0.054054,    0.055055,    0.056056,    0.057057,    0.058058,    0.059059,     0.06006,    0.061061,    0.062062,    0.063063,    0.064064,    0.065065,    0.066066,    0.067067,    0.068068,    0.069069,     0.07007,    0.071071,\n",
      "          0.072072,    0.073073,    0.074074,    0.075075,    0.076076,    0.077077,    0.078078,    0.079079,     0.08008,    0.081081,    0.082082,    0.083083,    0.084084,    0.085085,    0.086086,    0.087087,    0.088088,    0.089089,     0.09009,    0.091091,    0.092092,    0.093093,    0.094094,    0.095095,\n",
      "          0.096096,    0.097097,    0.098098,    0.099099,      0.1001,      0.1011,      0.1021,      0.1031,      0.1041,     0.10511,     0.10611,     0.10711,     0.10811,     0.10911,     0.11011,     0.11111,     0.11211,     0.11311,     0.11411,     0.11512,     0.11612,     0.11712,     0.11812,     0.11912,\n",
      "           0.12012,     0.12112,     0.12212,     0.12312,     0.12412,     0.12513,     0.12613,     0.12713,     0.12813,     0.12913,     0.13013,     0.13113,     0.13213,     0.13313,     0.13413,     0.13514,     0.13614,     0.13714,     0.13814,     0.13914,     0.14014,     0.14114,     0.14214,     0.14314,\n",
      "           0.14414,     0.14515,     0.14615,     0.14715,     0.14815,     0.14915,     0.15015,     0.15115,     0.15215,     0.15315,     0.15415,     0.15516,     0.15616,     0.15716,     0.15816,     0.15916,     0.16016,     0.16116,     0.16216,     0.16316,     0.16416,     0.16517,     0.16617,     0.16717,\n",
      "           0.16817,     0.16917,     0.17017,     0.17117,     0.17217,     0.17317,     0.17417,     0.17518,     0.17618,     0.17718,     0.17818,     0.17918,     0.18018,     0.18118,     0.18218,     0.18318,     0.18418,     0.18519,     0.18619,     0.18719,     0.18819,     0.18919,     0.19019,     0.19119,\n",
      "           0.19219,     0.19319,     0.19419,      0.1952,      0.1962,      0.1972,      0.1982,      0.1992,      0.2002,      0.2012,      0.2022,      0.2032,      0.2042,     0.20521,     0.20621,     0.20721,     0.20821,     0.20921,     0.21021,     0.21121,     0.21221,     0.21321,     0.21421,     0.21522,\n",
      "           0.21622,     0.21722,     0.21822,     0.21922,     0.22022,     0.22122,     0.22222,     0.22322,     0.22422,     0.22523,     0.22623,     0.22723,     0.22823,     0.22923,     0.23023,     0.23123,     0.23223,     0.23323,     0.23423,     0.23524,     0.23624,     0.23724,     0.23824,     0.23924,\n",
      "           0.24024,     0.24124,     0.24224,     0.24324,     0.24424,     0.24525,     0.24625,     0.24725,     0.24825,     0.24925,     0.25025,     0.25125,     0.25225,     0.25325,     0.25425,     0.25526,     0.25626,     0.25726,     0.25826,     0.25926,     0.26026,     0.26126,     0.26226,     0.26326,\n",
      "           0.26426,     0.26527,     0.26627,     0.26727,     0.26827,     0.26927,     0.27027,     0.27127,     0.27227,     0.27327,     0.27427,     0.27528,     0.27628,     0.27728,     0.27828,     0.27928,     0.28028,     0.28128,     0.28228,     0.28328,     0.28428,     0.28529,     0.28629,     0.28729,\n",
      "           0.28829,     0.28929,     0.29029,     0.29129,     0.29229,     0.29329,     0.29429,      0.2953,      0.2963,      0.2973,      0.2983,      0.2993,      0.3003,      0.3013,      0.3023,      0.3033,      0.3043,     0.30531,     0.30631,     0.30731,     0.30831,     0.30931,     0.31031,     0.31131,\n",
      "           0.31231,     0.31331,     0.31431,     0.31532,     0.31632,     0.31732,     0.31832,     0.31932,     0.32032,     0.32132,     0.32232,     0.32332,     0.32432,     0.32533,     0.32633,     0.32733,     0.32833,     0.32933,     0.33033,     0.33133,     0.33233,     0.33333,     0.33433,     0.33534,\n",
      "           0.33634,     0.33734,     0.33834,     0.33934,     0.34034,     0.34134,     0.34234,     0.34334,     0.34434,     0.34535,     0.34635,     0.34735,     0.34835,     0.34935,     0.35035,     0.35135,     0.35235,     0.35335,     0.35435,     0.35536,     0.35636,     0.35736,     0.35836,     0.35936,\n",
      "           0.36036,     0.36136,     0.36236,     0.36336,     0.36436,     0.36537,     0.36637,     0.36737,     0.36837,     0.36937,     0.37037,     0.37137,     0.37237,     0.37337,     0.37437,     0.37538,     0.37638,     0.37738,     0.37838,     0.37938,     0.38038,     0.38138,     0.38238,     0.38338,\n",
      "           0.38438,     0.38539,     0.38639,     0.38739,     0.38839,     0.38939,     0.39039,     0.39139,     0.39239,     0.39339,     0.39439,      0.3954,      0.3964,      0.3974,      0.3984,      0.3994,      0.4004,      0.4014,      0.4024,      0.4034,      0.4044,     0.40541,     0.40641,     0.40741,\n",
      "           0.40841,     0.40941,     0.41041,     0.41141,     0.41241,     0.41341,     0.41441,     0.41542,     0.41642,     0.41742,     0.41842,     0.41942,     0.42042,     0.42142,     0.42242,     0.42342,     0.42442,     0.42543,     0.42643,     0.42743,     0.42843,     0.42943,     0.43043,     0.43143,\n",
      "           0.43243,     0.43343,     0.43443,     0.43544,     0.43644,     0.43744,     0.43844,     0.43944,     0.44044,     0.44144,     0.44244,     0.44344,     0.44444,     0.44545,     0.44645,     0.44745,     0.44845,     0.44945,     0.45045,     0.45145,     0.45245,     0.45345,     0.45445,     0.45546,\n",
      "           0.45646,     0.45746,     0.45846,     0.45946,     0.46046,     0.46146,     0.46246,     0.46346,     0.46446,     0.46547,     0.46647,     0.46747,     0.46847,     0.46947,     0.47047,     0.47147,     0.47247,     0.47347,     0.47447,     0.47548,     0.47648,     0.47748,     0.47848,     0.47948,\n",
      "           0.48048,     0.48148,     0.48248,     0.48348,     0.48448,     0.48549,     0.48649,     0.48749,     0.48849,     0.48949,     0.49049,     0.49149,     0.49249,     0.49349,     0.49449,      0.4955,      0.4965,      0.4975,      0.4985,      0.4995,      0.5005,      0.5015,      0.5025,      0.5035,\n",
      "            0.5045,     0.50551,     0.50651,     0.50751,     0.50851,     0.50951,     0.51051,     0.51151,     0.51251,     0.51351,     0.51451,     0.51552,     0.51652,     0.51752,     0.51852,     0.51952,     0.52052,     0.52152,     0.52252,     0.52352,     0.52452,     0.52553,     0.52653,     0.52753,\n",
      "           0.52853,     0.52953,     0.53053,     0.53153,     0.53253,     0.53353,     0.53453,     0.53554,     0.53654,     0.53754,     0.53854,     0.53954,     0.54054,     0.54154,     0.54254,     0.54354,     0.54454,     0.54555,     0.54655,     0.54755,     0.54855,     0.54955,     0.55055,     0.55155,\n",
      "           0.55255,     0.55355,     0.55455,     0.55556,     0.55656,     0.55756,     0.55856,     0.55956,     0.56056,     0.56156,     0.56256,     0.56356,     0.56456,     0.56557,     0.56657,     0.56757,     0.56857,     0.56957,     0.57057,     0.57157,     0.57257,     0.57357,     0.57457,     0.57558,\n",
      "           0.57658,     0.57758,     0.57858,     0.57958,     0.58058,     0.58158,     0.58258,     0.58358,     0.58458,     0.58559,     0.58659,     0.58759,     0.58859,     0.58959,     0.59059,     0.59159,     0.59259,     0.59359,     0.59459,      0.5956,      0.5966,      0.5976,      0.5986,      0.5996,\n",
      "            0.6006,      0.6016,      0.6026,      0.6036,      0.6046,     0.60561,     0.60661,     0.60761,     0.60861,     0.60961,     0.61061,     0.61161,     0.61261,     0.61361,     0.61461,     0.61562,     0.61662,     0.61762,     0.61862,     0.61962,     0.62062,     0.62162,     0.62262,     0.62362,\n",
      "           0.62462,     0.62563,     0.62663,     0.62763,     0.62863,     0.62963,     0.63063,     0.63163,     0.63263,     0.63363,     0.63463,     0.63564,     0.63664,     0.63764,     0.63864,     0.63964,     0.64064,     0.64164,     0.64264,     0.64364,     0.64464,     0.64565,     0.64665,     0.64765,\n",
      "           0.64865,     0.64965,     0.65065,     0.65165,     0.65265,     0.65365,     0.65465,     0.65566,     0.65666,     0.65766,     0.65866,     0.65966,     0.66066,     0.66166,     0.66266,     0.66366,     0.66466,     0.66567,     0.66667,     0.66767,     0.66867,     0.66967,     0.67067,     0.67167,\n",
      "           0.67267,     0.67367,     0.67467,     0.67568,     0.67668,     0.67768,     0.67868,     0.67968,     0.68068,     0.68168,     0.68268,     0.68368,     0.68468,     0.68569,     0.68669,     0.68769,     0.68869,     0.68969,     0.69069,     0.69169,     0.69269,     0.69369,     0.69469,      0.6957,\n",
      "            0.6967,      0.6977,      0.6987,      0.6997,      0.7007,      0.7017,      0.7027,      0.7037,      0.7047,     0.70571,     0.70671,     0.70771,     0.70871,     0.70971,     0.71071,     0.71171,     0.71271,     0.71371,     0.71471,     0.71572,     0.71672,     0.71772,     0.71872,     0.71972,\n",
      "           0.72072,     0.72172,     0.72272,     0.72372,     0.72472,     0.72573,     0.72673,     0.72773,     0.72873,     0.72973,     0.73073,     0.73173,     0.73273,     0.73373,     0.73473,     0.73574,     0.73674,     0.73774,     0.73874,     0.73974,     0.74074,     0.74174,     0.74274,     0.74374,\n",
      "           0.74474,     0.74575,     0.74675,     0.74775,     0.74875,     0.74975,     0.75075,     0.75175,     0.75275,     0.75375,     0.75475,     0.75576,     0.75676,     0.75776,     0.75876,     0.75976,     0.76076,     0.76176,     0.76276,     0.76376,     0.76476,     0.76577,     0.76677,     0.76777,\n",
      "           0.76877,     0.76977,     0.77077,     0.77177,     0.77277,     0.77377,     0.77477,     0.77578,     0.77678,     0.77778,     0.77878,     0.77978,     0.78078,     0.78178,     0.78278,     0.78378,     0.78478,     0.78579,     0.78679,     0.78779,     0.78879,     0.78979,     0.79079,     0.79179,\n",
      "           0.79279,     0.79379,     0.79479,      0.7958,      0.7968,      0.7978,      0.7988,      0.7998,      0.8008,      0.8018,      0.8028,      0.8038,      0.8048,     0.80581,     0.80681,     0.80781,     0.80881,     0.80981,     0.81081,     0.81181,     0.81281,     0.81381,     0.81481,     0.81582,\n",
      "           0.81682,     0.81782,     0.81882,     0.81982,     0.82082,     0.82182,     0.82282,     0.82382,     0.82482,     0.82583,     0.82683,     0.82783,     0.82883,     0.82983,     0.83083,     0.83183,     0.83283,     0.83383,     0.83483,     0.83584,     0.83684,     0.83784,     0.83884,     0.83984,\n",
      "           0.84084,     0.84184,     0.84284,     0.84384,     0.84484,     0.84585,     0.84685,     0.84785,     0.84885,     0.84985,     0.85085,     0.85185,     0.85285,     0.85385,     0.85485,     0.85586,     0.85686,     0.85786,     0.85886,     0.85986,     0.86086,     0.86186,     0.86286,     0.86386,\n",
      "           0.86486,     0.86587,     0.86687,     0.86787,     0.86887,     0.86987,     0.87087,     0.87187,     0.87287,     0.87387,     0.87487,     0.87588,     0.87688,     0.87788,     0.87888,     0.87988,     0.88088,     0.88188,     0.88288,     0.88388,     0.88488,     0.88589,     0.88689,     0.88789,\n",
      "           0.88889,     0.88989,     0.89089,     0.89189,     0.89289,     0.89389,     0.89489,      0.8959,      0.8969,      0.8979,      0.8989,      0.8999,      0.9009,      0.9019,      0.9029,      0.9039,      0.9049,     0.90591,     0.90691,     0.90791,     0.90891,     0.90991,     0.91091,     0.91191,\n",
      "           0.91291,     0.91391,     0.91491,     0.91592,     0.91692,     0.91792,     0.91892,     0.91992,     0.92092,     0.92192,     0.92292,     0.92392,     0.92492,     0.92593,     0.92693,     0.92793,     0.92893,     0.92993,     0.93093,     0.93193,     0.93293,     0.93393,     0.93493,     0.93594,\n",
      "           0.93694,     0.93794,     0.93894,     0.93994,     0.94094,     0.94194,     0.94294,     0.94394,     0.94494,     0.94595,     0.94695,     0.94795,     0.94895,     0.94995,     0.95095,     0.95195,     0.95295,     0.95395,     0.95495,     0.95596,     0.95696,     0.95796,     0.95896,     0.95996,\n",
      "           0.96096,     0.96196,     0.96296,     0.96396,     0.96496,     0.96597,     0.96697,     0.96797,     0.96897,     0.96997,     0.97097,     0.97197,     0.97297,     0.97397,     0.97497,     0.97598,     0.97698,     0.97798,     0.97898,     0.97998,     0.98098,     0.98198,     0.98298,     0.98398,\n",
      "           0.98498,     0.98599,     0.98699,     0.98799,     0.98899,     0.98999,     0.99099,     0.99199,     0.99299,     0.99399,     0.99499,       0.996,       0.997,       0.998,       0.999,           1]), array([[    0.67527,     0.67527,     0.66435, ...,           0,           0,           0],\n",
      "       [     0.8541,      0.8541,      0.8397, ...,           0,           0,           0],\n",
      "       [    0.84269,     0.84268,     0.83988, ...,           0,           0,           0],\n",
      "       ...,\n",
      "       [    0.77922,     0.77922,     0.77203, ...,           0,           0,           0],\n",
      "       [          0,           0,           0, ...,           0,           0,           0],\n",
      "       [    0.89046,     0.89046,     0.87585, ...,           0,           0,           0]], shape=(10, 1000)), 'Confidence', 'Recall']]\n",
      "fitness: np.float64(0.26773329436527027)\n",
      "keys: ['metrics/precision(B)', 'metrics/recall(B)', 'metrics/mAP50(B)', 'metrics/mAP50-95(B)']\n",
      "maps: array([    0.16219,     0.41929,     0.45769,     0.15499,     0.24416,     0.16675,     0.18226,      0.2829,           0,     0.41074])\n",
      "names: {0: 'bike', 1: 'bus', 2: 'car', 3: 'motor', 4: 'person', 5: 'rider', 6: 'traffic light', 7: 'traffic sign', 8: 'train', 9: 'truck'}\n",
      "plot: True\n",
      "results_dict: {'metrics/precision(B)': np.float64(0.6758236775647923), 'metrics/recall(B)': np.float64(0.39938496262250883), 'metrics/mAP50(B)': np.float64(0.4444480219395506), 'metrics/mAP50-95(B)': np.float64(0.24809832463479467), 'fitness': np.float64(0.26773329436527027)}\n",
      "save_dir: WindowsPath('runs/detect/val')\n",
      "speed: {'preprocess': 0.2497979640960693, 'inference': 3.270131659507751, 'loss': 0.0012796878814697265, 'postprocess': 2.0900002002716063}\n",
      "task: 'detect'\n"
     ]
    }
   ],
   "source": [
    "# Validation:\n",
    "\n",
    "from ultralytics import YOLO\n",
    "\n",
    "# Load the trained model\n",
    "model = YOLO(\"C:/Users/okeiy/OneDrive - University of Salford/Documents/Sch Notes/Dissertation/Codes/Dataset/Yolo/bdd100k/runs/detect/train/weights/best.pt\")\n",
    "\n",
    "# Run validation\n",
    "metrics = model.val(data=\"C:/Users/okeiy/OneDrive - University of Salford/Documents/Sch Notes/Dissertation/Codes/Dataset/Yolo/bdd100k/data.yaml\", save=True)\n",
    "\n",
    "# Print evaluation results\n",
    "print(metrics)"
   ]
  },
  {
   "cell_type": "code",
   "execution_count": 3,
   "id": "80e5fcd9-64bf-4994-81cb-dbe798620025",
   "metadata": {
    "scrolled": true
   },
   "outputs": [
    {
     "name": "stdout",
     "output_type": "stream",
     "text": [
      "\n",
      "\n",
      "WARNING  inference results will accumulate in RAM unless `stream=True` is passed, causing potential out-of-memory\n",
      "errors for large sources or long-running streams and videos. See https://docs.ultralytics.com/modes/predict/ for help.\n",
      "\n",
      "Example:\n",
      "    results = model(source=..., stream=True)  # generator of Results objects\n",
      "    for r in results:\n",
      "        boxes = r.boxes  # Boxes object for bbox outputs\n",
      "        masks = r.masks  # Masks object for segment masks outputs\n",
      "        probs = r.probs  # Class probabilities for classification outputs\n",
      "\n",
      "video 1/1 (frame 1/1100) C:\\Users\\okeiy\\Downloads\\Video\\09876.mp4: 384x640 7 cars, 1 traffic sign, 289.9ms\n",
      "video 1/1 (frame 2/1100) C:\\Users\\okeiy\\Downloads\\Video\\09876.mp4: 384x640 6 cars, 1 traffic sign, 31.1ms\n",
      "video 1/1 (frame 3/1100) C:\\Users\\okeiy\\Downloads\\Video\\09876.mp4: 384x640 7 cars, 1 traffic sign, 33.1ms\n",
      "video 1/1 (frame 4/1100) C:\\Users\\okeiy\\Downloads\\Video\\09876.mp4: 384x640 6 cars, 29.3ms\n",
      "video 1/1 (frame 5/1100) C:\\Users\\okeiy\\Downloads\\Video\\09876.mp4: 384x640 7 cars, 1 traffic sign, 27.4ms\n",
      "video 1/1 (frame 6/1100) C:\\Users\\okeiy\\Downloads\\Video\\09876.mp4: 384x640 7 cars, 1 traffic sign, 24.5ms\n",
      "video 1/1 (frame 7/1100) C:\\Users\\okeiy\\Downloads\\Video\\09876.mp4: 384x640 8 cars, 1 traffic sign, 24.3ms\n",
      "video 1/1 (frame 8/1100) C:\\Users\\okeiy\\Downloads\\Video\\09876.mp4: 384x640 7 cars, 27.8ms\n",
      "video 1/1 (frame 9/1100) C:\\Users\\okeiy\\Downloads\\Video\\09876.mp4: 384x640 8 cars, 22.8ms\n",
      "video 1/1 (frame 10/1100) C:\\Users\\okeiy\\Downloads\\Video\\09876.mp4: 384x640 8 cars, 22.6ms\n",
      "video 1/1 (frame 11/1100) C:\\Users\\okeiy\\Downloads\\Video\\09876.mp4: 384x640 7 cars, 22.1ms\n",
      "video 1/1 (frame 12/1100) C:\\Users\\okeiy\\Downloads\\Video\\09876.mp4: 384x640 7 cars, 22.9ms\n",
      "video 1/1 (frame 13/1100) C:\\Users\\okeiy\\Downloads\\Video\\09876.mp4: 384x640 8 cars, 22.5ms\n",
      "video 1/1 (frame 14/1100) C:\\Users\\okeiy\\Downloads\\Video\\09876.mp4: 384x640 7 cars, 23.1ms\n",
      "video 1/1 (frame 15/1100) C:\\Users\\okeiy\\Downloads\\Video\\09876.mp4: 384x640 7 cars, 24.4ms\n",
      "video 1/1 (frame 16/1100) C:\\Users\\okeiy\\Downloads\\Video\\09876.mp4: 384x640 7 cars, 20.1ms\n",
      "video 1/1 (frame 17/1100) C:\\Users\\okeiy\\Downloads\\Video\\09876.mp4: 384x640 7 cars, 20.1ms\n",
      "video 1/1 (frame 18/1100) C:\\Users\\okeiy\\Downloads\\Video\\09876.mp4: 384x640 7 cars, 24.4ms\n",
      "video 1/1 (frame 19/1100) C:\\Users\\okeiy\\Downloads\\Video\\09876.mp4: 384x640 7 cars, 21.6ms\n",
      "video 1/1 (frame 20/1100) C:\\Users\\okeiy\\Downloads\\Video\\09876.mp4: 384x640 5 cars, 22.7ms\n",
      "video 1/1 (frame 21/1100) C:\\Users\\okeiy\\Downloads\\Video\\09876.mp4: 384x640 6 cars, 7.8ms\n",
      "video 1/1 (frame 22/1100) C:\\Users\\okeiy\\Downloads\\Video\\09876.mp4: 384x640 6 cars, 11.3ms\n",
      "video 1/1 (frame 23/1100) C:\\Users\\okeiy\\Downloads\\Video\\09876.mp4: 384x640 5 cars, 8.6ms\n",
      "video 1/1 (frame 24/1100) C:\\Users\\okeiy\\Downloads\\Video\\09876.mp4: 384x640 7 cars, 7.7ms\n",
      "video 1/1 (frame 25/1100) C:\\Users\\okeiy\\Downloads\\Video\\09876.mp4: 384x640 7 cars, 8.5ms\n",
      "video 1/1 (frame 26/1100) C:\\Users\\okeiy\\Downloads\\Video\\09876.mp4: 384x640 6 cars, 8.6ms\n",
      "video 1/1 (frame 27/1100) C:\\Users\\okeiy\\Downloads\\Video\\09876.mp4: 384x640 7 cars, 7.5ms\n",
      "video 1/1 (frame 28/1100) C:\\Users\\okeiy\\Downloads\\Video\\09876.mp4: 384x640 6 cars, 8.7ms\n",
      "video 1/1 (frame 29/1100) C:\\Users\\okeiy\\Downloads\\Video\\09876.mp4: 384x640 7 cars, 8.1ms\n",
      "video 1/1 (frame 30/1100) C:\\Users\\okeiy\\Downloads\\Video\\09876.mp4: 384x640 5 cars, 8.5ms\n",
      "video 1/1 (frame 31/1100) C:\\Users\\okeiy\\Downloads\\Video\\09876.mp4: 384x640 7 cars, 8.5ms\n",
      "video 1/1 (frame 32/1100) C:\\Users\\okeiy\\Downloads\\Video\\09876.mp4: 384x640 7 cars, 8.2ms\n",
      "video 1/1 (frame 33/1100) C:\\Users\\okeiy\\Downloads\\Video\\09876.mp4: 384x640 7 cars, 8.7ms\n",
      "video 1/1 (frame 34/1100) C:\\Users\\okeiy\\Downloads\\Video\\09876.mp4: 384x640 7 cars, 10.3ms\n",
      "video 1/1 (frame 35/1100) C:\\Users\\okeiy\\Downloads\\Video\\09876.mp4: 384x640 7 cars, 8.7ms\n",
      "video 1/1 (frame 36/1100) C:\\Users\\okeiy\\Downloads\\Video\\09876.mp4: 384x640 7 cars, 8.1ms\n",
      "video 1/1 (frame 37/1100) C:\\Users\\okeiy\\Downloads\\Video\\09876.mp4: 384x640 7 cars, 7.8ms\n",
      "video 1/1 (frame 38/1100) C:\\Users\\okeiy\\Downloads\\Video\\09876.mp4: 384x640 7 cars, 9.7ms\n",
      "video 1/1 (frame 39/1100) C:\\Users\\okeiy\\Downloads\\Video\\09876.mp4: 384x640 7 cars, 9.7ms\n",
      "video 1/1 (frame 40/1100) C:\\Users\\okeiy\\Downloads\\Video\\09876.mp4: 384x640 7 cars, 7.7ms\n",
      "video 1/1 (frame 41/1100) C:\\Users\\okeiy\\Downloads\\Video\\09876.mp4: 384x640 7 cars, 9.0ms\n",
      "video 1/1 (frame 42/1100) C:\\Users\\okeiy\\Downloads\\Video\\09876.mp4: 384x640 7 cars, 9.9ms\n",
      "video 1/1 (frame 43/1100) C:\\Users\\okeiy\\Downloads\\Video\\09876.mp4: 384x640 7 cars, 8.2ms\n",
      "video 1/1 (frame 44/1100) C:\\Users\\okeiy\\Downloads\\Video\\09876.mp4: 384x640 7 cars, 8.5ms\n",
      "video 1/1 (frame 45/1100) C:\\Users\\okeiy\\Downloads\\Video\\09876.mp4: 384x640 7 cars, 10.5ms\n",
      "video 1/1 (frame 46/1100) C:\\Users\\okeiy\\Downloads\\Video\\09876.mp4: 384x640 7 cars, 10.5ms\n",
      "video 1/1 (frame 47/1100) C:\\Users\\okeiy\\Downloads\\Video\\09876.mp4: 384x640 7 cars, 14.0ms\n",
      "video 1/1 (frame 48/1100) C:\\Users\\okeiy\\Downloads\\Video\\09876.mp4: 384x640 7 cars, 15.6ms\n",
      "video 1/1 (frame 49/1100) C:\\Users\\okeiy\\Downloads\\Video\\09876.mp4: 384x640 7 cars, 16.6ms\n",
      "video 1/1 (frame 50/1100) C:\\Users\\okeiy\\Downloads\\Video\\09876.mp4: 384x640 7 cars, 8.8ms\n",
      "video 1/1 (frame 51/1100) C:\\Users\\okeiy\\Downloads\\Video\\09876.mp4: 384x640 9 cars, 8.1ms\n",
      "video 1/1 (frame 52/1100) C:\\Users\\okeiy\\Downloads\\Video\\09876.mp4: 384x640 9 cars, 8.5ms\n",
      "video 1/1 (frame 53/1100) C:\\Users\\okeiy\\Downloads\\Video\\09876.mp4: 384x640 9 cars, 9.4ms\n",
      "video 1/1 (frame 54/1100) C:\\Users\\okeiy\\Downloads\\Video\\09876.mp4: 384x640 8 cars, 7.8ms\n",
      "video 1/1 (frame 55/1100) C:\\Users\\okeiy\\Downloads\\Video\\09876.mp4: 384x640 8 cars, 1 person, 7.8ms\n",
      "video 1/1 (frame 56/1100) C:\\Users\\okeiy\\Downloads\\Video\\09876.mp4: 384x640 8 cars, 8.2ms\n",
      "video 1/1 (frame 57/1100) C:\\Users\\okeiy\\Downloads\\Video\\09876.mp4: 384x640 9 cars, 8.7ms\n",
      "video 1/1 (frame 58/1100) C:\\Users\\okeiy\\Downloads\\Video\\09876.mp4: 384x640 9 cars, 8.6ms\n",
      "video 1/1 (frame 59/1100) C:\\Users\\okeiy\\Downloads\\Video\\09876.mp4: 384x640 9 cars, 8.4ms\n",
      "video 1/1 (frame 60/1100) C:\\Users\\okeiy\\Downloads\\Video\\09876.mp4: 384x640 9 cars, 7.3ms\n",
      "video 1/1 (frame 61/1100) C:\\Users\\okeiy\\Downloads\\Video\\09876.mp4: 384x640 9 cars, 8.5ms\n",
      "video 1/1 (frame 62/1100) C:\\Users\\okeiy\\Downloads\\Video\\09876.mp4: 384x640 9 cars, 8.2ms\n",
      "video 1/1 (frame 63/1100) C:\\Users\\okeiy\\Downloads\\Video\\09876.mp4: 384x640 9 cars, 7.9ms\n",
      "video 1/1 (frame 64/1100) C:\\Users\\okeiy\\Downloads\\Video\\09876.mp4: 384x640 9 cars, 1 person, 8.5ms\n",
      "video 1/1 (frame 65/1100) C:\\Users\\okeiy\\Downloads\\Video\\09876.mp4: 384x640 9 cars, 1 person, 10.3ms\n",
      "video 1/1 (frame 66/1100) C:\\Users\\okeiy\\Downloads\\Video\\09876.mp4: 384x640 8 cars, 8.7ms\n",
      "video 1/1 (frame 67/1100) C:\\Users\\okeiy\\Downloads\\Video\\09876.mp4: 384x640 8 cars, 1 person, 7.9ms\n",
      "video 1/1 (frame 68/1100) C:\\Users\\okeiy\\Downloads\\Video\\09876.mp4: 384x640 8 cars, 8.3ms\n",
      "video 1/1 (frame 69/1100) C:\\Users\\okeiy\\Downloads\\Video\\09876.mp4: 384x640 8 cars, 8.9ms\n",
      "video 1/1 (frame 70/1100) C:\\Users\\okeiy\\Downloads\\Video\\09876.mp4: 384x640 8 cars, 8.9ms\n",
      "video 1/1 (frame 71/1100) C:\\Users\\okeiy\\Downloads\\Video\\09876.mp4: 384x640 8 cars, 8.5ms\n",
      "video 1/1 (frame 72/1100) C:\\Users\\okeiy\\Downloads\\Video\\09876.mp4: 384x640 8 cars, 1 person, 11.6ms\n",
      "video 1/1 (frame 73/1100) C:\\Users\\okeiy\\Downloads\\Video\\09876.mp4: 384x640 8 cars, 1 person, 12.4ms\n",
      "video 1/1 (frame 74/1100) C:\\Users\\okeiy\\Downloads\\Video\\09876.mp4: 384x640 8 cars, 7.5ms\n",
      "video 1/1 (frame 75/1100) C:\\Users\\okeiy\\Downloads\\Video\\09876.mp4: 384x640 9 cars, 9.8ms\n",
      "video 1/1 (frame 76/1100) C:\\Users\\okeiy\\Downloads\\Video\\09876.mp4: 384x640 7 cars, 7.7ms\n",
      "video 1/1 (frame 77/1100) C:\\Users\\okeiy\\Downloads\\Video\\09876.mp4: 384x640 7 cars, 6.8ms\n",
      "video 1/1 (frame 78/1100) C:\\Users\\okeiy\\Downloads\\Video\\09876.mp4: 384x640 7 cars, 9.3ms\n",
      "video 1/1 (frame 79/1100) C:\\Users\\okeiy\\Downloads\\Video\\09876.mp4: 384x640 7 cars, 1 person, 8.4ms\n",
      "video 1/1 (frame 80/1100) C:\\Users\\okeiy\\Downloads\\Video\\09876.mp4: 384x640 7 cars, 9.5ms\n",
      "video 1/1 (frame 81/1100) C:\\Users\\okeiy\\Downloads\\Video\\09876.mp4: 384x640 8 cars, 1 person, 9.1ms\n",
      "video 1/1 (frame 82/1100) C:\\Users\\okeiy\\Downloads\\Video\\09876.mp4: 384x640 8 cars, 1 person, 7.6ms\n",
      "video 1/1 (frame 83/1100) C:\\Users\\okeiy\\Downloads\\Video\\09876.mp4: 384x640 8 cars, 2 persons, 8.5ms\n",
      "video 1/1 (frame 84/1100) C:\\Users\\okeiy\\Downloads\\Video\\09876.mp4: 384x640 9 cars, 8.6ms\n",
      "video 1/1 (frame 85/1100) C:\\Users\\okeiy\\Downloads\\Video\\09876.mp4: 384x640 9 cars, 8.5ms\n",
      "video 1/1 (frame 86/1100) C:\\Users\\okeiy\\Downloads\\Video\\09876.mp4: 384x640 9 cars, 8.0ms\n",
      "video 1/1 (frame 87/1100) C:\\Users\\okeiy\\Downloads\\Video\\09876.mp4: 384x640 10 cars, 7.2ms\n",
      "video 1/1 (frame 88/1100) C:\\Users\\okeiy\\Downloads\\Video\\09876.mp4: 384x640 9 cars, 9.7ms\n",
      "video 1/1 (frame 89/1100) C:\\Users\\okeiy\\Downloads\\Video\\09876.mp4: 384x640 9 cars, 8.8ms\n",
      "video 1/1 (frame 90/1100) C:\\Users\\okeiy\\Downloads\\Video\\09876.mp4: 384x640 9 cars, 3 persons, 8.8ms\n",
      "video 1/1 (frame 91/1100) C:\\Users\\okeiy\\Downloads\\Video\\09876.mp4: 384x640 7 cars, 9.4ms\n",
      "video 1/1 (frame 92/1100) C:\\Users\\okeiy\\Downloads\\Video\\09876.mp4: 384x640 7 cars, 2 persons, 7.7ms\n",
      "video 1/1 (frame 93/1100) C:\\Users\\okeiy\\Downloads\\Video\\09876.mp4: 384x640 7 cars, 1 person, 7.9ms\n",
      "video 1/1 (frame 94/1100) C:\\Users\\okeiy\\Downloads\\Video\\09876.mp4: 384x640 7 cars, 2 persons, 20.1ms\n",
      "video 1/1 (frame 95/1100) C:\\Users\\okeiy\\Downloads\\Video\\09876.mp4: 384x640 7 cars, 8.7ms\n",
      "video 1/1 (frame 96/1100) C:\\Users\\okeiy\\Downloads\\Video\\09876.mp4: 384x640 7 cars, 1 person, 7.7ms\n",
      "video 1/1 (frame 97/1100) C:\\Users\\okeiy\\Downloads\\Video\\09876.mp4: 384x640 7 cars, 7.5ms\n",
      "video 1/1 (frame 98/1100) C:\\Users\\okeiy\\Downloads\\Video\\09876.mp4: 384x640 7 cars, 9.2ms\n",
      "video 1/1 (frame 99/1100) C:\\Users\\okeiy\\Downloads\\Video\\09876.mp4: 384x640 7 cars, 1 person, 9.4ms\n",
      "video 1/1 (frame 100/1100) C:\\Users\\okeiy\\Downloads\\Video\\09876.mp4: 384x640 7 cars, 1 person, 7.7ms\n",
      "video 1/1 (frame 101/1100) C:\\Users\\okeiy\\Downloads\\Video\\09876.mp4: 384x640 7 cars, 16.8ms\n",
      "video 1/1 (frame 102/1100) C:\\Users\\okeiy\\Downloads\\Video\\09876.mp4: 384x640 8 cars, 15.9ms\n",
      "video 1/1 (frame 103/1100) C:\\Users\\okeiy\\Downloads\\Video\\09876.mp4: 384x640 8 cars, 1 person, 1 traffic light, 7.4ms\n",
      "video 1/1 (frame 104/1100) C:\\Users\\okeiy\\Downloads\\Video\\09876.mp4: 384x640 8 cars, 9.0ms\n",
      "video 1/1 (frame 105/1100) C:\\Users\\okeiy\\Downloads\\Video\\09876.mp4: 384x640 8 cars, 8.5ms\n",
      "video 1/1 (frame 106/1100) C:\\Users\\okeiy\\Downloads\\Video\\09876.mp4: 384x640 8 cars, 8.1ms\n",
      "video 1/1 (frame 107/1100) C:\\Users\\okeiy\\Downloads\\Video\\09876.mp4: 384x640 7 cars, 8.1ms\n",
      "video 1/1 (frame 108/1100) C:\\Users\\okeiy\\Downloads\\Video\\09876.mp4: 384x640 7 cars, 9.0ms\n",
      "video 1/1 (frame 109/1100) C:\\Users\\okeiy\\Downloads\\Video\\09876.mp4: 384x640 7 cars, 1 traffic light, 9.0ms\n",
      "video 1/1 (frame 110/1100) C:\\Users\\okeiy\\Downloads\\Video\\09876.mp4: 384x640 7 cars, 1 traffic light, 9.2ms\n",
      "video 1/1 (frame 111/1100) C:\\Users\\okeiy\\Downloads\\Video\\09876.mp4: 384x640 7 cars, 1 traffic light, 1 traffic sign, 9.7ms\n",
      "video 1/1 (frame 112/1100) C:\\Users\\okeiy\\Downloads\\Video\\09876.mp4: 384x640 7 cars, 9.8ms\n",
      "video 1/1 (frame 113/1100) C:\\Users\\okeiy\\Downloads\\Video\\09876.mp4: 384x640 7 cars, 1 traffic sign, 8.0ms\n",
      "video 1/1 (frame 114/1100) C:\\Users\\okeiy\\Downloads\\Video\\09876.mp4: 384x640 7 cars, 1 traffic sign, 8.5ms\n",
      "video 1/1 (frame 115/1100) C:\\Users\\okeiy\\Downloads\\Video\\09876.mp4: 384x640 7 cars, 1 traffic sign, 8.5ms\n",
      "video 1/1 (frame 116/1100) C:\\Users\\okeiy\\Downloads\\Video\\09876.mp4: 384x640 7 cars, 1 traffic light, 1 traffic sign, 9.5ms\n",
      "video 1/1 (frame 117/1100) C:\\Users\\okeiy\\Downloads\\Video\\09876.mp4: 384x640 7 cars, 1 traffic light, 8.0ms\n",
      "video 1/1 (frame 118/1100) C:\\Users\\okeiy\\Downloads\\Video\\09876.mp4: 384x640 7 cars, 9.0ms\n",
      "video 1/1 (frame 119/1100) C:\\Users\\okeiy\\Downloads\\Video\\09876.mp4: 384x640 7 cars, 8.6ms\n",
      "video 1/1 (frame 120/1100) C:\\Users\\okeiy\\Downloads\\Video\\09876.mp4: 384x640 7 cars, 12.3ms\n",
      "video 1/1 (frame 121/1100) C:\\Users\\okeiy\\Downloads\\Video\\09876.mp4: 384x640 7 cars, 1 traffic light, 7.6ms\n",
      "video 1/1 (frame 122/1100) C:\\Users\\okeiy\\Downloads\\Video\\09876.mp4: 384x640 6 cars, 8.0ms\n",
      "video 1/1 (frame 123/1100) C:\\Users\\okeiy\\Downloads\\Video\\09876.mp4: 384x640 6 cars, 7.6ms\n",
      "video 1/1 (frame 124/1100) C:\\Users\\okeiy\\Downloads\\Video\\09876.mp4: 384x640 6 cars, 1 traffic light, 9.1ms\n",
      "video 1/1 (frame 125/1100) C:\\Users\\okeiy\\Downloads\\Video\\09876.mp4: 384x640 6 cars, 8.3ms\n",
      "video 1/1 (frame 126/1100) C:\\Users\\okeiy\\Downloads\\Video\\09876.mp4: 384x640 6 cars, 8.8ms\n",
      "video 1/1 (frame 127/1100) C:\\Users\\okeiy\\Downloads\\Video\\09876.mp4: 384x640 6 cars, 9.2ms\n",
      "video 1/1 (frame 128/1100) C:\\Users\\okeiy\\Downloads\\Video\\09876.mp4: 384x640 6 cars, 7.1ms\n",
      "video 1/1 (frame 129/1100) C:\\Users\\okeiy\\Downloads\\Video\\09876.mp4: 384x640 6 cars, 2 traffic lights, 10.5ms\n",
      "video 1/1 (frame 130/1100) C:\\Users\\okeiy\\Downloads\\Video\\09876.mp4: 384x640 5 cars, 2 traffic lights, 1 traffic sign, 8.1ms\n",
      "video 1/1 (frame 131/1100) C:\\Users\\okeiy\\Downloads\\Video\\09876.mp4: 384x640 5 cars, 1 traffic light, 8.1ms\n",
      "video 1/1 (frame 132/1100) C:\\Users\\okeiy\\Downloads\\Video\\09876.mp4: 384x640 5 cars, 1 traffic light, 7.6ms\n",
      "video 1/1 (frame 133/1100) C:\\Users\\okeiy\\Downloads\\Video\\09876.mp4: 384x640 5 cars, 1 traffic light, 8.0ms\n",
      "video 1/1 (frame 134/1100) C:\\Users\\okeiy\\Downloads\\Video\\09876.mp4: 384x640 5 cars, 2 traffic lights, 8.0ms\n",
      "video 1/1 (frame 135/1100) C:\\Users\\okeiy\\Downloads\\Video\\09876.mp4: 384x640 5 cars, 1 traffic light, 8.0ms\n",
      "video 1/1 (frame 136/1100) C:\\Users\\okeiy\\Downloads\\Video\\09876.mp4: 384x640 5 cars, 3 traffic lights, 8.0ms\n",
      "video 1/1 (frame 137/1100) C:\\Users\\okeiy\\Downloads\\Video\\09876.mp4: 384x640 5 cars, 1 traffic light, 10.3ms\n",
      "video 1/1 (frame 138/1100) C:\\Users\\okeiy\\Downloads\\Video\\09876.mp4: 384x640 5 cars, 2 traffic lights, 9.0ms\n",
      "video 1/1 (frame 139/1100) C:\\Users\\okeiy\\Downloads\\Video\\09876.mp4: 384x640 5 cars, 2 traffic lights, 7.7ms\n",
      "video 1/1 (frame 140/1100) C:\\Users\\okeiy\\Downloads\\Video\\09876.mp4: 384x640 5 cars, 1 traffic light, 14.9ms\n",
      "video 1/1 (frame 141/1100) C:\\Users\\okeiy\\Downloads\\Video\\09876.mp4: 384x640 5 cars, 1 traffic light, 9.1ms\n",
      "video 1/1 (frame 142/1100) C:\\Users\\okeiy\\Downloads\\Video\\09876.mp4: 384x640 5 cars, 2 traffic lights, 9.2ms\n",
      "video 1/1 (frame 143/1100) C:\\Users\\okeiy\\Downloads\\Video\\09876.mp4: 384x640 5 cars, 2 traffic lights, 8.7ms\n",
      "video 1/1 (frame 144/1100) C:\\Users\\okeiy\\Downloads\\Video\\09876.mp4: 384x640 5 cars, 2 traffic lights, 8.3ms\n",
      "video 1/1 (frame 145/1100) C:\\Users\\okeiy\\Downloads\\Video\\09876.mp4: 384x640 5 cars, 1 traffic light, 10.7ms\n",
      "video 1/1 (frame 146/1100) C:\\Users\\okeiy\\Downloads\\Video\\09876.mp4: 384x640 5 cars, 1 traffic light, 1 traffic sign, 9.8ms\n",
      "video 1/1 (frame 147/1100) C:\\Users\\okeiy\\Downloads\\Video\\09876.mp4: 384x640 5 cars, 2 traffic lights, 8.7ms\n",
      "video 1/1 (frame 148/1100) C:\\Users\\okeiy\\Downloads\\Video\\09876.mp4: 384x640 5 cars, 1 traffic light, 8.6ms\n",
      "video 1/1 (frame 149/1100) C:\\Users\\okeiy\\Downloads\\Video\\09876.mp4: 384x640 5 cars, 2 traffic lights, 8.8ms\n",
      "video 1/1 (frame 150/1100) C:\\Users\\okeiy\\Downloads\\Video\\09876.mp4: 384x640 5 cars, 4 traffic lights, 1 traffic sign, 10.0ms\n",
      "video 1/1 (frame 151/1100) C:\\Users\\okeiy\\Downloads\\Video\\09876.mp4: 384x640 5 cars, 4 traffic lights, 30.9ms\n",
      "video 1/1 (frame 152/1100) C:\\Users\\okeiy\\Downloads\\Video\\09876.mp4: 384x640 5 cars, 25.0ms\n",
      "video 1/1 (frame 153/1100) C:\\Users\\okeiy\\Downloads\\Video\\09876.mp4: 384x640 5 cars, 1 traffic light, 9.0ms\n",
      "video 1/1 (frame 154/1100) C:\\Users\\okeiy\\Downloads\\Video\\09876.mp4: 384x640 5 cars, 9.5ms\n",
      "video 1/1 (frame 155/1100) C:\\Users\\okeiy\\Downloads\\Video\\09876.mp4: 384x640 5 cars, 7.5ms\n",
      "video 1/1 (frame 156/1100) C:\\Users\\okeiy\\Downloads\\Video\\09876.mp4: 384x640 5 cars, 1 traffic light, 8.4ms\n",
      "video 1/1 (frame 157/1100) C:\\Users\\okeiy\\Downloads\\Video\\09876.mp4: 384x640 5 cars, 1 traffic light, 7.7ms\n",
      "video 1/1 (frame 158/1100) C:\\Users\\okeiy\\Downloads\\Video\\09876.mp4: 384x640 5 cars, 1 traffic light, 1 traffic sign, 9.6ms\n",
      "video 1/1 (frame 159/1100) C:\\Users\\okeiy\\Downloads\\Video\\09876.mp4: 384x640 5 cars, 2 traffic lights, 6.3ms\n",
      "video 1/1 (frame 160/1100) C:\\Users\\okeiy\\Downloads\\Video\\09876.mp4: 384x640 5 cars, 21.2ms\n",
      "video 1/1 (frame 161/1100) C:\\Users\\okeiy\\Downloads\\Video\\09876.mp4: 384x640 5 cars, 1 traffic light, 8.5ms\n",
      "video 1/1 (frame 162/1100) C:\\Users\\okeiy\\Downloads\\Video\\09876.mp4: 384x640 5 cars, 7.5ms\n",
      "video 1/1 (frame 163/1100) C:\\Users\\okeiy\\Downloads\\Video\\09876.mp4: 384x640 5 cars, 2 traffic lights, 8.6ms\n",
      "video 1/1 (frame 164/1100) C:\\Users\\okeiy\\Downloads\\Video\\09876.mp4: 384x640 5 cars, 1 traffic light, 8.8ms\n",
      "video 1/1 (frame 165/1100) C:\\Users\\okeiy\\Downloads\\Video\\09876.mp4: 384x640 5 cars, 2 traffic lights, 1 traffic sign, 9.0ms\n",
      "video 1/1 (frame 166/1100) C:\\Users\\okeiy\\Downloads\\Video\\09876.mp4: 384x640 5 cars, 1 traffic light, 8.0ms\n",
      "video 1/1 (frame 167/1100) C:\\Users\\okeiy\\Downloads\\Video\\09876.mp4: 384x640 5 cars, 1 traffic light, 7.9ms\n",
      "video 1/1 (frame 168/1100) C:\\Users\\okeiy\\Downloads\\Video\\09876.mp4: 384x640 5 cars, 1 traffic light, 8.3ms\n",
      "video 1/1 (frame 169/1100) C:\\Users\\okeiy\\Downloads\\Video\\09876.mp4: 384x640 5 cars, 8.0ms\n",
      "video 1/1 (frame 170/1100) C:\\Users\\okeiy\\Downloads\\Video\\09876.mp4: 384x640 5 cars, 1 traffic light, 2 traffic signs, 9.0ms\n",
      "video 1/1 (frame 171/1100) C:\\Users\\okeiy\\Downloads\\Video\\09876.mp4: 384x640 5 cars, 1 traffic light, 2 traffic signs, 8.5ms\n",
      "video 1/1 (frame 172/1100) C:\\Users\\okeiy\\Downloads\\Video\\09876.mp4: 384x640 5 cars, 1 traffic light, 2 traffic signs, 7.6ms\n",
      "video 1/1 (frame 173/1100) C:\\Users\\okeiy\\Downloads\\Video\\09876.mp4: 384x640 5 cars, 1 traffic light, 7.5ms\n",
      "video 1/1 (frame 174/1100) C:\\Users\\okeiy\\Downloads\\Video\\09876.mp4: 384x640 5 cars, 2 traffic lights, 1 traffic sign, 7.5ms\n",
      "video 1/1 (frame 175/1100) C:\\Users\\okeiy\\Downloads\\Video\\09876.mp4: 384x640 5 cars, 1 traffic light, 1 traffic sign, 7.2ms\n",
      "video 1/1 (frame 176/1100) C:\\Users\\okeiy\\Downloads\\Video\\09876.mp4: 384x640 5 cars, 2 traffic lights, 1 traffic sign, 14.1ms\n",
      "video 1/1 (frame 177/1100) C:\\Users\\okeiy\\Downloads\\Video\\09876.mp4: 384x640 5 cars, 1 traffic light, 2 traffic signs, 7.9ms\n",
      "video 1/1 (frame 178/1100) C:\\Users\\okeiy\\Downloads\\Video\\09876.mp4: 384x640 5 cars, 1 traffic light, 1 traffic sign, 8.0ms\n",
      "video 1/1 (frame 179/1100) C:\\Users\\okeiy\\Downloads\\Video\\09876.mp4: 384x640 5 cars, 1 traffic light, 1 traffic sign, 8.3ms\n",
      "video 1/1 (frame 180/1100) C:\\Users\\okeiy\\Downloads\\Video\\09876.mp4: 384x640 5 cars, 1 traffic light, 3 traffic signs, 8.4ms\n",
      "video 1/1 (frame 181/1100) C:\\Users\\okeiy\\Downloads\\Video\\09876.mp4: 384x640 5 cars, 2 traffic lights, 8.0ms\n",
      "video 1/1 (frame 182/1100) C:\\Users\\okeiy\\Downloads\\Video\\09876.mp4: 384x640 5 cars, 1 traffic light, 3 traffic signs, 8.5ms\n",
      "video 1/1 (frame 183/1100) C:\\Users\\okeiy\\Downloads\\Video\\09876.mp4: 384x640 5 cars, 2 traffic lights, 2 traffic signs, 11.2ms\n",
      "video 1/1 (frame 184/1100) C:\\Users\\okeiy\\Downloads\\Video\\09876.mp4: 384x640 5 cars, 1 traffic light, 2 traffic signs, 7.9ms\n",
      "video 1/1 (frame 185/1100) C:\\Users\\okeiy\\Downloads\\Video\\09876.mp4: 384x640 5 cars, 2 traffic signs, 9.0ms\n",
      "video 1/1 (frame 186/1100) C:\\Users\\okeiy\\Downloads\\Video\\09876.mp4: 384x640 5 cars, 1 person, 1 traffic light, 1 traffic sign, 9.8ms\n",
      "video 1/1 (frame 187/1100) C:\\Users\\okeiy\\Downloads\\Video\\09876.mp4: 384x640 5 cars, 1 person, 1 traffic light, 1 traffic sign, 6.9ms\n",
      "video 1/1 (frame 188/1100) C:\\Users\\okeiy\\Downloads\\Video\\09876.mp4: 384x640 5 cars, 1 traffic light, 1 traffic sign, 9.5ms\n",
      "video 1/1 (frame 189/1100) C:\\Users\\okeiy\\Downloads\\Video\\09876.mp4: 384x640 5 cars, 1 traffic light, 1 traffic sign, 27.7ms\n",
      "video 1/1 (frame 190/1100) C:\\Users\\okeiy\\Downloads\\Video\\09876.mp4: 384x640 5 cars, 1 traffic sign, 32.7ms\n",
      "video 1/1 (frame 191/1100) C:\\Users\\okeiy\\Downloads\\Video\\09876.mp4: 384x640 5 cars, 1 person, 1 traffic light, 16.6ms\n",
      "video 1/1 (frame 192/1100) C:\\Users\\okeiy\\Downloads\\Video\\09876.mp4: 384x640 5 cars, 1 person, 1 traffic light, 9.7ms\n",
      "video 1/1 (frame 193/1100) C:\\Users\\okeiy\\Downloads\\Video\\09876.mp4: 384x640 5 cars, 1 traffic light, 7.8ms\n",
      "video 1/1 (frame 194/1100) C:\\Users\\okeiy\\Downloads\\Video\\09876.mp4: 384x640 5 cars, 1 traffic light, 8.0ms\n",
      "video 1/1 (frame 195/1100) C:\\Users\\okeiy\\Downloads\\Video\\09876.mp4: 384x640 5 cars, 1 traffic light, 7.2ms\n",
      "video 1/1 (frame 196/1100) C:\\Users\\okeiy\\Downloads\\Video\\09876.mp4: 384x640 5 cars, 1 traffic light, 8.0ms\n",
      "video 1/1 (frame 197/1100) C:\\Users\\okeiy\\Downloads\\Video\\09876.mp4: 384x640 5 cars, 6.6ms\n",
      "video 1/1 (frame 198/1100) C:\\Users\\okeiy\\Downloads\\Video\\09876.mp4: 384x640 5 cars, 1 traffic light, 7.5ms\n",
      "video 1/1 (frame 199/1100) C:\\Users\\okeiy\\Downloads\\Video\\09876.mp4: 384x640 5 cars, 1 person, 1 traffic light, 8.8ms\n",
      "video 1/1 (frame 200/1100) C:\\Users\\okeiy\\Downloads\\Video\\09876.mp4: 384x640 5 cars, 1 traffic light, 7.4ms\n",
      "video 1/1 (frame 201/1100) C:\\Users\\okeiy\\Downloads\\Video\\09876.mp4: 384x640 5 cars, 1 traffic light, 7.6ms\n",
      "video 1/1 (frame 202/1100) C:\\Users\\okeiy\\Downloads\\Video\\09876.mp4: 384x640 5 cars, 1 person, 1 traffic light, 1 traffic sign, 7.5ms\n",
      "video 1/1 (frame 203/1100) C:\\Users\\okeiy\\Downloads\\Video\\09876.mp4: 384x640 5 cars, 1 person, 2 traffic lights, 1 traffic sign, 8.0ms\n",
      "video 1/1 (frame 204/1100) C:\\Users\\okeiy\\Downloads\\Video\\09876.mp4: 384x640 5 cars, 1 person, 2 traffic lights, 1 traffic sign, 8.2ms\n",
      "video 1/1 (frame 205/1100) C:\\Users\\okeiy\\Downloads\\Video\\09876.mp4: 384x640 5 cars, 1 person, 1 traffic light, 8.4ms\n",
      "video 1/1 (frame 206/1100) C:\\Users\\okeiy\\Downloads\\Video\\09876.mp4: 384x640 5 cars, 2 persons, 2 traffic lights, 1 traffic sign, 8.2ms\n",
      "video 1/1 (frame 207/1100) C:\\Users\\okeiy\\Downloads\\Video\\09876.mp4: 384x640 5 cars, 1 person, 1 traffic light, 1 traffic sign, 8.2ms\n",
      "video 1/1 (frame 208/1100) C:\\Users\\okeiy\\Downloads\\Video\\09876.mp4: 384x640 5 cars, 1 person, 1 traffic light, 1 traffic sign, 10.0ms\n",
      "video 1/1 (frame 209/1100) C:\\Users\\okeiy\\Downloads\\Video\\09876.mp4: 384x640 5 cars, 2 persons, 2 traffic lights, 1 traffic sign, 10.1ms\n",
      "video 1/1 (frame 210/1100) C:\\Users\\okeiy\\Downloads\\Video\\09876.mp4: 384x640 5 cars, 2 persons, 1 traffic light, 1 traffic sign, 8.5ms\n",
      "video 1/1 (frame 211/1100) C:\\Users\\okeiy\\Downloads\\Video\\09876.mp4: 384x640 5 cars, 1 person, 2 traffic lights, 1 traffic sign, 9.0ms\n",
      "video 1/1 (frame 212/1100) C:\\Users\\okeiy\\Downloads\\Video\\09876.mp4: 384x640 5 cars, 1 person, 1 traffic light, 1 traffic sign, 8.0ms\n",
      "video 1/1 (frame 213/1100) C:\\Users\\okeiy\\Downloads\\Video\\09876.mp4: 384x640 5 cars, 2 persons, 1 traffic light, 1 traffic sign, 8.3ms\n",
      "video 1/1 (frame 214/1100) C:\\Users\\okeiy\\Downloads\\Video\\09876.mp4: 384x640 5 cars, 2 persons, 1 traffic light, 1 traffic sign, 6.9ms\n",
      "video 1/1 (frame 215/1100) C:\\Users\\okeiy\\Downloads\\Video\\09876.mp4: 384x640 5 cars, 1 person, 1 traffic light, 1 traffic sign, 8.0ms\n",
      "video 1/1 (frame 216/1100) C:\\Users\\okeiy\\Downloads\\Video\\09876.mp4: 384x640 4 cars, 2 persons, 1 traffic light, 1 traffic sign, 7.7ms\n",
      "video 1/1 (frame 217/1100) C:\\Users\\okeiy\\Downloads\\Video\\09876.mp4: 384x640 4 cars, 2 persons, 1 traffic sign, 7.5ms\n",
      "video 1/1 (frame 218/1100) C:\\Users\\okeiy\\Downloads\\Video\\09876.mp4: 384x640 4 cars, 2 persons, 1 traffic light, 1 traffic sign, 9.7ms\n",
      "video 1/1 (frame 219/1100) C:\\Users\\okeiy\\Downloads\\Video\\09876.mp4: 384x640 4 cars, 2 persons, 1 traffic sign, 9.0ms\n",
      "video 1/1 (frame 220/1100) C:\\Users\\okeiy\\Downloads\\Video\\09876.mp4: 384x640 4 cars, 3 persons, 1 traffic sign, 9.9ms\n",
      "video 1/1 (frame 221/1100) C:\\Users\\okeiy\\Downloads\\Video\\09876.mp4: 384x640 4 cars, 3 persons, 2 traffic signs, 18.3ms\n",
      "video 1/1 (frame 222/1100) C:\\Users\\okeiy\\Downloads\\Video\\09876.mp4: 384x640 4 cars, 3 persons, 1 traffic light, 1 traffic sign, 21.7ms\n",
      "video 1/1 (frame 223/1100) C:\\Users\\okeiy\\Downloads\\Video\\09876.mp4: 384x640 4 cars, 2 persons, 1 traffic light, 1 traffic sign, 14.0ms\n",
      "video 1/1 (frame 224/1100) C:\\Users\\okeiy\\Downloads\\Video\\09876.mp4: 384x640 4 cars, 3 persons, 1 traffic sign, 12.8ms\n",
      "video 1/1 (frame 225/1100) C:\\Users\\okeiy\\Downloads\\Video\\09876.mp4: 384x640 4 cars, 3 persons, 1 traffic sign, 8.5ms\n",
      "video 1/1 (frame 226/1100) C:\\Users\\okeiy\\Downloads\\Video\\09876.mp4: 384x640 4 cars, 3 persons, 9.7ms\n",
      "video 1/1 (frame 227/1100) C:\\Users\\okeiy\\Downloads\\Video\\09876.mp4: 384x640 4 cars, 2 persons, 9.2ms\n",
      "video 1/1 (frame 228/1100) C:\\Users\\okeiy\\Downloads\\Video\\09876.mp4: 384x640 4 cars, 3 persons, 9.5ms\n",
      "video 1/1 (frame 229/1100) C:\\Users\\okeiy\\Downloads\\Video\\09876.mp4: 384x640 4 cars, 4 persons, 16.5ms\n",
      "video 1/1 (frame 230/1100) C:\\Users\\okeiy\\Downloads\\Video\\09876.mp4: 384x640 4 cars, 3 persons, 15.5ms\n",
      "video 1/1 (frame 231/1100) C:\\Users\\okeiy\\Downloads\\Video\\09876.mp4: 384x640 4 cars, 3 persons, 7.0ms\n",
      "video 1/1 (frame 232/1100) C:\\Users\\okeiy\\Downloads\\Video\\09876.mp4: 384x640 4 cars, 3 persons, 8.5ms\n",
      "video 1/1 (frame 233/1100) C:\\Users\\okeiy\\Downloads\\Video\\09876.mp4: 384x640 4 cars, 1 person, 7.5ms\n",
      "video 1/1 (frame 234/1100) C:\\Users\\okeiy\\Downloads\\Video\\09876.mp4: 384x640 4 cars, 1 person, 8.6ms\n",
      "video 1/1 (frame 235/1100) C:\\Users\\okeiy\\Downloads\\Video\\09876.mp4: 384x640 4 cars, 3 persons, 8.0ms\n",
      "video 1/1 (frame 236/1100) C:\\Users\\okeiy\\Downloads\\Video\\09876.mp4: 384x640 4 cars, 3 persons, 8.0ms\n",
      "video 1/1 (frame 237/1100) C:\\Users\\okeiy\\Downloads\\Video\\09876.mp4: 384x640 4 cars, 3 persons, 9.0ms\n",
      "video 1/1 (frame 238/1100) C:\\Users\\okeiy\\Downloads\\Video\\09876.mp4: 384x640 4 cars, 2 persons, 8.5ms\n",
      "video 1/1 (frame 239/1100) C:\\Users\\okeiy\\Downloads\\Video\\09876.mp4: 384x640 4 cars, 2 persons, 7.5ms\n",
      "video 1/1 (frame 240/1100) C:\\Users\\okeiy\\Downloads\\Video\\09876.mp4: 384x640 4 cars, 2 persons, 8.0ms\n",
      "video 1/1 (frame 241/1100) C:\\Users\\okeiy\\Downloads\\Video\\09876.mp4: 384x640 4 cars, 2 persons, 7.7ms\n",
      "video 1/1 (frame 242/1100) C:\\Users\\okeiy\\Downloads\\Video\\09876.mp4: 384x640 4 cars, 2 persons, 1 traffic sign, 7.5ms\n",
      "video 1/1 (frame 243/1100) C:\\Users\\okeiy\\Downloads\\Video\\09876.mp4: 384x640 4 cars, 3 persons, 7.9ms\n",
      "video 1/1 (frame 244/1100) C:\\Users\\okeiy\\Downloads\\Video\\09876.mp4: 384x640 4 cars, 2 persons, 8.5ms\n",
      "video 1/1 (frame 245/1100) C:\\Users\\okeiy\\Downloads\\Video\\09876.mp4: 384x640 4 cars, 8.6ms\n",
      "video 1/1 (frame 246/1100) C:\\Users\\okeiy\\Downloads\\Video\\09876.mp4: 384x640 4 cars, 2 persons, 8.5ms\n",
      "video 1/1 (frame 247/1100) C:\\Users\\okeiy\\Downloads\\Video\\09876.mp4: 384x640 4 cars, 1 person, 8.4ms\n",
      "video 1/1 (frame 248/1100) C:\\Users\\okeiy\\Downloads\\Video\\09876.mp4: 384x640 5 cars, 1 person, 8.1ms\n",
      "video 1/1 (frame 249/1100) C:\\Users\\okeiy\\Downloads\\Video\\09876.mp4: 384x640 5 cars, 7.8ms\n",
      "video 1/1 (frame 250/1100) C:\\Users\\okeiy\\Downloads\\Video\\09876.mp4: 384x640 4 cars, 13.4ms\n",
      "video 1/1 (frame 251/1100) C:\\Users\\okeiy\\Downloads\\Video\\09876.mp4: 384x640 4 cars, 7.7ms\n",
      "video 1/1 (frame 252/1100) C:\\Users\\okeiy\\Downloads\\Video\\09876.mp4: 384x640 4 cars, 9.7ms\n",
      "video 1/1 (frame 253/1100) C:\\Users\\okeiy\\Downloads\\Video\\09876.mp4: 384x640 4 cars, 8.0ms\n",
      "video 1/1 (frame 254/1100) C:\\Users\\okeiy\\Downloads\\Video\\09876.mp4: 384x640 4 cars, 6.5ms\n",
      "video 1/1 (frame 255/1100) C:\\Users\\okeiy\\Downloads\\Video\\09876.mp4: 384x640 4 cars, 1 traffic sign, 8.5ms\n",
      "video 1/1 (frame 256/1100) C:\\Users\\okeiy\\Downloads\\Video\\09876.mp4: 384x640 4 cars, 8.0ms\n",
      "video 1/1 (frame 257/1100) C:\\Users\\okeiy\\Downloads\\Video\\09876.mp4: 384x640 4 cars, 8.0ms\n",
      "video 1/1 (frame 258/1100) C:\\Users\\okeiy\\Downloads\\Video\\09876.mp4: 384x640 4 cars, 8.5ms\n",
      "video 1/1 (frame 259/1100) C:\\Users\\okeiy\\Downloads\\Video\\09876.mp4: 384x640 4 cars, 12.3ms\n",
      "video 1/1 (frame 260/1100) C:\\Users\\okeiy\\Downloads\\Video\\09876.mp4: 384x640 4 cars, 1 person, 9.7ms\n",
      "video 1/1 (frame 261/1100) C:\\Users\\okeiy\\Downloads\\Video\\09876.mp4: 384x640 4 cars, 8.7ms\n",
      "video 1/1 (frame 262/1100) C:\\Users\\okeiy\\Downloads\\Video\\09876.mp4: 384x640 4 cars, 29.9ms\n",
      "video 1/1 (frame 263/1100) C:\\Users\\okeiy\\Downloads\\Video\\09876.mp4: 384x640 4 cars, 18.1ms\n",
      "video 1/1 (frame 264/1100) C:\\Users\\okeiy\\Downloads\\Video\\09876.mp4: 384x640 4 cars, 7.9ms\n",
      "video 1/1 (frame 265/1100) C:\\Users\\okeiy\\Downloads\\Video\\09876.mp4: 384x640 4 cars, 9.6ms\n",
      "video 1/1 (frame 266/1100) C:\\Users\\okeiy\\Downloads\\Video\\09876.mp4: 384x640 4 cars, 18.0ms\n",
      "video 1/1 (frame 267/1100) C:\\Users\\okeiy\\Downloads\\Video\\09876.mp4: 384x640 4 cars, 8.5ms\n",
      "video 1/1 (frame 268/1100) C:\\Users\\okeiy\\Downloads\\Video\\09876.mp4: 384x640 4 cars, 9.0ms\n",
      "video 1/1 (frame 269/1100) C:\\Users\\okeiy\\Downloads\\Video\\09876.mp4: 384x640 4 cars, 9.5ms\n",
      "video 1/1 (frame 270/1100) C:\\Users\\okeiy\\Downloads\\Video\\09876.mp4: 384x640 4 cars, 10.0ms\n",
      "video 1/1 (frame 271/1100) C:\\Users\\okeiy\\Downloads\\Video\\09876.mp4: 384x640 4 cars, 9.8ms\n",
      "video 1/1 (frame 272/1100) C:\\Users\\okeiy\\Downloads\\Video\\09876.mp4: 384x640 4 cars, 13.1ms\n",
      "video 1/1 (frame 273/1100) C:\\Users\\okeiy\\Downloads\\Video\\09876.mp4: 384x640 4 cars, 7.8ms\n",
      "video 1/1 (frame 274/1100) C:\\Users\\okeiy\\Downloads\\Video\\09876.mp4: 384x640 4 cars, 8.0ms\n",
      "video 1/1 (frame 275/1100) C:\\Users\\okeiy\\Downloads\\Video\\09876.mp4: 384x640 4 cars, 23.0ms\n",
      "video 1/1 (frame 276/1100) C:\\Users\\okeiy\\Downloads\\Video\\09876.mp4: 384x640 4 cars, 12.2ms\n",
      "video 1/1 (frame 277/1100) C:\\Users\\okeiy\\Downloads\\Video\\09876.mp4: 384x640 4 cars, 13.2ms\n",
      "video 1/1 (frame 278/1100) C:\\Users\\okeiy\\Downloads\\Video\\09876.mp4: 384x640 4 cars, 1 traffic sign, 8.0ms\n",
      "video 1/1 (frame 279/1100) C:\\Users\\okeiy\\Downloads\\Video\\09876.mp4: 384x640 4 cars, 10.8ms\n",
      "video 1/1 (frame 280/1100) C:\\Users\\okeiy\\Downloads\\Video\\09876.mp4: 384x640 5 cars, 8.0ms\n",
      "video 1/1 (frame 281/1100) C:\\Users\\okeiy\\Downloads\\Video\\09876.mp4: 384x640 4 cars, 9.0ms\n",
      "video 1/1 (frame 282/1100) C:\\Users\\okeiy\\Downloads\\Video\\09876.mp4: 384x640 4 cars, 8.5ms\n",
      "video 1/1 (frame 283/1100) C:\\Users\\okeiy\\Downloads\\Video\\09876.mp4: 384x640 4 cars, 9.0ms\n",
      "video 1/1 (frame 284/1100) C:\\Users\\okeiy\\Downloads\\Video\\09876.mp4: 384x640 5 cars, 7.9ms\n",
      "video 1/1 (frame 285/1100) C:\\Users\\okeiy\\Downloads\\Video\\09876.mp4: 384x640 5 cars, 7.4ms\n",
      "video 1/1 (frame 286/1100) C:\\Users\\okeiy\\Downloads\\Video\\09876.mp4: 384x640 5 cars, 8.3ms\n",
      "video 1/1 (frame 287/1100) C:\\Users\\okeiy\\Downloads\\Video\\09876.mp4: 384x640 5 cars, 8.5ms\n",
      "video 1/1 (frame 288/1100) C:\\Users\\okeiy\\Downloads\\Video\\09876.mp4: 384x640 5 cars, 1 traffic sign, 7.6ms\n",
      "video 1/1 (frame 289/1100) C:\\Users\\okeiy\\Downloads\\Video\\09876.mp4: 384x640 5 cars, 1 traffic sign, 7.8ms\n",
      "video 1/1 (frame 290/1100) C:\\Users\\okeiy\\Downloads\\Video\\09876.mp4: 384x640 5 cars, 2 traffic signs, 7.6ms\n",
      "video 1/1 (frame 291/1100) C:\\Users\\okeiy\\Downloads\\Video\\09876.mp4: 384x640 5 cars, 3 traffic signs, 6.0ms\n",
      "video 1/1 (frame 292/1100) C:\\Users\\okeiy\\Downloads\\Video\\09876.mp4: 384x640 4 cars, 1 person, 2 traffic signs, 8.2ms\n",
      "video 1/1 (frame 293/1100) C:\\Users\\okeiy\\Downloads\\Video\\09876.mp4: 384x640 3 cars, 1 traffic sign, 7.5ms\n",
      "video 1/1 (frame 294/1100) C:\\Users\\okeiy\\Downloads\\Video\\09876.mp4: 384x640 3 cars, 2 traffic signs, 7.3ms\n",
      "video 1/1 (frame 295/1100) C:\\Users\\okeiy\\Downloads\\Video\\09876.mp4: 384x640 3 cars, 1 person, 2 traffic signs, 7.0ms\n",
      "video 1/1 (frame 296/1100) C:\\Users\\okeiy\\Downloads\\Video\\09876.mp4: 384x640 3 cars, 1 person, 2 traffic signs, 8.5ms\n",
      "video 1/1 (frame 297/1100) C:\\Users\\okeiy\\Downloads\\Video\\09876.mp4: 384x640 5 cars, 1 person, 1 traffic sign, 8.0ms\n",
      "video 1/1 (frame 298/1100) C:\\Users\\okeiy\\Downloads\\Video\\09876.mp4: 384x640 4 cars, 1 person, 1 traffic sign, 7.4ms\n",
      "video 1/1 (frame 299/1100) C:\\Users\\okeiy\\Downloads\\Video\\09876.mp4: 384x640 5 cars, 1 person, 1 traffic sign, 7.5ms\n",
      "video 1/1 (frame 300/1100) C:\\Users\\okeiy\\Downloads\\Video\\09876.mp4: 384x640 4 cars, 1 person, 1 traffic sign, 7.2ms\n",
      "video 1/1 (frame 301/1100) C:\\Users\\okeiy\\Downloads\\Video\\09876.mp4: 384x640 4 cars, 1 person, 1 traffic sign, 8.6ms\n",
      "video 1/1 (frame 302/1100) C:\\Users\\okeiy\\Downloads\\Video\\09876.mp4: 384x640 4 cars, 1 person, 1 traffic sign, 8.6ms\n",
      "video 1/1 (frame 303/1100) C:\\Users\\okeiy\\Downloads\\Video\\09876.mp4: 384x640 5 cars, 1 person, 2 traffic signs, 7.9ms\n",
      "video 1/1 (frame 304/1100) C:\\Users\\okeiy\\Downloads\\Video\\09876.mp4: 384x640 4 cars, 7.5ms\n",
      "video 1/1 (frame 305/1100) C:\\Users\\okeiy\\Downloads\\Video\\09876.mp4: 384x640 5 cars, 7.4ms\n",
      "video 1/1 (frame 306/1100) C:\\Users\\okeiy\\Downloads\\Video\\09876.mp4: 384x640 5 cars, 7.5ms\n",
      "video 1/1 (frame 307/1100) C:\\Users\\okeiy\\Downloads\\Video\\09876.mp4: 384x640 5 cars, 8.1ms\n",
      "video 1/1 (frame 308/1100) C:\\Users\\okeiy\\Downloads\\Video\\09876.mp4: 384x640 5 cars, 1 person, 7.5ms\n",
      "video 1/1 (frame 309/1100) C:\\Users\\okeiy\\Downloads\\Video\\09876.mp4: 384x640 5 cars, 1 person, 8.3ms\n",
      "video 1/1 (frame 310/1100) C:\\Users\\okeiy\\Downloads\\Video\\09876.mp4: 384x640 4 cars, 11.0ms\n",
      "video 1/1 (frame 311/1100) C:\\Users\\okeiy\\Downloads\\Video\\09876.mp4: 384x640 4 cars, 1 person, 9.1ms\n",
      "video 1/1 (frame 312/1100) C:\\Users\\okeiy\\Downloads\\Video\\09876.mp4: 384x640 4 cars, 1 truck, 9.2ms\n",
      "video 1/1 (frame 313/1100) C:\\Users\\okeiy\\Downloads\\Video\\09876.mp4: 384x640 4 cars, 12.3ms\n",
      "video 1/1 (frame 314/1100) C:\\Users\\okeiy\\Downloads\\Video\\09876.mp4: 384x640 4 cars, 7.5ms\n",
      "video 1/1 (frame 315/1100) C:\\Users\\okeiy\\Downloads\\Video\\09876.mp4: 384x640 5 cars, 9.0ms\n",
      "video 1/1 (frame 316/1100) C:\\Users\\okeiy\\Downloads\\Video\\09876.mp4: 384x640 5 cars, 11.1ms\n",
      "video 1/1 (frame 317/1100) C:\\Users\\okeiy\\Downloads\\Video\\09876.mp4: 384x640 4 cars, 7.5ms\n",
      "video 1/1 (frame 318/1100) C:\\Users\\okeiy\\Downloads\\Video\\09876.mp4: 384x640 4 cars, 9.5ms\n",
      "video 1/1 (frame 319/1100) C:\\Users\\okeiy\\Downloads\\Video\\09876.mp4: 384x640 4 cars, 10.0ms\n",
      "video 1/1 (frame 320/1100) C:\\Users\\okeiy\\Downloads\\Video\\09876.mp4: 384x640 4 cars, 9.1ms\n",
      "video 1/1 (frame 321/1100) C:\\Users\\okeiy\\Downloads\\Video\\09876.mp4: 384x640 5 cars, 10.4ms\n",
      "video 1/1 (frame 322/1100) C:\\Users\\okeiy\\Downloads\\Video\\09876.mp4: 384x640 4 cars, 8.5ms\n",
      "video 1/1 (frame 323/1100) C:\\Users\\okeiy\\Downloads\\Video\\09876.mp4: 384x640 6 cars, 8.5ms\n",
      "video 1/1 (frame 324/1100) C:\\Users\\okeiy\\Downloads\\Video\\09876.mp4: 384x640 5 cars, 11.2ms\n",
      "video 1/1 (frame 325/1100) C:\\Users\\okeiy\\Downloads\\Video\\09876.mp4: 384x640 4 cars, 8.8ms\n",
      "video 1/1 (frame 326/1100) C:\\Users\\okeiy\\Downloads\\Video\\09876.mp4: 384x640 5 cars, 9.4ms\n",
      "video 1/1 (frame 327/1100) C:\\Users\\okeiy\\Downloads\\Video\\09876.mp4: 384x640 5 cars, 10.4ms\n",
      "video 1/1 (frame 328/1100) C:\\Users\\okeiy\\Downloads\\Video\\09876.mp4: 384x640 5 cars, 1 traffic sign, 9.0ms\n",
      "video 1/1 (frame 329/1100) C:\\Users\\okeiy\\Downloads\\Video\\09876.mp4: 384x640 5 cars, 8.6ms\n",
      "video 1/1 (frame 330/1100) C:\\Users\\okeiy\\Downloads\\Video\\09876.mp4: 384x640 6 cars, 9.7ms\n",
      "video 1/1 (frame 331/1100) C:\\Users\\okeiy\\Downloads\\Video\\09876.mp4: 384x640 5 cars, 1 traffic sign, 9.6ms\n",
      "video 1/1 (frame 332/1100) C:\\Users\\okeiy\\Downloads\\Video\\09876.mp4: 384x640 6 cars, 1 traffic sign, 9.6ms\n",
      "video 1/1 (frame 333/1100) C:\\Users\\okeiy\\Downloads\\Video\\09876.mp4: 384x640 6 cars, 1 traffic sign, 9.0ms\n",
      "video 1/1 (frame 334/1100) C:\\Users\\okeiy\\Downloads\\Video\\09876.mp4: 384x640 5 cars, 12.1ms\n",
      "video 1/1 (frame 335/1100) C:\\Users\\okeiy\\Downloads\\Video\\09876.mp4: 384x640 7 cars, 9.4ms\n",
      "video 1/1 (frame 336/1100) C:\\Users\\okeiy\\Downloads\\Video\\09876.mp4: 384x640 7 cars, 9.7ms\n",
      "video 1/1 (frame 337/1100) C:\\Users\\okeiy\\Downloads\\Video\\09876.mp4: 384x640 6 cars, 1 traffic sign, 11.5ms\n",
      "video 1/1 (frame 338/1100) C:\\Users\\okeiy\\Downloads\\Video\\09876.mp4: 384x640 5 cars, 1 traffic sign, 15.1ms\n",
      "video 1/1 (frame 339/1100) C:\\Users\\okeiy\\Downloads\\Video\\09876.mp4: 384x640 6 cars, 1 traffic sign, 9.4ms\n",
      "video 1/1 (frame 340/1100) C:\\Users\\okeiy\\Downloads\\Video\\09876.mp4: 384x640 7 cars, 1 traffic sign, 9.4ms\n",
      "video 1/1 (frame 341/1100) C:\\Users\\okeiy\\Downloads\\Video\\09876.mp4: 384x640 6 cars, 1 traffic sign, 12.5ms\n",
      "video 1/1 (frame 342/1100) C:\\Users\\okeiy\\Downloads\\Video\\09876.mp4: 384x640 7 cars, 9.7ms\n",
      "video 1/1 (frame 343/1100) C:\\Users\\okeiy\\Downloads\\Video\\09876.mp4: 384x640 5 cars, 9.7ms\n",
      "video 1/1 (frame 344/1100) C:\\Users\\okeiy\\Downloads\\Video\\09876.mp4: 384x640 6 cars, 18.5ms\n",
      "video 1/1 (frame 345/1100) C:\\Users\\okeiy\\Downloads\\Video\\09876.mp4: 384x640 6 cars, 20.4ms\n",
      "video 1/1 (frame 346/1100) C:\\Users\\okeiy\\Downloads\\Video\\09876.mp4: 384x640 5 cars, 22.8ms\n",
      "video 1/1 (frame 347/1100) C:\\Users\\okeiy\\Downloads\\Video\\09876.mp4: 384x640 5 cars, 1 traffic sign, 19.9ms\n",
      "video 1/1 (frame 348/1100) C:\\Users\\okeiy\\Downloads\\Video\\09876.mp4: 384x640 5 cars, 1 traffic sign, 23.2ms\n",
      "video 1/1 (frame 349/1100) C:\\Users\\okeiy\\Downloads\\Video\\09876.mp4: 384x640 6 cars, 1 person, 11.3ms\n",
      "video 1/1 (frame 350/1100) C:\\Users\\okeiy\\Downloads\\Video\\09876.mp4: 384x640 5 cars, 9.4ms\n",
      "video 1/1 (frame 351/1100) C:\\Users\\okeiy\\Downloads\\Video\\09876.mp4: 384x640 4 cars, 18.2ms\n",
      "video 1/1 (frame 352/1100) C:\\Users\\okeiy\\Downloads\\Video\\09876.mp4: 384x640 4 cars, 13.8ms\n",
      "video 1/1 (frame 353/1100) C:\\Users\\okeiy\\Downloads\\Video\\09876.mp4: 384x640 3 cars, 1 traffic sign, 13.5ms\n",
      "video 1/1 (frame 354/1100) C:\\Users\\okeiy\\Downloads\\Video\\09876.mp4: 384x640 3 cars, 1 traffic sign, 10.3ms\n",
      "video 1/1 (frame 355/1100) C:\\Users\\okeiy\\Downloads\\Video\\09876.mp4: 384x640 3 cars, 2 traffic signs, 14.8ms\n",
      "video 1/1 (frame 356/1100) C:\\Users\\okeiy\\Downloads\\Video\\09876.mp4: 384x640 3 cars, 2 traffic signs, 14.1ms\n",
      "video 1/1 (frame 357/1100) C:\\Users\\okeiy\\Downloads\\Video\\09876.mp4: 384x640 3 cars, 2 traffic signs, 11.4ms\n",
      "video 1/1 (frame 358/1100) C:\\Users\\okeiy\\Downloads\\Video\\09876.mp4: 384x640 3 cars, 1 traffic sign, 10.4ms\n",
      "video 1/1 (frame 359/1100) C:\\Users\\okeiy\\Downloads\\Video\\09876.mp4: 384x640 3 cars, 2 traffic signs, 11.3ms\n",
      "video 1/1 (frame 360/1100) C:\\Users\\okeiy\\Downloads\\Video\\09876.mp4: 384x640 3 cars, 8.8ms\n",
      "video 1/1 (frame 361/1100) C:\\Users\\okeiy\\Downloads\\Video\\09876.mp4: 384x640 3 cars, 1 traffic sign, 9.7ms\n",
      "video 1/1 (frame 362/1100) C:\\Users\\okeiy\\Downloads\\Video\\09876.mp4: 384x640 4 cars, 2 traffic signs, 10.7ms\n",
      "video 1/1 (frame 363/1100) C:\\Users\\okeiy\\Downloads\\Video\\09876.mp4: 384x640 4 cars, 11.4ms\n",
      "video 1/1 (frame 364/1100) C:\\Users\\okeiy\\Downloads\\Video\\09876.mp4: 384x640 4 cars, 1 person, 1 traffic sign, 9.7ms\n",
      "video 1/1 (frame 365/1100) C:\\Users\\okeiy\\Downloads\\Video\\09876.mp4: 384x640 4 cars, 2 traffic signs, 1 truck, 9.4ms\n",
      "video 1/1 (frame 366/1100) C:\\Users\\okeiy\\Downloads\\Video\\09876.mp4: 384x640 4 cars, 1 person, 1 traffic sign, 9.6ms\n",
      "video 1/1 (frame 367/1100) C:\\Users\\okeiy\\Downloads\\Video\\09876.mp4: 384x640 4 cars, 1 person, 14.0ms\n",
      "video 1/1 (frame 368/1100) C:\\Users\\okeiy\\Downloads\\Video\\09876.mp4: 384x640 4 cars, 1 person, 1 traffic sign, 11.5ms\n",
      "video 1/1 (frame 369/1100) C:\\Users\\okeiy\\Downloads\\Video\\09876.mp4: 384x640 4 cars, 1 person, 3 traffic signs, 9.6ms\n",
      "video 1/1 (frame 370/1100) C:\\Users\\okeiy\\Downloads\\Video\\09876.mp4: 384x640 3 cars, 1 person, 1 traffic sign, 14.7ms\n",
      "video 1/1 (frame 371/1100) C:\\Users\\okeiy\\Downloads\\Video\\09876.mp4: 384x640 3 cars, 1 person, 2 traffic signs, 9.8ms\n",
      "video 1/1 (frame 372/1100) C:\\Users\\okeiy\\Downloads\\Video\\09876.mp4: 384x640 4 cars, 1 person, 2 traffic signs, 10.3ms\n",
      "video 1/1 (frame 373/1100) C:\\Users\\okeiy\\Downloads\\Video\\09876.mp4: 384x640 4 cars, 3 traffic signs, 30.5ms\n",
      "video 1/1 (frame 374/1100) C:\\Users\\okeiy\\Downloads\\Video\\09876.mp4: 384x640 3 cars, 1 person, 3 traffic signs, 19.1ms\n",
      "video 1/1 (frame 375/1100) C:\\Users\\okeiy\\Downloads\\Video\\09876.mp4: 384x640 3 cars, 4 traffic signs, 37.1ms\n",
      "video 1/1 (frame 376/1100) C:\\Users\\okeiy\\Downloads\\Video\\09876.mp4: 384x640 3 cars, 3 traffic signs, 16.3ms\n",
      "video 1/1 (frame 377/1100) C:\\Users\\okeiy\\Downloads\\Video\\09876.mp4: 384x640 3 cars, 5 traffic signs, 10.7ms\n",
      "video 1/1 (frame 378/1100) C:\\Users\\okeiy\\Downloads\\Video\\09876.mp4: 384x640 3 cars, 1 person, 2 traffic signs, 12.0ms\n",
      "video 1/1 (frame 379/1100) C:\\Users\\okeiy\\Downloads\\Video\\09876.mp4: 384x640 3 cars, 3 traffic signs, 8.7ms\n",
      "video 1/1 (frame 380/1100) C:\\Users\\okeiy\\Downloads\\Video\\09876.mp4: 384x640 3 cars, 2 traffic signs, 9.7ms\n",
      "video 1/1 (frame 381/1100) C:\\Users\\okeiy\\Downloads\\Video\\09876.mp4: 384x640 3 cars, 3 traffic signs, 11.3ms\n",
      "video 1/1 (frame 382/1100) C:\\Users\\okeiy\\Downloads\\Video\\09876.mp4: 384x640 3 cars, 2 traffic signs, 12.7ms\n",
      "video 1/1 (frame 383/1100) C:\\Users\\okeiy\\Downloads\\Video\\09876.mp4: 384x640 3 cars, 2 traffic signs, 8.7ms\n",
      "video 1/1 (frame 384/1100) C:\\Users\\okeiy\\Downloads\\Video\\09876.mp4: 384x640 3 cars, 1 person, 3 traffic signs, 8.7ms\n",
      "video 1/1 (frame 385/1100) C:\\Users\\okeiy\\Downloads\\Video\\09876.mp4: 384x640 3 cars, 1 person, 3 traffic signs, 10.7ms\n",
      "video 1/1 (frame 386/1100) C:\\Users\\okeiy\\Downloads\\Video\\09876.mp4: 384x640 3 cars, 1 person, 3 traffic signs, 12.7ms\n",
      "video 1/1 (frame 387/1100) C:\\Users\\okeiy\\Downloads\\Video\\09876.mp4: 384x640 3 cars, 1 person, 3 traffic signs, 11.7ms\n",
      "video 1/1 (frame 388/1100) C:\\Users\\okeiy\\Downloads\\Video\\09876.mp4: 384x640 3 cars, 3 traffic signs, 8.7ms\n",
      "video 1/1 (frame 389/1100) C:\\Users\\okeiy\\Downloads\\Video\\09876.mp4: 384x640 3 cars, 1 person, 3 traffic signs, 9.8ms\n",
      "video 1/1 (frame 390/1100) C:\\Users\\okeiy\\Downloads\\Video\\09876.mp4: 384x640 3 cars, 1 person, 3 traffic signs, 12.4ms\n",
      "video 1/1 (frame 391/1100) C:\\Users\\okeiy\\Downloads\\Video\\09876.mp4: 384x640 3 cars, 3 traffic signs, 15.4ms\n",
      "video 1/1 (frame 392/1100) C:\\Users\\okeiy\\Downloads\\Video\\09876.mp4: 384x640 3 cars, 1 person, 3 traffic signs, 10.8ms\n",
      "video 1/1 (frame 393/1100) C:\\Users\\okeiy\\Downloads\\Video\\09876.mp4: 384x640 3 cars, 3 traffic signs, 8.1ms\n",
      "video 1/1 (frame 394/1100) C:\\Users\\okeiy\\Downloads\\Video\\09876.mp4: 384x640 3 cars, 1 person, 2 traffic signs, 9.4ms\n",
      "video 1/1 (frame 395/1100) C:\\Users\\okeiy\\Downloads\\Video\\09876.mp4: 384x640 3 cars, 1 person, 1 traffic sign, 8.7ms\n",
      "video 1/1 (frame 396/1100) C:\\Users\\okeiy\\Downloads\\Video\\09876.mp4: 384x640 3 cars, 1 person, 1 traffic sign, 12.0ms\n",
      "video 1/1 (frame 397/1100) C:\\Users\\okeiy\\Downloads\\Video\\09876.mp4: 384x640 3 cars, 1 person, 2 traffic signs, 9.5ms\n",
      "video 1/1 (frame 398/1100) C:\\Users\\okeiy\\Downloads\\Video\\09876.mp4: 384x640 3 cars, 1 traffic sign, 9.8ms\n",
      "video 1/1 (frame 399/1100) C:\\Users\\okeiy\\Downloads\\Video\\09876.mp4: 384x640 3 cars, 1 person, 13.4ms\n",
      "video 1/1 (frame 400/1100) C:\\Users\\okeiy\\Downloads\\Video\\09876.mp4: 384x640 3 cars, 1 person, 1 traffic sign, 25.8ms\n",
      "video 1/1 (frame 401/1100) C:\\Users\\okeiy\\Downloads\\Video\\09876.mp4: 384x640 4 cars, 2 persons, 1 traffic sign, 13.4ms\n",
      "video 1/1 (frame 402/1100) C:\\Users\\okeiy\\Downloads\\Video\\09876.mp4: 384x640 4 cars, 1 person, 1 traffic sign, 14.5ms\n",
      "video 1/1 (frame 403/1100) C:\\Users\\okeiy\\Downloads\\Video\\09876.mp4: 384x640 4 cars, 1 traffic sign, 19.4ms\n",
      "video 1/1 (frame 404/1100) C:\\Users\\okeiy\\Downloads\\Video\\09876.mp4: 384x640 4 cars, 1 traffic sign, 15.1ms\n",
      "video 1/1 (frame 405/1100) C:\\Users\\okeiy\\Downloads\\Video\\09876.mp4: 384x640 4 cars, 1 traffic sign, 14.4ms\n",
      "video 1/1 (frame 406/1100) C:\\Users\\okeiy\\Downloads\\Video\\09876.mp4: 384x640 4 cars, 1 traffic sign, 17.1ms\n",
      "video 1/1 (frame 407/1100) C:\\Users\\okeiy\\Downloads\\Video\\09876.mp4: 384x640 3 cars, 1 traffic sign, 17.4ms\n",
      "video 1/1 (frame 408/1100) C:\\Users\\okeiy\\Downloads\\Video\\09876.mp4: 384x640 3 cars, 1 traffic sign, 18.0ms\n",
      "video 1/1 (frame 409/1100) C:\\Users\\okeiy\\Downloads\\Video\\09876.mp4: 384x640 4 cars, 1 traffic sign, 16.3ms\n",
      "video 1/1 (frame 410/1100) C:\\Users\\okeiy\\Downloads\\Video\\09876.mp4: 384x640 4 cars, 1 traffic sign, 16.5ms\n",
      "video 1/1 (frame 411/1100) C:\\Users\\okeiy\\Downloads\\Video\\09876.mp4: 384x640 5 cars, 2 traffic signs, 22.8ms\n",
      "video 1/1 (frame 412/1100) C:\\Users\\okeiy\\Downloads\\Video\\09876.mp4: 384x640 4 cars, 1 traffic sign, 16.4ms\n",
      "video 1/1 (frame 413/1100) C:\\Users\\okeiy\\Downloads\\Video\\09876.mp4: 384x640 4 cars, 1 traffic sign, 12.1ms\n",
      "video 1/1 (frame 414/1100) C:\\Users\\okeiy\\Downloads\\Video\\09876.mp4: 384x640 5 cars, 1 traffic sign, 19.1ms\n",
      "video 1/1 (frame 415/1100) C:\\Users\\okeiy\\Downloads\\Video\\09876.mp4: 384x640 5 cars, 1 traffic sign, 16.7ms\n",
      "video 1/1 (frame 416/1100) C:\\Users\\okeiy\\Downloads\\Video\\09876.mp4: 384x640 5 cars, 1 traffic sign, 17.7ms\n",
      "video 1/1 (frame 417/1100) C:\\Users\\okeiy\\Downloads\\Video\\09876.mp4: 384x640 5 cars, 1 traffic sign, 16.9ms\n",
      "video 1/1 (frame 418/1100) C:\\Users\\okeiy\\Downloads\\Video\\09876.mp4: 384x640 5 cars, 1 traffic sign, 14.0ms\n",
      "video 1/1 (frame 419/1100) C:\\Users\\okeiy\\Downloads\\Video\\09876.mp4: 384x640 5 cars, 1 traffic sign, 18.1ms\n",
      "video 1/1 (frame 420/1100) C:\\Users\\okeiy\\Downloads\\Video\\09876.mp4: 384x640 5 cars, 1 traffic sign, 15.9ms\n",
      "video 1/1 (frame 421/1100) C:\\Users\\okeiy\\Downloads\\Video\\09876.mp4: 384x640 5 cars, 1 traffic sign, 13.0ms\n",
      "video 1/1 (frame 422/1100) C:\\Users\\okeiy\\Downloads\\Video\\09876.mp4: 384x640 3 cars, 1 traffic sign, 12.7ms\n",
      "video 1/1 (frame 423/1100) C:\\Users\\okeiy\\Downloads\\Video\\09876.mp4: 384x640 3 cars, 1 traffic sign, 12.0ms\n",
      "video 1/1 (frame 424/1100) C:\\Users\\okeiy\\Downloads\\Video\\09876.mp4: 384x640 4 cars, 1 traffic sign, 23.1ms\n",
      "video 1/1 (frame 425/1100) C:\\Users\\okeiy\\Downloads\\Video\\09876.mp4: 384x640 4 cars, 1 traffic sign, 12.7ms\n",
      "video 1/1 (frame 426/1100) C:\\Users\\okeiy\\Downloads\\Video\\09876.mp4: 384x640 4 cars, 2 traffic signs, 13.1ms\n",
      "video 1/1 (frame 427/1100) C:\\Users\\okeiy\\Downloads\\Video\\09876.mp4: 384x640 3 cars, 1 traffic sign, 11.7ms\n",
      "video 1/1 (frame 428/1100) C:\\Users\\okeiy\\Downloads\\Video\\09876.mp4: 384x640 4 cars, 1 traffic sign, 13.9ms\n",
      "video 1/1 (frame 429/1100) C:\\Users\\okeiy\\Downloads\\Video\\09876.mp4: 384x640 4 cars, 1 traffic sign, 18.6ms\n",
      "video 1/1 (frame 430/1100) C:\\Users\\okeiy\\Downloads\\Video\\09876.mp4: 384x640 5 cars, 1 traffic light, 1 traffic sign, 24.3ms\n",
      "video 1/1 (frame 431/1100) C:\\Users\\okeiy\\Downloads\\Video\\09876.mp4: 384x640 5 cars, 1 traffic light, 2 traffic signs, 13.4ms\n",
      "video 1/1 (frame 432/1100) C:\\Users\\okeiy\\Downloads\\Video\\09876.mp4: 384x640 5 cars, 1 traffic light, 1 traffic sign, 21.0ms\n",
      "video 1/1 (frame 433/1100) C:\\Users\\okeiy\\Downloads\\Video\\09876.mp4: 384x640 5 cars, 1 person, 1 traffic light, 1 traffic sign, 18.8ms\n",
      "video 1/1 (frame 434/1100) C:\\Users\\okeiy\\Downloads\\Video\\09876.mp4: 384x640 5 cars, 1 person, 2 traffic signs, 14.5ms\n",
      "video 1/1 (frame 435/1100) C:\\Users\\okeiy\\Downloads\\Video\\09876.mp4: 384x640 5 cars, 2 traffic signs, 11.7ms\n",
      "video 1/1 (frame 436/1100) C:\\Users\\okeiy\\Downloads\\Video\\09876.mp4: 384x640 5 cars, 1 traffic sign, 19.4ms\n",
      "video 1/1 (frame 437/1100) C:\\Users\\okeiy\\Downloads\\Video\\09876.mp4: 384x640 5 cars, 1 person, 1 traffic sign, 18.0ms\n",
      "video 1/1 (frame 438/1100) C:\\Users\\okeiy\\Downloads\\Video\\09876.mp4: 384x640 5 cars, 1 person, 1 traffic light, 1 traffic sign, 12.5ms\n",
      "video 1/1 (frame 439/1100) C:\\Users\\okeiy\\Downloads\\Video\\09876.mp4: 384x640 5 cars, 1 person, 2 traffic signs, 12.8ms\n",
      "video 1/1 (frame 440/1100) C:\\Users\\okeiy\\Downloads\\Video\\09876.mp4: 384x640 5 cars, 1 traffic light, 2 traffic signs, 19.1ms\n",
      "video 1/1 (frame 441/1100) C:\\Users\\okeiy\\Downloads\\Video\\09876.mp4: 384x640 5 cars, 2 traffic signs, 23.0ms\n",
      "video 1/1 (frame 442/1100) C:\\Users\\okeiy\\Downloads\\Video\\09876.mp4: 384x640 5 cars, 1 traffic light, 2 traffic signs, 16.4ms\n",
      "video 1/1 (frame 443/1100) C:\\Users\\okeiy\\Downloads\\Video\\09876.mp4: 384x640 5 cars, 1 traffic light, 2 traffic signs, 26.5ms\n",
      "video 1/1 (frame 444/1100) C:\\Users\\okeiy\\Downloads\\Video\\09876.mp4: 384x640 5 cars, 1 traffic light, 2 traffic signs, 20.1ms\n",
      "video 1/1 (frame 445/1100) C:\\Users\\okeiy\\Downloads\\Video\\09876.mp4: 384x640 5 cars, 1 person, 1 traffic light, 2 traffic signs, 30.1ms\n",
      "video 1/1 (frame 446/1100) C:\\Users\\okeiy\\Downloads\\Video\\09876.mp4: 384x640 5 cars, 1 person, 1 traffic light, 2 traffic signs, 44.5ms\n",
      "video 1/1 (frame 447/1100) C:\\Users\\okeiy\\Downloads\\Video\\09876.mp4: 384x640 5 cars, 1 person, 2 traffic signs, 29.4ms\n",
      "video 1/1 (frame 448/1100) C:\\Users\\okeiy\\Downloads\\Video\\09876.mp4: 384x640 5 cars, 1 person, 1 traffic light, 2 traffic signs, 10.1ms\n",
      "video 1/1 (frame 449/1100) C:\\Users\\okeiy\\Downloads\\Video\\09876.mp4: 384x640 5 cars, 1 person, 2 traffic signs, 11.0ms\n",
      "video 1/1 (frame 450/1100) C:\\Users\\okeiy\\Downloads\\Video\\09876.mp4: 384x640 5 cars, 1 traffic light, 2 traffic signs, 10.3ms\n",
      "video 1/1 (frame 451/1100) C:\\Users\\okeiy\\Downloads\\Video\\09876.mp4: 384x640 5 cars, 1 person, 1 traffic light, 2 traffic signs, 9.8ms\n",
      "video 1/1 (frame 452/1100) C:\\Users\\okeiy\\Downloads\\Video\\09876.mp4: 384x640 5 cars, 1 person, 1 traffic light, 2 traffic signs, 9.2ms\n",
      "video 1/1 (frame 453/1100) C:\\Users\\okeiy\\Downloads\\Video\\09876.mp4: 384x640 5 cars, 1 traffic light, 2 traffic signs, 9.2ms\n",
      "video 1/1 (frame 454/1100) C:\\Users\\okeiy\\Downloads\\Video\\09876.mp4: 384x640 5 cars, 1 person, 1 traffic light, 2 traffic signs, 9.3ms\n",
      "video 1/1 (frame 455/1100) C:\\Users\\okeiy\\Downloads\\Video\\09876.mp4: 384x640 4 cars, 2 traffic signs, 8.7ms\n",
      "video 1/1 (frame 456/1100) C:\\Users\\okeiy\\Downloads\\Video\\09876.mp4: 384x640 5 cars, 2 traffic signs, 9.4ms\n",
      "video 1/1 (frame 457/1100) C:\\Users\\okeiy\\Downloads\\Video\\09876.mp4: 384x640 6 cars, 2 traffic signs, 8.4ms\n",
      "video 1/1 (frame 458/1100) C:\\Users\\okeiy\\Downloads\\Video\\09876.mp4: 384x640 6 cars, 1 person, 1 traffic light, 2 traffic signs, 9.5ms\n",
      "video 1/1 (frame 459/1100) C:\\Users\\okeiy\\Downloads\\Video\\09876.mp4: 384x640 6 cars, 1 person, 2 traffic signs, 10.1ms\n",
      "video 1/1 (frame 460/1100) C:\\Users\\okeiy\\Downloads\\Video\\09876.mp4: 384x640 5 cars, 1 person, 1 traffic light, 1 traffic sign, 10.6ms\n",
      "video 1/1 (frame 461/1100) C:\\Users\\okeiy\\Downloads\\Video\\09876.mp4: 384x640 5 cars, 1 person, 1 traffic light, 2 traffic signs, 9.3ms\n",
      "video 1/1 (frame 462/1100) C:\\Users\\okeiy\\Downloads\\Video\\09876.mp4: 384x640 6 cars, 1 person, 1 traffic sign, 10.1ms\n",
      "video 1/1 (frame 463/1100) C:\\Users\\okeiy\\Downloads\\Video\\09876.mp4: 384x640 6 cars, 1 person, 2 traffic lights, 2 traffic signs, 8.7ms\n",
      "video 1/1 (frame 464/1100) C:\\Users\\okeiy\\Downloads\\Video\\09876.mp4: 384x640 7 cars, 1 person, 1 traffic light, 1 traffic sign, 8.8ms\n",
      "video 1/1 (frame 465/1100) C:\\Users\\okeiy\\Downloads\\Video\\09876.mp4: 384x640 6 cars, 2 persons, 2 traffic lights, 1 traffic sign, 14.2ms\n",
      "video 1/1 (frame 466/1100) C:\\Users\\okeiy\\Downloads\\Video\\09876.mp4: 384x640 6 cars, 1 person, 1 traffic light, 1 traffic sign, 9.4ms\n",
      "video 1/1 (frame 467/1100) C:\\Users\\okeiy\\Downloads\\Video\\09876.mp4: 384x640 6 cars, 1 person, 1 traffic light, 1 traffic sign, 10.2ms\n",
      "video 1/1 (frame 468/1100) C:\\Users\\okeiy\\Downloads\\Video\\09876.mp4: 384x640 5 cars, 1 traffic light, 1 traffic sign, 8.5ms\n",
      "video 1/1 (frame 469/1100) C:\\Users\\okeiy\\Downloads\\Video\\09876.mp4: 384x640 7 cars, 1 person, 1 traffic light, 1 traffic sign, 10.0ms\n",
      "video 1/1 (frame 470/1100) C:\\Users\\okeiy\\Downloads\\Video\\09876.mp4: 384x640 7 cars, 1 person, 2 traffic lights, 1 traffic sign, 9.4ms\n",
      "video 1/1 (frame 471/1100) C:\\Users\\okeiy\\Downloads\\Video\\09876.mp4: 384x640 6 cars, 1 person, 2 traffic lights, 1 traffic sign, 10.3ms\n",
      "video 1/1 (frame 472/1100) C:\\Users\\okeiy\\Downloads\\Video\\09876.mp4: 384x640 6 cars, 1 person, 2 traffic lights, 1 traffic sign, 9.3ms\n",
      "video 1/1 (frame 473/1100) C:\\Users\\okeiy\\Downloads\\Video\\09876.mp4: 384x640 6 cars, 2 persons, 1 traffic light, 1 traffic sign, 9.4ms\n",
      "video 1/1 (frame 474/1100) C:\\Users\\okeiy\\Downloads\\Video\\09876.mp4: 384x640 6 cars, 1 person, 2 traffic signs, 8.3ms\n",
      "video 1/1 (frame 475/1100) C:\\Users\\okeiy\\Downloads\\Video\\09876.mp4: 384x640 6 cars, 3 persons, 1 traffic light, 1 traffic sign, 11.5ms\n",
      "video 1/1 (frame 476/1100) C:\\Users\\okeiy\\Downloads\\Video\\09876.mp4: 384x640 6 cars, 1 person, 2 traffic lights, 2 traffic signs, 9.4ms\n",
      "video 1/1 (frame 477/1100) C:\\Users\\okeiy\\Downloads\\Video\\09876.mp4: 384x640 6 cars, 2 persons, 2 traffic lights, 2 traffic signs, 8.7ms\n",
      "video 1/1 (frame 478/1100) C:\\Users\\okeiy\\Downloads\\Video\\09876.mp4: 384x640 6 cars, 1 person, 3 traffic lights, 1 traffic sign, 11.0ms\n",
      "video 1/1 (frame 479/1100) C:\\Users\\okeiy\\Downloads\\Video\\09876.mp4: 384x640 6 cars, 1 person, 1 traffic light, 1 traffic sign, 9.5ms\n",
      "video 1/1 (frame 480/1100) C:\\Users\\okeiy\\Downloads\\Video\\09876.mp4: 384x640 6 cars, 1 person, 2 traffic signs, 8.6ms\n",
      "video 1/1 (frame 481/1100) C:\\Users\\okeiy\\Downloads\\Video\\09876.mp4: 384x640 6 cars, 2 persons, 1 traffic sign, 10.4ms\n",
      "video 1/1 (frame 482/1100) C:\\Users\\okeiy\\Downloads\\Video\\09876.mp4: 384x640 6 cars, 2 traffic lights, 3 traffic signs, 8.6ms\n",
      "video 1/1 (frame 483/1100) C:\\Users\\okeiy\\Downloads\\Video\\09876.mp4: 384x640 6 cars, 1 person, 2 traffic lights, 1 traffic sign, 8.7ms\n",
      "video 1/1 (frame 484/1100) C:\\Users\\okeiy\\Downloads\\Video\\09876.mp4: 384x640 6 cars, 1 person, 1 traffic light, 2 traffic signs, 8.8ms\n",
      "video 1/1 (frame 485/1100) C:\\Users\\okeiy\\Downloads\\Video\\09876.mp4: 384x640 6 cars, 2 persons, 1 traffic light, 3 traffic signs, 10.6ms\n",
      "video 1/1 (frame 486/1100) C:\\Users\\okeiy\\Downloads\\Video\\09876.mp4: 384x640 6 cars, 1 person, 2 traffic lights, 2 traffic signs, 10.6ms\n",
      "video 1/1 (frame 487/1100) C:\\Users\\okeiy\\Downloads\\Video\\09876.mp4: 384x640 6 cars, 1 person, 3 traffic lights, 2 traffic signs, 11.5ms\n",
      "video 1/1 (frame 488/1100) C:\\Users\\okeiy\\Downloads\\Video\\09876.mp4: 384x640 6 cars, 1 person, 3 traffic lights, 1 traffic sign, 12.7ms\n",
      "video 1/1 (frame 489/1100) C:\\Users\\okeiy\\Downloads\\Video\\09876.mp4: 384x640 7 cars, 1 person, 1 traffic light, 1 traffic sign, 12.5ms\n",
      "video 1/1 (frame 490/1100) C:\\Users\\okeiy\\Downloads\\Video\\09876.mp4: 384x640 7 cars, 1 traffic light, 1 traffic sign, 10.1ms\n",
      "video 1/1 (frame 491/1100) C:\\Users\\okeiy\\Downloads\\Video\\09876.mp4: 384x640 7 cars, 1 person, 2 traffic lights, 2 traffic signs, 9.5ms\n",
      "video 1/1 (frame 492/1100) C:\\Users\\okeiy\\Downloads\\Video\\09876.mp4: 384x640 6 cars, 1 person, 1 traffic light, 1 traffic sign, 9.7ms\n",
      "video 1/1 (frame 493/1100) C:\\Users\\okeiy\\Downloads\\Video\\09876.mp4: 384x640 6 cars, 1 person, 1 traffic sign, 14.5ms\n",
      "video 1/1 (frame 494/1100) C:\\Users\\okeiy\\Downloads\\Video\\09876.mp4: 384x640 6 cars, 1 person, 2 traffic lights, 2 traffic signs, 9.5ms\n",
      "video 1/1 (frame 495/1100) C:\\Users\\okeiy\\Downloads\\Video\\09876.mp4: 384x640 6 cars, 2 persons, 3 traffic lights, 1 traffic sign, 25.5ms\n",
      "video 1/1 (frame 496/1100) C:\\Users\\okeiy\\Downloads\\Video\\09876.mp4: 384x640 6 cars, 2 persons, 2 traffic lights, 2 traffic signs, 26.6ms\n",
      "video 1/1 (frame 497/1100) C:\\Users\\okeiy\\Downloads\\Video\\09876.mp4: 384x640 6 cars, 1 person, 1 traffic light, 1 traffic sign, 20.7ms\n",
      "video 1/1 (frame 498/1100) C:\\Users\\okeiy\\Downloads\\Video\\09876.mp4: 384x640 6 cars, 3 traffic lights, 1 traffic sign, 10.1ms\n",
      "video 1/1 (frame 499/1100) C:\\Users\\okeiy\\Downloads\\Video\\09876.mp4: 384x640 4 cars, 2 persons, 2 traffic lights, 8.4ms\n",
      "video 1/1 (frame 500/1100) C:\\Users\\okeiy\\Downloads\\Video\\09876.mp4: 384x640 4 cars, 1 person, 2 traffic lights, 10.0ms\n",
      "video 1/1 (frame 501/1100) C:\\Users\\okeiy\\Downloads\\Video\\09876.mp4: 384x640 5 cars, 2 persons, 3 traffic lights, 10.9ms\n",
      "video 1/1 (frame 502/1100) C:\\Users\\okeiy\\Downloads\\Video\\09876.mp4: 384x640 5 cars, 2 persons, 3 traffic lights, 9.7ms\n",
      "video 1/1 (frame 503/1100) C:\\Users\\okeiy\\Downloads\\Video\\09876.mp4: 384x640 5 cars, 2 persons, 1 traffic light, 1 traffic sign, 9.3ms\n",
      "video 1/1 (frame 504/1100) C:\\Users\\okeiy\\Downloads\\Video\\09876.mp4: 384x640 5 cars, 2 persons, 3 traffic lights, 1 traffic sign, 11.0ms\n",
      "video 1/1 (frame 505/1100) C:\\Users\\okeiy\\Downloads\\Video\\09876.mp4: 384x640 5 cars, 2 persons, 2 traffic lights, 1 traffic sign, 10.0ms\n",
      "video 1/1 (frame 506/1100) C:\\Users\\okeiy\\Downloads\\Video\\09876.mp4: 384x640 5 cars, 2 persons, 3 traffic lights, 2 traffic signs, 9.3ms\n",
      "video 1/1 (frame 507/1100) C:\\Users\\okeiy\\Downloads\\Video\\09876.mp4: 384x640 4 cars, 1 person, 2 traffic lights, 1 traffic sign, 10.1ms\n",
      "video 1/1 (frame 508/1100) C:\\Users\\okeiy\\Downloads\\Video\\09876.mp4: 384x640 4 cars, 3 persons, 3 traffic lights, 2 traffic signs, 15.5ms\n",
      "video 1/1 (frame 509/1100) C:\\Users\\okeiy\\Downloads\\Video\\09876.mp4: 384x640 5 cars, 1 person, 3 traffic lights, 3 traffic signs, 11.4ms\n",
      "video 1/1 (frame 510/1100) C:\\Users\\okeiy\\Downloads\\Video\\09876.mp4: 384x640 5 cars, 1 person, 2 traffic lights, 1 traffic sign, 9.5ms\n",
      "video 1/1 (frame 511/1100) C:\\Users\\okeiy\\Downloads\\Video\\09876.mp4: 384x640 4 cars, 1 person, 2 traffic lights, 2 traffic signs, 10.4ms\n",
      "video 1/1 (frame 512/1100) C:\\Users\\okeiy\\Downloads\\Video\\09876.mp4: 384x640 4 cars, 1 person, 3 traffic lights, 1 traffic sign, 10.2ms\n",
      "video 1/1 (frame 513/1100) C:\\Users\\okeiy\\Downloads\\Video\\09876.mp4: 384x640 5 cars, 2 persons, 4 traffic lights, 2 traffic signs, 8.8ms\n",
      "video 1/1 (frame 514/1100) C:\\Users\\okeiy\\Downloads\\Video\\09876.mp4: 384x640 4 cars, 2 persons, 3 traffic lights, 1 traffic sign, 8.6ms\n",
      "video 1/1 (frame 515/1100) C:\\Users\\okeiy\\Downloads\\Video\\09876.mp4: 384x640 3 cars, 2 persons, 3 traffic lights, 2 traffic signs, 9.1ms\n",
      "video 1/1 (frame 516/1100) C:\\Users\\okeiy\\Downloads\\Video\\09876.mp4: 384x640 4 cars, 2 persons, 4 traffic lights, 2 traffic signs, 9.9ms\n",
      "video 1/1 (frame 517/1100) C:\\Users\\okeiy\\Downloads\\Video\\09876.mp4: 384x640 3 cars, 2 persons, 3 traffic lights, 2 traffic signs, 21.4ms\n",
      "video 1/1 (frame 518/1100) C:\\Users\\okeiy\\Downloads\\Video\\09876.mp4: 384x640 4 cars, 2 persons, 3 traffic lights, 1 traffic sign, 16.3ms\n",
      "video 1/1 (frame 519/1100) C:\\Users\\okeiy\\Downloads\\Video\\09876.mp4: 384x640 5 cars, 2 persons, 3 traffic lights, 2 traffic signs, 9.9ms\n",
      "video 1/1 (frame 520/1100) C:\\Users\\okeiy\\Downloads\\Video\\09876.mp4: 384x640 4 cars, 2 persons, 4 traffic lights, 2 traffic signs, 9.8ms\n",
      "video 1/1 (frame 521/1100) C:\\Users\\okeiy\\Downloads\\Video\\09876.mp4: 384x640 3 cars, 2 persons, 5 traffic lights, 2 traffic signs, 9.4ms\n",
      "video 1/1 (frame 522/1100) C:\\Users\\okeiy\\Downloads\\Video\\09876.mp4: 384x640 3 cars, 2 persons, 2 traffic lights, 2 traffic signs, 9.3ms\n",
      "video 1/1 (frame 523/1100) C:\\Users\\okeiy\\Downloads\\Video\\09876.mp4: 384x640 3 cars, 2 persons, 4 traffic lights, 2 traffic signs, 9.4ms\n",
      "video 1/1 (frame 524/1100) C:\\Users\\okeiy\\Downloads\\Video\\09876.mp4: 384x640 4 cars, 2 persons, 2 traffic lights, 2 traffic signs, 25.9ms\n",
      "video 1/1 (frame 525/1100) C:\\Users\\okeiy\\Downloads\\Video\\09876.mp4: 384x640 3 cars, 2 persons, 3 traffic lights, 2 traffic signs, 10.5ms\n",
      "video 1/1 (frame 526/1100) C:\\Users\\okeiy\\Downloads\\Video\\09876.mp4: 384x640 3 cars, 2 persons, 4 traffic lights, 2 traffic signs, 10.0ms\n",
      "video 1/1 (frame 527/1100) C:\\Users\\okeiy\\Downloads\\Video\\09876.mp4: 384x640 4 cars, 2 persons, 3 traffic lights, 2 traffic signs, 8.5ms\n",
      "video 1/1 (frame 528/1100) C:\\Users\\okeiy\\Downloads\\Video\\09876.mp4: 384x640 3 cars, 2 persons, 3 traffic lights, 2 traffic signs, 12.5ms\n",
      "video 1/1 (frame 529/1100) C:\\Users\\okeiy\\Downloads\\Video\\09876.mp4: 384x640 4 cars, 2 persons, 3 traffic lights, 2 traffic signs, 9.1ms\n",
      "video 1/1 (frame 530/1100) C:\\Users\\okeiy\\Downloads\\Video\\09876.mp4: 384x640 5 cars, 2 persons, 4 traffic lights, 3 traffic signs, 9.1ms\n",
      "video 1/1 (frame 531/1100) C:\\Users\\okeiy\\Downloads\\Video\\09876.mp4: 384x640 4 cars, 2 persons, 2 traffic lights, 2 traffic signs, 7.9ms\n",
      "video 1/1 (frame 532/1100) C:\\Users\\okeiy\\Downloads\\Video\\09876.mp4: 384x640 4 cars, 2 persons, 3 traffic lights, 2 traffic signs, 9.1ms\n",
      "video 1/1 (frame 533/1100) C:\\Users\\okeiy\\Downloads\\Video\\09876.mp4: 384x640 4 cars, 1 person, 2 traffic lights, 1 traffic sign, 23.1ms\n",
      "video 1/1 (frame 534/1100) C:\\Users\\okeiy\\Downloads\\Video\\09876.mp4: 384x640 4 cars, 1 person, 2 traffic lights, 1 traffic sign, 8.2ms\n",
      "video 1/1 (frame 535/1100) C:\\Users\\okeiy\\Downloads\\Video\\09876.mp4: 384x640 5 cars, 1 person, 2 traffic lights, 1 traffic sign, 8.1ms\n",
      "video 1/1 (frame 536/1100) C:\\Users\\okeiy\\Downloads\\Video\\09876.mp4: 384x640 5 cars, 1 traffic light, 2 traffic signs, 8.3ms\n",
      "video 1/1 (frame 537/1100) C:\\Users\\okeiy\\Downloads\\Video\\09876.mp4: 384x640 4 cars, 1 traffic light, 1 traffic sign, 9.2ms\n",
      "video 1/1 (frame 538/1100) C:\\Users\\okeiy\\Downloads\\Video\\09876.mp4: 384x640 4 cars, 2 traffic lights, 1 traffic sign, 10.5ms\n",
      "video 1/1 (frame 539/1100) C:\\Users\\okeiy\\Downloads\\Video\\09876.mp4: 384x640 4 cars, 2 traffic lights, 1 traffic sign, 8.5ms\n",
      "video 1/1 (frame 540/1100) C:\\Users\\okeiy\\Downloads\\Video\\09876.mp4: 384x640 4 cars, 2 traffic lights, 1 traffic sign, 8.8ms\n",
      "video 1/1 (frame 541/1100) C:\\Users\\okeiy\\Downloads\\Video\\09876.mp4: 384x640 5 cars, 2 traffic lights, 1 traffic sign, 8.5ms\n",
      "video 1/1 (frame 542/1100) C:\\Users\\okeiy\\Downloads\\Video\\09876.mp4: 384x640 5 cars, 2 traffic lights, 1 traffic sign, 9.3ms\n",
      "video 1/1 (frame 543/1100) C:\\Users\\okeiy\\Downloads\\Video\\09876.mp4: 384x640 5 cars, 3 traffic lights, 2 traffic signs, 14.2ms\n",
      "video 1/1 (frame 544/1100) C:\\Users\\okeiy\\Downloads\\Video\\09876.mp4: 384x640 6 cars, 1 traffic light, 2 traffic signs, 8.5ms\n",
      "video 1/1 (frame 545/1100) C:\\Users\\okeiy\\Downloads\\Video\\09876.mp4: 384x640 5 cars, 1 traffic light, 1 traffic sign, 10.4ms\n",
      "video 1/1 (frame 546/1100) C:\\Users\\okeiy\\Downloads\\Video\\09876.mp4: 384x640 5 cars, 1 person, 1 traffic light, 1 traffic sign, 8.7ms\n",
      "video 1/1 (frame 547/1100) C:\\Users\\okeiy\\Downloads\\Video\\09876.mp4: 384x640 6 cars, 1 traffic light, 1 traffic sign, 8.0ms\n",
      "video 1/1 (frame 548/1100) C:\\Users\\okeiy\\Downloads\\Video\\09876.mp4: 384x640 5 cars, 1 traffic light, 1 traffic sign, 8.8ms\n",
      "video 1/1 (frame 549/1100) C:\\Users\\okeiy\\Downloads\\Video\\09876.mp4: 384x640 4 cars, 1 person, 1 traffic light, 1 traffic sign, 11.3ms\n",
      "video 1/1 (frame 550/1100) C:\\Users\\okeiy\\Downloads\\Video\\09876.mp4: 384x640 4 cars, 1 person, 8.4ms\n",
      "video 1/1 (frame 551/1100) C:\\Users\\okeiy\\Downloads\\Video\\09876.mp4: 384x640 5 cars, 8.0ms\n",
      "video 1/1 (frame 552/1100) C:\\Users\\okeiy\\Downloads\\Video\\09876.mp4: 384x640 5 cars, 8.7ms\n",
      "video 1/1 (frame 553/1100) C:\\Users\\okeiy\\Downloads\\Video\\09876.mp4: 384x640 5 cars, 1 person, 7.6ms\n",
      "video 1/1 (frame 554/1100) C:\\Users\\okeiy\\Downloads\\Video\\09876.mp4: 384x640 5 cars, 16.4ms\n",
      "video 1/1 (frame 555/1100) C:\\Users\\okeiy\\Downloads\\Video\\09876.mp4: 384x640 5 cars, 1 traffic sign, 13.1ms\n",
      "video 1/1 (frame 556/1100) C:\\Users\\okeiy\\Downloads\\Video\\09876.mp4: 384x640 5 cars, 1 traffic sign, 8.6ms\n",
      "video 1/1 (frame 557/1100) C:\\Users\\okeiy\\Downloads\\Video\\09876.mp4: 384x640 5 cars, 9.4ms\n",
      "video 1/1 (frame 558/1100) C:\\Users\\okeiy\\Downloads\\Video\\09876.mp4: 384x640 5 cars, 8.4ms\n",
      "video 1/1 (frame 559/1100) C:\\Users\\okeiy\\Downloads\\Video\\09876.mp4: 384x640 5 cars, 1 person, 8.5ms\n",
      "video 1/1 (frame 560/1100) C:\\Users\\okeiy\\Downloads\\Video\\09876.mp4: 384x640 5 cars, 1 person, 7.3ms\n",
      "video 1/1 (frame 561/1100) C:\\Users\\okeiy\\Downloads\\Video\\09876.mp4: 384x640 5 cars, 1 person, 9.4ms\n",
      "video 1/1 (frame 562/1100) C:\\Users\\okeiy\\Downloads\\Video\\09876.mp4: 384x640 5 cars, 1 person, 1 traffic sign, 10.9ms\n",
      "video 1/1 (frame 563/1100) C:\\Users\\okeiy\\Downloads\\Video\\09876.mp4: 384x640 5 cars, 2 persons, 1 traffic sign, 8.7ms\n",
      "video 1/1 (frame 564/1100) C:\\Users\\okeiy\\Downloads\\Video\\09876.mp4: 384x640 5 cars, 1 person, 9.4ms\n",
      "video 1/1 (frame 565/1100) C:\\Users\\okeiy\\Downloads\\Video\\09876.mp4: 384x640 5 cars, 1 person, 10.7ms\n",
      "video 1/1 (frame 566/1100) C:\\Users\\okeiy\\Downloads\\Video\\09876.mp4: 384x640 5 cars, 2 persons, 7.7ms\n",
      "video 1/1 (frame 567/1100) C:\\Users\\okeiy\\Downloads\\Video\\09876.mp4: 384x640 5 cars, 2 persons, 7.8ms\n",
      "video 1/1 (frame 568/1100) C:\\Users\\okeiy\\Downloads\\Video\\09876.mp4: 384x640 5 cars, 2 persons, 8.7ms\n",
      "video 1/1 (frame 569/1100) C:\\Users\\okeiy\\Downloads\\Video\\09876.mp4: 384x640 5 cars, 2 persons, 10.4ms\n",
      "video 1/1 (frame 570/1100) C:\\Users\\okeiy\\Downloads\\Video\\09876.mp4: 384x640 5 cars, 1 person, 7.2ms\n",
      "video 1/1 (frame 571/1100) C:\\Users\\okeiy\\Downloads\\Video\\09876.mp4: 384x640 5 cars, 1 person, 8.7ms\n",
      "video 1/1 (frame 572/1100) C:\\Users\\okeiy\\Downloads\\Video\\09876.mp4: 384x640 5 cars, 2 persons, 8.7ms\n",
      "video 1/1 (frame 573/1100) C:\\Users\\okeiy\\Downloads\\Video\\09876.mp4: 384x640 5 cars, 1 person, 9.8ms\n",
      "video 1/1 (frame 574/1100) C:\\Users\\okeiy\\Downloads\\Video\\09876.mp4: 384x640 5 cars, 2 persons, 7.4ms\n",
      "video 1/1 (frame 575/1100) C:\\Users\\okeiy\\Downloads\\Video\\09876.mp4: 384x640 5 cars, 2 persons, 7.4ms\n",
      "video 1/1 (frame 576/1100) C:\\Users\\okeiy\\Downloads\\Video\\09876.mp4: 384x640 5 cars, 2 persons, 8.3ms\n",
      "video 1/1 (frame 577/1100) C:\\Users\\okeiy\\Downloads\\Video\\09876.mp4: 384x640 5 cars, 2 persons, 19.0ms\n",
      "video 1/1 (frame 578/1100) C:\\Users\\okeiy\\Downloads\\Video\\09876.mp4: 384x640 5 cars, 2 persons, 11.9ms\n",
      "video 1/1 (frame 579/1100) C:\\Users\\okeiy\\Downloads\\Video\\09876.mp4: 384x640 5 cars, 2 persons, 8.7ms\n",
      "video 1/1 (frame 580/1100) C:\\Users\\okeiy\\Downloads\\Video\\09876.mp4: 384x640 5 cars, 2 persons, 8.7ms\n",
      "video 1/1 (frame 581/1100) C:\\Users\\okeiy\\Downloads\\Video\\09876.mp4: 384x640 5 cars, 2 persons, 10.7ms\n",
      "video 1/1 (frame 582/1100) C:\\Users\\okeiy\\Downloads\\Video\\09876.mp4: 384x640 5 cars, 2 persons, 10.1ms\n",
      "video 1/1 (frame 583/1100) C:\\Users\\okeiy\\Downloads\\Video\\09876.mp4: 384x640 4 cars, 2 persons, 8.7ms\n",
      "video 1/1 (frame 584/1100) C:\\Users\\okeiy\\Downloads\\Video\\09876.mp4: 384x640 5 cars, 1 person, 16.1ms\n",
      "video 1/1 (frame 585/1100) C:\\Users\\okeiy\\Downloads\\Video\\09876.mp4: 384x640 5 cars, 1 person, 9.7ms\n",
      "video 1/1 (frame 586/1100) C:\\Users\\okeiy\\Downloads\\Video\\09876.mp4: 384x640 6 cars, 1 traffic sign, 14.0ms\n",
      "video 1/1 (frame 587/1100) C:\\Users\\okeiy\\Downloads\\Video\\09876.mp4: 384x640 6 cars, 8.4ms\n",
      "video 1/1 (frame 588/1100) C:\\Users\\okeiy\\Downloads\\Video\\09876.mp4: 384x640 5 cars, 8.5ms\n",
      "video 1/1 (frame 589/1100) C:\\Users\\okeiy\\Downloads\\Video\\09876.mp4: 384x640 5 cars, 11.3ms\n",
      "video 1/1 (frame 590/1100) C:\\Users\\okeiy\\Downloads\\Video\\09876.mp4: 384x640 5 cars, 11.6ms\n",
      "video 1/1 (frame 591/1100) C:\\Users\\okeiy\\Downloads\\Video\\09876.mp4: 384x640 5 cars, 11.5ms\n",
      "video 1/1 (frame 592/1100) C:\\Users\\okeiy\\Downloads\\Video\\09876.mp4: 384x640 5 cars, 9.6ms\n",
      "video 1/1 (frame 593/1100) C:\\Users\\okeiy\\Downloads\\Video\\09876.mp4: 384x640 5 cars, 1 traffic sign, 12.6ms\n",
      "video 1/1 (frame 594/1100) C:\\Users\\okeiy\\Downloads\\Video\\09876.mp4: 384x640 5 cars, 10.7ms\n",
      "video 1/1 (frame 595/1100) C:\\Users\\okeiy\\Downloads\\Video\\09876.mp4: 384x640 5 cars, 11.0ms\n",
      "video 1/1 (frame 596/1100) C:\\Users\\okeiy\\Downloads\\Video\\09876.mp4: 384x640 6 cars, 12.3ms\n",
      "video 1/1 (frame 597/1100) C:\\Users\\okeiy\\Downloads\\Video\\09876.mp4: 384x640 5 cars, 18.4ms\n",
      "video 1/1 (frame 598/1100) C:\\Users\\okeiy\\Downloads\\Video\\09876.mp4: 384x640 5 cars, 9.4ms\n",
      "video 1/1 (frame 599/1100) C:\\Users\\okeiy\\Downloads\\Video\\09876.mp4: 384x640 6 cars, 10.5ms\n",
      "video 1/1 (frame 600/1100) C:\\Users\\okeiy\\Downloads\\Video\\09876.mp4: 384x640 5 cars, 2 persons, 10.8ms\n",
      "video 1/1 (frame 601/1100) C:\\Users\\okeiy\\Downloads\\Video\\09876.mp4: 384x640 5 cars, 1 traffic sign, 11.0ms\n",
      "video 1/1 (frame 602/1100) C:\\Users\\okeiy\\Downloads\\Video\\09876.mp4: 384x640 7 cars, 1 traffic sign, 13.0ms\n",
      "video 1/1 (frame 603/1100) C:\\Users\\okeiy\\Downloads\\Video\\09876.mp4: 384x640 6 cars, 14.3ms\n",
      "video 1/1 (frame 604/1100) C:\\Users\\okeiy\\Downloads\\Video\\09876.mp4: 384x640 6 cars, 10.7ms\n",
      "video 1/1 (frame 605/1100) C:\\Users\\okeiy\\Downloads\\Video\\09876.mp4: 384x640 7 cars, 9.4ms\n",
      "video 1/1 (frame 606/1100) C:\\Users\\okeiy\\Downloads\\Video\\09876.mp4: 384x640 6 cars, 12.2ms\n",
      "video 1/1 (frame 607/1100) C:\\Users\\okeiy\\Downloads\\Video\\09876.mp4: 384x640 6 cars, 11.4ms\n",
      "video 1/1 (frame 608/1100) C:\\Users\\okeiy\\Downloads\\Video\\09876.mp4: 384x640 6 cars, 1 traffic sign, 9.4ms\n",
      "video 1/1 (frame 609/1100) C:\\Users\\okeiy\\Downloads\\Video\\09876.mp4: 384x640 6 cars, 1 traffic sign, 14.8ms\n",
      "video 1/1 (frame 610/1100) C:\\Users\\okeiy\\Downloads\\Video\\09876.mp4: 384x640 6 cars, 9.7ms\n",
      "video 1/1 (frame 611/1100) C:\\Users\\okeiy\\Downloads\\Video\\09876.mp4: 384x640 6 cars, 9.3ms\n",
      "video 1/1 (frame 612/1100) C:\\Users\\okeiy\\Downloads\\Video\\09876.mp4: 384x640 6 cars, 1 person, 14.4ms\n",
      "video 1/1 (frame 613/1100) C:\\Users\\okeiy\\Downloads\\Video\\09876.mp4: 384x640 6 cars, 2 persons, 9.3ms\n",
      "video 1/1 (frame 614/1100) C:\\Users\\okeiy\\Downloads\\Video\\09876.mp4: 384x640 6 cars, 1 person, 16.4ms\n",
      "video 1/1 (frame 615/1100) C:\\Users\\okeiy\\Downloads\\Video\\09876.mp4: 384x640 6 cars, 1 person, 13.1ms\n",
      "video 1/1 (frame 616/1100) C:\\Users\\okeiy\\Downloads\\Video\\09876.mp4: 384x640 6 cars, 1 person, 17.0ms\n",
      "video 1/1 (frame 617/1100) C:\\Users\\okeiy\\Downloads\\Video\\09876.mp4: 384x640 6 cars, 13.4ms\n",
      "video 1/1 (frame 618/1100) C:\\Users\\okeiy\\Downloads\\Video\\09876.mp4: 384x640 5 cars, 1 person, 10.7ms\n",
      "video 1/1 (frame 619/1100) C:\\Users\\okeiy\\Downloads\\Video\\09876.mp4: 384x640 5 cars, 1 person, 10.2ms\n",
      "video 1/1 (frame 620/1100) C:\\Users\\okeiy\\Downloads\\Video\\09876.mp4: 384x640 5 cars, 1 person, 13.1ms\n",
      "video 1/1 (frame 621/1100) C:\\Users\\okeiy\\Downloads\\Video\\09876.mp4: 384x640 5 cars, 1 person, 17.4ms\n",
      "video 1/1 (frame 622/1100) C:\\Users\\okeiy\\Downloads\\Video\\09876.mp4: 384x640 5 cars, 1 person, 9.7ms\n",
      "video 1/1 (frame 623/1100) C:\\Users\\okeiy\\Downloads\\Video\\09876.mp4: 384x640 5 cars, 1 person, 10.8ms\n",
      "video 1/1 (frame 624/1100) C:\\Users\\okeiy\\Downloads\\Video\\09876.mp4: 384x640 6 cars, 1 person, 12.0ms\n",
      "video 1/1 (frame 625/1100) C:\\Users\\okeiy\\Downloads\\Video\\09876.mp4: 384x640 5 cars, 1 person, 11.3ms\n",
      "video 1/1 (frame 626/1100) C:\\Users\\okeiy\\Downloads\\Video\\09876.mp4: 384x640 5 cars, 1 person, 11.4ms\n",
      "video 1/1 (frame 627/1100) C:\\Users\\okeiy\\Downloads\\Video\\09876.mp4: 384x640 6 cars, 1 person, 12.4ms\n",
      "video 1/1 (frame 628/1100) C:\\Users\\okeiy\\Downloads\\Video\\09876.mp4: 384x640 6 cars, 1 person, 10.7ms\n",
      "video 1/1 (frame 629/1100) C:\\Users\\okeiy\\Downloads\\Video\\09876.mp4: 384x640 6 cars, 1 person, 8.7ms\n",
      "video 1/1 (frame 630/1100) C:\\Users\\okeiy\\Downloads\\Video\\09876.mp4: 384x640 6 cars, 11.5ms\n",
      "video 1/1 (frame 631/1100) C:\\Users\\okeiy\\Downloads\\Video\\09876.mp4: 384x640 6 cars, 9.9ms\n",
      "video 1/1 (frame 632/1100) C:\\Users\\okeiy\\Downloads\\Video\\09876.mp4: 384x640 6 cars, 12.7ms\n",
      "video 1/1 (frame 633/1100) C:\\Users\\okeiy\\Downloads\\Video\\09876.mp4: 384x640 6 cars, 1 traffic sign, 15.1ms\n",
      "video 1/1 (frame 634/1100) C:\\Users\\okeiy\\Downloads\\Video\\09876.mp4: 384x640 6 cars, 1 traffic sign, 9.4ms\n",
      "video 1/1 (frame 635/1100) C:\\Users\\okeiy\\Downloads\\Video\\09876.mp4: 384x640 6 cars, 1 traffic sign, 9.7ms\n",
      "video 1/1 (frame 636/1100) C:\\Users\\okeiy\\Downloads\\Video\\09876.mp4: 384x640 6 cars, 1 traffic sign, 13.5ms\n",
      "video 1/1 (frame 637/1100) C:\\Users\\okeiy\\Downloads\\Video\\09876.mp4: 384x640 6 cars, 1 traffic sign, 10.8ms\n",
      "video 1/1 (frame 638/1100) C:\\Users\\okeiy\\Downloads\\Video\\09876.mp4: 384x640 6 cars, 1 traffic sign, 10.3ms\n",
      "video 1/1 (frame 639/1100) C:\\Users\\okeiy\\Downloads\\Video\\09876.mp4: 384x640 6 cars, 1 traffic sign, 11.4ms\n",
      "video 1/1 (frame 640/1100) C:\\Users\\okeiy\\Downloads\\Video\\09876.mp4: 384x640 6 cars, 11.0ms\n",
      "video 1/1 (frame 641/1100) C:\\Users\\okeiy\\Downloads\\Video\\09876.mp4: 384x640 5 cars, 9.7ms\n",
      "video 1/1 (frame 642/1100) C:\\Users\\okeiy\\Downloads\\Video\\09876.mp4: 384x640 5 cars, 1 traffic sign, 22.0ms\n",
      "video 1/1 (frame 643/1100) C:\\Users\\okeiy\\Downloads\\Video\\09876.mp4: 384x640 5 cars, 1 traffic sign, 24.7ms\n",
      "video 1/1 (frame 644/1100) C:\\Users\\okeiy\\Downloads\\Video\\09876.mp4: 384x640 5 cars, 1 traffic sign, 23.2ms\n",
      "video 1/1 (frame 645/1100) C:\\Users\\okeiy\\Downloads\\Video\\09876.mp4: 384x640 5 cars, 2 traffic signs, 13.4ms\n",
      "video 1/1 (frame 646/1100) C:\\Users\\okeiy\\Downloads\\Video\\09876.mp4: 384x640 5 cars, 1 traffic sign, 9.7ms\n",
      "video 1/1 (frame 647/1100) C:\\Users\\okeiy\\Downloads\\Video\\09876.mp4: 384x640 5 cars, 1 traffic sign, 9.8ms\n",
      "video 1/1 (frame 648/1100) C:\\Users\\okeiy\\Downloads\\Video\\09876.mp4: 384x640 5 cars, 1 person, 1 traffic sign, 15.0ms\n",
      "video 1/1 (frame 649/1100) C:\\Users\\okeiy\\Downloads\\Video\\09876.mp4: 384x640 5 cars, 8.8ms\n",
      "video 1/1 (frame 650/1100) C:\\Users\\okeiy\\Downloads\\Video\\09876.mp4: 384x640 4 cars, 1 person, 9.7ms\n",
      "video 1/1 (frame 651/1100) C:\\Users\\okeiy\\Downloads\\Video\\09876.mp4: 384x640 4 cars, 2 traffic signs, 12.5ms\n",
      "video 1/1 (frame 652/1100) C:\\Users\\okeiy\\Downloads\\Video\\09876.mp4: 384x640 4 cars, 2 traffic signs, 10.9ms\n",
      "video 1/1 (frame 653/1100) C:\\Users\\okeiy\\Downloads\\Video\\09876.mp4: 384x640 4 cars, 2 traffic signs, 9.7ms\n",
      "video 1/1 (frame 654/1100) C:\\Users\\okeiy\\Downloads\\Video\\09876.mp4: 384x640 4 cars, 2 traffic signs, 11.4ms\n",
      "video 1/1 (frame 655/1100) C:\\Users\\okeiy\\Downloads\\Video\\09876.mp4: 384x640 5 cars, 2 traffic signs, 10.0ms\n",
      "video 1/1 (frame 656/1100) C:\\Users\\okeiy\\Downloads\\Video\\09876.mp4: 384x640 5 cars, 3 traffic signs, 11.1ms\n",
      "video 1/1 (frame 657/1100) C:\\Users\\okeiy\\Downloads\\Video\\09876.mp4: 384x640 5 cars, 3 traffic signs, 12.3ms\n",
      "video 1/1 (frame 658/1100) C:\\Users\\okeiy\\Downloads\\Video\\09876.mp4: 384x640 5 cars, 1 traffic sign, 10.3ms\n",
      "video 1/1 (frame 659/1100) C:\\Users\\okeiy\\Downloads\\Video\\09876.mp4: 384x640 5 cars, 3 traffic signs, 9.7ms\n",
      "video 1/1 (frame 660/1100) C:\\Users\\okeiy\\Downloads\\Video\\09876.mp4: 384x640 5 cars, 3 traffic signs, 9.7ms\n",
      "video 1/1 (frame 661/1100) C:\\Users\\okeiy\\Downloads\\Video\\09876.mp4: 384x640 6 cars, 3 traffic signs, 13.5ms\n",
      "video 1/1 (frame 662/1100) C:\\Users\\okeiy\\Downloads\\Video\\09876.mp4: 384x640 5 cars, 3 traffic signs, 11.5ms\n",
      "video 1/1 (frame 663/1100) C:\\Users\\okeiy\\Downloads\\Video\\09876.mp4: 384x640 5 cars, 4 traffic signs, 9.4ms\n",
      "video 1/1 (frame 664/1100) C:\\Users\\okeiy\\Downloads\\Video\\09876.mp4: 384x640 6 cars, 2 traffic signs, 9.7ms\n",
      "video 1/1 (frame 665/1100) C:\\Users\\okeiy\\Downloads\\Video\\09876.mp4: 384x640 5 cars, 3 traffic signs, 13.0ms\n",
      "video 1/1 (frame 666/1100) C:\\Users\\okeiy\\Downloads\\Video\\09876.mp4: 384x640 4 cars, 3 traffic signs, 12.1ms\n",
      "video 1/1 (frame 667/1100) C:\\Users\\okeiy\\Downloads\\Video\\09876.mp4: 384x640 3 cars, 1 person, 3 traffic signs, 12.0ms\n",
      "video 1/1 (frame 668/1100) C:\\Users\\okeiy\\Downloads\\Video\\09876.mp4: 384x640 4 cars, 1 person, 2 traffic signs, 12.6ms\n",
      "video 1/1 (frame 669/1100) C:\\Users\\okeiy\\Downloads\\Video\\09876.mp4: 384x640 4 cars, 1 person, 1 traffic sign, 22.1ms\n",
      "video 1/1 (frame 670/1100) C:\\Users\\okeiy\\Downloads\\Video\\09876.mp4: 384x640 4 cars, 1 person, 1 traffic sign, 15.9ms\n",
      "video 1/1 (frame 671/1100) C:\\Users\\okeiy\\Downloads\\Video\\09876.mp4: 384x640 4 cars, 1 traffic sign, 14.3ms\n",
      "video 1/1 (frame 672/1100) C:\\Users\\okeiy\\Downloads\\Video\\09876.mp4: 384x640 4 cars, 1 traffic sign, 13.8ms\n",
      "video 1/1 (frame 673/1100) C:\\Users\\okeiy\\Downloads\\Video\\09876.mp4: 384x640 3 cars, 1 traffic sign, 14.0ms\n",
      "video 1/1 (frame 674/1100) C:\\Users\\okeiy\\Downloads\\Video\\09876.mp4: 384x640 3 cars, 1 traffic sign, 14.2ms\n",
      "video 1/1 (frame 675/1100) C:\\Users\\okeiy\\Downloads\\Video\\09876.mp4: 384x640 3 cars, 1 traffic sign, 13.4ms\n",
      "video 1/1 (frame 676/1100) C:\\Users\\okeiy\\Downloads\\Video\\09876.mp4: 384x640 3 cars, 1 traffic sign, 13.7ms\n",
      "video 1/1 (frame 677/1100) C:\\Users\\okeiy\\Downloads\\Video\\09876.mp4: 384x640 3 cars, 1 traffic sign, 17.5ms\n",
      "video 1/1 (frame 678/1100) C:\\Users\\okeiy\\Downloads\\Video\\09876.mp4: 384x640 3 cars, 1 traffic sign, 18.5ms\n",
      "video 1/1 (frame 679/1100) C:\\Users\\okeiy\\Downloads\\Video\\09876.mp4: 384x640 3 cars, 1 traffic sign, 13.5ms\n",
      "video 1/1 (frame 680/1100) C:\\Users\\okeiy\\Downloads\\Video\\09876.mp4: 384x640 3 cars, 1 traffic sign, 13.3ms\n",
      "video 1/1 (frame 681/1100) C:\\Users\\okeiy\\Downloads\\Video\\09876.mp4: 384x640 3 cars, 1 traffic sign, 12.4ms\n",
      "video 1/1 (frame 682/1100) C:\\Users\\okeiy\\Downloads\\Video\\09876.mp4: 384x640 3 cars, 1 traffic sign, 10.7ms\n",
      "video 1/1 (frame 683/1100) C:\\Users\\okeiy\\Downloads\\Video\\09876.mp4: 384x640 4 cars, 1 traffic sign, 9.5ms\n",
      "video 1/1 (frame 684/1100) C:\\Users\\okeiy\\Downloads\\Video\\09876.mp4: 384x640 3 cars, 1 traffic sign, 11.0ms\n",
      "video 1/1 (frame 685/1100) C:\\Users\\okeiy\\Downloads\\Video\\09876.mp4: 384x640 3 cars, 2 traffic signs, 10.4ms\n",
      "video 1/1 (frame 686/1100) C:\\Users\\okeiy\\Downloads\\Video\\09876.mp4: 384x640 3 cars, 2 traffic signs, 9.7ms\n",
      "video 1/1 (frame 687/1100) C:\\Users\\okeiy\\Downloads\\Video\\09876.mp4: 384x640 3 cars, 2 traffic signs, 10.7ms\n",
      "video 1/1 (frame 688/1100) C:\\Users\\okeiy\\Downloads\\Video\\09876.mp4: 384x640 3 cars, 1 person, 2 traffic signs, 18.6ms\n",
      "video 1/1 (frame 689/1100) C:\\Users\\okeiy\\Downloads\\Video\\09876.mp4: 384x640 3 cars, 1 person, 2 traffic signs, 11.8ms\n",
      "video 1/1 (frame 690/1100) C:\\Users\\okeiy\\Downloads\\Video\\09876.mp4: 384x640 3 cars, 1 person, 1 traffic sign, 12.6ms\n",
      "video 1/1 (frame 691/1100) C:\\Users\\okeiy\\Downloads\\Video\\09876.mp4: 384x640 3 cars, 1 person, 2 traffic signs, 10.5ms\n",
      "video 1/1 (frame 692/1100) C:\\Users\\okeiy\\Downloads\\Video\\09876.mp4: 384x640 3 cars, 1 person, 2 traffic signs, 9.7ms\n",
      "video 1/1 (frame 693/1100) C:\\Users\\okeiy\\Downloads\\Video\\09876.mp4: 384x640 4 cars, 2 traffic signs, 10.5ms\n",
      "video 1/1 (frame 694/1100) C:\\Users\\okeiy\\Downloads\\Video\\09876.mp4: 384x640 4 cars, 2 traffic signs, 9.6ms\n",
      "video 1/1 (frame 695/1100) C:\\Users\\okeiy\\Downloads\\Video\\09876.mp4: 384x640 3 cars, 1 person, 2 traffic signs, 9.4ms\n",
      "video 1/1 (frame 696/1100) C:\\Users\\okeiy\\Downloads\\Video\\09876.mp4: 384x640 3 cars, 1 person, 2 traffic signs, 11.6ms\n",
      "video 1/1 (frame 697/1100) C:\\Users\\okeiy\\Downloads\\Video\\09876.mp4: 384x640 3 cars, 1 person, 2 traffic signs, 11.9ms\n",
      "video 1/1 (frame 698/1100) C:\\Users\\okeiy\\Downloads\\Video\\09876.mp4: 384x640 3 cars, 1 person, 1 traffic sign, 11.7ms\n",
      "video 1/1 (frame 699/1100) C:\\Users\\okeiy\\Downloads\\Video\\09876.mp4: 384x640 3 cars, 1 person, 2 traffic signs, 11.3ms\n",
      "video 1/1 (frame 700/1100) C:\\Users\\okeiy\\Downloads\\Video\\09876.mp4: 384x640 3 cars, 1 person, 2 traffic signs, 12.3ms\n",
      "video 1/1 (frame 701/1100) C:\\Users\\okeiy\\Downloads\\Video\\09876.mp4: 384x640 3 cars, 1 person, 2 traffic signs, 23.8ms\n",
      "video 1/1 (frame 702/1100) C:\\Users\\okeiy\\Downloads\\Video\\09876.mp4: 384x640 3 cars, 1 person, 3 traffic signs, 18.1ms\n",
      "video 1/1 (frame 703/1100) C:\\Users\\okeiy\\Downloads\\Video\\09876.mp4: 384x640 3 cars, 1 person, 4 traffic signs, 15.4ms\n",
      "video 1/1 (frame 704/1100) C:\\Users\\okeiy\\Downloads\\Video\\09876.mp4: 384x640 3 cars, 1 person, 3 traffic signs, 42.1ms\n",
      "video 1/1 (frame 705/1100) C:\\Users\\okeiy\\Downloads\\Video\\09876.mp4: 384x640 4 cars, 1 person, 3 traffic signs, 11.7ms\n",
      "video 1/1 (frame 706/1100) C:\\Users\\okeiy\\Downloads\\Video\\09876.mp4: 384x640 4 cars, 1 person, 2 traffic signs, 10.4ms\n",
      "video 1/1 (frame 707/1100) C:\\Users\\okeiy\\Downloads\\Video\\09876.mp4: 384x640 4 cars, 1 person, 3 traffic signs, 10.0ms\n",
      "video 1/1 (frame 708/1100) C:\\Users\\okeiy\\Downloads\\Video\\09876.mp4: 384x640 4 cars, 4 traffic signs, 13.0ms\n",
      "video 1/1 (frame 709/1100) C:\\Users\\okeiy\\Downloads\\Video\\09876.mp4: 384x640 4 cars, 5 traffic signs, 8.8ms\n",
      "video 1/1 (frame 710/1100) C:\\Users\\okeiy\\Downloads\\Video\\09876.mp4: 384x640 4 cars, 4 traffic signs, 10.4ms\n",
      "video 1/1 (frame 711/1100) C:\\Users\\okeiy\\Downloads\\Video\\09876.mp4: 384x640 4 cars, 3 traffic signs, 10.4ms\n",
      "video 1/1 (frame 712/1100) C:\\Users\\okeiy\\Downloads\\Video\\09876.mp4: 384x640 4 cars, 3 traffic signs, 11.4ms\n",
      "video 1/1 (frame 713/1100) C:\\Users\\okeiy\\Downloads\\Video\\09876.mp4: 384x640 4 cars, 2 traffic signs, 10.7ms\n",
      "video 1/1 (frame 714/1100) C:\\Users\\okeiy\\Downloads\\Video\\09876.mp4: 384x640 4 cars, 3 traffic signs, 9.9ms\n",
      "video 1/1 (frame 715/1100) C:\\Users\\okeiy\\Downloads\\Video\\09876.mp4: 384x640 4 cars, 1 person, 3 traffic signs, 12.5ms\n",
      "video 1/1 (frame 716/1100) C:\\Users\\okeiy\\Downloads\\Video\\09876.mp4: 384x640 4 cars, 4 traffic signs, 17.7ms\n",
      "video 1/1 (frame 717/1100) C:\\Users\\okeiy\\Downloads\\Video\\09876.mp4: 384x640 5 cars, 3 traffic signs, 9.8ms\n",
      "video 1/1 (frame 718/1100) C:\\Users\\okeiy\\Downloads\\Video\\09876.mp4: 384x640 5 cars, 2 traffic signs, 11.4ms\n",
      "video 1/1 (frame 719/1100) C:\\Users\\okeiy\\Downloads\\Video\\09876.mp4: 384x640 5 cars, 2 traffic signs, 10.4ms\n",
      "video 1/1 (frame 720/1100) C:\\Users\\okeiy\\Downloads\\Video\\09876.mp4: 384x640 5 cars, 1 person, 1 traffic sign, 9.4ms\n",
      "video 1/1 (frame 721/1100) C:\\Users\\okeiy\\Downloads\\Video\\09876.mp4: 384x640 5 cars, 1 person, 1 traffic sign, 12.2ms\n",
      "video 1/1 (frame 722/1100) C:\\Users\\okeiy\\Downloads\\Video\\09876.mp4: 384x640 7 cars, 1 person, 3 traffic signs, 10.7ms\n",
      "video 1/1 (frame 723/1100) C:\\Users\\okeiy\\Downloads\\Video\\09876.mp4: 384x640 6 cars, 1 person, 2 traffic signs, 9.3ms\n",
      "video 1/1 (frame 724/1100) C:\\Users\\okeiy\\Downloads\\Video\\09876.mp4: 384x640 5 cars, 1 person, 3 traffic signs, 10.1ms\n",
      "video 1/1 (frame 725/1100) C:\\Users\\okeiy\\Downloads\\Video\\09876.mp4: 384x640 3 cars, 1 person, 3 traffic signs, 11.4ms\n",
      "video 1/1 (frame 726/1100) C:\\Users\\okeiy\\Downloads\\Video\\09876.mp4: 384x640 3 cars, 1 person, 3 traffic signs, 18.1ms\n",
      "video 1/1 (frame 727/1100) C:\\Users\\okeiy\\Downloads\\Video\\09876.mp4: 384x640 3 cars, 1 person, 3 traffic signs, 12.4ms\n",
      "video 1/1 (frame 728/1100) C:\\Users\\okeiy\\Downloads\\Video\\09876.mp4: 384x640 4 cars, 1 person, 2 traffic signs, 12.4ms\n",
      "video 1/1 (frame 729/1100) C:\\Users\\okeiy\\Downloads\\Video\\09876.mp4: 384x640 4 cars, 1 person, 1 traffic light, 2 traffic signs, 12.6ms\n",
      "video 1/1 (frame 730/1100) C:\\Users\\okeiy\\Downloads\\Video\\09876.mp4: 384x640 6 cars, 1 person, 2 traffic signs, 13.4ms\n",
      "video 1/1 (frame 731/1100) C:\\Users\\okeiy\\Downloads\\Video\\09876.mp4: 384x640 4 cars, 1 person, 1 traffic sign, 12.4ms\n",
      "video 1/1 (frame 732/1100) C:\\Users\\okeiy\\Downloads\\Video\\09876.mp4: 384x640 5 cars, 1 person, 1 traffic sign, 13.4ms\n",
      "video 1/1 (frame 733/1100) C:\\Users\\okeiy\\Downloads\\Video\\09876.mp4: 384x640 5 cars, 1 person, 2 traffic signs, 12.1ms\n",
      "video 1/1 (frame 734/1100) C:\\Users\\okeiy\\Downloads\\Video\\09876.mp4: 384x640 4 cars, 1 person, 2 traffic signs, 13.3ms\n",
      "video 1/1 (frame 735/1100) C:\\Users\\okeiy\\Downloads\\Video\\09876.mp4: 384x640 4 cars, 1 person, 2 traffic signs, 12.1ms\n",
      "video 1/1 (frame 736/1100) C:\\Users\\okeiy\\Downloads\\Video\\09876.mp4: 384x640 4 cars, 1 person, 2 traffic signs, 10.3ms\n",
      "video 1/1 (frame 737/1100) C:\\Users\\okeiy\\Downloads\\Video\\09876.mp4: 384x640 5 cars, 1 person, 1 traffic sign, 9.5ms\n",
      "video 1/1 (frame 738/1100) C:\\Users\\okeiy\\Downloads\\Video\\09876.mp4: 384x640 5 cars, 1 person, 2 traffic signs, 10.4ms\n",
      "video 1/1 (frame 739/1100) C:\\Users\\okeiy\\Downloads\\Video\\09876.mp4: 384x640 5 cars, 2 traffic signs, 10.3ms\n",
      "video 1/1 (frame 740/1100) C:\\Users\\okeiy\\Downloads\\Video\\09876.mp4: 384x640 5 cars, 1 traffic sign, 14.4ms\n",
      "video 1/1 (frame 741/1100) C:\\Users\\okeiy\\Downloads\\Video\\09876.mp4: 384x640 4 cars, 1 traffic sign, 12.4ms\n",
      "video 1/1 (frame 742/1100) C:\\Users\\okeiy\\Downloads\\Video\\09876.mp4: 384x640 4 cars, 1 traffic sign, 12.0ms\n",
      "video 1/1 (frame 743/1100) C:\\Users\\okeiy\\Downloads\\Video\\09876.mp4: 384x640 4 cars, 2 traffic signs, 12.5ms\n",
      "video 1/1 (frame 744/1100) C:\\Users\\okeiy\\Downloads\\Video\\09876.mp4: 384x640 4 cars, 1 traffic sign, 11.6ms\n",
      "video 1/1 (frame 745/1100) C:\\Users\\okeiy\\Downloads\\Video\\09876.mp4: 384x640 4 cars, 2 traffic signs, 14.0ms\n",
      "video 1/1 (frame 746/1100) C:\\Users\\okeiy\\Downloads\\Video\\09876.mp4: 384x640 3 cars, 2 traffic signs, 15.1ms\n",
      "video 1/1 (frame 747/1100) C:\\Users\\okeiy\\Downloads\\Video\\09876.mp4: 384x640 4 cars, 3 traffic signs, 15.1ms\n",
      "video 1/1 (frame 748/1100) C:\\Users\\okeiy\\Downloads\\Video\\09876.mp4: 384x640 5 cars, 3 traffic signs, 13.1ms\n",
      "video 1/1 (frame 749/1100) C:\\Users\\okeiy\\Downloads\\Video\\09876.mp4: 384x640 4 cars, 1 rider, 1 traffic sign, 13.8ms\n",
      "video 1/1 (frame 750/1100) C:\\Users\\okeiy\\Downloads\\Video\\09876.mp4: 384x640 4 cars, 1 traffic sign, 12.6ms\n",
      "video 1/1 (frame 751/1100) C:\\Users\\okeiy\\Downloads\\Video\\09876.mp4: 384x640 4 cars, 2 traffic signs, 9.4ms\n",
      "video 1/1 (frame 752/1100) C:\\Users\\okeiy\\Downloads\\Video\\09876.mp4: 384x640 4 cars, 1 traffic light, 2 traffic signs, 10.1ms\n",
      "video 1/1 (frame 753/1100) C:\\Users\\okeiy\\Downloads\\Video\\09876.mp4: 384x640 4 cars, 2 traffic signs, 10.3ms\n",
      "video 1/1 (frame 754/1100) C:\\Users\\okeiy\\Downloads\\Video\\09876.mp4: 384x640 4 cars, 3 traffic signs, 9.5ms\n",
      "video 1/1 (frame 755/1100) C:\\Users\\okeiy\\Downloads\\Video\\09876.mp4: 384x640 4 cars, 2 traffic signs, 13.0ms\n",
      "video 1/1 (frame 756/1100) C:\\Users\\okeiy\\Downloads\\Video\\09876.mp4: 384x640 4 cars, 1 person, 3 traffic signs, 13.0ms\n",
      "video 1/1 (frame 757/1100) C:\\Users\\okeiy\\Downloads\\Video\\09876.mp4: 384x640 4 cars, 1 traffic sign, 12.1ms\n",
      "video 1/1 (frame 758/1100) C:\\Users\\okeiy\\Downloads\\Video\\09876.mp4: 384x640 4 cars, 1 traffic sign, 20.6ms\n",
      "video 1/1 (frame 759/1100) C:\\Users\\okeiy\\Downloads\\Video\\09876.mp4: 384x640 4 cars, 1 traffic sign, 14.4ms\n",
      "video 1/1 (frame 760/1100) C:\\Users\\okeiy\\Downloads\\Video\\09876.mp4: 384x640 4 cars, 1 person, 1 traffic sign, 19.9ms\n",
      "video 1/1 (frame 761/1100) C:\\Users\\okeiy\\Downloads\\Video\\09876.mp4: 384x640 3 cars, 1 person, 1 rider, 25.0ms\n",
      "video 1/1 (frame 762/1100) C:\\Users\\okeiy\\Downloads\\Video\\09876.mp4: 384x640 3 cars, 1 traffic sign, 20.6ms\n",
      "video 1/1 (frame 763/1100) C:\\Users\\okeiy\\Downloads\\Video\\09876.mp4: 384x640 4 cars, 1 person, 1 traffic sign, 21.5ms\n",
      "video 1/1 (frame 764/1100) C:\\Users\\okeiy\\Downloads\\Video\\09876.mp4: 384x640 4 cars, 1 person, 1 traffic sign, 60.9ms\n",
      "video 1/1 (frame 765/1100) C:\\Users\\okeiy\\Downloads\\Video\\09876.mp4: 384x640 3 cars, 1 rider, 1 traffic sign, 10.8ms\n",
      "video 1/1 (frame 766/1100) C:\\Users\\okeiy\\Downloads\\Video\\09876.mp4: 384x640 3 cars, 1 traffic sign, 12.6ms\n",
      "video 1/1 (frame 767/1100) C:\\Users\\okeiy\\Downloads\\Video\\09876.mp4: 384x640 3 cars, 1 traffic sign, 12.5ms\n",
      "video 1/1 (frame 768/1100) C:\\Users\\okeiy\\Downloads\\Video\\09876.mp4: 384x640 6 cars, 1 person, 1 rider, 1 traffic light, 1 traffic sign, 10.5ms\n",
      "video 1/1 (frame 769/1100) C:\\Users\\okeiy\\Downloads\\Video\\09876.mp4: 384x640 5 cars, 1 person, 1 rider, 1 traffic light, 1 traffic sign, 8.9ms\n",
      "video 1/1 (frame 770/1100) C:\\Users\\okeiy\\Downloads\\Video\\09876.mp4: 384x640 5 cars, 1 person, 1 rider, 1 traffic sign, 9.5ms\n",
      "video 1/1 (frame 771/1100) C:\\Users\\okeiy\\Downloads\\Video\\09876.mp4: 384x640 4 cars, 1 rider, 1 traffic sign, 12.2ms\n",
      "video 1/1 (frame 772/1100) C:\\Users\\okeiy\\Downloads\\Video\\09876.mp4: 384x640 4 cars, 1 person, 1 rider, 1 traffic sign, 10.9ms\n",
      "video 1/1 (frame 773/1100) C:\\Users\\okeiy\\Downloads\\Video\\09876.mp4: 384x640 4 cars, 1 traffic sign, 10.6ms\n",
      "video 1/1 (frame 774/1100) C:\\Users\\okeiy\\Downloads\\Video\\09876.mp4: 384x640 3 cars, 1 rider, 1 traffic sign, 11.5ms\n",
      "video 1/1 (frame 775/1100) C:\\Users\\okeiy\\Downloads\\Video\\09876.mp4: 384x640 4 cars, 1 rider, 1 traffic sign, 14.9ms\n",
      "video 1/1 (frame 776/1100) C:\\Users\\okeiy\\Downloads\\Video\\09876.mp4: 384x640 4 cars, 1 rider, 1 traffic sign, 11.4ms\n",
      "video 1/1 (frame 777/1100) C:\\Users\\okeiy\\Downloads\\Video\\09876.mp4: 384x640 4 cars, 3 traffic signs, 13.4ms\n",
      "video 1/1 (frame 778/1100) C:\\Users\\okeiy\\Downloads\\Video\\09876.mp4: 384x640 3 cars, 2 traffic signs, 14.0ms\n",
      "video 1/1 (frame 779/1100) C:\\Users\\okeiy\\Downloads\\Video\\09876.mp4: 384x640 3 cars, 3 traffic signs, 13.7ms\n",
      "video 1/1 (frame 780/1100) C:\\Users\\okeiy\\Downloads\\Video\\09876.mp4: 384x640 4 cars, 4 traffic signs, 15.2ms\n",
      "video 1/1 (frame 781/1100) C:\\Users\\okeiy\\Downloads\\Video\\09876.mp4: 384x640 4 cars, 2 traffic signs, 10.5ms\n",
      "video 1/1 (frame 782/1100) C:\\Users\\okeiy\\Downloads\\Video\\09876.mp4: 384x640 4 cars, 1 rider, 2 traffic signs, 14.8ms\n",
      "video 1/1 (frame 783/1100) C:\\Users\\okeiy\\Downloads\\Video\\09876.mp4: 384x640 4 cars, 1 rider, 4 traffic signs, 15.6ms\n",
      "video 1/1 (frame 784/1100) C:\\Users\\okeiy\\Downloads\\Video\\09876.mp4: 384x640 4 cars, 1 rider, 2 traffic signs, 20.6ms\n",
      "video 1/1 (frame 785/1100) C:\\Users\\okeiy\\Downloads\\Video\\09876.mp4: 384x640 4 cars, 1 rider, 2 traffic signs, 26.7ms\n",
      "video 1/1 (frame 786/1100) C:\\Users\\okeiy\\Downloads\\Video\\09876.mp4: 384x640 1 bus, 4 cars, 1 rider, 3 traffic signs, 13.0ms\n",
      "video 1/1 (frame 787/1100) C:\\Users\\okeiy\\Downloads\\Video\\09876.mp4: 384x640 4 cars, 3 traffic signs, 14.1ms\n",
      "video 1/1 (frame 788/1100) C:\\Users\\okeiy\\Downloads\\Video\\09876.mp4: 384x640 1 bus, 4 cars, 4 traffic signs, 14.0ms\n",
      "video 1/1 (frame 789/1100) C:\\Users\\okeiy\\Downloads\\Video\\09876.mp4: 384x640 1 bus, 4 cars, 1 traffic light, 1 traffic sign, 14.0ms\n",
      "video 1/1 (frame 790/1100) C:\\Users\\okeiy\\Downloads\\Video\\09876.mp4: 384x640 1 bus, 4 cars, 1 rider, 1 traffic sign, 22.3ms\n",
      "video 1/1 (frame 791/1100) C:\\Users\\okeiy\\Downloads\\Video\\09876.mp4: 384x640 4 cars, 3 traffic signs, 22.7ms\n",
      "video 1/1 (frame 792/1100) C:\\Users\\okeiy\\Downloads\\Video\\09876.mp4: 384x640 1 bike, 4 cars, 1 rider, 2 traffic signs, 12.5ms\n",
      "video 1/1 (frame 793/1100) C:\\Users\\okeiy\\Downloads\\Video\\09876.mp4: 384x640 1 bus, 4 cars, 1 rider, 2 traffic signs, 15.0ms\n",
      "video 1/1 (frame 794/1100) C:\\Users\\okeiy\\Downloads\\Video\\09876.mp4: 384x640 1 bus, 5 cars, 2 traffic signs, 13.0ms\n",
      "video 1/1 (frame 795/1100) C:\\Users\\okeiy\\Downloads\\Video\\09876.mp4: 384x640 1 bus, 4 cars, 2 traffic lights, 1 traffic sign, 9.5ms\n",
      "video 1/1 (frame 796/1100) C:\\Users\\okeiy\\Downloads\\Video\\09876.mp4: 384x640 1 bike, 1 bus, 4 cars, 1 person, 1 rider, 2 traffic lights, 10.5ms\n",
      "video 1/1 (frame 797/1100) C:\\Users\\okeiy\\Downloads\\Video\\09876.mp4: 384x640 1 bus, 4 cars, 1 rider, 10.3ms\n",
      "video 1/1 (frame 798/1100) C:\\Users\\okeiy\\Downloads\\Video\\09876.mp4: 384x640 1 bus, 4 cars, 1 person, 1 rider, 1 traffic light, 3 traffic signs, 10.5ms\n",
      "video 1/1 (frame 799/1100) C:\\Users\\okeiy\\Downloads\\Video\\09876.mp4: 384x640 1 bus, 4 cars, 1 person, 1 rider, 1 traffic light, 11.8ms\n",
      "video 1/1 (frame 800/1100) C:\\Users\\okeiy\\Downloads\\Video\\09876.mp4: 384x640 1 bike, 1 bus, 4 cars, 1 person, 1 rider, 1 traffic light, 1 traffic sign, 9.8ms\n",
      "video 1/1 (frame 801/1100) C:\\Users\\okeiy\\Downloads\\Video\\09876.mp4: 384x640 1 bus, 4 cars, 1 person, 1 rider, 1 traffic light, 1 traffic sign, 10.5ms\n",
      "video 1/1 (frame 802/1100) C:\\Users\\okeiy\\Downloads\\Video\\09876.mp4: 384x640 1 bus, 4 cars, 1 person, 1 rider, 1 traffic light, 2 traffic signs, 10.4ms\n",
      "video 1/1 (frame 803/1100) C:\\Users\\okeiy\\Downloads\\Video\\09876.mp4: 384x640 1 bike, 1 bus, 4 cars, 2 persons, 1 rider, 2 traffic lights, 1 traffic sign, 9.5ms\n",
      "video 1/1 (frame 804/1100) C:\\Users\\okeiy\\Downloads\\Video\\09876.mp4: 384x640 1 bus, 4 cars, 1 person, 2 traffic lights, 1 traffic sign, 12.4ms\n",
      "video 1/1 (frame 805/1100) C:\\Users\\okeiy\\Downloads\\Video\\09876.mp4: 384x640 1 bus, 4 cars, 1 person, 1 rider, 1 traffic light, 1 traffic sign, 9.8ms\n",
      "video 1/1 (frame 806/1100) C:\\Users\\okeiy\\Downloads\\Video\\09876.mp4: 384x640 1 bus, 4 cars, 1 person, 1 rider, 2 traffic lights, 9.4ms\n",
      "video 1/1 (frame 807/1100) C:\\Users\\okeiy\\Downloads\\Video\\09876.mp4: 384x640 1 bus, 4 cars, 1 person, 1 rider, 2 traffic lights, 3 traffic signs, 10.5ms\n",
      "video 1/1 (frame 808/1100) C:\\Users\\okeiy\\Downloads\\Video\\09876.mp4: 384x640 1 bus, 4 cars, 1 person, 1 rider, 2 traffic lights, 1 traffic sign, 9.5ms\n",
      "video 1/1 (frame 809/1100) C:\\Users\\okeiy\\Downloads\\Video\\09876.mp4: 384x640 1 bus, 4 cars, 1 person, 1 rider, 1 traffic light, 3 traffic signs, 11.1ms\n",
      "video 1/1 (frame 810/1100) C:\\Users\\okeiy\\Downloads\\Video\\09876.mp4: 384x640 1 bus, 4 cars, 1 person, 1 rider, 1 traffic light, 2 traffic signs, 10.1ms\n",
      "video 1/1 (frame 811/1100) C:\\Users\\okeiy\\Downloads\\Video\\09876.mp4: 384x640 1 bus, 4 cars, 1 person, 1 rider, 2 traffic lights, 2 traffic signs, 10.0ms\n",
      "video 1/1 (frame 812/1100) C:\\Users\\okeiy\\Downloads\\Video\\09876.mp4: 384x640 1 bus, 4 cars, 1 person, 1 rider, 2 traffic lights, 2 traffic signs, 11.0ms\n",
      "video 1/1 (frame 813/1100) C:\\Users\\okeiy\\Downloads\\Video\\09876.mp4: 384x640 1 bus, 4 cars, 1 person, 1 rider, 2 traffic lights, 3 traffic signs, 10.0ms\n",
      "video 1/1 (frame 814/1100) C:\\Users\\okeiy\\Downloads\\Video\\09876.mp4: 384x640 1 bus, 4 cars, 1 person, 1 rider, 2 traffic lights, 3 traffic signs, 9.8ms\n",
      "video 1/1 (frame 815/1100) C:\\Users\\okeiy\\Downloads\\Video\\09876.mp4: 384x640 1 bus, 4 cars, 1 person, 1 rider, 2 traffic lights, 3 traffic signs, 11.0ms\n",
      "video 1/1 (frame 816/1100) C:\\Users\\okeiy\\Downloads\\Video\\09876.mp4: 384x640 1 bus, 4 cars, 1 person, 1 rider, 1 traffic light, 10.0ms\n",
      "video 1/1 (frame 817/1100) C:\\Users\\okeiy\\Downloads\\Video\\09876.mp4: 384x640 1 bus, 4 cars, 1 person, 1 rider, 2 traffic lights, 2 traffic signs, 20.4ms\n",
      "video 1/1 (frame 818/1100) C:\\Users\\okeiy\\Downloads\\Video\\09876.mp4: 384x640 1 bus, 4 cars, 1 person, 1 rider, 2 traffic lights, 3 traffic signs, 9.9ms\n",
      "video 1/1 (frame 819/1100) C:\\Users\\okeiy\\Downloads\\Video\\09876.mp4: 384x640 1 bus, 4 cars, 1 person, 1 rider, 2 traffic lights, 3 traffic signs, 9.5ms\n",
      "video 1/1 (frame 820/1100) C:\\Users\\okeiy\\Downloads\\Video\\09876.mp4: 384x640 1 bus, 4 cars, 2 persons, 1 rider, 2 traffic lights, 2 traffic signs, 11.0ms\n",
      "video 1/1 (frame 821/1100) C:\\Users\\okeiy\\Downloads\\Video\\09876.mp4: 384x640 1 bus, 4 cars, 1 person, 1 rider, 2 traffic lights, 3 traffic signs, 9.5ms\n",
      "video 1/1 (frame 822/1100) C:\\Users\\okeiy\\Downloads\\Video\\09876.mp4: 384x640 1 bus, 4 cars, 1 person, 2 traffic lights, 1 traffic sign, 11.1ms\n",
      "video 1/1 (frame 823/1100) C:\\Users\\okeiy\\Downloads\\Video\\09876.mp4: 384x640 1 bus, 4 cars, 1 person, 1 rider, 1 traffic light, 1 traffic sign, 11.8ms\n",
      "video 1/1 (frame 824/1100) C:\\Users\\okeiy\\Downloads\\Video\\09876.mp4: 384x640 1 bus, 4 cars, 1 person, 1 rider, 1 traffic sign, 13.6ms\n",
      "video 1/1 (frame 825/1100) C:\\Users\\okeiy\\Downloads\\Video\\09876.mp4: 384x640 1 bus, 4 cars, 1 person, 1 rider, 10.5ms\n",
      "video 1/1 (frame 826/1100) C:\\Users\\okeiy\\Downloads\\Video\\09876.mp4: 384x640 1 bus, 4 cars, 1 person, 1 rider, 1 traffic light, 2 traffic signs, 10.6ms\n",
      "video 1/1 (frame 827/1100) C:\\Users\\okeiy\\Downloads\\Video\\09876.mp4: 384x640 1 bus, 4 cars, 1 person, 1 rider, 1 traffic light, 2 traffic signs, 9.0ms\n",
      "video 1/1 (frame 828/1100) C:\\Users\\okeiy\\Downloads\\Video\\09876.mp4: 384x640 1 bus, 4 cars, 1 person, 1 rider, 1 traffic light, 1 traffic sign, 10.7ms\n",
      "video 1/1 (frame 829/1100) C:\\Users\\okeiy\\Downloads\\Video\\09876.mp4: 384x640 1 bus, 4 cars, 1 person, 1 rider, 1 traffic sign, 9.5ms\n",
      "video 1/1 (frame 830/1100) C:\\Users\\okeiy\\Downloads\\Video\\09876.mp4: 384x640 1 bus, 4 cars, 1 person, 1 rider, 1 traffic light, 1 traffic sign, 9.5ms\n",
      "video 1/1 (frame 831/1100) C:\\Users\\okeiy\\Downloads\\Video\\09876.mp4: 384x640 1 bus, 4 cars, 1 person, 1 rider, 1 traffic light, 2 traffic signs, 13.6ms\n",
      "video 1/1 (frame 832/1100) C:\\Users\\okeiy\\Downloads\\Video\\09876.mp4: 384x640 1 bus, 3 cars, 1 person, 2 traffic signs, 10.2ms\n",
      "video 1/1 (frame 833/1100) C:\\Users\\okeiy\\Downloads\\Video\\09876.mp4: 384x640 1 bus, 4 cars, 1 person, 1 traffic sign, 12.3ms\n",
      "video 1/1 (frame 834/1100) C:\\Users\\okeiy\\Downloads\\Video\\09876.mp4: 384x640 1 bus, 2 cars, 1 rider, 1 traffic light, 11.0ms\n",
      "video 1/1 (frame 835/1100) C:\\Users\\okeiy\\Downloads\\Video\\09876.mp4: 384x640 1 bus, 2 cars, 1 traffic light, 1 traffic sign, 10.2ms\n",
      "video 1/1 (frame 836/1100) C:\\Users\\okeiy\\Downloads\\Video\\09876.mp4: 384x640 1 bus, 2 cars, 3 traffic signs, 10.0ms\n",
      "video 1/1 (frame 837/1100) C:\\Users\\okeiy\\Downloads\\Video\\09876.mp4: 384x640 1 bus, 2 cars, 2 traffic lights, 2 traffic signs, 9.0ms\n",
      "video 1/1 (frame 838/1100) C:\\Users\\okeiy\\Downloads\\Video\\09876.mp4: 384x640 1 bus, 2 cars, 1 traffic light, 1 traffic sign, 8.9ms\n",
      "video 1/1 (frame 839/1100) C:\\Users\\okeiy\\Downloads\\Video\\09876.mp4: 384x640 1 bus, 3 cars, 1 traffic light, 1 traffic sign, 9.0ms\n",
      "video 1/1 (frame 840/1100) C:\\Users\\okeiy\\Downloads\\Video\\09876.mp4: 384x640 1 bus, 3 cars, 1 rider, 1 traffic light, 1 traffic sign, 10.7ms\n",
      "video 1/1 (frame 841/1100) C:\\Users\\okeiy\\Downloads\\Video\\09876.mp4: 384x640 1 bike, 1 bus, 2 cars, 1 rider, 1 traffic light, 2 traffic signs, 10.2ms\n",
      "video 1/1 (frame 842/1100) C:\\Users\\okeiy\\Downloads\\Video\\09876.mp4: 384x640 1 bus, 2 cars, 1 rider, 1 traffic sign, 8.8ms\n",
      "video 1/1 (frame 843/1100) C:\\Users\\okeiy\\Downloads\\Video\\09876.mp4: 384x640 1 bike, 1 bus, 2 cars, 1 rider, 1 traffic light, 2 traffic signs, 11.0ms\n",
      "video 1/1 (frame 844/1100) C:\\Users\\okeiy\\Downloads\\Video\\09876.mp4: 384x640 1 bus, 3 cars, 1 rider, 2 traffic lights, 2 traffic signs, 11.0ms\n",
      "video 1/1 (frame 845/1100) C:\\Users\\okeiy\\Downloads\\Video\\09876.mp4: 384x640 1 bus, 4 cars, 1 rider, 3 traffic lights, 2 traffic signs, 9.1ms\n",
      "video 1/1 (frame 846/1100) C:\\Users\\okeiy\\Downloads\\Video\\09876.mp4: 384x640 1 bus, 4 cars, 1 rider, 2 traffic lights, 1 traffic sign, 14.1ms\n",
      "video 1/1 (frame 847/1100) C:\\Users\\okeiy\\Downloads\\Video\\09876.mp4: 384x640 1 bike, 1 bus, 3 cars, 1 rider, 1 traffic light, 2 traffic signs, 9.5ms\n",
      "video 1/1 (frame 848/1100) C:\\Users\\okeiy\\Downloads\\Video\\09876.mp4: 384x640 1 bike, 1 bus, 2 cars, 1 rider, 3 traffic lights, 1 traffic sign, 13.5ms\n",
      "video 1/1 (frame 849/1100) C:\\Users\\okeiy\\Downloads\\Video\\09876.mp4: 384x640 1 bike, 1 bus, 3 cars, 1 rider, 2 traffic lights, 2 traffic signs, 13.5ms\n",
      "video 1/1 (frame 850/1100) C:\\Users\\okeiy\\Downloads\\Video\\09876.mp4: 384x640 1 bus, 3 cars, 4 traffic lights, 2 traffic signs, 10.8ms\n",
      "video 1/1 (frame 851/1100) C:\\Users\\okeiy\\Downloads\\Video\\09876.mp4: 384x640 1 bus, 3 cars, 1 rider, 2 traffic lights, 2 traffic signs, 14.8ms\n",
      "video 1/1 (frame 852/1100) C:\\Users\\okeiy\\Downloads\\Video\\09876.mp4: 384x640 1 bus, 3 cars, 1 rider, 2 traffic lights, 2 traffic signs, 8.6ms\n",
      "video 1/1 (frame 853/1100) C:\\Users\\okeiy\\Downloads\\Video\\09876.mp4: 384x640 1 bus, 3 cars, 1 rider, 2 traffic lights, 3 traffic signs, 9.7ms\n",
      "video 1/1 (frame 854/1100) C:\\Users\\okeiy\\Downloads\\Video\\09876.mp4: 384x640 1 bus, 3 cars, 1 rider, 1 traffic light, 2 traffic signs, 10.0ms\n",
      "video 1/1 (frame 855/1100) C:\\Users\\okeiy\\Downloads\\Video\\09876.mp4: 384x640 1 bus, 4 cars, 1 rider, 3 traffic lights, 2 traffic signs, 10.7ms\n",
      "video 1/1 (frame 856/1100) C:\\Users\\okeiy\\Downloads\\Video\\09876.mp4: 384x640 4 cars, 1 rider, 3 traffic lights, 3 traffic signs, 9.6ms\n",
      "video 1/1 (frame 857/1100) C:\\Users\\okeiy\\Downloads\\Video\\09876.mp4: 384x640 1 bike, 5 cars, 1 rider, 3 traffic lights, 1 traffic sign, 10.7ms\n",
      "video 1/1 (frame 858/1100) C:\\Users\\okeiy\\Downloads\\Video\\09876.mp4: 384x640 5 cars, 1 rider, 3 traffic lights, 2 traffic signs, 11.0ms\n",
      "video 1/1 (frame 859/1100) C:\\Users\\okeiy\\Downloads\\Video\\09876.mp4: 384x640 1 bike, 5 cars, 1 rider, 3 traffic lights, 2 traffic signs, 10.5ms\n",
      "video 1/1 (frame 860/1100) C:\\Users\\okeiy\\Downloads\\Video\\09876.mp4: 384x640 4 cars, 1 rider, 4 traffic lights, 2 traffic signs, 11.0ms\n",
      "video 1/1 (frame 861/1100) C:\\Users\\okeiy\\Downloads\\Video\\09876.mp4: 384x640 3 cars, 1 rider, 4 traffic lights, 2 traffic signs, 9.0ms\n",
      "video 1/1 (frame 862/1100) C:\\Users\\okeiy\\Downloads\\Video\\09876.mp4: 384x640 3 cars, 1 rider, 2 traffic lights, 1 traffic sign, 9.6ms\n",
      "video 1/1 (frame 863/1100) C:\\Users\\okeiy\\Downloads\\Video\\09876.mp4: 384x640 3 cars, 1 person, 1 rider, 4 traffic lights, 2 traffic signs, 9.6ms\n",
      "video 1/1 (frame 864/1100) C:\\Users\\okeiy\\Downloads\\Video\\09876.mp4: 384x640 4 cars, 1 rider, 3 traffic lights, 3 traffic signs, 10.0ms\n",
      "video 1/1 (frame 865/1100) C:\\Users\\okeiy\\Downloads\\Video\\09876.mp4: 384x640 1 bike, 3 cars, 1 rider, 4 traffic lights, 2 traffic signs, 9.1ms\n",
      "video 1/1 (frame 866/1100) C:\\Users\\okeiy\\Downloads\\Video\\09876.mp4: 384x640 1 bike, 3 cars, 1 rider, 4 traffic lights, 2 traffic signs, 10.0ms\n",
      "video 1/1 (frame 867/1100) C:\\Users\\okeiy\\Downloads\\Video\\09876.mp4: 384x640 4 cars, 4 traffic lights, 2 traffic signs, 10.8ms\n",
      "video 1/1 (frame 868/1100) C:\\Users\\okeiy\\Downloads\\Video\\09876.mp4: 384x640 6 cars, 3 traffic lights, 2 traffic signs, 10.2ms\n",
      "video 1/1 (frame 869/1100) C:\\Users\\okeiy\\Downloads\\Video\\09876.mp4: 384x640 1 bike, 4 cars, 1 rider, 4 traffic lights, 4 traffic signs, 8.7ms\n",
      "video 1/1 (frame 870/1100) C:\\Users\\okeiy\\Downloads\\Video\\09876.mp4: 384x640 3 cars, 1 person, 1 traffic light, 3 traffic signs, 9.0ms\n",
      "video 1/1 (frame 871/1100) C:\\Users\\okeiy\\Downloads\\Video\\09876.mp4: 384x640 1 bike, 4 cars, 1 person, 3 traffic lights, 2 traffic signs, 9.6ms\n",
      "video 1/1 (frame 872/1100) C:\\Users\\okeiy\\Downloads\\Video\\09876.mp4: 384x640 4 cars, 1 person, 4 traffic lights, 2 traffic signs, 9.5ms\n",
      "video 1/1 (frame 873/1100) C:\\Users\\okeiy\\Downloads\\Video\\09876.mp4: 384x640 1 bike, 4 cars, 4 traffic lights, 3 traffic signs, 10.2ms\n",
      "video 1/1 (frame 874/1100) C:\\Users\\okeiy\\Downloads\\Video\\09876.mp4: 384x640 1 bike, 4 cars, 3 traffic lights, 2 traffic signs, 12.5ms\n",
      "video 1/1 (frame 875/1100) C:\\Users\\okeiy\\Downloads\\Video\\09876.mp4: 384x640 5 cars, 3 traffic lights, 2 traffic signs, 10.1ms\n",
      "video 1/1 (frame 876/1100) C:\\Users\\okeiy\\Downloads\\Video\\09876.mp4: 384x640 4 cars, 3 traffic lights, 2 traffic signs, 11.0ms\n",
      "video 1/1 (frame 877/1100) C:\\Users\\okeiy\\Downloads\\Video\\09876.mp4: 384x640 1 bike, 5 cars, 1 rider, 3 traffic lights, 2 traffic signs, 8.5ms\n",
      "video 1/1 (frame 878/1100) C:\\Users\\okeiy\\Downloads\\Video\\09876.mp4: 384x640 1 bike, 4 cars, 3 traffic lights, 3 traffic signs, 11.1ms\n",
      "video 1/1 (frame 879/1100) C:\\Users\\okeiy\\Downloads\\Video\\09876.mp4: 384x640 1 bike, 4 cars, 1 rider, 1 traffic light, 2 traffic signs, 10.0ms\n",
      "video 1/1 (frame 880/1100) C:\\Users\\okeiy\\Downloads\\Video\\09876.mp4: 384x640 4 cars, 1 traffic light, 2 traffic signs, 9.0ms\n",
      "video 1/1 (frame 881/1100) C:\\Users\\okeiy\\Downloads\\Video\\09876.mp4: 384x640 1 bike, 4 cars, 1 rider, 3 traffic lights, 2 traffic signs, 10.7ms\n",
      "video 1/1 (frame 882/1100) C:\\Users\\okeiy\\Downloads\\Video\\09876.mp4: 384x640 1 bike, 4 cars, 1 traffic light, 1 traffic sign, 10.6ms\n",
      "video 1/1 (frame 883/1100) C:\\Users\\okeiy\\Downloads\\Video\\09876.mp4: 384x640 4 cars, 1 traffic sign, 9.4ms\n",
      "video 1/1 (frame 884/1100) C:\\Users\\okeiy\\Downloads\\Video\\09876.mp4: 384x640 4 cars, 1 traffic sign, 9.5ms\n",
      "video 1/1 (frame 885/1100) C:\\Users\\okeiy\\Downloads\\Video\\09876.mp4: 384x640 1 bike, 4 cars, 1 rider, 10.6ms\n",
      "video 1/1 (frame 886/1100) C:\\Users\\okeiy\\Downloads\\Video\\09876.mp4: 384x640 1 bike, 4 cars, 1 rider, 10.6ms\n",
      "video 1/1 (frame 887/1100) C:\\Users\\okeiy\\Downloads\\Video\\09876.mp4: 384x640 1 bike, 4 cars, 1 rider, 9.7ms\n",
      "video 1/1 (frame 888/1100) C:\\Users\\okeiy\\Downloads\\Video\\09876.mp4: 384x640 1 bike, 4 cars, 1 rider, 9.6ms\n",
      "video 1/1 (frame 889/1100) C:\\Users\\okeiy\\Downloads\\Video\\09876.mp4: 384x640 1 bike, 4 cars, 9.5ms\n",
      "video 1/1 (frame 890/1100) C:\\Users\\okeiy\\Downloads\\Video\\09876.mp4: 384x640 1 bike, 4 cars, 10.1ms\n",
      "video 1/1 (frame 891/1100) C:\\Users\\okeiy\\Downloads\\Video\\09876.mp4: 384x640 1 bike, 4 cars, 10.9ms\n",
      "video 1/1 (frame 892/1100) C:\\Users\\okeiy\\Downloads\\Video\\09876.mp4: 384x640 1 bike, 4 cars, 9.7ms\n",
      "video 1/1 (frame 893/1100) C:\\Users\\okeiy\\Downloads\\Video\\09876.mp4: 384x640 1 bike, 4 cars, 10.3ms\n",
      "video 1/1 (frame 894/1100) C:\\Users\\okeiy\\Downloads\\Video\\09876.mp4: 384x640 1 bike, 4 cars, 1 rider, 10.1ms\n",
      "video 1/1 (frame 895/1100) C:\\Users\\okeiy\\Downloads\\Video\\09876.mp4: 384x640 4 cars, 12.9ms\n",
      "video 1/1 (frame 896/1100) C:\\Users\\okeiy\\Downloads\\Video\\09876.mp4: 384x640 1 bike, 4 cars, 1 rider, 14.2ms\n",
      "video 1/1 (frame 897/1100) C:\\Users\\okeiy\\Downloads\\Video\\09876.mp4: 384x640 1 bike, 4 cars, 1 rider, 11.0ms\n",
      "video 1/1 (frame 898/1100) C:\\Users\\okeiy\\Downloads\\Video\\09876.mp4: 384x640 4 cars, 10.7ms\n",
      "video 1/1 (frame 899/1100) C:\\Users\\okeiy\\Downloads\\Video\\09876.mp4: 384x640 1 bike, 4 cars, 1 rider, 13.1ms\n",
      "video 1/1 (frame 900/1100) C:\\Users\\okeiy\\Downloads\\Video\\09876.mp4: 384x640 1 bike, 4 cars, 19.9ms\n",
      "video 1/1 (frame 901/1100) C:\\Users\\okeiy\\Downloads\\Video\\09876.mp4: 384x640 1 bike, 3 cars, 1 rider, 17.5ms\n",
      "video 1/1 (frame 902/1100) C:\\Users\\okeiy\\Downloads\\Video\\09876.mp4: 384x640 1 bike, 2 cars, 1 rider, 12.5ms\n",
      "video 1/1 (frame 903/1100) C:\\Users\\okeiy\\Downloads\\Video\\09876.mp4: 384x640 1 bike, 2 cars, 1 rider, 13.3ms\n",
      "video 1/1 (frame 904/1100) C:\\Users\\okeiy\\Downloads\\Video\\09876.mp4: 384x640 2 cars, 24.0ms\n",
      "video 1/1 (frame 905/1100) C:\\Users\\okeiy\\Downloads\\Video\\09876.mp4: 384x640 1 bike, 3 cars, 1 rider, 1 traffic sign, 16.0ms\n",
      "video 1/1 (frame 906/1100) C:\\Users\\okeiy\\Downloads\\Video\\09876.mp4: 384x640 1 bike, 3 cars, 1 rider, 28.6ms\n",
      "video 1/1 (frame 907/1100) C:\\Users\\okeiy\\Downloads\\Video\\09876.mp4: 384x640 1 bike, 3 cars, 1 rider, 19.1ms\n",
      "video 1/1 (frame 908/1100) C:\\Users\\okeiy\\Downloads\\Video\\09876.mp4: 384x640 1 bike, 2 cars, 1 rider, 14.5ms\n",
      "video 1/1 (frame 909/1100) C:\\Users\\okeiy\\Downloads\\Video\\09876.mp4: 384x640 1 bike, 2 cars, 1 rider, 14.7ms\n",
      "video 1/1 (frame 910/1100) C:\\Users\\okeiy\\Downloads\\Video\\09876.mp4: 384x640 2 cars, 1 rider, 21.4ms\n",
      "video 1/1 (frame 911/1100) C:\\Users\\okeiy\\Downloads\\Video\\09876.mp4: 384x640 1 bike, 3 cars, 1 rider, 21.0ms\n",
      "video 1/1 (frame 912/1100) C:\\Users\\okeiy\\Downloads\\Video\\09876.mp4: 384x640 1 bike, 2 cars, 3 riders, 13.0ms\n",
      "video 1/1 (frame 913/1100) C:\\Users\\okeiy\\Downloads\\Video\\09876.mp4: 384x640 1 car, 2 riders, 21.6ms\n",
      "video 1/1 (frame 914/1100) C:\\Users\\okeiy\\Downloads\\Video\\09876.mp4: 384x640 1 bike, 2 cars, 2 riders, 19.6ms\n",
      "video 1/1 (frame 915/1100) C:\\Users\\okeiy\\Downloads\\Video\\09876.mp4: 384x640 1 bike, 2 cars, 1 rider, 12.8ms\n",
      "video 1/1 (frame 916/1100) C:\\Users\\okeiy\\Downloads\\Video\\09876.mp4: 384x640 1 bike, 3 cars, 1 rider, 16.6ms\n",
      "video 1/1 (frame 917/1100) C:\\Users\\okeiy\\Downloads\\Video\\09876.mp4: 384x640 1 bike, 3 cars, 2 riders, 32.4ms\n",
      "video 1/1 (frame 918/1100) C:\\Users\\okeiy\\Downloads\\Video\\09876.mp4: 384x640 3 cars, 1 rider, 19.7ms\n",
      "video 1/1 (frame 919/1100) C:\\Users\\okeiy\\Downloads\\Video\\09876.mp4: 384x640 1 bike, 3 cars, 1 rider, 26.3ms\n",
      "video 1/1 (frame 920/1100) C:\\Users\\okeiy\\Downloads\\Video\\09876.mp4: 384x640 1 bike, 4 cars, 1 rider, 1 traffic sign, 13.0ms\n",
      "video 1/1 (frame 921/1100) C:\\Users\\okeiy\\Downloads\\Video\\09876.mp4: 384x640 1 bike, 3 cars, 1 person, 1 rider, 1 traffic sign, 18.0ms\n",
      "video 1/1 (frame 922/1100) C:\\Users\\okeiy\\Downloads\\Video\\09876.mp4: 384x640 1 bike, 4 cars, 1 rider, 19.1ms\n",
      "video 1/1 (frame 923/1100) C:\\Users\\okeiy\\Downloads\\Video\\09876.mp4: 384x640 1 bike, 3 cars, 1 rider, 12.7ms\n",
      "video 1/1 (frame 924/1100) C:\\Users\\okeiy\\Downloads\\Video\\09876.mp4: 384x640 1 bike, 3 cars, 1 rider, 13.0ms\n",
      "video 1/1 (frame 925/1100) C:\\Users\\okeiy\\Downloads\\Video\\09876.mp4: 384x640 3 cars, 1 rider, 18.6ms\n",
      "video 1/1 (frame 926/1100) C:\\Users\\okeiy\\Downloads\\Video\\09876.mp4: 384x640 1 bike, 3 cars, 1 rider, 18.5ms\n",
      "video 1/1 (frame 927/1100) C:\\Users\\okeiy\\Downloads\\Video\\09876.mp4: 384x640 1 bike, 5 cars, 1 rider, 13.4ms\n",
      "video 1/1 (frame 928/1100) C:\\Users\\okeiy\\Downloads\\Video\\09876.mp4: 384x640 5 cars, 1 rider, 23.0ms\n",
      "video 1/1 (frame 929/1100) C:\\Users\\okeiy\\Downloads\\Video\\09876.mp4: 384x640 4 cars, 2 riders, 18.4ms\n",
      "video 1/1 (frame 930/1100) C:\\Users\\okeiy\\Downloads\\Video\\09876.mp4: 384x640 3 cars, 2 persons, 14.2ms\n",
      "video 1/1 (frame 931/1100) C:\\Users\\okeiy\\Downloads\\Video\\09876.mp4: 384x640 3 cars, 12.4ms\n",
      "video 1/1 (frame 932/1100) C:\\Users\\okeiy\\Downloads\\Video\\09876.mp4: 384x640 4 cars, 25.2ms\n",
      "video 1/1 (frame 933/1100) C:\\Users\\okeiy\\Downloads\\Video\\09876.mp4: 384x640 4 cars, 17.1ms\n",
      "video 1/1 (frame 934/1100) C:\\Users\\okeiy\\Downloads\\Video\\09876.mp4: 384x640 4 cars, 13.6ms\n",
      "video 1/1 (frame 935/1100) C:\\Users\\okeiy\\Downloads\\Video\\09876.mp4: 384x640 4 cars, 12.8ms\n",
      "video 1/1 (frame 936/1100) C:\\Users\\okeiy\\Downloads\\Video\\09876.mp4: 384x640 4 cars, 22.1ms\n",
      "video 1/1 (frame 937/1100) C:\\Users\\okeiy\\Downloads\\Video\\09876.mp4: 384x640 4 cars, 1 traffic sign, 25.1ms\n",
      "video 1/1 (frame 938/1100) C:\\Users\\okeiy\\Downloads\\Video\\09876.mp4: 384x640 4 cars, 24.6ms\n",
      "video 1/1 (frame 939/1100) C:\\Users\\okeiy\\Downloads\\Video\\09876.mp4: 384x640 4 cars, 1 traffic sign, 37.6ms\n",
      "video 1/1 (frame 940/1100) C:\\Users\\okeiy\\Downloads\\Video\\09876.mp4: 384x640 4 cars, 1 traffic sign, 10.9ms\n",
      "video 1/1 (frame 941/1100) C:\\Users\\okeiy\\Downloads\\Video\\09876.mp4: 384x640 4 cars, 1 traffic sign, 12.5ms\n",
      "video 1/1 (frame 942/1100) C:\\Users\\okeiy\\Downloads\\Video\\09876.mp4: 384x640 4 cars, 13.3ms\n",
      "video 1/1 (frame 943/1100) C:\\Users\\okeiy\\Downloads\\Video\\09876.mp4: 384x640 4 cars, 1 traffic sign, 9.8ms\n",
      "video 1/1 (frame 944/1100) C:\\Users\\okeiy\\Downloads\\Video\\09876.mp4: 384x640 4 cars, 8.0ms\n",
      "video 1/1 (frame 945/1100) C:\\Users\\okeiy\\Downloads\\Video\\09876.mp4: 384x640 5 cars, 1 traffic sign, 13.0ms\n",
      "video 1/1 (frame 946/1100) C:\\Users\\okeiy\\Downloads\\Video\\09876.mp4: 384x640 4 cars, 10.2ms\n",
      "video 1/1 (frame 947/1100) C:\\Users\\okeiy\\Downloads\\Video\\09876.mp4: 384x640 4 cars, 1 traffic sign, 10.8ms\n",
      "video 1/1 (frame 948/1100) C:\\Users\\okeiy\\Downloads\\Video\\09876.mp4: 384x640 4 cars, 9.4ms\n",
      "video 1/1 (frame 949/1100) C:\\Users\\okeiy\\Downloads\\Video\\09876.mp4: 384x640 4 cars, 1 traffic sign, 8.9ms\n",
      "video 1/1 (frame 950/1100) C:\\Users\\okeiy\\Downloads\\Video\\09876.mp4: 384x640 4 cars, 10.6ms\n",
      "video 1/1 (frame 951/1100) C:\\Users\\okeiy\\Downloads\\Video\\09876.mp4: 384x640 4 cars, 1 traffic sign, 9.5ms\n",
      "video 1/1 (frame 952/1100) C:\\Users\\okeiy\\Downloads\\Video\\09876.mp4: 384x640 4 cars, 1 traffic sign, 10.1ms\n",
      "video 1/1 (frame 953/1100) C:\\Users\\okeiy\\Downloads\\Video\\09876.mp4: 384x640 4 cars, 10.6ms\n",
      "video 1/1 (frame 954/1100) C:\\Users\\okeiy\\Downloads\\Video\\09876.mp4: 384x640 4 cars, 1 traffic sign, 9.6ms\n",
      "video 1/1 (frame 955/1100) C:\\Users\\okeiy\\Downloads\\Video\\09876.mp4: 384x640 4 cars, 10.5ms\n",
      "video 1/1 (frame 956/1100) C:\\Users\\okeiy\\Downloads\\Video\\09876.mp4: 384x640 4 cars, 9.5ms\n",
      "video 1/1 (frame 957/1100) C:\\Users\\okeiy\\Downloads\\Video\\09876.mp4: 384x640 5 cars, 11.0ms\n",
      "video 1/1 (frame 958/1100) C:\\Users\\okeiy\\Downloads\\Video\\09876.mp4: 384x640 4 cars, 9.8ms\n",
      "video 1/1 (frame 959/1100) C:\\Users\\okeiy\\Downloads\\Video\\09876.mp4: 384x640 4 cars, 10.5ms\n",
      "video 1/1 (frame 960/1100) C:\\Users\\okeiy\\Downloads\\Video\\09876.mp4: 384x640 4 cars, 9.2ms\n",
      "video 1/1 (frame 961/1100) C:\\Users\\okeiy\\Downloads\\Video\\09876.mp4: 384x640 4 cars, 9.1ms\n",
      "video 1/1 (frame 962/1100) C:\\Users\\okeiy\\Downloads\\Video\\09876.mp4: 384x640 4 cars, 11.7ms\n",
      "video 1/1 (frame 963/1100) C:\\Users\\okeiy\\Downloads\\Video\\09876.mp4: 384x640 4 cars, 12.7ms\n",
      "video 1/1 (frame 964/1100) C:\\Users\\okeiy\\Downloads\\Video\\09876.mp4: 384x640 4 cars, 12.5ms\n",
      "video 1/1 (frame 965/1100) C:\\Users\\okeiy\\Downloads\\Video\\09876.mp4: 384x640 4 cars, 13.1ms\n",
      "video 1/1 (frame 966/1100) C:\\Users\\okeiy\\Downloads\\Video\\09876.mp4: 384x640 4 cars, 24.8ms\n",
      "video 1/1 (frame 967/1100) C:\\Users\\okeiy\\Downloads\\Video\\09876.mp4: 384x640 4 cars, 1 person, 15.6ms\n",
      "video 1/1 (frame 968/1100) C:\\Users\\okeiy\\Downloads\\Video\\09876.mp4: 384x640 4 cars, 1 person, 1 traffic sign, 13.5ms\n",
      "video 1/1 (frame 969/1100) C:\\Users\\okeiy\\Downloads\\Video\\09876.mp4: 384x640 4 cars, 12.8ms\n",
      "video 1/1 (frame 970/1100) C:\\Users\\okeiy\\Downloads\\Video\\09876.mp4: 384x640 4 cars, 25.6ms\n",
      "video 1/1 (frame 971/1100) C:\\Users\\okeiy\\Downloads\\Video\\09876.mp4: 384x640 4 cars, 1 person, 1 traffic sign, 10.0ms\n",
      "video 1/1 (frame 972/1100) C:\\Users\\okeiy\\Downloads\\Video\\09876.mp4: 384x640 4 cars, 11.0ms\n",
      "video 1/1 (frame 973/1100) C:\\Users\\okeiy\\Downloads\\Video\\09876.mp4: 384x640 5 cars, 9.3ms\n",
      "video 1/1 (frame 974/1100) C:\\Users\\okeiy\\Downloads\\Video\\09876.mp4: 384x640 4 cars, 9.8ms\n",
      "video 1/1 (frame 975/1100) C:\\Users\\okeiy\\Downloads\\Video\\09876.mp4: 384x640 4 cars, 9.9ms\n",
      "video 1/1 (frame 976/1100) C:\\Users\\okeiy\\Downloads\\Video\\09876.mp4: 384x640 4 cars, 1 traffic sign, 10.1ms\n",
      "video 1/1 (frame 977/1100) C:\\Users\\okeiy\\Downloads\\Video\\09876.mp4: 384x640 4 cars, 11.0ms\n",
      "video 1/1 (frame 978/1100) C:\\Users\\okeiy\\Downloads\\Video\\09876.mp4: 384x640 4 cars, 11.7ms\n",
      "video 1/1 (frame 979/1100) C:\\Users\\okeiy\\Downloads\\Video\\09876.mp4: 384x640 3 cars, 1 traffic sign, 10.0ms\n",
      "video 1/1 (frame 980/1100) C:\\Users\\okeiy\\Downloads\\Video\\09876.mp4: 384x640 4 cars, 11.7ms\n",
      "video 1/1 (frame 981/1100) C:\\Users\\okeiy\\Downloads\\Video\\09876.mp4: 384x640 4 cars, 14.6ms\n",
      "video 1/1 (frame 982/1100) C:\\Users\\okeiy\\Downloads\\Video\\09876.mp4: 384x640 4 cars, 1 traffic sign, 10.6ms\n",
      "video 1/1 (frame 983/1100) C:\\Users\\okeiy\\Downloads\\Video\\09876.mp4: 384x640 4 cars, 10.6ms\n",
      "video 1/1 (frame 984/1100) C:\\Users\\okeiy\\Downloads\\Video\\09876.mp4: 384x640 4 cars, 1 traffic sign, 11.0ms\n",
      "video 1/1 (frame 985/1100) C:\\Users\\okeiy\\Downloads\\Video\\09876.mp4: 384x640 4 cars, 8.5ms\n",
      "video 1/1 (frame 986/1100) C:\\Users\\okeiy\\Downloads\\Video\\09876.mp4: 384x640 4 cars, 1 traffic sign, 9.7ms\n",
      "video 1/1 (frame 987/1100) C:\\Users\\okeiy\\Downloads\\Video\\09876.mp4: 384x640 4 cars, 1 traffic sign, 10.5ms\n",
      "video 1/1 (frame 988/1100) C:\\Users\\okeiy\\Downloads\\Video\\09876.mp4: 384x640 4 cars, 10.5ms\n",
      "video 1/1 (frame 989/1100) C:\\Users\\okeiy\\Downloads\\Video\\09876.mp4: 384x640 4 cars, 2 traffic signs, 17.7ms\n",
      "video 1/1 (frame 990/1100) C:\\Users\\okeiy\\Downloads\\Video\\09876.mp4: 384x640 4 cars, 10.0ms\n",
      "video 1/1 (frame 991/1100) C:\\Users\\okeiy\\Downloads\\Video\\09876.mp4: 384x640 4 cars, 12.9ms\n",
      "video 1/1 (frame 992/1100) C:\\Users\\okeiy\\Downloads\\Video\\09876.mp4: 384x640 4 cars, 14.9ms\n",
      "video 1/1 (frame 993/1100) C:\\Users\\okeiy\\Downloads\\Video\\09876.mp4: 384x640 4 cars, 24.0ms\n",
      "video 1/1 (frame 994/1100) C:\\Users\\okeiy\\Downloads\\Video\\09876.mp4: 384x640 4 cars, 19.0ms\n",
      "video 1/1 (frame 995/1100) C:\\Users\\okeiy\\Downloads\\Video\\09876.mp4: 384x640 4 cars, 21.1ms\n",
      "video 1/1 (frame 996/1100) C:\\Users\\okeiy\\Downloads\\Video\\09876.mp4: 384x640 4 cars, 15.4ms\n",
      "video 1/1 (frame 997/1100) C:\\Users\\okeiy\\Downloads\\Video\\09876.mp4: 384x640 4 cars, 18.7ms\n",
      "video 1/1 (frame 998/1100) C:\\Users\\okeiy\\Downloads\\Video\\09876.mp4: 384x640 4 cars, 23.1ms\n",
      "video 1/1 (frame 999/1100) C:\\Users\\okeiy\\Downloads\\Video\\09876.mp4: 384x640 4 cars, 19.7ms\n",
      "video 1/1 (frame 1000/1100) C:\\Users\\okeiy\\Downloads\\Video\\09876.mp4: 384x640 4 cars, 1 traffic sign, 13.2ms\n",
      "video 1/1 (frame 1001/1100) C:\\Users\\okeiy\\Downloads\\Video\\09876.mp4: 384x640 4 cars, 13.0ms\n",
      "video 1/1 (frame 1002/1100) C:\\Users\\okeiy\\Downloads\\Video\\09876.mp4: 384x640 4 cars, 1 traffic sign, 17.4ms\n",
      "video 1/1 (frame 1003/1100) C:\\Users\\okeiy\\Downloads\\Video\\09876.mp4: 384x640 4 cars, 2 traffic signs, 15.1ms\n",
      "video 1/1 (frame 1004/1100) C:\\Users\\okeiy\\Downloads\\Video\\09876.mp4: 384x640 5 cars, 1 traffic sign, 19.9ms\n",
      "video 1/1 (frame 1005/1100) C:\\Users\\okeiy\\Downloads\\Video\\09876.mp4: 384x640 4 cars, 1 traffic sign, 22.5ms\n",
      "video 1/1 (frame 1006/1100) C:\\Users\\okeiy\\Downloads\\Video\\09876.mp4: 384x640 5 cars, 1 person, 3 traffic signs, 20.1ms\n",
      "video 1/1 (frame 1007/1100) C:\\Users\\okeiy\\Downloads\\Video\\09876.mp4: 384x640 5 cars, 3 traffic signs, 22.1ms\n",
      "video 1/1 (frame 1008/1100) C:\\Users\\okeiy\\Downloads\\Video\\09876.mp4: 384x640 5 cars, 1 traffic sign, 17.6ms\n",
      "video 1/1 (frame 1009/1100) C:\\Users\\okeiy\\Downloads\\Video\\09876.mp4: 384x640 5 cars, 1 traffic sign, 13.6ms\n",
      "video 1/1 (frame 1010/1100) C:\\Users\\okeiy\\Downloads\\Video\\09876.mp4: 384x640 5 cars, 1 traffic sign, 12.9ms\n",
      "video 1/1 (frame 1011/1100) C:\\Users\\okeiy\\Downloads\\Video\\09876.mp4: 384x640 5 cars, 2 traffic signs, 12.7ms\n",
      "video 1/1 (frame 1012/1100) C:\\Users\\okeiy\\Downloads\\Video\\09876.mp4: 384x640 5 cars, 2 traffic signs, 21.8ms\n",
      "video 1/1 (frame 1013/1100) C:\\Users\\okeiy\\Downloads\\Video\\09876.mp4: 384x640 5 cars, 16.2ms\n",
      "video 1/1 (frame 1014/1100) C:\\Users\\okeiy\\Downloads\\Video\\09876.mp4: 384x640 5 cars, 1 person, 1 traffic sign, 13.7ms\n",
      "video 1/1 (frame 1015/1100) C:\\Users\\okeiy\\Downloads\\Video\\09876.mp4: 384x640 5 cars, 1 person, 1 traffic sign, 12.5ms\n",
      "video 1/1 (frame 1016/1100) C:\\Users\\okeiy\\Downloads\\Video\\09876.mp4: 384x640 5 cars, 1 person, 1 traffic sign, 10.1ms\n",
      "video 1/1 (frame 1017/1100) C:\\Users\\okeiy\\Downloads\\Video\\09876.mp4: 384x640 5 cars, 1 person, 2 traffic signs, 10.8ms\n",
      "video 1/1 (frame 1018/1100) C:\\Users\\okeiy\\Downloads\\Video\\09876.mp4: 384x640 5 cars, 1 person, 1 traffic sign, 11.3ms\n",
      "video 1/1 (frame 1019/1100) C:\\Users\\okeiy\\Downloads\\Video\\09876.mp4: 384x640 5 cars, 1 person, 10.0ms\n",
      "video 1/1 (frame 1020/1100) C:\\Users\\okeiy\\Downloads\\Video\\09876.mp4: 384x640 5 cars, 1 person, 10.2ms\n",
      "video 1/1 (frame 1021/1100) C:\\Users\\okeiy\\Downloads\\Video\\09876.mp4: 384x640 5 cars, 1 person, 11.1ms\n",
      "video 1/1 (frame 1022/1100) C:\\Users\\okeiy\\Downloads\\Video\\09876.mp4: 384x640 5 cars, 1 person, 9.8ms\n",
      "video 1/1 (frame 1023/1100) C:\\Users\\okeiy\\Downloads\\Video\\09876.mp4: 384x640 5 cars, 1 person, 11.3ms\n",
      "video 1/1 (frame 1024/1100) C:\\Users\\okeiy\\Downloads\\Video\\09876.mp4: 384x640 5 cars, 1 person, 11.7ms\n",
      "video 1/1 (frame 1025/1100) C:\\Users\\okeiy\\Downloads\\Video\\09876.mp4: 384x640 5 cars, 1 person, 11.8ms\n",
      "video 1/1 (frame 1026/1100) C:\\Users\\okeiy\\Downloads\\Video\\09876.mp4: 384x640 4 cars, 1 person, 13.3ms\n",
      "video 1/1 (frame 1027/1100) C:\\Users\\okeiy\\Downloads\\Video\\09876.mp4: 384x640 4 cars, 1 person, 10.9ms\n",
      "video 1/1 (frame 1028/1100) C:\\Users\\okeiy\\Downloads\\Video\\09876.mp4: 384x640 4 cars, 1 person, 11.6ms\n",
      "video 1/1 (frame 1029/1100) C:\\Users\\okeiy\\Downloads\\Video\\09876.mp4: 384x640 4 cars, 1 person, 11.5ms\n",
      "video 1/1 (frame 1030/1100) C:\\Users\\okeiy\\Downloads\\Video\\09876.mp4: 384x640 3 cars, 1 person, 12.6ms\n",
      "video 1/1 (frame 1031/1100) C:\\Users\\okeiy\\Downloads\\Video\\09876.mp4: 384x640 3 cars, 1 person, 12.5ms\n",
      "video 1/1 (frame 1032/1100) C:\\Users\\okeiy\\Downloads\\Video\\09876.mp4: 384x640 3 cars, 1 person, 12.0ms\n",
      "video 1/1 (frame 1033/1100) C:\\Users\\okeiy\\Downloads\\Video\\09876.mp4: 384x640 4 cars, 1 person, 10.9ms\n",
      "video 1/1 (frame 1034/1100) C:\\Users\\okeiy\\Downloads\\Video\\09876.mp4: 384x640 4 cars, 1 person, 14.6ms\n",
      "video 1/1 (frame 1035/1100) C:\\Users\\okeiy\\Downloads\\Video\\09876.mp4: 384x640 4 cars, 1 person, 19.0ms\n",
      "video 1/1 (frame 1036/1100) C:\\Users\\okeiy\\Downloads\\Video\\09876.mp4: 384x640 4 cars, 2 persons, 14.4ms\n",
      "video 1/1 (frame 1037/1100) C:\\Users\\okeiy\\Downloads\\Video\\09876.mp4: 384x640 4 cars, 1 person, 16.1ms\n",
      "video 1/1 (frame 1038/1100) C:\\Users\\okeiy\\Downloads\\Video\\09876.mp4: 384x640 4 cars, 1 person, 15.5ms\n",
      "video 1/1 (frame 1039/1100) C:\\Users\\okeiy\\Downloads\\Video\\09876.mp4: 384x640 3 cars, 1 person, 10.0ms\n",
      "video 1/1 (frame 1040/1100) C:\\Users\\okeiy\\Downloads\\Video\\09876.mp4: 384x640 3 cars, 1 person, 9.5ms\n",
      "video 1/1 (frame 1041/1100) C:\\Users\\okeiy\\Downloads\\Video\\09876.mp4: 384x640 5 cars, 1 person, 10.5ms\n",
      "video 1/1 (frame 1042/1100) C:\\Users\\okeiy\\Downloads\\Video\\09876.mp4: 384x640 5 cars, 1 person, 10.2ms\n",
      "video 1/1 (frame 1043/1100) C:\\Users\\okeiy\\Downloads\\Video\\09876.mp4: 384x640 4 cars, 8.9ms\n",
      "video 1/1 (frame 1044/1100) C:\\Users\\okeiy\\Downloads\\Video\\09876.mp4: 384x640 4 cars, 9.5ms\n",
      "video 1/1 (frame 1045/1100) C:\\Users\\okeiy\\Downloads\\Video\\09876.mp4: 384x640 4 cars, 9.1ms\n",
      "video 1/1 (frame 1046/1100) C:\\Users\\okeiy\\Downloads\\Video\\09876.mp4: 384x640 5 cars, 9.2ms\n",
      "video 1/1 (frame 1047/1100) C:\\Users\\okeiy\\Downloads\\Video\\09876.mp4: 384x640 4 cars, 10.1ms\n",
      "video 1/1 (frame 1048/1100) C:\\Users\\okeiy\\Downloads\\Video\\09876.mp4: 384x640 4 cars, 10.0ms\n",
      "video 1/1 (frame 1049/1100) C:\\Users\\okeiy\\Downloads\\Video\\09876.mp4: 384x640 3 cars, 9.5ms\n",
      "video 1/1 (frame 1050/1100) C:\\Users\\okeiy\\Downloads\\Video\\09876.mp4: 384x640 3 cars, 9.5ms\n",
      "video 1/1 (frame 1051/1100) C:\\Users\\okeiy\\Downloads\\Video\\09876.mp4: 384x640 3 cars, 9.5ms\n",
      "video 1/1 (frame 1052/1100) C:\\Users\\okeiy\\Downloads\\Video\\09876.mp4: 384x640 3 cars, 15.1ms\n",
      "video 1/1 (frame 1053/1100) C:\\Users\\okeiy\\Downloads\\Video\\09876.mp4: 384x640 3 cars, 1 person, 10.7ms\n",
      "video 1/1 (frame 1054/1100) C:\\Users\\okeiy\\Downloads\\Video\\09876.mp4: 384x640 3 cars, 10.1ms\n",
      "video 1/1 (frame 1055/1100) C:\\Users\\okeiy\\Downloads\\Video\\09876.mp4: 384x640 5 cars, 11.0ms\n",
      "video 1/1 (frame 1056/1100) C:\\Users\\okeiy\\Downloads\\Video\\09876.mp4: 384x640 5 cars, 11.0ms\n",
      "video 1/1 (frame 1057/1100) C:\\Users\\okeiy\\Downloads\\Video\\09876.mp4: 384x640 4 cars, 14.9ms\n",
      "video 1/1 (frame 1058/1100) C:\\Users\\okeiy\\Downloads\\Video\\09876.mp4: 384x640 4 cars, 10.9ms\n",
      "video 1/1 (frame 1059/1100) C:\\Users\\okeiy\\Downloads\\Video\\09876.mp4: 384x640 5 cars, 10.1ms\n",
      "video 1/1 (frame 1060/1100) C:\\Users\\okeiy\\Downloads\\Video\\09876.mp4: 384x640 5 cars, 9.7ms\n",
      "video 1/1 (frame 1061/1100) C:\\Users\\okeiy\\Downloads\\Video\\09876.mp4: 384x640 5 cars, 10.1ms\n",
      "video 1/1 (frame 1062/1100) C:\\Users\\okeiy\\Downloads\\Video\\09876.mp4: 384x640 5 cars, 9.7ms\n",
      "video 1/1 (frame 1063/1100) C:\\Users\\okeiy\\Downloads\\Video\\09876.mp4: 384x640 5 cars, 9.5ms\n",
      "video 1/1 (frame 1064/1100) C:\\Users\\okeiy\\Downloads\\Video\\09876.mp4: 384x640 5 cars, 9.5ms\n",
      "video 1/1 (frame 1065/1100) C:\\Users\\okeiy\\Downloads\\Video\\09876.mp4: 384x640 6 cars, 10.5ms\n",
      "video 1/1 (frame 1066/1100) C:\\Users\\okeiy\\Downloads\\Video\\09876.mp4: 384x640 6 cars, 10.4ms\n",
      "video 1/1 (frame 1067/1100) C:\\Users\\okeiy\\Downloads\\Video\\09876.mp4: 384x640 6 cars, 9.8ms\n",
      "video 1/1 (frame 1068/1100) C:\\Users\\okeiy\\Downloads\\Video\\09876.mp4: 384x640 6 cars, 10.1ms\n",
      "video 1/1 (frame 1069/1100) C:\\Users\\okeiy\\Downloads\\Video\\09876.mp4: 384x640 6 cars, 10.1ms\n",
      "video 1/1 (frame 1070/1100) C:\\Users\\okeiy\\Downloads\\Video\\09876.mp4: 384x640 5 cars, 11.0ms\n",
      "video 1/1 (frame 1071/1100) C:\\Users\\okeiy\\Downloads\\Video\\09876.mp4: 384x640 6 cars, 11.0ms\n",
      "video 1/1 (frame 1072/1100) C:\\Users\\okeiy\\Downloads\\Video\\09876.mp4: 384x640 6 cars, 9.5ms\n",
      "video 1/1 (frame 1073/1100) C:\\Users\\okeiy\\Downloads\\Video\\09876.mp4: 384x640 6 cars, 8.9ms\n",
      "video 1/1 (frame 1074/1100) C:\\Users\\okeiy\\Downloads\\Video\\09876.mp4: 384x640 6 cars, 11.0ms\n",
      "video 1/1 (frame 1075/1100) C:\\Users\\okeiy\\Downloads\\Video\\09876.mp4: 384x640 6 cars, 9.8ms\n",
      "video 1/1 (frame 1076/1100) C:\\Users\\okeiy\\Downloads\\Video\\09876.mp4: 384x640 6 cars, 9.1ms\n",
      "video 1/1 (frame 1077/1100) C:\\Users\\okeiy\\Downloads\\Video\\09876.mp4: 384x640 6 cars, 10.2ms\n",
      "video 1/1 (frame 1078/1100) C:\\Users\\okeiy\\Downloads\\Video\\09876.mp4: 384x640 6 cars, 9.5ms\n",
      "video 1/1 (frame 1079/1100) C:\\Users\\okeiy\\Downloads\\Video\\09876.mp4: 384x640 6 cars, 9.1ms\n",
      "video 1/1 (frame 1080/1100) C:\\Users\\okeiy\\Downloads\\Video\\09876.mp4: 384x640 6 cars, 9.5ms\n",
      "video 1/1 (frame 1081/1100) C:\\Users\\okeiy\\Downloads\\Video\\09876.mp4: 384x640 6 cars, 10.5ms\n",
      "video 1/1 (frame 1082/1100) C:\\Users\\okeiy\\Downloads\\Video\\09876.mp4: 384x640 6 cars, 10.6ms\n",
      "video 1/1 (frame 1083/1100) C:\\Users\\okeiy\\Downloads\\Video\\09876.mp4: 384x640 6 cars, 10.1ms\n",
      "video 1/1 (frame 1084/1100) C:\\Users\\okeiy\\Downloads\\Video\\09876.mp4: 384x640 6 cars, 10.1ms\n",
      "video 1/1 (frame 1085/1100) C:\\Users\\okeiy\\Downloads\\Video\\09876.mp4: 384x640 6 cars, 9.8ms\n",
      "video 1/1 (frame 1086/1100) C:\\Users\\okeiy\\Downloads\\Video\\09876.mp4: 384x640 6 cars, 9.5ms\n",
      "video 1/1 (frame 1087/1100) C:\\Users\\okeiy\\Downloads\\Video\\09876.mp4: 384x640 6 cars, 10.0ms\n",
      "video 1/1 (frame 1088/1100) C:\\Users\\okeiy\\Downloads\\Video\\09876.mp4: 384x640 6 cars, 9.8ms\n",
      "video 1/1 (frame 1089/1100) C:\\Users\\okeiy\\Downloads\\Video\\09876.mp4: 384x640 6 cars, 10.2ms\n",
      "video 1/1 (frame 1090/1100) C:\\Users\\okeiy\\Downloads\\Video\\09876.mp4: 384x640 6 cars, 10.5ms\n",
      "video 1/1 (frame 1091/1100) C:\\Users\\okeiy\\Downloads\\Video\\09876.mp4: 384x640 6 cars, 11.1ms\n",
      "video 1/1 (frame 1092/1100) C:\\Users\\okeiy\\Downloads\\Video\\09876.mp4: 384x640 7 cars, 9.8ms\n",
      "video 1/1 (frame 1093/1100) C:\\Users\\okeiy\\Downloads\\Video\\09876.mp4: 384x640 6 cars, 9.5ms\n",
      "video 1/1 (frame 1094/1100) C:\\Users\\okeiy\\Downloads\\Video\\09876.mp4: 384x640 6 cars, 10.6ms\n",
      "video 1/1 (frame 1095/1100) C:\\Users\\okeiy\\Downloads\\Video\\09876.mp4: 384x640 6 cars, 8.2ms\n",
      "video 1/1 (frame 1096/1100) C:\\Users\\okeiy\\Downloads\\Video\\09876.mp4: 384x640 6 cars, 10.9ms\n",
      "video 1/1 (frame 1097/1100) C:\\Users\\okeiy\\Downloads\\Video\\09876.mp4: 384x640 6 cars, 9.7ms\n",
      "video 1/1 (frame 1098/1100) C:\\Users\\okeiy\\Downloads\\Video\\09876.mp4: 384x640 6 cars, 1 traffic sign, 9.3ms\n",
      "video 1/1 (frame 1099/1100) C:\\Users\\okeiy\\Downloads\\Video\\09876.mp4: 384x640 6 cars, 9.6ms\n",
      "video 1/1 (frame 1100/1100) C:\\Users\\okeiy\\Downloads\\Video\\09876.mp4: 384x640 6 cars, 9.0ms\n",
      "Speed: 2.3ms preprocess, 12.2ms inference, 1.9ms postprocess per image at shape (1, 3, 384, 640)\n",
      "Results saved to \u001b[1mruns\\detect\\predict\u001b[0m\n"
     ]
    }
   ],
   "source": [
    "from ultralytics import YOLO\n",
    "import cv2  # Import OpenCV\n",
    "\n",
    "# Load the trained model\n",
    "model = YOLO(\"C:/Users/okeiy/OneDrive - University of Salford/Documents/Sch Notes/Dissertation/Codes/Dataset/Yolo/bdd100k/runs/detect/train/weights/best.pt\")\n",
    "\n",
    "# Run prediction on test image and display the results\n",
    "results = model.predict(\n",
    "    source=r\"C:\\Users\\okeiy\\Downloads\\Video\\09876.mp4\",\n",
    "    conf=0.4,\n",
    "    iou=0.6,\n",
    "    show=True,\n",
    "    save=True\n",
    ")\n",
    "\n",
    "# Wait for the ESC key (27) to be pressed\n",
    "while True:\n",
    "    if cv2.waitKey(1) & 0xFF == 27:\n",
    "        break\n",
    "\n",
    "# Close all OpenCV windows\n",
    "cv2.destroyAllWindows()"
   ]
  },
  {
   "cell_type": "code",
   "execution_count": 4,
   "id": "347df0ff-e46b-4b64-a88e-b78ac0fde269",
   "metadata": {},
   "outputs": [
    {
     "name": "stdout",
     "output_type": "stream",
     "text": [
      "Ultralytics 8.3.74  Python-3.10.16 torch-2.5.1 CPU (Intel Core(TM) i9-14900HX)\n",
      "YOLO11n summary (fused): 238 layers, 2,584,102 parameters, 0 gradients, 6.3 GFLOPs\n",
      "\n",
      "\u001b[34m\u001b[1mPyTorch:\u001b[0m starting from 'C:\\Users\\okeiy\\OneDrive - University of Salford\\Documents\\Sch Notes\\Dissertation\\Codes\\Dataset\\Yolo\\bdd100k\\runs\\detect\\train\\weights\\best.pt' with input shape (1, 3, 640, 640) BCHW and output shape(s) (1, 14, 8400) (5.2 MB)\n",
      "\u001b[31m\u001b[1mrequirements:\u001b[0m Ultralytics requirement ['onnxslim'] not found, attempting AutoUpdate...\n",
      "Looking in indexes: https://pypi.org/simple, https://pypi.ngc.nvidia.com\n",
      "Collecting onnxslim\n",
      "  Downloading onnxslim-0.1.48-py3-none-any.whl.metadata (4.6 kB)\n",
      "Requirement already satisfied: onnx in c:\\users\\okeiy\\.conda\\envs\\carla-sim\\lib\\site-packages (from onnxslim) (1.17.0)\n",
      "Requirement already satisfied: sympy in c:\\users\\okeiy\\.conda\\envs\\carla-sim\\lib\\site-packages (from onnxslim) (1.13.1)\n",
      "Requirement already satisfied: packaging in c:\\users\\okeiy\\.conda\\envs\\carla-sim\\lib\\site-packages (from onnxslim) (24.2)\n",
      "Requirement already satisfied: numpy>=1.20 in c:\\users\\okeiy\\.conda\\envs\\carla-sim\\lib\\site-packages (from onnx->onnxslim) (1.26.4)\n",
      "Requirement already satisfied: protobuf>=3.20.2 in c:\\users\\okeiy\\.conda\\envs\\carla-sim\\lib\\site-packages (from onnx->onnxslim) (5.29.3)\n",
      "Requirement already satisfied: mpmath<1.4,>=1.1.0 in c:\\users\\okeiy\\.conda\\envs\\carla-sim\\lib\\site-packages (from sympy->onnxslim) (1.3.0)\n",
      "Downloading onnxslim-0.1.48-py3-none-any.whl (142 kB)\n",
      "Installing collected packages: onnxslim\n",
      "Successfully installed onnxslim-0.1.48\n",
      "\n",
      "\u001b[31m\u001b[1mrequirements:\u001b[0m AutoUpdate success  15.5s, installed 1 package: ['onnxslim']\n",
      "\u001b[31m\u001b[1mrequirements:\u001b[0m  \u001b[1mRestart runtime or rerun command for updates to take effect\u001b[0m\n",
      "\n",
      "\n",
      "\u001b[34m\u001b[1mONNX:\u001b[0m starting export with onnx 1.17.0 opset 19...\n",
      "\u001b[34m\u001b[1mONNX:\u001b[0m slimming with onnxslim 0.1.48...\n",
      "\u001b[34m\u001b[1mONNX:\u001b[0m export success  18.7s, saved as 'C:\\Users\\okeiy\\OneDrive - University of Salford\\Documents\\Sch Notes\\Dissertation\\Codes\\Dataset\\Yolo\\bdd100k\\runs\\detect\\train\\weights\\best.onnx' (10.1 MB)\n",
      "\n",
      "Export complete (25.3s)\n",
      "Results saved to \u001b[1mC:\\Users\\okeiy\\OneDrive - University of Salford\\Documents\\Sch Notes\\Dissertation\\Codes\\Dataset\\Yolo\\bdd100k\\runs\\detect\\train\\weights\u001b[0m\n",
      "Predict:         yolo predict task=detect model=C:\\Users\\okeiy\\OneDrive - University of Salford\\Documents\\Sch Notes\\Dissertation\\Codes\\Dataset\\Yolo\\bdd100k\\runs\\detect\\train\\weights\\best.onnx imgsz=640  \n",
      "Validate:        yolo val task=detect model=C:\\Users\\okeiy\\OneDrive - University of Salford\\Documents\\Sch Notes\\Dissertation\\Codes\\Dataset\\Yolo\\bdd100k\\runs\\detect\\train\\weights\\best.onnx imgsz=640 data=C:/Users/okeiy/OneDrive - University of Salford/Documents/Sch Notes/Dissertation/Codes/Dataset/Yolo/bdd100k/data.yaml  \n",
      "Visualize:       https://netron.app\n"
     ]
    },
    {
     "data": {
      "text/plain": [
       "'C:\\\\Users\\\\okeiy\\\\OneDrive - University of Salford\\\\Documents\\\\Sch Notes\\\\Dissertation\\\\Codes\\\\Dataset\\\\Yolo\\\\bdd100k\\\\runs\\\\detect\\\\train\\\\weights\\\\best.onnx'"
      ]
     },
     "execution_count": 4,
     "metadata": {},
     "output_type": "execute_result"
    }
   ],
   "source": [
    "from ultralytics import YOLO\n",
    "\n",
    "# Load the trained model\n",
    "model = YOLO(\"C:/Users/okeiy/OneDrive - University of Salford/Documents/Sch Notes/Dissertation/Codes/Dataset/Yolo/bdd100k/runs/detect/train/weights/best.pt\")\n",
    "\n",
    "# Export the model to ONNX format\n",
    "model.export(format=\"onnx\")"
   ]
  },
  {
   "cell_type": "code",
   "execution_count": null,
   "id": "d82f8bf9-ac45-452c-93c2-927987cef945",
   "metadata": {},
   "outputs": [],
   "source": []
  }
 ],
 "metadata": {
  "kernelspec": {
   "display_name": "Python 3 (ipykernel)",
   "language": "python",
   "name": "python3"
  },
  "language_info": {
   "codemirror_mode": {
    "name": "ipython",
    "version": 3
   },
   "file_extension": ".py",
   "mimetype": "text/x-python",
   "name": "python",
   "nbconvert_exporter": "python",
   "pygments_lexer": "ipython3",
   "version": "3.10.16"
  }
 },
 "nbformat": 4,
 "nbformat_minor": 5
}
